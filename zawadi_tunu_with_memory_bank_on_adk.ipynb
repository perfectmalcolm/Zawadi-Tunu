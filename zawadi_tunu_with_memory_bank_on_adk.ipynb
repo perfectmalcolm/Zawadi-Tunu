{
  "cells": [
    {
      "cell_type": "markdown",
      "metadata": {
        "id": "view-in-github",
        "colab_type": "text"
      },
      "source": [
        "<a href=\"https://colab.research.google.com/github/perfectmalcolm/Zawadi-Tunu/blob/main/zawadi_tunu_with_memory_bank_on_adk.ipynb\" target=\"_parent\"><img src=\"https://colab.research.google.com/assets/colab-badge.svg\" alt=\"Open In Colab\"/></a>"
      ]
    },
    {
      "cell_type": "markdown",
      "metadata": {
        "id": "4m7sSmIurRyr"
      },
      "source": [
        "# Get started with Zawadi Tunu Built with Memory Bank on ADK\n",
        "\n",
        "<table align=\"left\">\n",
        "  <td style=\"text-align: center\">\n",
        "    <a href=\"https://colab.research.google.com/github/mwanyumba7/Zawadi-Tunu/blob/main/zawadi_tunu_with_memory_bank_on_adk.ipynb\">\n",
        "      <img width=\"32px\" src=\"https://www.gstatic.com/pantheon/images/bigquery/welcome_page/colab-logo.svg\" alt=\"Google Colaboratory logo\"><br> Open in Colab\n",
        "    </a>\n",
        "  </td>\n",
        "</table>"
      ]
    },
    {
      "cell_type": "markdown",
      "metadata": {
        "id": "qlXbr9YbMyzc"
      },
      "source": [
        "## Overview\n",
        "We will be building an Agent `Zawadi Tunu` which is an agent ispecialized in gift recommendation engine designed to elevate the act of gift-giving, transforming it from a chore into a deeply personalized and meaningful experience. Built as a demonstration of the Agent Development Kit (ADK) for Gemini and the Vertex AI Memory Bank, this agent's core strength lies in its ability to retain and recall nuanced information over time.\n",
        "\n",
        "Instead of generic suggestions, the agent uses its long-term memory to remember key details gleaned from previous conversations: a niece's age and past birthday presents (like the \"red bike\" in the demo), a spouse's stated preference for aisle seats, or a parent's hint about a desired hobby.\n",
        "\n",
        "This tutorial demonstrates how to build ADK agents with Memory, including both `InMemoryMemoryService` and `VertexAiMemoryBankService`.\n",
        "\n",
        "This tutorial will cover:\n",
        "* Comparing `InMemoryMemoryService` vs. `VertexAiMemoryBankService`.\n",
        "* Generating memories with ADK and Agent Engine Memory Bank.\n",
        "* Retrieving memories with ADK and Agent Engine Memory Bank.\n",
        "* Customizing your Memory Bank instance's behavior."
      ]
    },
    {
      "cell_type": "markdown",
      "metadata": {
        "id": "HSSuQi5wS-AY"
      },
      "source": [
        "## Get started"
      ]
    },
    {
      "cell_type": "markdown",
      "metadata": {
        "id": "ngEAiXw8cQRt"
      },
      "source": [
        "### Install Google Gen AI SDK and other required packages\n"
      ]
    },
    {
      "cell_type": "code",
      "execution_count": 1,
      "metadata": {
        "colab": {
          "base_uri": "https://localhost:8080/"
        },
        "id": "ZNg0utat73eG",
        "outputId": "8f359310-3b5c-4dae-8d82-187b4e0ff5fe"
      },
      "outputs": [
        {
          "output_type": "stream",
          "name": "stdout",
          "text": [
            "\u001b[2K     \u001b[90m━━━━━━━━━━━━━━━━━━━━━━━━━━━━━━━━━━━━━━━━\u001b[0m \u001b[32m45.2/45.2 kB\u001b[0m \u001b[31m2.2 MB/s\u001b[0m eta \u001b[36m0:00:00\u001b[0m\n",
            "\u001b[2K   \u001b[90m━━━━━━━━━━━━━━━━━━━━━━━━━━━━━━━━━━━━━━━━\u001b[0m \u001b[32m8.1/8.1 MB\u001b[0m \u001b[31m54.2 MB/s\u001b[0m eta \u001b[36m0:00:00\u001b[0m\n",
            "\u001b[?25h"
          ]
        }
      ],
      "source": [
        "%pip install google-adk google-cloud-aiplatform --upgrade --quiet"
      ]
    },
    {
      "cell_type": "markdown",
      "metadata": {
        "id": "bbArJaMNcWVz"
      },
      "source": [
        "### Authenticate your notebook environment (Colab only)\n",
        "\n",
        "If you're running this notebook on Google Colab, run the cell below to authenticate your environment."
      ]
    },
    {
      "cell_type": "code",
      "execution_count": 3,
      "metadata": {
        "id": "oMmt34WM-08o"
      },
      "outputs": [],
      "source": [
        "import sys\n",
        "\n",
        "if \"google.colab\" in sys.modules:\n",
        "    from google.colab import auth\n",
        "\n",
        "    auth.authenticate_user()"
      ]
    },
    {
      "cell_type": "markdown",
      "metadata": {
        "id": "mbeaDydxcdEo"
      },
      "source": [
        "### Set Google Cloud project information\n",
        "\n",
        "To get started using Vertex AI, you must have an existing Google Cloud project and [enable the Vertex AI API](https://console.cloud.google.com/flows/enableapi?apiid=aiplatform.googleapis.com).\n",
        "\n",
        "Learn more about [setting up a project and a development environment](https://cloud.google.com/vertex-ai/docs/start/cloud-environment)."
      ]
    },
    {
      "cell_type": "code",
      "execution_count": 4,
      "metadata": {
        "id": "PKZ_ad_g_AuU",
        "colab": {
          "base_uri": "https://localhost:8080/"
        },
        "outputId": "01d666a6-78be-46a6-c8db-07b74f417652"
      },
      "outputs": [
        {
          "output_type": "stream",
          "name": "stderr",
          "text": [
            "/usr/local/lib/python3.12/dist-packages/google/cloud/aiplatform/models.py:52: FutureWarning: Support for google-cloud-storage < 3.0.0 will be removed in a future version of google-cloud-aiplatform. Please upgrade to google-cloud-storage >= 3.0.0.\n",
            "  from google.cloud.aiplatform.utils import gcs_utils\n"
          ]
        }
      ],
      "source": [
        "# Use the environment variable if the user doesn't provide Project ID.\n",
        "import os\n",
        "\n",
        "import vertexai\n",
        "\n",
        "# fmt: off\n",
        "PROJECT = \"devfest-2025-day-1\"  # @param {type: \"string\", placeholder: \"[your-project-id]\", isTemplate: true}\n",
        "# fmt: on\n",
        "if not PROJECT or PROJECT == \"[your-project-id]\":\n",
        "    PROJECT = str(os.environ.get(\"GOOGLE_CLOUD_PROJECT\"))\n",
        "\n",
        "LOCATION = os.environ.get(\"GOOGLE_CLOUD_REGION\", \"us-central1\")\n",
        "\n",
        "client = vertexai.Client(project=PROJECT, location=LOCATION)\n",
        "\n",
        "# Set environment variables for ADK.\n",
        "os.environ[\"GOOGLE_GENAI_USE_VERTEXAI\"] = \"TRUE\"\n",
        "os.environ[\"GOOGLE_CLOUD_PROJECT\"] = PROJECT\n",
        "os.environ[\"GOOGLE_CLOUD_LOCATION\"] = LOCATION"
      ]
    },
    {
      "cell_type": "markdown",
      "metadata": {
        "id": "b2fe816fc0d0"
      },
      "source": [
        "## (Optional) Set up logging\n",
        "To surface ADK logs in your notebook, you may need to configure the logging level of ADK's logger."
      ]
    },
    {
      "cell_type": "code",
      "execution_count": 5,
      "metadata": {
        "id": "91955e5b44ec"
      },
      "outputs": [],
      "source": [
        "import logging\n",
        "import sys\n",
        "\n",
        "# Set up a general handler for all logs to be printed in your Colab output.\n",
        "# We'll set the overall level to INFO.\n",
        "logging.basicConfig(\n",
        "    level=logging.INFO,\n",
        "    format=\"%(asctime)s - %(name)s - %(levelname)s - %(message)s\",\n",
        "    stream=sys.stdout,\n",
        ")\n",
        "\n",
        "# Get the specific logger used by ADK.\n",
        "adk_logger = logging.getLogger(\"google_adk\")\n",
        "\n",
        "# Set its level to DEBUG to ensure you capture ALL messages from the SDK,\n",
        "# even if the general level is higher (like INFO).\n",
        "adk_logger.setLevel(logging.DEBUG)"
      ]
    },
    {
      "cell_type": "markdown",
      "metadata": {
        "id": "W0n_JRrHNUUX"
      },
      "source": [
        "## Define a simple agent\n",
        "\n",
        "The ADK Runner defines what session service is used by the agent. The session service is responsible for saving the conversation history.\n",
        "\n",
        "In this example, we're using the in-memory session service (`InMemorySessionService`). However, you can use any session service with Memory.\n",
        "\n",
        "If you want to use Google's pre-built Memory tools, you can provide a Memory service to the Runner as well. In this example, we'll start by directly invoking memory so that we can compare different services. So, we're not directly setting `memory_service` in the Runner."
      ]
    },
    {
      "cell_type": "code",
      "execution_count": 6,
      "metadata": {
        "id": "rKxFZmSRAECu"
      },
      "outputs": [],
      "source": [
        "from google.adk.agents import LlmAgent\n",
        "from google.adk.runners import Runner\n",
        "from google.adk.sessions import InMemorySessionService\n",
        "from google.genai.types import Content, Part\n",
        "\n",
        "APP_NAME = \"memory_example_app\"\n",
        "MODEL = \"gemini-2.5-flash\"\n",
        "\n",
        "agent = LlmAgent(\n",
        "    model=MODEL,\n",
        "    name=\"Generic_QA_Agent\",\n",
        "    instruction=\"Answer the user's questions\",\n",
        ")\n",
        "\n",
        "session_service = InMemorySessionService()\n",
        "\n",
        "runner = Runner(agent=agent, app_name=APP_NAME, session_service=session_service)\n",
        "\n",
        "\n",
        "def call_agent(query, session, user_id):\n",
        "    content = Content(role=\"user\", parts=[Part(text=query)])\n",
        "    events = runner.run(user_id=user_id, session_id=session, new_message=content)\n",
        "\n",
        "    for event in events:\n",
        "        if event.is_final_response():\n",
        "            final_response = event.content.parts[0].text\n",
        "            print(\"Agent Response: \", final_response)"
      ]
    },
    {
      "cell_type": "markdown",
      "metadata": {
        "id": "WEAg11vnOyYs"
      },
      "source": [
        "## Introduction to ADK Memory Service\n",
        "ADK memory services offer an interface for creating and searching for memories. The [`BaseMemoryService`](https://github.com/google/adk-python/blob/main/src/google/adk/memory/base_memory_service.py) defines the interface for managing this searchable, long-term knowledge store. Its primary responsibilities are:\n",
        "\n",
        "* Ingesting Information (`add_session_to_memory`): Taking the contents of a (usually completed) Session and adding relevant information to the long-term knowledge store.\n",
        "* Searching Information (`search_memory`): Allowing an agent (typically via a Tool) to query the knowledge store and retrieve relevant snippets or context based on a search query.\n",
        "\n",
        "In this colab, we'll cover two options:\n",
        "\n",
        "* `InMemoryMemoryService`: A in-memory service that allows you to search your conversation history to retrieve the raw dialogue using basic keyword matching.\n",
        "* `VertexAiMemoryBankService`: A remote service that remotely generates memories for \"meaningful\" information from user conversation.\n",
        "\n",
        "\n",
        "You can also interact directly with Memory Bank by using the Agent Engine SDK."
      ]
    },
    {
      "cell_type": "markdown",
      "metadata": {
        "id": "LSZQQAPQWBXs"
      },
      "source": [
        "### `InMemoryMemoryService`\n",
        "\n",
        "[`InMemoryMemoryService`](https://github.com/google/adk-python/blob/main/src/google/adk/memory/in_memory_memory_service.py) persists **all** information in-memory. The events are not condensed, and information is not extracted from them."
      ]
    },
    {
      "cell_type": "code",
      "execution_count": 7,
      "metadata": {
        "id": "HqXCHxi2Cb-n"
      },
      "outputs": [],
      "source": [
        "from google.adk.memory import InMemoryMemoryService\n",
        "\n",
        "in_memory_service = InMemoryMemoryService()"
      ]
    },
    {
      "cell_type": "markdown",
      "metadata": {
        "id": "mTuaUZ1DWG7L"
      },
      "source": [
        "### `VertexAiMemoryBankService`\n",
        "Memory Bank will only persist information that's meaningful for future interactions. [`VertexAiMemoryBankService`](https://github.com/google/adk-python/blob/main/src/google/adk/memory/vertex_ai_memory_bank_service.py) provides a built-in integration between Memory Bank and ADK.\n",
        "\n",
        "To get started with Memory Bank, you need to first create an Agent Engine. This only takes a few seconds.\n",
        "\n",
        "If you don't have a Google Cloud project, you can use [Vertex in Express mode, which only requires an API key](https://cloud.google.com/vertex-ai/generative-ai/docs/agent-engine/memory-bank/set-up#authentication)."
      ]
    },
    {
      "cell_type": "code",
      "execution_count": 8,
      "metadata": {
        "colab": {
          "base_uri": "https://localhost:8080/",
          "height": 478
        },
        "id": "rZP-0IVaQ5_N",
        "outputId": "11f35fc2-009d-4788-bffd-dd227076be83"
      },
      "outputs": [
        {
          "output_type": "error",
          "ename": "ClientError",
          "evalue": "403 PERMISSION_DENIED. {'error': {'code': 403, 'message': 'This API method requires billing to be enabled. Please enable billing on project #devfest-2025-day-1 by visiting https://console.developers.google.com/billing/enable?project=devfest-2025-day-1 then retry. If you enabled billing for this project recently, wait a few minutes for the action to propagate to our systems and retry.', 'status': 'PERMISSION_DENIED', 'details': [{'@type': 'type.googleapis.com/google.rpc.ErrorInfo', 'reason': 'BILLING_DISABLED', 'domain': 'googleapis.com', 'metadata': {'service': 'aiplatform.googleapis.com', 'containerInfo': 'devfest-2025-day-1', 'consumer': 'projects/devfest-2025-day-1'}}, {'@type': 'type.googleapis.com/google.rpc.LocalizedMessage', 'locale': 'en-US', 'message': 'This API method requires billing to be enabled. Please enable billing on project #devfest-2025-day-1 by visiting https://console.developers.google.com/billing/enable?project=devfest-2025-day-1 then retry. If you enabled billing for this project recently, wait a few minutes for the action to propagate to our systems and retry.'}, {'@type': 'type.googleapis.com/google.rpc.Help', 'links': [{'description': 'Google developers console billing', 'url': 'https://console.developers.google.com/billing/enable?project=devfest-2025-day-1'}]}]}}",
          "traceback": [
            "\u001b[0;31m---------------------------------------------------------------------------\u001b[0m",
            "\u001b[0;31mClientError\u001b[0m                               Traceback (most recent call last)",
            "\u001b[0;32m/tmp/ipython-input-2287238779.py\u001b[0m in \u001b[0;36m<cell line: 0>\u001b[0;34m()\u001b[0m\n\u001b[1;32m      4\u001b[0m \u001b[0mclient\u001b[0m \u001b[0;34m=\u001b[0m \u001b[0mvertexai\u001b[0m\u001b[0;34m.\u001b[0m\u001b[0mClient\u001b[0m\u001b[0;34m(\u001b[0m\u001b[0mproject\u001b[0m\u001b[0;34m=\u001b[0m\u001b[0mPROJECT\u001b[0m\u001b[0;34m,\u001b[0m \u001b[0mlocation\u001b[0m\u001b[0;34m=\u001b[0m\u001b[0mLOCATION\u001b[0m\u001b[0;34m)\u001b[0m\u001b[0;34m\u001b[0m\u001b[0;34m\u001b[0m\u001b[0m\n\u001b[1;32m      5\u001b[0m \u001b[0;34m\u001b[0m\u001b[0m\n\u001b[0;32m----> 6\u001b[0;31m agent_engine = client.agent_engines.create(\n\u001b[0m\u001b[1;32m      7\u001b[0m     config={\n\u001b[1;32m      8\u001b[0m         \"context_spec\": {\n",
            "\u001b[0;32m/usr/local/lib/python3.12/dist-packages/vertexai/_genai/agent_engines.py\u001b[0m in \u001b[0;36mcreate\u001b[0;34m(self, agent_engine, agent, config)\u001b[0m\n\u001b[1;32m    925\u001b[0m             \u001b[0mrequirements_file\u001b[0m\u001b[0;34m=\u001b[0m\u001b[0mconfig\u001b[0m\u001b[0;34m.\u001b[0m\u001b[0mrequirements_file\u001b[0m\u001b[0;34m,\u001b[0m\u001b[0;34m\u001b[0m\u001b[0;34m\u001b[0m\u001b[0m\n\u001b[1;32m    926\u001b[0m         )\n\u001b[0;32m--> 927\u001b[0;31m         \u001b[0moperation\u001b[0m \u001b[0;34m=\u001b[0m \u001b[0mself\u001b[0m\u001b[0;34m.\u001b[0m\u001b[0m_create\u001b[0m\u001b[0;34m(\u001b[0m\u001b[0mconfig\u001b[0m\u001b[0;34m=\u001b[0m\u001b[0mapi_config\u001b[0m\u001b[0;34m)\u001b[0m\u001b[0;34m\u001b[0m\u001b[0;34m\u001b[0m\u001b[0m\n\u001b[0m\u001b[1;32m    928\u001b[0m         \u001b[0;31m# TODO: Use a more specific link.\u001b[0m\u001b[0;34m\u001b[0m\u001b[0;34m\u001b[0m\u001b[0m\n\u001b[1;32m    929\u001b[0m         logger.info(\n",
            "\u001b[0;32m/usr/local/lib/python3.12/dist-packages/vertexai/_genai/agent_engines.py\u001b[0m in \u001b[0;36m_create\u001b[0;34m(self, config)\u001b[0m\n\u001b[1;32m    356\u001b[0m         \u001b[0mrequest_dict\u001b[0m \u001b[0;34m=\u001b[0m \u001b[0m_common\u001b[0m\u001b[0;34m.\u001b[0m\u001b[0mencode_unserializable_types\u001b[0m\u001b[0;34m(\u001b[0m\u001b[0mrequest_dict\u001b[0m\u001b[0;34m)\u001b[0m\u001b[0;34m\u001b[0m\u001b[0;34m\u001b[0m\u001b[0m\n\u001b[1;32m    357\u001b[0m \u001b[0;34m\u001b[0m\u001b[0m\n\u001b[0;32m--> 358\u001b[0;31m         \u001b[0mresponse\u001b[0m \u001b[0;34m=\u001b[0m \u001b[0mself\u001b[0m\u001b[0;34m.\u001b[0m\u001b[0m_api_client\u001b[0m\u001b[0;34m.\u001b[0m\u001b[0mrequest\u001b[0m\u001b[0;34m(\u001b[0m\u001b[0;34m\"post\"\u001b[0m\u001b[0;34m,\u001b[0m \u001b[0mpath\u001b[0m\u001b[0;34m,\u001b[0m \u001b[0mrequest_dict\u001b[0m\u001b[0;34m,\u001b[0m \u001b[0mhttp_options\u001b[0m\u001b[0;34m)\u001b[0m\u001b[0;34m\u001b[0m\u001b[0;34m\u001b[0m\u001b[0m\n\u001b[0m\u001b[1;32m    359\u001b[0m \u001b[0;34m\u001b[0m\u001b[0m\n\u001b[1;32m    360\u001b[0m         \u001b[0mresponse_dict\u001b[0m \u001b[0;34m=\u001b[0m \u001b[0;34m{\u001b[0m\u001b[0;34m}\u001b[0m \u001b[0;32mif\u001b[0m \u001b[0;32mnot\u001b[0m \u001b[0mresponse\u001b[0m\u001b[0;34m.\u001b[0m\u001b[0mbody\u001b[0m \u001b[0;32melse\u001b[0m \u001b[0mjson\u001b[0m\u001b[0;34m.\u001b[0m\u001b[0mloads\u001b[0m\u001b[0;34m(\u001b[0m\u001b[0mresponse\u001b[0m\u001b[0;34m.\u001b[0m\u001b[0mbody\u001b[0m\u001b[0;34m)\u001b[0m\u001b[0;34m\u001b[0m\u001b[0;34m\u001b[0m\u001b[0m\n",
            "\u001b[0;32m/usr/local/lib/python3.12/dist-packages/google/genai/_api_client.py\u001b[0m in \u001b[0;36mrequest\u001b[0;34m(self, http_method, path, request_dict, http_options)\u001b[0m\n\u001b[1;32m   1312\u001b[0m         \u001b[0mhttp_method\u001b[0m\u001b[0;34m,\u001b[0m \u001b[0mpath\u001b[0m\u001b[0;34m,\u001b[0m \u001b[0mrequest_dict\u001b[0m\u001b[0;34m,\u001b[0m \u001b[0mhttp_options\u001b[0m\u001b[0;34m\u001b[0m\u001b[0;34m\u001b[0m\u001b[0m\n\u001b[1;32m   1313\u001b[0m     )\n\u001b[0;32m-> 1314\u001b[0;31m     \u001b[0mresponse\u001b[0m \u001b[0;34m=\u001b[0m \u001b[0mself\u001b[0m\u001b[0;34m.\u001b[0m\u001b[0m_request\u001b[0m\u001b[0;34m(\u001b[0m\u001b[0mhttp_request\u001b[0m\u001b[0;34m,\u001b[0m \u001b[0mhttp_options\u001b[0m\u001b[0;34m,\u001b[0m \u001b[0mstream\u001b[0m\u001b[0;34m=\u001b[0m\u001b[0;32mFalse\u001b[0m\u001b[0;34m)\u001b[0m\u001b[0;34m\u001b[0m\u001b[0;34m\u001b[0m\u001b[0m\n\u001b[0m\u001b[1;32m   1315\u001b[0m     response_body = (\n\u001b[1;32m   1316\u001b[0m         \u001b[0mresponse\u001b[0m\u001b[0;34m.\u001b[0m\u001b[0mresponse_stream\u001b[0m\u001b[0;34m[\u001b[0m\u001b[0;36m0\u001b[0m\u001b[0;34m]\u001b[0m \u001b[0;32mif\u001b[0m \u001b[0mresponse\u001b[0m\u001b[0;34m.\u001b[0m\u001b[0mresponse_stream\u001b[0m \u001b[0;32melse\u001b[0m \u001b[0;34m''\u001b[0m\u001b[0;34m\u001b[0m\u001b[0;34m\u001b[0m\u001b[0m\n",
            "\u001b[0;32m/usr/local/lib/python3.12/dist-packages/google/genai/_api_client.py\u001b[0m in \u001b[0;36m_request\u001b[0;34m(self, http_request, http_options, stream)\u001b[0m\n\u001b[1;32m   1148\u001b[0m         \u001b[0;32mreturn\u001b[0m \u001b[0mretry\u001b[0m\u001b[0;34m(\u001b[0m\u001b[0mself\u001b[0m\u001b[0;34m.\u001b[0m\u001b[0m_request_once\u001b[0m\u001b[0;34m,\u001b[0m \u001b[0mhttp_request\u001b[0m\u001b[0;34m,\u001b[0m \u001b[0mstream\u001b[0m\u001b[0;34m)\u001b[0m  \u001b[0;31m# type: ignore[no-any-return]\u001b[0m\u001b[0;34m\u001b[0m\u001b[0;34m\u001b[0m\u001b[0m\n\u001b[1;32m   1149\u001b[0m \u001b[0;34m\u001b[0m\u001b[0m\n\u001b[0;32m-> 1150\u001b[0;31m     \u001b[0;32mreturn\u001b[0m \u001b[0mself\u001b[0m\u001b[0;34m.\u001b[0m\u001b[0m_retry\u001b[0m\u001b[0;34m(\u001b[0m\u001b[0mself\u001b[0m\u001b[0;34m.\u001b[0m\u001b[0m_request_once\u001b[0m\u001b[0;34m,\u001b[0m \u001b[0mhttp_request\u001b[0m\u001b[0;34m,\u001b[0m \u001b[0mstream\u001b[0m\u001b[0;34m)\u001b[0m  \u001b[0;31m# type: ignore[no-any-return]\u001b[0m\u001b[0;34m\u001b[0m\u001b[0;34m\u001b[0m\u001b[0m\n\u001b[0m\u001b[1;32m   1151\u001b[0m \u001b[0;34m\u001b[0m\u001b[0m\n\u001b[1;32m   1152\u001b[0m   async def _async_request_once(\n",
            "\u001b[0;32m/usr/local/lib/python3.12/dist-packages/tenacity/__init__.py\u001b[0m in \u001b[0;36m__call__\u001b[0;34m(self, fn, *args, **kwargs)\u001b[0m\n\u001b[1;32m    473\u001b[0m         \u001b[0mretry_state\u001b[0m \u001b[0;34m=\u001b[0m \u001b[0mRetryCallState\u001b[0m\u001b[0;34m(\u001b[0m\u001b[0mretry_object\u001b[0m\u001b[0;34m=\u001b[0m\u001b[0mself\u001b[0m\u001b[0;34m,\u001b[0m \u001b[0mfn\u001b[0m\u001b[0;34m=\u001b[0m\u001b[0mfn\u001b[0m\u001b[0;34m,\u001b[0m \u001b[0margs\u001b[0m\u001b[0;34m=\u001b[0m\u001b[0margs\u001b[0m\u001b[0;34m,\u001b[0m \u001b[0mkwargs\u001b[0m\u001b[0;34m=\u001b[0m\u001b[0mkwargs\u001b[0m\u001b[0;34m)\u001b[0m\u001b[0;34m\u001b[0m\u001b[0;34m\u001b[0m\u001b[0m\n\u001b[1;32m    474\u001b[0m         \u001b[0;32mwhile\u001b[0m \u001b[0;32mTrue\u001b[0m\u001b[0;34m:\u001b[0m\u001b[0;34m\u001b[0m\u001b[0;34m\u001b[0m\u001b[0m\n\u001b[0;32m--> 475\u001b[0;31m             \u001b[0mdo\u001b[0m \u001b[0;34m=\u001b[0m \u001b[0mself\u001b[0m\u001b[0;34m.\u001b[0m\u001b[0miter\u001b[0m\u001b[0;34m(\u001b[0m\u001b[0mretry_state\u001b[0m\u001b[0;34m=\u001b[0m\u001b[0mretry_state\u001b[0m\u001b[0;34m)\u001b[0m\u001b[0;34m\u001b[0m\u001b[0;34m\u001b[0m\u001b[0m\n\u001b[0m\u001b[1;32m    476\u001b[0m             \u001b[0;32mif\u001b[0m \u001b[0misinstance\u001b[0m\u001b[0;34m(\u001b[0m\u001b[0mdo\u001b[0m\u001b[0;34m,\u001b[0m \u001b[0mDoAttempt\u001b[0m\u001b[0;34m)\u001b[0m\u001b[0;34m:\u001b[0m\u001b[0;34m\u001b[0m\u001b[0;34m\u001b[0m\u001b[0m\n\u001b[1;32m    477\u001b[0m                 \u001b[0;32mtry\u001b[0m\u001b[0;34m:\u001b[0m\u001b[0;34m\u001b[0m\u001b[0;34m\u001b[0m\u001b[0m\n",
            "\u001b[0;32m/usr/local/lib/python3.12/dist-packages/tenacity/__init__.py\u001b[0m in \u001b[0;36miter\u001b[0;34m(self, retry_state)\u001b[0m\n\u001b[1;32m    374\u001b[0m         \u001b[0mresult\u001b[0m \u001b[0;34m=\u001b[0m \u001b[0;32mNone\u001b[0m\u001b[0;34m\u001b[0m\u001b[0;34m\u001b[0m\u001b[0m\n\u001b[1;32m    375\u001b[0m         \u001b[0;32mfor\u001b[0m \u001b[0maction\u001b[0m \u001b[0;32min\u001b[0m \u001b[0mself\u001b[0m\u001b[0;34m.\u001b[0m\u001b[0miter_state\u001b[0m\u001b[0;34m.\u001b[0m\u001b[0mactions\u001b[0m\u001b[0;34m:\u001b[0m\u001b[0;34m\u001b[0m\u001b[0;34m\u001b[0m\u001b[0m\n\u001b[0;32m--> 376\u001b[0;31m             \u001b[0mresult\u001b[0m \u001b[0;34m=\u001b[0m \u001b[0maction\u001b[0m\u001b[0;34m(\u001b[0m\u001b[0mretry_state\u001b[0m\u001b[0;34m)\u001b[0m\u001b[0;34m\u001b[0m\u001b[0;34m\u001b[0m\u001b[0m\n\u001b[0m\u001b[1;32m    377\u001b[0m         \u001b[0;32mreturn\u001b[0m \u001b[0mresult\u001b[0m\u001b[0;34m\u001b[0m\u001b[0;34m\u001b[0m\u001b[0m\n\u001b[1;32m    378\u001b[0m \u001b[0;34m\u001b[0m\u001b[0m\n",
            "\u001b[0;32m/usr/local/lib/python3.12/dist-packages/tenacity/__init__.py\u001b[0m in \u001b[0;36mexc_check\u001b[0;34m(rs)\u001b[0m\n\u001b[1;32m    416\u001b[0m                 \u001b[0mretry_exc\u001b[0m \u001b[0;34m=\u001b[0m \u001b[0mself\u001b[0m\u001b[0;34m.\u001b[0m\u001b[0mretry_error_cls\u001b[0m\u001b[0;34m(\u001b[0m\u001b[0mfut\u001b[0m\u001b[0;34m)\u001b[0m\u001b[0;34m\u001b[0m\u001b[0;34m\u001b[0m\u001b[0m\n\u001b[1;32m    417\u001b[0m                 \u001b[0;32mif\u001b[0m \u001b[0mself\u001b[0m\u001b[0;34m.\u001b[0m\u001b[0mreraise\u001b[0m\u001b[0;34m:\u001b[0m\u001b[0;34m\u001b[0m\u001b[0;34m\u001b[0m\u001b[0m\n\u001b[0;32m--> 418\u001b[0;31m                     \u001b[0;32mraise\u001b[0m \u001b[0mretry_exc\u001b[0m\u001b[0;34m.\u001b[0m\u001b[0mreraise\u001b[0m\u001b[0;34m(\u001b[0m\u001b[0;34m)\u001b[0m\u001b[0;34m\u001b[0m\u001b[0;34m\u001b[0m\u001b[0m\n\u001b[0m\u001b[1;32m    419\u001b[0m                 \u001b[0;32mraise\u001b[0m \u001b[0mretry_exc\u001b[0m \u001b[0;32mfrom\u001b[0m \u001b[0mfut\u001b[0m\u001b[0;34m.\u001b[0m\u001b[0mexception\u001b[0m\u001b[0;34m(\u001b[0m\u001b[0;34m)\u001b[0m\u001b[0;34m\u001b[0m\u001b[0;34m\u001b[0m\u001b[0m\n\u001b[1;32m    420\u001b[0m \u001b[0;34m\u001b[0m\u001b[0m\n",
            "\u001b[0;32m/usr/local/lib/python3.12/dist-packages/tenacity/__init__.py\u001b[0m in \u001b[0;36mreraise\u001b[0;34m(self)\u001b[0m\n\u001b[1;32m    183\u001b[0m     \u001b[0;32mdef\u001b[0m \u001b[0mreraise\u001b[0m\u001b[0;34m(\u001b[0m\u001b[0mself\u001b[0m\u001b[0;34m)\u001b[0m \u001b[0;34m->\u001b[0m \u001b[0mt\u001b[0m\u001b[0;34m.\u001b[0m\u001b[0mNoReturn\u001b[0m\u001b[0;34m:\u001b[0m\u001b[0;34m\u001b[0m\u001b[0;34m\u001b[0m\u001b[0m\n\u001b[1;32m    184\u001b[0m         \u001b[0;32mif\u001b[0m \u001b[0mself\u001b[0m\u001b[0;34m.\u001b[0m\u001b[0mlast_attempt\u001b[0m\u001b[0;34m.\u001b[0m\u001b[0mfailed\u001b[0m\u001b[0;34m:\u001b[0m\u001b[0;34m\u001b[0m\u001b[0;34m\u001b[0m\u001b[0m\n\u001b[0;32m--> 185\u001b[0;31m             \u001b[0;32mraise\u001b[0m \u001b[0mself\u001b[0m\u001b[0;34m.\u001b[0m\u001b[0mlast_attempt\u001b[0m\u001b[0;34m.\u001b[0m\u001b[0mresult\u001b[0m\u001b[0;34m(\u001b[0m\u001b[0;34m)\u001b[0m\u001b[0;34m\u001b[0m\u001b[0;34m\u001b[0m\u001b[0m\n\u001b[0m\u001b[1;32m    186\u001b[0m         \u001b[0;32mraise\u001b[0m \u001b[0mself\u001b[0m\u001b[0;34m\u001b[0m\u001b[0;34m\u001b[0m\u001b[0m\n\u001b[1;32m    187\u001b[0m \u001b[0;34m\u001b[0m\u001b[0m\n",
            "\u001b[0;32m/usr/lib/python3.12/concurrent/futures/_base.py\u001b[0m in \u001b[0;36mresult\u001b[0;34m(self, timeout)\u001b[0m\n\u001b[1;32m    447\u001b[0m                     \u001b[0;32mraise\u001b[0m \u001b[0mCancelledError\u001b[0m\u001b[0;34m(\u001b[0m\u001b[0;34m)\u001b[0m\u001b[0;34m\u001b[0m\u001b[0;34m\u001b[0m\u001b[0m\n\u001b[1;32m    448\u001b[0m                 \u001b[0;32melif\u001b[0m \u001b[0mself\u001b[0m\u001b[0;34m.\u001b[0m\u001b[0m_state\u001b[0m \u001b[0;34m==\u001b[0m \u001b[0mFINISHED\u001b[0m\u001b[0;34m:\u001b[0m\u001b[0;34m\u001b[0m\u001b[0;34m\u001b[0m\u001b[0m\n\u001b[0;32m--> 449\u001b[0;31m                     \u001b[0;32mreturn\u001b[0m \u001b[0mself\u001b[0m\u001b[0;34m.\u001b[0m\u001b[0m__get_result\u001b[0m\u001b[0;34m(\u001b[0m\u001b[0;34m)\u001b[0m\u001b[0;34m\u001b[0m\u001b[0;34m\u001b[0m\u001b[0m\n\u001b[0m\u001b[1;32m    450\u001b[0m \u001b[0;34m\u001b[0m\u001b[0m\n\u001b[1;32m    451\u001b[0m                 \u001b[0mself\u001b[0m\u001b[0;34m.\u001b[0m\u001b[0m_condition\u001b[0m\u001b[0;34m.\u001b[0m\u001b[0mwait\u001b[0m\u001b[0;34m(\u001b[0m\u001b[0mtimeout\u001b[0m\u001b[0;34m)\u001b[0m\u001b[0;34m\u001b[0m\u001b[0;34m\u001b[0m\u001b[0m\n",
            "\u001b[0;32m/usr/lib/python3.12/concurrent/futures/_base.py\u001b[0m in \u001b[0;36m__get_result\u001b[0;34m(self)\u001b[0m\n\u001b[1;32m    399\u001b[0m         \u001b[0;32mif\u001b[0m \u001b[0mself\u001b[0m\u001b[0;34m.\u001b[0m\u001b[0m_exception\u001b[0m\u001b[0;34m:\u001b[0m\u001b[0;34m\u001b[0m\u001b[0;34m\u001b[0m\u001b[0m\n\u001b[1;32m    400\u001b[0m             \u001b[0;32mtry\u001b[0m\u001b[0;34m:\u001b[0m\u001b[0;34m\u001b[0m\u001b[0;34m\u001b[0m\u001b[0m\n\u001b[0;32m--> 401\u001b[0;31m                 \u001b[0;32mraise\u001b[0m \u001b[0mself\u001b[0m\u001b[0;34m.\u001b[0m\u001b[0m_exception\u001b[0m\u001b[0;34m\u001b[0m\u001b[0;34m\u001b[0m\u001b[0m\n\u001b[0m\u001b[1;32m    402\u001b[0m             \u001b[0;32mfinally\u001b[0m\u001b[0;34m:\u001b[0m\u001b[0;34m\u001b[0m\u001b[0;34m\u001b[0m\u001b[0m\n\u001b[1;32m    403\u001b[0m                 \u001b[0;31m# Break a reference cycle with the exception in self._exception\u001b[0m\u001b[0;34m\u001b[0m\u001b[0;34m\u001b[0m\u001b[0m\n",
            "\u001b[0;32m/usr/local/lib/python3.12/dist-packages/tenacity/__init__.py\u001b[0m in \u001b[0;36m__call__\u001b[0;34m(self, fn, *args, **kwargs)\u001b[0m\n\u001b[1;32m    476\u001b[0m             \u001b[0;32mif\u001b[0m \u001b[0misinstance\u001b[0m\u001b[0;34m(\u001b[0m\u001b[0mdo\u001b[0m\u001b[0;34m,\u001b[0m \u001b[0mDoAttempt\u001b[0m\u001b[0;34m)\u001b[0m\u001b[0;34m:\u001b[0m\u001b[0;34m\u001b[0m\u001b[0;34m\u001b[0m\u001b[0m\n\u001b[1;32m    477\u001b[0m                 \u001b[0;32mtry\u001b[0m\u001b[0;34m:\u001b[0m\u001b[0;34m\u001b[0m\u001b[0;34m\u001b[0m\u001b[0m\n\u001b[0;32m--> 478\u001b[0;31m                     \u001b[0mresult\u001b[0m \u001b[0;34m=\u001b[0m \u001b[0mfn\u001b[0m\u001b[0;34m(\u001b[0m\u001b[0;34m*\u001b[0m\u001b[0margs\u001b[0m\u001b[0;34m,\u001b[0m \u001b[0;34m**\u001b[0m\u001b[0mkwargs\u001b[0m\u001b[0;34m)\u001b[0m\u001b[0;34m\u001b[0m\u001b[0;34m\u001b[0m\u001b[0m\n\u001b[0m\u001b[1;32m    479\u001b[0m                 \u001b[0;32mexcept\u001b[0m \u001b[0mBaseException\u001b[0m\u001b[0;34m:\u001b[0m  \u001b[0;31m# noqa: B902\u001b[0m\u001b[0;34m\u001b[0m\u001b[0;34m\u001b[0m\u001b[0m\n\u001b[1;32m    480\u001b[0m                     \u001b[0mretry_state\u001b[0m\u001b[0;34m.\u001b[0m\u001b[0mset_exception\u001b[0m\u001b[0;34m(\u001b[0m\u001b[0msys\u001b[0m\u001b[0;34m.\u001b[0m\u001b[0mexc_info\u001b[0m\u001b[0;34m(\u001b[0m\u001b[0;34m)\u001b[0m\u001b[0;34m)\u001b[0m  \u001b[0;31m# type: ignore[arg-type]\u001b[0m\u001b[0;34m\u001b[0m\u001b[0;34m\u001b[0m\u001b[0m\n",
            "\u001b[0;32m/usr/local/lib/python3.12/dist-packages/google/genai/_api_client.py\u001b[0m in \u001b[0;36m_request_once\u001b[0;34m(self, http_request, stream)\u001b[0m\n\u001b[1;32m   1125\u001b[0m           \u001b[0mtimeout\u001b[0m\u001b[0;34m=\u001b[0m\u001b[0mhttp_request\u001b[0m\u001b[0;34m.\u001b[0m\u001b[0mtimeout\u001b[0m\u001b[0;34m,\u001b[0m\u001b[0;34m\u001b[0m\u001b[0;34m\u001b[0m\u001b[0m\n\u001b[1;32m   1126\u001b[0m       )\n\u001b[0;32m-> 1127\u001b[0;31m       \u001b[0merrors\u001b[0m\u001b[0;34m.\u001b[0m\u001b[0mAPIError\u001b[0m\u001b[0;34m.\u001b[0m\u001b[0mraise_for_response\u001b[0m\u001b[0;34m(\u001b[0m\u001b[0mresponse\u001b[0m\u001b[0;34m)\u001b[0m\u001b[0;34m\u001b[0m\u001b[0;34m\u001b[0m\u001b[0m\n\u001b[0m\u001b[1;32m   1128\u001b[0m       return HttpResponse(\n\u001b[1;32m   1129\u001b[0m           \u001b[0mresponse\u001b[0m\u001b[0;34m.\u001b[0m\u001b[0mheaders\u001b[0m\u001b[0;34m,\u001b[0m \u001b[0mresponse\u001b[0m \u001b[0;32mif\u001b[0m \u001b[0mstream\u001b[0m \u001b[0;32melse\u001b[0m \u001b[0;34m[\u001b[0m\u001b[0mresponse\u001b[0m\u001b[0;34m.\u001b[0m\u001b[0mtext\u001b[0m\u001b[0;34m]\u001b[0m\u001b[0;34m\u001b[0m\u001b[0;34m\u001b[0m\u001b[0m\n",
            "\u001b[0;32m/usr/local/lib/python3.12/dist-packages/google/genai/errors.py\u001b[0m in \u001b[0;36mraise_for_response\u001b[0;34m(cls, response)\u001b[0m\n\u001b[1;32m    106\u001b[0m     \u001b[0mstatus_code\u001b[0m \u001b[0;34m=\u001b[0m \u001b[0mresponse\u001b[0m\u001b[0;34m.\u001b[0m\u001b[0mstatus_code\u001b[0m\u001b[0;34m\u001b[0m\u001b[0;34m\u001b[0m\u001b[0m\n\u001b[1;32m    107\u001b[0m     \u001b[0;32mif\u001b[0m \u001b[0;36m400\u001b[0m \u001b[0;34m<=\u001b[0m \u001b[0mstatus_code\u001b[0m \u001b[0;34m<\u001b[0m \u001b[0;36m500\u001b[0m\u001b[0;34m:\u001b[0m\u001b[0;34m\u001b[0m\u001b[0;34m\u001b[0m\u001b[0m\n\u001b[0;32m--> 108\u001b[0;31m       \u001b[0;32mraise\u001b[0m \u001b[0mClientError\u001b[0m\u001b[0;34m(\u001b[0m\u001b[0mstatus_code\u001b[0m\u001b[0;34m,\u001b[0m \u001b[0mresponse_json\u001b[0m\u001b[0;34m,\u001b[0m \u001b[0mresponse\u001b[0m\u001b[0;34m)\u001b[0m\u001b[0;34m\u001b[0m\u001b[0;34m\u001b[0m\u001b[0m\n\u001b[0m\u001b[1;32m    109\u001b[0m     \u001b[0;32melif\u001b[0m \u001b[0;36m500\u001b[0m \u001b[0;34m<=\u001b[0m \u001b[0mstatus_code\u001b[0m \u001b[0;34m<\u001b[0m \u001b[0;36m600\u001b[0m\u001b[0;34m:\u001b[0m\u001b[0;34m\u001b[0m\u001b[0;34m\u001b[0m\u001b[0m\n\u001b[1;32m    110\u001b[0m       \u001b[0;32mraise\u001b[0m \u001b[0mServerError\u001b[0m\u001b[0;34m(\u001b[0m\u001b[0mstatus_code\u001b[0m\u001b[0;34m,\u001b[0m \u001b[0mresponse_json\u001b[0m\u001b[0;34m,\u001b[0m \u001b[0mresponse\u001b[0m\u001b[0;34m)\u001b[0m\u001b[0;34m\u001b[0m\u001b[0;34m\u001b[0m\u001b[0m\n",
            "\u001b[0;31mClientError\u001b[0m: 403 PERMISSION_DENIED. {'error': {'code': 403, 'message': 'This API method requires billing to be enabled. Please enable billing on project #devfest-2025-day-1 by visiting https://console.developers.google.com/billing/enable?project=devfest-2025-day-1 then retry. If you enabled billing for this project recently, wait a few minutes for the action to propagate to our systems and retry.', 'status': 'PERMISSION_DENIED', 'details': [{'@type': 'type.googleapis.com/google.rpc.ErrorInfo', 'reason': 'BILLING_DISABLED', 'domain': 'googleapis.com', 'metadata': {'service': 'aiplatform.googleapis.com', 'containerInfo': 'devfest-2025-day-1', 'consumer': 'projects/devfest-2025-day-1'}}, {'@type': 'type.googleapis.com/google.rpc.LocalizedMessage', 'locale': 'en-US', 'message': 'This API method requires billing to be enabled. Please enable billing on project #devfest-2025-day-1 by visiting https://console.developers.google.com/billing/enable?project=devfest-2025-day-1 then retry. If you enabled billing for this project recently, wait a few minutes for the action to propagate to our systems and retry.'}, {'@type': 'type.googleapis.com/google.rpc.Help', 'links': [{'description': 'Google developers console billing', 'url': 'https://console.developers.google.com/billing/enable?project=devfest-2025-day-1'}]}]}}"
          ]
        }
      ],
      "source": [
        "import vertexai\n",
        "from google.adk.memory import VertexAiMemoryBankService\n",
        "\n",
        "client = vertexai.Client(project=PROJECT, location=LOCATION)\n",
        "\n",
        "agent_engine = client.agent_engines.create(\n",
        "    config={\n",
        "        \"context_spec\": {\n",
        "            \"memory_bank_config\": {\n",
        "                \"generation_config\": {\n",
        "                    \"model\": f\"projects/{PROJECT}/locations/{LOCATION}/publishers/google/models/gemini-2.5-flash\"\n",
        "                }\n",
        "            }\n",
        "        }\n",
        "    }\n",
        ")\n",
        "\n",
        "memory_bank_service = VertexAiMemoryBankService(\n",
        "    agent_engine_id=agent_engine.api_resource.name.split(\"/\")[-1],\n",
        "    project=PROJECT,\n",
        "    location=LOCATION,\n",
        ")"
      ]
    },
    {
      "cell_type": "markdown",
      "metadata": {
        "id": "N-IrevumRepq"
      },
      "source": [
        "## Generating Memories\n",
        "\n",
        "Memories will be generated from your conversation history stored in the `Session` object. The ADK `add_session_to_memory` method is responsible for triggering memory generation for your memory service, but the exact behavior depends on which service you use:\n",
        "\n",
        "* `InMemoryMemoryService` persists all information, including the raw dialogue.\n",
        "\n",
        "* `VertexAiMemoryBankService` only persists *meaningful* information. Not all conversations will result in generated memories. Additionally, the information will be condensed to individual, self-contained memories.\n",
        "\n",
        "In this example, we create two sessions:\n",
        "1. `chit_chat_session`, which is a conversation that contains events that may not be meaningful for future interactions.\n",
        "2. `recommendations_session`, which is a conversation about looking for birthday presents for a family member. It includes implicit information that may be helpful for future conversations."
      ]
    },
    {
      "cell_type": "code",
      "execution_count": null,
      "metadata": {
        "colab": {
          "base_uri": "https://localhost:8080/"
        },
        "id": "VfTIuJfFAR2z",
        "outputId": "cde9a79e-31b5-464a-c839-281e20a695b8"
      },
      "outputs": [
        {
          "name": "stderr",
          "output_type": "stream",
          "text": [
            "INFO:google_adk.google.adk.models.google_llm:Sending out request, model: gemini-2.5-flash, backend: GoogleLLMVariant.VERTEX_AI, stream: False\n",
            "DEBUG:google_adk.google.adk.models.google_llm:\n",
            "LLM Request:\n",
            "-----------------------------------------------------------\n",
            "System Instruction:\n",
            "Answer the user's questions\n",
            "\n",
            "You are an agent. Your internal name is \"Generic_QA_Agent\".\n",
            "-----------------------------------------------------------\n",
            "Contents:\n",
            "{\"parts\":[{\"text\":\"what types of questions do you answer\"}],\"role\":\"user\"}\n",
            "-----------------------------------------------------------\n",
            "Functions:\n",
            "\n",
            "-----------------------------------------------------------\n",
            "\n",
            "INFO:google_adk.google.adk.models.google_llm:Response received from the model.\n",
            "DEBUG:google_adk.google.adk.models.google_llm:\n",
            "LLM Response:\n",
            "-----------------------------------------------------------\n",
            "Text:\n",
            "As a general-purpose AI, I can answer a wide variety of questions across many domains. Here are some common types of questions I can help with:\n",
            "\n",
            "*   **Factual Questions:** \"What is the capital of France?\" or \"When was the internet invented?\"\n",
            "*   **Definitional Questions:** \"What is quantum mechanics?\" or \"Define 'photosynthesis'.\"\n",
            "*   **Explanatory Questions:** \"How does a car engine work?\" or \"Why do we have different seasons?\"\n",
            "*   **Comparative Questions:** \"What are the differences between a democracy and a republic?\" or \"Compare Python and Java.\"\n",
            "*   **Procedural/Instructional Questions:** \"How do I make a simple résumé?\" or \"What are the steps to bake a chocolate cake?\"\n",
            "*   **Problem-Solving Questions (conceptual):** \"What are some strategies to improve time management?\" or \"Suggest ways to reduce plastic waste.\"\n",
            "*   **Creative/Generative Questions:** \"Write a short story about a talking cat.\" or \"Generate some ideas for a new marketing campaign.\"\n",
            "*   **Summarization Questions:** \"Summarize the main points of the theory of relativity.\"\n",
            "*   **Opinion/Perspective (neutral, generalized):** \"What are some common arguments for and against renewable energy?\" (I don't have personal opinions, but can synthesize common viewpoints.)\n",
            "*   **Hypothetical Scenarios:** \"What might happen if all the ice caps melted?\"\n",
            "\n",
            "Essentially, if it involves information retrieval, explanation, generation of text, or logical reasoning based on the vast amount of text data I was trained on, I can likely assist.\n",
            "\n",
            "However, I cannot:\n",
            "\n",
            "*   **Provide real-time information:** I don't have access to the internet in real-time, so I can't tell you the current weather, today's stock prices, or breaking news. My knowledge cutoff is typically a specific point in time.\n",
            "*   **Perform actions in the real world:** I can't book flights, send emails, or control devices.\n",
            "*   **Access personal or private information:** I don't know who you are, your location, or any personal details unless you provide them in the current conversation.\n",
            "*   **Offer medical, legal, or financial advice:** I can provide general information, but it should not be taken as professional advice. Always consult a qualified professional for such matters.\n",
            "*   **Express personal opinions or feelings:** I am an AI and do not have consciousness, emotions, or personal beliefs.\n",
            "-----------------------------------------------------------\n",
            "Function calls:\n",
            "\n",
            "-----------------------------------------------------------\n",
            "Raw response:\n",
            "{\"sdk_http_response\":{\"headers\":{\"Content-Type\":\"application/json; charset=UTF-8\",\"Vary\":\"Origin, X-Origin, Referer\",\"Content-Encoding\":\"gzip\",\"Date\":\"Tue, 21 Oct 2025 13:47:15 GMT\",\"Server\":\"scaffolding on HTTPServer2\",\"X-XSS-Protection\":\"0\",\"X-Frame-Options\":\"SAMEORIGIN\",\"X-Content-Type-Options\":\"nosniff\",\"Transfer-Encoding\":\"chunked\"}},\"candidates\":[{\"content\":{\"parts\":[{\"text\":\"As a general-purpose AI, I can answer a wide variety of questions across many domains. Here are some common types of questions I can help with:\\n\\n*   **Factual Questions:** \\\"What is the capital of France?\\\" or \\\"When was the internet invented?\\\"\\n*   **Definitional Questions:** \\\"What is quantum mechanics?\\\" or \\\"Define 'photosynthesis'.\\\"\\n*   **Explanatory Questions:** \\\"How does a car engine work?\\\" or \\\"Why do we have different seasons?\\\"\\n*   **Comparative Questions:** \\\"What are the differences between a democracy and a republic?\\\" or \\\"Compare Python and Java.\\\"\\n*   **Procedural/Instructional Questions:** \\\"How do I make a simple résumé?\\\" or \\\"What are the steps to bake a chocolate cake?\\\"\\n*   **Problem-Solving Questions (conceptual):** \\\"What are some strategies to improve time management?\\\" or \\\"Suggest ways to reduce plastic waste.\\\"\\n*   **Creative/Generative Questions:** \\\"Write a short story about a talking cat.\\\" or \\\"Generate some ideas for a new marketing campaign.\\\"\\n*   **Summarization Questions:** \\\"Summarize the main points of the theory of relativity.\\\"\\n*   **Opinion/Perspective (neutral, generalized):** \\\"What are some common arguments for and against renewable energy?\\\" (I don't have personal opinions, but can synthesize common viewpoints.)\\n*   **Hypothetical Scenarios:** \\\"What might happen if all the ice caps melted?\\\"\\n\\nEssentially, if it involves information retrieval, explanation, generation of text, or logical reasoning based on the vast amount of text data I was trained on, I can likely assist.\\n\\nHowever, I cannot:\\n\\n*   **Provide real-time information:** I don't have access to the internet in real-time, so I can't tell you the current weather, today's stock prices, or breaking news. My knowledge cutoff is typically a specific point in time.\\n*   **Perform actions in the real world:** I can't book flights, send emails, or control devices.\\n*   **Access personal or private information:** I don't know who you are, your location, or any personal details unless you provide them in the current conversation.\\n*   **Offer medical, legal, or financial advice:** I can provide general information, but it should not be taken as professional advice. Always consult a qualified professional for such matters.\\n*   **Express personal opinions or feelings:** I am an AI and do not have consciousness, emotions, or personal beliefs.\"}],\"role\":\"model\"},\"finish_reason\":\"STOP\",\"avg_logprobs\":-0.3346721270612178}],\"create_time\":\"2025-10-21T13:47:11.485173Z\",\"model_version\":\"gemini-2.5-flash\",\"response_id\":\"3473aLXOHeet698P28GMwAM\",\"usage_metadata\":{\"candidates_token_count\":524,\"candidates_tokens_details\":[{\"modality\":\"TEXT\",\"token_count\":524}],\"prompt_token_count\":30,\"prompt_tokens_details\":[{\"modality\":\"TEXT\",\"token_count\":30}],\"thoughts_token_count\":61,\"total_token_count\":615,\"traffic_type\":\"ON_DEMAND\"},\"automatic_function_calling_history\":[]}\n",
            "-----------------------------------------------------------\n",
            "\n"
          ]
        },
        {
          "name": "stdout",
          "output_type": "stream",
          "text": [
            "Agent Response:  As a general-purpose AI, I can answer a wide variety of questions across many domains. Here are some common types of questions I can help with:\n",
            "\n",
            "*   **Factual Questions:** \"What is the capital of France?\" or \"When was the internet invented?\"\n",
            "*   **Definitional Questions:** \"What is quantum mechanics?\" or \"Define 'photosynthesis'.\"\n",
            "*   **Explanatory Questions:** \"How does a car engine work?\" or \"Why do we have different seasons?\"\n",
            "*   **Comparative Questions:** \"What are the differences between a democracy and a republic?\" or \"Compare Python and Java.\"\n",
            "*   **Procedural/Instructional Questions:** \"How do I make a simple résumé?\" or \"What are the steps to bake a chocolate cake?\"\n",
            "*   **Problem-Solving Questions (conceptual):** \"What are some strategies to improve time management?\" or \"Suggest ways to reduce plastic waste.\"\n",
            "*   **Creative/Generative Questions:** \"Write a short story about a talking cat.\" or \"Generate some ideas for a new marketing campaign.\"\n",
            "*   **Summarization Questions:** \"Summarize the main points of the theory of relativity.\"\n",
            "*   **Opinion/Perspective (neutral, generalized):** \"What are some common arguments for and against renewable energy?\" (I don't have personal opinions, but can synthesize common viewpoints.)\n",
            "*   **Hypothetical Scenarios:** \"What might happen if all the ice caps melted?\"\n",
            "\n",
            "Essentially, if it involves information retrieval, explanation, generation of text, or logical reasoning based on the vast amount of text data I was trained on, I can likely assist.\n",
            "\n",
            "However, I cannot:\n",
            "\n",
            "*   **Provide real-time information:** I don't have access to the internet in real-time, so I can't tell you the current weather, today's stock prices, or breaking news. My knowledge cutoff is typically a specific point in time.\n",
            "*   **Perform actions in the real world:** I can't book flights, send emails, or control devices.\n",
            "*   **Access personal or private information:** I don't know who you are, your location, or any personal details unless you provide them in the current conversation.\n",
            "*   **Offer medical, legal, or financial advice:** I can provide general information, but it should not be taken as professional advice. Always consult a qualified professional for such matters.\n",
            "*   **Express personal opinions or feelings:** I am an AI and do not have consciousness, emotions, or personal beliefs.\n"
          ]
        }
      ],
      "source": [
        "USER_ID = \"My User\"\n",
        "\n",
        "chit_chat_session = await session_service.create_session(\n",
        "    app_name=APP_NAME, user_id=USER_ID\n",
        ")\n",
        "\n",
        "call_agent(\n",
        "    \"what types of questions do you answer\", chit_chat_session.id, user_id=USER_ID\n",
        ")\n",
        "# Refresh session object.\n",
        "chit_chat_session = await session_service.get_session(\n",
        "    app_name=APP_NAME, user_id=USER_ID, session_id=chit_chat_session.id\n",
        ")"
      ]
    },
    {
      "cell_type": "code",
      "execution_count": null,
      "metadata": {
        "colab": {
          "base_uri": "https://localhost:8080/"
        },
        "id": "hLvyyXRHEEQH",
        "outputId": "4f731d39-2db5-49be-b216-3307b256c093"
      },
      "outputs": [
        {
          "name": "stderr",
          "output_type": "stream",
          "text": [
            "INFO:google_adk.google.adk.models.google_llm:Sending out request, model: gemini-2.5-flash, backend: GoogleLLMVariant.VERTEX_AI, stream: False\n",
            "DEBUG:google_adk.google.adk.models.google_llm:\n",
            "LLM Request:\n",
            "-----------------------------------------------------------\n",
            "System Instruction:\n",
            "Answer the user's questions\n",
            "\n",
            "You are an agent. Your internal name is \"Generic_QA_Agent\".\n",
            "-----------------------------------------------------------\n",
            "Contents:\n",
            "{\"parts\":[{\"text\":\"I have a three year old niece. What recommendations do you have for birthday presents?\"}],\"role\":\"user\"}\n",
            "-----------------------------------------------------------\n",
            "Functions:\n",
            "\n",
            "-----------------------------------------------------------\n",
            "\n",
            "INFO:google_adk.google.adk.models.google_llm:Response received from the model.\n",
            "DEBUG:google_adk.google.adk.models.google_llm:\n",
            "LLM Response:\n",
            "-----------------------------------------------------------\n",
            "Text:\n",
            "That's a fun age to buy for! Three-year-olds are bursting with imagination, developing new skills rapidly, and becoming more independent. The best gifts encourage open-ended play, creativity, and learning.\n",
            "\n",
            "Here are some recommendations for your three-year-old niece, categorized to help you choose:\n",
            "\n",
            "**1. Creative & Art Supplies:**\n",
            "\n",
            "*   **Play-Doh Set:** Great for fine motor skills, imagination, and sensory play. Look for sets with tools like cutters, rollers, or simple extruders.\n",
            "*   **Jumbo Crayons, Washable Markers, or Finger Paints:** Large sizes are easier for small hands to grasp. Washable is key for parents! Pair with a large pad of paper or a tabletop easel.\n",
            "*   **Water Wow! Books (Melissa & Doug):** These are fantastic for mess-free \"painting\" with water. The colors magically appear and then disappear as it dries, so they can be used again and again.\n",
            "*   **Simple Craft Kits:** Look for kits with large pieces, like sticker scenes, foam art, or chunky bead stringing sets (with adult supervision).\n",
            "\n",
            "**2. Imaginative & Pretend Play:**\n",
            "\n",
            "*   **Dress-Up Clothes:** A simple set of princess, superhero, doctor, chef, or animal costumes can spark hours of role-playing fun.\n",
            "*   **Play Kitchen & Food:** A classic for a reason! Kids love to mimic adults. Look for wooden or sturdy plastic sets.\n",
            "*   **Doll or Stuffed Animal with Accessories:** A baby doll with a small carrier, bottle, or extra outfit encourages nurturing play.\n",
            "*   **Animal Figures or Vehicle Sets:** A collection of farm animals, zoo animals, construction vehicles, or trains allows for building imaginative worlds.\n",
            "*   **Doctor Kit:** Helps kids understand and process visits to the doctor in a playful way.\n",
            "\n",
            "**3. Building & Construction:**\n",
            "\n",
            "*   **DUPLO Blocks (LEGO Duplo):** Larger than regular LEGOs, they are perfect for small hands to connect and disconnect, building towers, houses, and more.\n",
            "*   **Mega Bloks:** Similar to DUPLO, these large, chunky blocks are easy to handle and encourage creative construction.\n",
            "*   **Wooden Building Blocks:** Timeless and versatile, these blocks can be stacked, sorted, and used in countless ways.\n",
            "\n",
            "**4. Books & Educational Toys:**\n",
            "\n",
            "*   **Picture Books:** Three-year-olds enjoy engaging stories with colorful illustrations. Look for books with rhyming, lift-the-flaps, or interactive elements.\n",
            "*   **Simple Puzzles:** Wooden knob puzzles (shapes, animals), chunky jigsaw puzzles (12-24 pieces), or floor puzzles are great for problem-solving and fine motor skills.\n",
            "*   **Shape Sorters or Stacking Toys:** Reinforce basic concepts like shapes, colors, and sizes.\n",
            "*   **Matching Games:** Simple \"memory\" or matching games with large, colorful cards.\n",
            "\n",
            "**5. Outdoor & Active Play:**\n",
            "\n",
            "*   **Tricycle or Balance Bike:** If she doesn't have one, a tricycle or a balance bike is excellent for gross motor development and getting outdoors.\n",
            "*   **Ball Set:** A soft ball, a bouncy ball, or a set of different sized balls can provide endless fun.\n",
            "*   **Bubble Machine or Giant Bubble Wand:** Who doesn't love bubbles?!\n",
            "*   **Sand Toys:** If she has a sandbox or goes to the beach, a new set of buckets, shovels, and molds is always a hit.\n",
            "\n",
            "**General Tips:**\n",
            "\n",
            "*   **Consider her interests:** Does she love animals? Trucks? Princesses? Dinosaurs? Tailoring the gift to her current fascinations will make it a bigger hit.\n",
            "*   **Ask the parents:** They know best what she already has, what she needs, and if there's anything they'd prefer to avoid (e.g., overly noisy toys).\n",
            "*   **Durability & Safety:** Choose well-made toys that will withstand toddler play and are free from small parts that could be choking hazards.\n",
            "*   **Open-Ended Play:** Toys that can be used in multiple ways and encourage imagination tend to have the longest shelf life.\n",
            "\n",
            "No matter what you choose, the thought and care you put into selecting a gift will surely be appreciated!\n",
            "-----------------------------------------------------------\n",
            "Function calls:\n",
            "\n",
            "-----------------------------------------------------------\n",
            "Raw response:\n",
            "{\"sdk_http_response\":{\"headers\":{\"Content-Type\":\"application/json; charset=UTF-8\",\"Vary\":\"Origin, X-Origin, Referer\",\"Content-Encoding\":\"gzip\",\"Date\":\"Tue, 21 Oct 2025 13:49:58 GMT\",\"Server\":\"scaffolding on HTTPServer2\",\"X-XSS-Protection\":\"0\",\"X-Frame-Options\":\"SAMEORIGIN\",\"X-Content-Type-Options\":\"nosniff\",\"Transfer-Encoding\":\"chunked\"}},\"candidates\":[{\"content\":{\"parts\":[{\"text\":\"That's a fun age to buy for! Three-year-olds are bursting with imagination, developing new skills rapidly, and becoming more independent. The best gifts encourage open-ended play, creativity, and learning.\\n\\nHere are some recommendations for your three-year-old niece, categorized to help you choose:\\n\\n**1. Creative & Art Supplies:**\\n\\n*   **Play-Doh Set:** Great for fine motor skills, imagination, and sensory play. Look for sets with tools like cutters, rollers, or simple extruders.\\n*   **Jumbo Crayons, Washable Markers, or Finger Paints:** Large sizes are easier for small hands to grasp. Washable is key for parents! Pair with a large pad of paper or a tabletop easel.\\n*   **Water Wow! Books (Melissa & Doug):** These are fantastic for mess-free \\\"painting\\\" with water. The colors magically appear and then disappear as it dries, so they can be used again and again.\\n*   **Simple Craft Kits:** Look for kits with large pieces, like sticker scenes, foam art, or chunky bead stringing sets (with adult supervision).\\n\\n**2. Imaginative & Pretend Play:**\\n\\n*   **Dress-Up Clothes:** A simple set of princess, superhero, doctor, chef, or animal costumes can spark hours of role-playing fun.\\n*   **Play Kitchen & Food:** A classic for a reason! Kids love to mimic adults. Look for wooden or sturdy plastic sets.\\n*   **Doll or Stuffed Animal with Accessories:** A baby doll with a small carrier, bottle, or extra outfit encourages nurturing play.\\n*   **Animal Figures or Vehicle Sets:** A collection of farm animals, zoo animals, construction vehicles, or trains allows for building imaginative worlds.\\n*   **Doctor Kit:** Helps kids understand and process visits to the doctor in a playful way.\\n\\n**3. Building & Construction:**\\n\\n*   **DUPLO Blocks (LEGO Duplo):** Larger than regular LEGOs, they are perfect for small hands to connect and disconnect, building towers, houses, and more.\\n*   **Mega Bloks:** Similar to DUPLO, these large, chunky blocks are easy to handle and encourage creative construction.\\n*   **Wooden Building Blocks:** Timeless and versatile, these blocks can be stacked, sorted, and used in countless ways.\\n\\n**4. Books & Educational Toys:**\\n\\n*   **Picture Books:** Three-year-olds enjoy engaging stories with colorful illustrations. Look for books with rhyming, lift-the-flaps, or interactive elements.\\n*   **Simple Puzzles:** Wooden knob puzzles (shapes, animals), chunky jigsaw puzzles (12-24 pieces), or floor puzzles are great for problem-solving and fine motor skills.\\n*   **Shape Sorters or Stacking Toys:** Reinforce basic concepts like shapes, colors, and sizes.\\n*   **Matching Games:** Simple \\\"memory\\\" or matching games with large, colorful cards.\\n\\n**5. Outdoor & Active Play:**\\n\\n*   **Tricycle or Balance Bike:** If she doesn't have one, a tricycle or a balance bike is excellent for gross motor development and getting outdoors.\\n*   **Ball Set:** A soft ball, a bouncy ball, or a set of different sized balls can provide endless fun.\\n*   **Bubble Machine or Giant Bubble Wand:** Who doesn't love bubbles?!\\n*   **Sand Toys:** If she has a sandbox or goes to the beach, a new set of buckets, shovels, and molds is always a hit.\\n\\n**General Tips:**\\n\\n*   **Consider her interests:** Does she love animals? Trucks? Princesses? Dinosaurs? Tailoring the gift to her current fascinations will make it a bigger hit.\\n*   **Ask the parents:** They know best what she already has, what she needs, and if there's anything they'd prefer to avoid (e.g., overly noisy toys).\\n*   **Durability & Safety:** Choose well-made toys that will withstand toddler play and are free from small parts that could be choking hazards.\\n*   **Open-Ended Play:** Toys that can be used in multiple ways and encourage imagination tend to have the longest shelf life.\\n\\nNo matter what you choose, the thought and care you put into selecting a gift will surely be appreciated!\"}],\"role\":\"model\"},\"finish_reason\":\"STOP\",\"avg_logprobs\":-0.7941808604661312}],\"create_time\":\"2025-10-21T13:49:43.327790Z\",\"model_version\":\"gemini-2.5-flash\",\"response_id\":\"d4_3aO6AFLW4nvgPme6b-AU\",\"usage_metadata\":{\"candidates_token_count\":895,\"candidates_tokens_details\":[{\"modality\":\"TEXT\",\"token_count\":895}],\"prompt_token_count\":40,\"prompt_tokens_details\":[{\"modality\":\"TEXT\",\"token_count\":40}],\"thoughts_token_count\":1240,\"total_token_count\":2175,\"traffic_type\":\"ON_DEMAND\"},\"automatic_function_calling_history\":[]}\n",
            "-----------------------------------------------------------\n",
            "\n",
            "INFO:google_adk.google.adk.models.google_llm:Sending out request, model: gemini-2.5-flash, backend: GoogleLLMVariant.VERTEX_AI, stream: False\n",
            "DEBUG:google_adk.google.adk.models.google_llm:\n",
            "LLM Request:\n",
            "-----------------------------------------------------------\n",
            "System Instruction:\n",
            "Answer the user's questions\n",
            "\n",
            "You are an agent. Your internal name is \"Generic_QA_Agent\".\n",
            "-----------------------------------------------------------\n",
            "Contents:\n",
            "{\"parts\":[{\"text\":\"I have a three year old niece. What recommendations do you have for birthday presents?\"}],\"role\":\"user\"}\n",
            "{\"parts\":[{\"text\":\"That's a fun age to buy for! Three-year-olds are bursting with imagination, developing new skills rapidly, and becoming more independent. The best gifts encourage open-ended play, creativity, and learning.\\n\\nHere are some recommendations for your three-year-old niece, categorized to help you choose:\\n\\n**1. Creative & Art Supplies:**\\n\\n*   **Play-Doh Set:** Great for fine motor skills, imagination, and sensory play. Look for sets with tools like cutters, rollers, or simple extruders.\\n*   **Jumbo Crayons, Washable Markers, or Finger Paints:** Large sizes are easier for small hands to grasp. Washable is key for parents! Pair with a large pad of paper or a tabletop easel.\\n*   **Water Wow! Books (Melissa & Doug):** These are fantastic for mess-free \\\"painting\\\" with water. The colors magically appear and then disappear as it dries, so they can be used again and again.\\n*   **Simple Craft Kits:** Look for kits with large pieces, like sticker scenes, foam art, or chunky bead stringing sets (with adult supervision).\\n\\n**2. Imaginative & Pretend Play:**\\n\\n*   **Dress-Up Clothes:** A simple set of princess, superhero, doctor, chef, or animal costumes can spark hours of role-playing fun.\\n*   **Play Kitchen & Food:** A classic for a reason! Kids love to mimic adults. Look for wooden or sturdy plastic sets.\\n*   **Doll or Stuffed Animal with Accessories:** A baby doll with a small carrier, bottle, or extra outfit encourages nurturing play.\\n*   **Animal Figures or Vehicle Sets:** A collection of farm animals, zoo animals, construction vehicles, or trains allows for building imaginative worlds.\\n*   **Doctor Kit:** Helps kids understand and process visits to the doctor in a playful way.\\n\\n**3. Building & Construction:**\\n\\n*   **DUPLO Blocks (LEGO Duplo):** Larger than regular LEGOs, they are perfect for small hands to connect and disconnect, building towers, houses, and more.\\n*   **Mega Bloks:** Similar to DUPLO, these large, chunky blocks are easy to handle and encourage creative construction.\\n*   **Wooden Building Blocks:** Timeless and versatile, these blocks can be stacked, sorted, and used in countless ways.\\n\\n**4. Books & Educational Toys:**\\n\\n*   **Picture Books:** Three-year-olds enjoy engaging stories with colorful illustrations. Look for books with rhyming, lift-the-flaps, or interactive elements.\\n*   **Simple Puzzles:** Wooden knob puzzles (shapes, animals), chunky jigsaw puzzles (12-24 pieces), or floor puzzles are great for problem-solving and fine motor skills.\\n*   **Shape Sorters or Stacking Toys:** Reinforce basic concepts like shapes, colors, and sizes.\\n*   **Matching Games:** Simple \\\"memory\\\" or matching games with large, colorful cards.\\n\\n**5. Outdoor & Active Play:**\\n\\n*   **Tricycle or Balance Bike:** If she doesn't have one, a tricycle or a balance bike is excellent for gross motor development and getting outdoors.\\n*   **Ball Set:** A soft ball, a bouncy ball, or a set of different sized balls can provide endless fun.\\n*   **Bubble Machine or Giant Bubble Wand:** Who doesn't love bubbles?!\\n*   **Sand Toys:** If she has a sandbox or goes to the beach, a new set of buckets, shovels, and molds is always a hit.\\n\\n**General Tips:**\\n\\n*   **Consider her interests:** Does she love animals? Trucks? Princesses? Dinosaurs? Tailoring the gift to her current fascinations will make it a bigger hit.\\n*   **Ask the parents:** They know best what she already has, what she needs, and if there's anything they'd prefer to avoid (e.g., overly noisy toys).\\n*   **Durability & Safety:** Choose well-made toys that will withstand toddler play and are free from small parts that could be choking hazards.\\n*   **Open-Ended Play:** Toys that can be used in multiple ways and encourage imagination tend to have the longest shelf life.\\n\\nNo matter what you choose, the thought and care you put into selecting a gift will surely be appreciated!\"}],\"role\":\"model\"}\n",
            "{\"parts\":[{\"text\":\"I like the idea of a bike. Are there any age appropriate options?\"}],\"role\":\"user\"}\n",
            "-----------------------------------------------------------\n",
            "Functions:\n",
            "\n",
            "-----------------------------------------------------------\n",
            "\n"
          ]
        },
        {
          "name": "stdout",
          "output_type": "stream",
          "text": [
            "Agent Response:  That's a fun age to buy for! Three-year-olds are bursting with imagination, developing new skills rapidly, and becoming more independent. The best gifts encourage open-ended play, creativity, and learning.\n",
            "\n",
            "Here are some recommendations for your three-year-old niece, categorized to help you choose:\n",
            "\n",
            "**1. Creative & Art Supplies:**\n",
            "\n",
            "*   **Play-Doh Set:** Great for fine motor skills, imagination, and sensory play. Look for sets with tools like cutters, rollers, or simple extruders.\n",
            "*   **Jumbo Crayons, Washable Markers, or Finger Paints:** Large sizes are easier for small hands to grasp. Washable is key for parents! Pair with a large pad of paper or a tabletop easel.\n",
            "*   **Water Wow! Books (Melissa & Doug):** These are fantastic for mess-free \"painting\" with water. The colors magically appear and then disappear as it dries, so they can be used again and again.\n",
            "*   **Simple Craft Kits:** Look for kits with large pieces, like sticker scenes, foam art, or chunky bead stringing sets (with adult supervision).\n",
            "\n",
            "**2. Imaginative & Pretend Play:**\n",
            "\n",
            "*   **Dress-Up Clothes:** A simple set of princess, superhero, doctor, chef, or animal costumes can spark hours of role-playing fun.\n",
            "*   **Play Kitchen & Food:** A classic for a reason! Kids love to mimic adults. Look for wooden or sturdy plastic sets.\n",
            "*   **Doll or Stuffed Animal with Accessories:** A baby doll with a small carrier, bottle, or extra outfit encourages nurturing play.\n",
            "*   **Animal Figures or Vehicle Sets:** A collection of farm animals, zoo animals, construction vehicles, or trains allows for building imaginative worlds.\n",
            "*   **Doctor Kit:** Helps kids understand and process visits to the doctor in a playful way.\n",
            "\n",
            "**3. Building & Construction:**\n",
            "\n",
            "*   **DUPLO Blocks (LEGO Duplo):** Larger than regular LEGOs, they are perfect for small hands to connect and disconnect, building towers, houses, and more.\n",
            "*   **Mega Bloks:** Similar to DUPLO, these large, chunky blocks are easy to handle and encourage creative construction.\n",
            "*   **Wooden Building Blocks:** Timeless and versatile, these blocks can be stacked, sorted, and used in countless ways.\n",
            "\n",
            "**4. Books & Educational Toys:**\n",
            "\n",
            "*   **Picture Books:** Three-year-olds enjoy engaging stories with colorful illustrations. Look for books with rhyming, lift-the-flaps, or interactive elements.\n",
            "*   **Simple Puzzles:** Wooden knob puzzles (shapes, animals), chunky jigsaw puzzles (12-24 pieces), or floor puzzles are great for problem-solving and fine motor skills.\n",
            "*   **Shape Sorters or Stacking Toys:** Reinforce basic concepts like shapes, colors, and sizes.\n",
            "*   **Matching Games:** Simple \"memory\" or matching games with large, colorful cards.\n",
            "\n",
            "**5. Outdoor & Active Play:**\n",
            "\n",
            "*   **Tricycle or Balance Bike:** If she doesn't have one, a tricycle or a balance bike is excellent for gross motor development and getting outdoors.\n",
            "*   **Ball Set:** A soft ball, a bouncy ball, or a set of different sized balls can provide endless fun.\n",
            "*   **Bubble Machine or Giant Bubble Wand:** Who doesn't love bubbles?!\n",
            "*   **Sand Toys:** If she has a sandbox or goes to the beach, a new set of buckets, shovels, and molds is always a hit.\n",
            "\n",
            "**General Tips:**\n",
            "\n",
            "*   **Consider her interests:** Does she love animals? Trucks? Princesses? Dinosaurs? Tailoring the gift to her current fascinations will make it a bigger hit.\n",
            "*   **Ask the parents:** They know best what she already has, what she needs, and if there's anything they'd prefer to avoid (e.g., overly noisy toys).\n",
            "*   **Durability & Safety:** Choose well-made toys that will withstand toddler play and are free from small parts that could be choking hazards.\n",
            "*   **Open-Ended Play:** Toys that can be used in multiple ways and encourage imagination tend to have the longest shelf life.\n",
            "\n",
            "No matter what you choose, the thought and care you put into selecting a gift will surely be appreciated!\n"
          ]
        },
        {
          "name": "stderr",
          "output_type": "stream",
          "text": [
            "INFO:google_adk.google.adk.models.google_llm:Response received from the model.\n",
            "DEBUG:google_adk.google.adk.models.google_llm:\n",
            "LLM Response:\n",
            "-----------------------------------------------------------\n",
            "Text:\n",
            "That's a fantastic idea! Bikes are wonderful for gross motor development, outdoor play, and building confidence. For a three-year-old, there are definitely age-appropriate options, and the most recommended one for this age is often a **balance bike**.\n",
            "\n",
            "Here's a breakdown of options suitable for a 3-year-old:\n",
            "\n",
            "### 1. Balance Bikes (Highly Recommended)\n",
            "\n",
            "*   **What they are:** Balance bikes are two-wheeled bikes without pedals. Children sit on the seat and propel themselves by pushing off the ground with their feet.\n",
            "*   **Why they're great for 3-year-olds:**\n",
            "    *   **Focus on Balance First:** This is their biggest advantage. Kids learn to balance and steer naturally without the added complexity of pedaling. This makes the transition to a pedal bike much easier later on, often skipping training wheels entirely.\n",
            "    *   **Develops Confidence:** Children feel more in control because their feet are always close to the ground.\n",
            "    *   **Gross Motor Skills:** Excellent for developing coordination, agility, and spatial awareness.\n",
            "    *   **Lightweight:** Most are designed to be light enough for a child to easily maneuver.\n",
            "*   **Key Features to Look For:**\n",
            "    *   **Adjustable Seat and Handlebars:** Essential for ensuring a proper fit and allowing the bike to grow with the child. Her feet should be able to touch the ground flat-footed when seated.\n",
            "    *   **Lightweight Frame:** Easier for her to control and for parents to carry if she gets tired.\n",
            "    *   **Durable Tires:** Air-filled (pneumatic) tires offer better traction and a smoother ride than foam/plastic tires, especially outdoors.\n",
            "    *   **Footrests (Optional):** Some balance bikes have small footrests where children can place their feet once they've mastered gliding.\n",
            "*   **Popular Brands:** Strider, Woom, Cruzee, Banwood, Joovy.\n",
            "\n",
            "### 2. Tricycles\n",
            "\n",
            "*   **What they are:** Three-wheeled bikes that offer a lot of stability.\n",
            "*   **Why they're good for 3-year-olds:**\n",
            "    *   **Stability:** They are very stable, which can be reassuring for hesitant riders.\n",
            "    *   **Early Pedaling Practice:** They allow children to practice pedaling motions before they need to balance.\n",
            "    *   **Often have Parent Push Handles:** Many tricycles for this age come with a handle that parents can use to push and steer, acting like a stroller for a while.\n",
            "*   **Considerations:**\n",
            "    *   **Doesn't Teach Balance:** The main drawback is that they don't help with balance, meaning a child will still need to learn that skill separately when transitioning to a two-wheeled pedal bike.\n",
            "    *   **Can Be Cumbersome:** They can be heavier and less agile than balance bikes.\n",
            "*   **Types:** Look for sturdy models. Some even convert from a push trike to a free-pedal trike.\n",
            "\n",
            "### 3. Bikes with Training Wheels (Less Common for 3-year-olds now)\n",
            "\n",
            "*   **What they are:** Traditional two-wheeled pedal bikes with two small wheels attached to the rear axle for stability.\n",
            "*   **Why they *might* be considered:** Some parents prefer this traditional route.\n",
            "*   **Considerations for a 3-year-old:**\n",
            "    *   **Sizing:** Finding a pedal bike small enough for a 3-year-old can be challenging. A 12-inch wheel size is typically the smallest, and even that might be too large for some 3-year-olds. Her feet need to comfortably reach the pedals and the ground.\n",
            "    *   **Doesn't Teach Balance Well:** Training wheels prop the bike up, preventing the child from learning to balance naturally. This often results in a wobbly, dependent ride.\n",
            "    *   **Can Be Heavier:** Pedal bikes with training wheels are generally heavier than balance bikes.\n",
            "    *   **Less Recommended:** Most experts and parents who have used balance bikes will recommend a balance bike first, as it makes the transition to a pedal bike much smoother and faster without training wheels.\n",
            "\n",
            "### Sizing for a 3-Year-Old\n",
            "\n",
            "The most important measurement for a bike is the **inseam (crotch to floor)**, not the child's age or height.\n",
            "\n",
            "*   **For Balance Bikes:** When seated, her feet should be flat on the ground with a slight bend in the knee. This allows her to push off comfortably and quickly put her feet down.\n",
            "*   **For Pedal Bikes (with or without training wheels):** When seated, her feet should be able to reach the pedals at their lowest point, and she should be able to touch the ground with her toes or balls of her feet.\n",
            "\n",
            "### Don't Forget Safety Gear!\n",
            "\n",
            "No matter which bike you choose, a properly fitting **helmet** is absolutely essential. Make sure it meets safety standards (like CPSC in the US) and fits snugly.\n",
            "\n",
            "**Recommendation:**\n",
            "\n",
            "For a 3-year-old, a **balance bike** is usually the top recommendation by far. It provides the foundational skills she'll need for riding a two-wheeled pedal bike later, builds confidence, and offers great physical activity. You'll likely find she masters it quickly and has a blast gliding around!\n",
            "-----------------------------------------------------------\n",
            "Function calls:\n",
            "\n",
            "-----------------------------------------------------------\n",
            "Raw response:\n",
            "{\"sdk_http_response\":{\"headers\":{\"Content-Type\":\"application/json; charset=UTF-8\",\"Vary\":\"Origin, X-Origin, Referer\",\"Content-Encoding\":\"gzip\",\"Date\":\"Tue, 21 Oct 2025 13:50:09 GMT\",\"Server\":\"scaffolding on HTTPServer2\",\"X-XSS-Protection\":\"0\",\"X-Frame-Options\":\"SAMEORIGIN\",\"X-Content-Type-Options\":\"nosniff\",\"Transfer-Encoding\":\"chunked\"}},\"candidates\":[{\"content\":{\"parts\":[{\"text\":\"That's a fantastic idea! Bikes are wonderful for gross motor development, outdoor play, and building confidence. For a three-year-old, there are definitely age-appropriate options, and the most recommended one for this age is often a **balance bike**.\\n\\nHere's a breakdown of options suitable for a 3-year-old:\\n\\n### 1. Balance Bikes (Highly Recommended)\\n\\n*   **What they are:** Balance bikes are two-wheeled bikes without pedals. Children sit on the seat and propel themselves by pushing off the ground with their feet.\\n*   **Why they're great for 3-year-olds:**\\n    *   **Focus on Balance First:** This is their biggest advantage. Kids learn to balance and steer naturally without the added complexity of pedaling. This makes the transition to a pedal bike much easier later on, often skipping training wheels entirely.\\n    *   **Develops Confidence:** Children feel more in control because their feet are always close to the ground.\\n    *   **Gross Motor Skills:** Excellent for developing coordination, agility, and spatial awareness.\\n    *   **Lightweight:** Most are designed to be light enough for a child to easily maneuver.\\n*   **Key Features to Look For:**\\n    *   **Adjustable Seat and Handlebars:** Essential for ensuring a proper fit and allowing the bike to grow with the child. Her feet should be able to touch the ground flat-footed when seated.\\n    *   **Lightweight Frame:** Easier for her to control and for parents to carry if she gets tired.\\n    *   **Durable Tires:** Air-filled (pneumatic) tires offer better traction and a smoother ride than foam/plastic tires, especially outdoors.\\n    *   **Footrests (Optional):** Some balance bikes have small footrests where children can place their feet once they've mastered gliding.\\n*   **Popular Brands:** Strider, Woom, Cruzee, Banwood, Joovy.\\n\\n### 2. Tricycles\\n\\n*   **What they are:** Three-wheeled bikes that offer a lot of stability.\\n*   **Why they're good for 3-year-olds:**\\n    *   **Stability:** They are very stable, which can be reassuring for hesitant riders.\\n    *   **Early Pedaling Practice:** They allow children to practice pedaling motions before they need to balance.\\n    *   **Often have Parent Push Handles:** Many tricycles for this age come with a handle that parents can use to push and steer, acting like a stroller for a while.\\n*   **Considerations:**\\n    *   **Doesn't Teach Balance:** The main drawback is that they don't help with balance, meaning a child will still need to learn that skill separately when transitioning to a two-wheeled pedal bike.\\n    *   **Can Be Cumbersome:** They can be heavier and less agile than balance bikes.\\n*   **Types:** Look for sturdy models. Some even convert from a push trike to a free-pedal trike.\\n\\n### 3. Bikes with Training Wheels (Less Common for 3-year-olds now)\\n\\n*   **What they are:** Traditional two-wheeled pedal bikes with two small wheels attached to the rear axle for stability.\\n*   **Why they *might* be considered:** Some parents prefer this traditional route.\\n*   **Considerations for a 3-year-old:**\\n    *   **Sizing:** Finding a pedal bike small enough for a 3-year-old can be challenging. A 12-inch wheel size is typically the smallest, and even that might be too large for some 3-year-olds. Her feet need to comfortably reach the pedals and the ground.\\n    *   **Doesn't Teach Balance Well:** Training wheels prop the bike up, preventing the child from learning to balance naturally. This often results in a wobbly, dependent ride.\\n    *   **Can Be Heavier:** Pedal bikes with training wheels are generally heavier than balance bikes.\\n    *   **Less Recommended:** Most experts and parents who have used balance bikes will recommend a balance bike first, as it makes the transition to a pedal bike much smoother and faster without training wheels.\\n\\n### Sizing for a 3-Year-Old\\n\\nThe most important measurement for a bike is the **inseam (crotch to floor)**, not the child's age or height.\\n\\n*   **For Balance Bikes:** When seated, her feet should be flat on the ground with a slight bend in the knee. This allows her to push off comfortably and quickly put her feet down.\\n*   **For Pedal Bikes (with or without training wheels):** When seated, her feet should be able to reach the pedals at their lowest point, and she should be able to touch the ground with her toes or balls of her feet.\\n\\n### Don't Forget Safety Gear!\\n\\nNo matter which bike you choose, a properly fitting **helmet** is absolutely essential. Make sure it meets safety standards (like CPSC in the US) and fits snugly.\\n\\n**Recommendation:**\\n\\nFor a 3-year-old, a **balance bike** is usually the top recommendation by far. It provides the foundational skills she'll need for riding a two-wheeled pedal bike later, builds confidence, and offers great physical activity. You'll likely find she masters it quickly and has a blast gliding around!\"}],\"role\":\"model\"},\"finish_reason\":\"STOP\",\"avg_logprobs\":-0.36963795943998956}],\"create_time\":\"2025-10-21T13:50:00.965487Z\",\"model_version\":\"gemini-2.5-flash\",\"response_id\":\"iI_3aO_2OqCH3NoPqZW5gAo\",\"usage_metadata\":{\"candidates_token_count\":1136,\"candidates_tokens_details\":[{\"modality\":\"TEXT\",\"token_count\":1136}],\"prompt_token_count\":950,\"prompt_tokens_details\":[{\"modality\":\"TEXT\",\"token_count\":950}],\"thoughts_token_count\":147,\"total_token_count\":2233,\"traffic_type\":\"ON_DEMAND\"},\"automatic_function_calling_history\":[]}\n",
            "-----------------------------------------------------------\n",
            "\n"
          ]
        },
        {
          "name": "stdout",
          "output_type": "stream",
          "text": [
            "Agent Response:  That's a fantastic idea! Bikes are wonderful for gross motor development, outdoor play, and building confidence. For a three-year-old, there are definitely age-appropriate options, and the most recommended one for this age is often a **balance bike**.\n",
            "\n",
            "Here's a breakdown of options suitable for a 3-year-old:\n",
            "\n",
            "### 1. Balance Bikes (Highly Recommended)\n",
            "\n",
            "*   **What they are:** Balance bikes are two-wheeled bikes without pedals. Children sit on the seat and propel themselves by pushing off the ground with their feet.\n",
            "*   **Why they're great for 3-year-olds:**\n",
            "    *   **Focus on Balance First:** This is their biggest advantage. Kids learn to balance and steer naturally without the added complexity of pedaling. This makes the transition to a pedal bike much easier later on, often skipping training wheels entirely.\n",
            "    *   **Develops Confidence:** Children feel more in control because their feet are always close to the ground.\n",
            "    *   **Gross Motor Skills:** Excellent for developing coordination, agility, and spatial awareness.\n",
            "    *   **Lightweight:** Most are designed to be light enough for a child to easily maneuver.\n",
            "*   **Key Features to Look For:**\n",
            "    *   **Adjustable Seat and Handlebars:** Essential for ensuring a proper fit and allowing the bike to grow with the child. Her feet should be able to touch the ground flat-footed when seated.\n",
            "    *   **Lightweight Frame:** Easier for her to control and for parents to carry if she gets tired.\n",
            "    *   **Durable Tires:** Air-filled (pneumatic) tires offer better traction and a smoother ride than foam/plastic tires, especially outdoors.\n",
            "    *   **Footrests (Optional):** Some balance bikes have small footrests where children can place their feet once they've mastered gliding.\n",
            "*   **Popular Brands:** Strider, Woom, Cruzee, Banwood, Joovy.\n",
            "\n",
            "### 2. Tricycles\n",
            "\n",
            "*   **What they are:** Three-wheeled bikes that offer a lot of stability.\n",
            "*   **Why they're good for 3-year-olds:**\n",
            "    *   **Stability:** They are very stable, which can be reassuring for hesitant riders.\n",
            "    *   **Early Pedaling Practice:** They allow children to practice pedaling motions before they need to balance.\n",
            "    *   **Often have Parent Push Handles:** Many tricycles for this age come with a handle that parents can use to push and steer, acting like a stroller for a while.\n",
            "*   **Considerations:**\n",
            "    *   **Doesn't Teach Balance:** The main drawback is that they don't help with balance, meaning a child will still need to learn that skill separately when transitioning to a two-wheeled pedal bike.\n",
            "    *   **Can Be Cumbersome:** They can be heavier and less agile than balance bikes.\n",
            "*   **Types:** Look for sturdy models. Some even convert from a push trike to a free-pedal trike.\n",
            "\n",
            "### 3. Bikes with Training Wheels (Less Common for 3-year-olds now)\n",
            "\n",
            "*   **What they are:** Traditional two-wheeled pedal bikes with two small wheels attached to the rear axle for stability.\n",
            "*   **Why they *might* be considered:** Some parents prefer this traditional route.\n",
            "*   **Considerations for a 3-year-old:**\n",
            "    *   **Sizing:** Finding a pedal bike small enough for a 3-year-old can be challenging. A 12-inch wheel size is typically the smallest, and even that might be too large for some 3-year-olds. Her feet need to comfortably reach the pedals and the ground.\n",
            "    *   **Doesn't Teach Balance Well:** Training wheels prop the bike up, preventing the child from learning to balance naturally. This often results in a wobbly, dependent ride.\n",
            "    *   **Can Be Heavier:** Pedal bikes with training wheels are generally heavier than balance bikes.\n",
            "    *   **Less Recommended:** Most experts and parents who have used balance bikes will recommend a balance bike first, as it makes the transition to a pedal bike much smoother and faster without training wheels.\n",
            "\n",
            "### Sizing for a 3-Year-Old\n",
            "\n",
            "The most important measurement for a bike is the **inseam (crotch to floor)**, not the child's age or height.\n",
            "\n",
            "*   **For Balance Bikes:** When seated, her feet should be flat on the ground with a slight bend in the knee. This allows her to push off comfortably and quickly put her feet down.\n",
            "*   **For Pedal Bikes (with or without training wheels):** When seated, her feet should be able to reach the pedals at their lowest point, and she should be able to touch the ground with her toes or balls of her feet.\n",
            "\n",
            "### Don't Forget Safety Gear!\n",
            "\n",
            "No matter which bike you choose, a properly fitting **helmet** is absolutely essential. Make sure it meets safety standards (like CPSC in the US) and fits snugly.\n",
            "\n",
            "**Recommendation:**\n",
            "\n",
            "For a 3-year-old, a **balance bike** is usually the top recommendation by far. It provides the foundational skills she'll need for riding a two-wheeled pedal bike later, builds confidence, and offers great physical activity. You'll likely find she masters it quickly and has a blast gliding around!\n"
          ]
        }
      ],
      "source": [
        "recommendations_session = await session_service.create_session(\n",
        "    app_name=APP_NAME, user_id=USER_ID\n",
        ")\n",
        "\n",
        "call_agent(\n",
        "    \"I have a three year old niece. What recommendations do you have for birthday presents?\",\n",
        "    recommendations_session.id,\n",
        "    user_id=USER_ID,\n",
        ")\n",
        "call_agent(\n",
        "    \"I like the idea of a bike. Are there any age appropriate options?\",\n",
        "    recommendations_session.id,\n",
        "    user_id=USER_ID,\n",
        ")\n",
        "\n",
        "recommendations_session = await session_service.get_session(\n",
        "    app_name=APP_NAME, user_id=USER_ID, session_id=recommendations_session.id\n",
        ")"
      ]
    },
    {
      "cell_type": "markdown",
      "metadata": {
        "id": "0-bWy4LlTjio"
      },
      "source": [
        "### InMemoryMemoryService\n",
        "\n",
        "First, let's see what memories are extracted from the conversation using `InMemoryMemoryService`\n",
        "\n",
        "The memories include the raw dialogue of the conversation."
      ]
    },
    {
      "cell_type": "code",
      "execution_count": null,
      "metadata": {
        "id": "D6PyuoF7_dz2"
      },
      "outputs": [],
      "source": [
        "await in_memory_service.add_session_to_memory(chit_chat_session)\n",
        "await in_memory_service.add_session_to_memory(recommendations_session)"
      ]
    },
    {
      "cell_type": "code",
      "execution_count": null,
      "metadata": {
        "colab": {
          "base_uri": "https://localhost:8080/"
        },
        "id": "IP1_NjgjTzO0",
        "outputId": "90d3a8f3-ef60-4582-e1ba-ad66ffc1e752"
      },
      "outputs": [
        {
          "data": {
            "text/plain": [
              "{'memory_example_app/My User': {'a09fd30b-0e56-4f85-96b8-7f42f820e79d': [Event(content=Content(\n",
              "     parts=[\n",
              "       Part(\n",
              "         text='what types of questions do you answer'\n",
              "       ),\n",
              "     ],\n",
              "     role='user'\n",
              "   ), grounding_metadata=None, partial=None, turn_complete=None, finish_reason=None, error_code=None, error_message=None, interrupted=None, custom_metadata=None, usage_metadata=None, live_session_resumption_update=None, input_transcription=None, output_transcription=None, avg_logprobs=None, logprobs_result=None, cache_metadata=None, citation_metadata=None, invocation_id='e-b86a23ce-6127-4824-8d50-e720e372b819', author='user', actions=EventActions(skip_summarization=None, state_delta={}, artifact_delta={}, transfer_to_agent=None, escalate=None, requested_auth_configs={}, requested_tool_confirmations={}, compaction=None, end_of_agent=None, agent_state=None), long_running_tool_ids=None, branch=None, id='57ea1b0f-d22c-49d1-9f7d-08c014a44e3c', timestamp=1761054429.426718),\n",
              "   Event(content=Content(\n",
              "     parts=[\n",
              "       Part(\n",
              "         text=\"\"\"As a general-purpose AI, I can answer a wide variety of questions across many domains. Here are some common types of questions I can help with:\n",
              "   \n",
              "   *   **Factual Questions:** \"What is the capital of France?\" or \"When was the internet invented?\"\n",
              "   *   **Definitional Questions:** \"What is quantum mechanics?\" or \"Define 'photosynthesis'.\"\n",
              "   *   **Explanatory Questions:** \"How does a car engine work?\" or \"Why do we have different seasons?\"\n",
              "   *   **Comparative Questions:** \"What are the differences between a democracy and a republic?\" or \"Compare Python and Java.\"\n",
              "   *   **Procedural/Instructional Questions:** \"How do I make a simple résumé?\" or \"What are the steps to bake a chocolate cake?\"\n",
              "   *   **Problem-Solving Questions (conceptual):** \"What are some strategies to improve time management?\" or \"Suggest ways to reduce plastic waste.\"\n",
              "   *   **Creative/Generative Questions:** \"Write a short story about a talking cat.\" or \"Generate some ideas for a new marketing campaign.\"\n",
              "   *   **Summarization Questions:** \"Summarize the main points of the theory of relativity.\"\n",
              "   *   **Opinion/Perspective (neutral, generalized):** \"What are some common arguments for and against renewable energy?\" (I don't have personal opinions, but can synthesize common viewpoints.)\n",
              "   *   **Hypothetical Scenarios:** \"What might happen if all the ice caps melted?\"\n",
              "   \n",
              "   Essentially, if it involves information retrieval, explanation, generation of text, or logical reasoning based on the vast amount of text data I was trained on, I can likely assist.\n",
              "   \n",
              "   However, I cannot:\n",
              "   \n",
              "   *   **Provide real-time information:** I don't have access to the internet in real-time, so I can't tell you the current weather, today's stock prices, or breaking news. My knowledge cutoff is typically a specific point in time.\n",
              "   *   **Perform actions in the real world:** I can't book flights, send emails, or control devices.\n",
              "   *   **Access personal or private information:** I don't know who you are, your location, or any personal details unless you provide them in the current conversation.\n",
              "   *   **Offer medical, legal, or financial advice:** I can provide general information, but it should not be taken as professional advice. Always consult a qualified professional for such matters.\n",
              "   *   **Express personal opinions or feelings:** I am an AI and do not have consciousness, emotions, or personal beliefs.\"\"\"\n",
              "       ),\n",
              "     ],\n",
              "     role='model'\n",
              "   ), grounding_metadata=None, partial=None, turn_complete=None, finish_reason=<FinishReason.STOP: 'STOP'>, error_code=None, error_message=None, interrupted=None, custom_metadata=None, usage_metadata=GenerateContentResponseUsageMetadata(\n",
              "     candidates_token_count=524,\n",
              "     candidates_tokens_details=[\n",
              "       ModalityTokenCount(\n",
              "         modality=<MediaModality.TEXT: 'TEXT'>,\n",
              "         token_count=524\n",
              "       ),\n",
              "     ],\n",
              "     prompt_token_count=30,\n",
              "     prompt_tokens_details=[\n",
              "       ModalityTokenCount(\n",
              "         modality=<MediaModality.TEXT: 'TEXT'>,\n",
              "         token_count=30\n",
              "       ),\n",
              "     ],\n",
              "     thoughts_token_count=61,\n",
              "     total_token_count=615,\n",
              "     traffic_type=<TrafficType.ON_DEMAND: 'ON_DEMAND'>\n",
              "   ), live_session_resumption_update=None, input_transcription=None, output_transcription=None, avg_logprobs=-0.3346721270612178, logprobs_result=None, cache_metadata=None, citation_metadata=None, invocation_id='e-b86a23ce-6127-4824-8d50-e720e372b819', author='Generic_QA_Agent', actions=EventActions(skip_summarization=None, state_delta={}, artifact_delta={}, transfer_to_agent=None, escalate=None, requested_auth_configs={}, requested_tool_confirmations={}, compaction=None, end_of_agent=None, agent_state=None), long_running_tool_ids=None, branch=None, id='d55ab7f0-7f86-499a-a37a-e89ae5d6ecc0', timestamp=1761054429.4281)],\n",
              "  'e06ac085-2d72-4869-854a-374dcf7f1923': [Event(content=Content(\n",
              "     parts=[\n",
              "       Part(\n",
              "         text='I have a three year old niece. What recommendations do you have for birthday presents?'\n",
              "       ),\n",
              "     ],\n",
              "     role='user'\n",
              "   ), grounding_metadata=None, partial=None, turn_complete=None, finish_reason=None, error_code=None, error_message=None, interrupted=None, custom_metadata=None, usage_metadata=None, live_session_resumption_update=None, input_transcription=None, output_transcription=None, avg_logprobs=None, logprobs_result=None, cache_metadata=None, citation_metadata=None, invocation_id='e-9a7b0bba-02da-45e4-8214-dfc6664144fe', author='user', actions=EventActions(skip_summarization=None, state_delta={}, artifact_delta={}, transfer_to_agent=None, escalate=None, requested_auth_configs={}, requested_tool_confirmations={}, compaction=None, end_of_agent=None, agent_state=None), long_running_tool_ids=None, branch=None, id='737a11f1-5aa0-4662-9309-f40006418ccd', timestamp=1761054581.284491),\n",
              "   Event(content=Content(\n",
              "     parts=[\n",
              "       Part(\n",
              "         text=\"\"\"That's a fun age to buy for! Three-year-olds are bursting with imagination, developing new skills rapidly, and becoming more independent. The best gifts encourage open-ended play, creativity, and learning.\n",
              "   \n",
              "   Here are some recommendations for your three-year-old niece, categorized to help you choose:\n",
              "   \n",
              "   **1. Creative & Art Supplies:**\n",
              "   \n",
              "   *   **Play-Doh Set:** Great for fine motor skills, imagination, and sensory play. Look for sets with tools like cutters, rollers, or simple extruders.\n",
              "   *   **Jumbo Crayons, Washable Markers, or Finger Paints:** Large sizes are easier for small hands to grasp. Washable is key for parents! Pair with a large pad of paper or a tabletop easel.\n",
              "   *   **Water Wow! Books (Melissa & Doug):** These are fantastic for mess-free \"painting\" with water. The colors magically appear and then disappear as it dries, so they can be used again and again.\n",
              "   *   **Simple Craft Kits:** Look for kits with large pieces, like sticker scenes, foam art, or chunky bead stringing sets (with adult supervision).\n",
              "   \n",
              "   **2. Imaginative & Pretend Play:**\n",
              "   \n",
              "   *   **Dress-Up Clothes:** A simple set of princess, superhero, doctor, chef, or animal costumes can spark hours of role-playing fun.\n",
              "   *   **Play Kitchen & Food:** A classic for a reason! Kids love to mimic adults. Look for wooden or sturdy plastic sets.\n",
              "   *   **Doll or Stuffed Animal with Accessories:** A baby doll with a small carrier, bottle, or extra outfit encourages nurturing play.\n",
              "   *   **Animal Figures or Vehicle Sets:** A collection of farm animals, zoo animals, construction vehicles, or trains allows for building imaginative worlds.\n",
              "   *   **Doctor Kit:** Helps kids understand and process visits to the doctor in a playful way.\n",
              "   \n",
              "   **3. Building & Construction:**\n",
              "   \n",
              "   *   **DUPLO Blocks (LEGO Duplo):** Larger than regular LEGOs, they are perfect for small hands to connect and disconnect, building towers, houses, and more.\n",
              "   *   **Mega Bloks:** Similar to DUPLO, these large, chunky blocks are easy to handle and encourage creative construction.\n",
              "   *   **Wooden Building Blocks:** Timeless and versatile, these blocks can be stacked, sorted, and used in countless ways.\n",
              "   \n",
              "   **4. Books & Educational Toys:**\n",
              "   \n",
              "   *   **Picture Books:** Three-year-olds enjoy engaging stories with colorful illustrations. Look for books with rhyming, lift-the-flaps, or interactive elements.\n",
              "   *   **Simple Puzzles:** Wooden knob puzzles (shapes, animals), chunky jigsaw puzzles (12-24 pieces), or floor puzzles are great for problem-solving and fine motor skills.\n",
              "   *   **Shape Sorters or Stacking Toys:** Reinforce basic concepts like shapes, colors, and sizes.\n",
              "   *   **Matching Games:** Simple \"memory\" or matching games with large, colorful cards.\n",
              "   \n",
              "   **5. Outdoor & Active Play:**\n",
              "   \n",
              "   *   **Tricycle or Balance Bike:** If she doesn't have one, a tricycle or a balance bike is excellent for gross motor development and getting outdoors.\n",
              "   *   **Ball Set:** A soft ball, a bouncy ball, or a set of different sized balls can provide endless fun.\n",
              "   *   **Bubble Machine or Giant Bubble Wand:** Who doesn't love bubbles?!\n",
              "   *   **Sand Toys:** If she has a sandbox or goes to the beach, a new set of buckets, shovels, and molds is always a hit.\n",
              "   \n",
              "   **General Tips:**\n",
              "   \n",
              "   *   **Consider her interests:** Does she love animals? Trucks? Princesses? Dinosaurs? Tailoring the gift to her current fascinations will make it a bigger hit.\n",
              "   *   **Ask the parents:** They know best what she already has, what she needs, and if there's anything they'd prefer to avoid (e.g., overly noisy toys).\n",
              "   *   **Durability & Safety:** Choose well-made toys that will withstand toddler play and are free from small parts that could be choking hazards.\n",
              "   *   **Open-Ended Play:** Toys that can be used in multiple ways and encourage imagination tend to have the longest shelf life.\n",
              "   \n",
              "   No matter what you choose, the thought and care you put into selecting a gift will surely be appreciated!\"\"\"\n",
              "       ),\n",
              "     ],\n",
              "     role='model'\n",
              "   ), grounding_metadata=None, partial=None, turn_complete=None, finish_reason=<FinishReason.STOP: 'STOP'>, error_code=None, error_message=None, interrupted=None, custom_metadata=None, usage_metadata=GenerateContentResponseUsageMetadata(\n",
              "     candidates_token_count=895,\n",
              "     candidates_tokens_details=[\n",
              "       ModalityTokenCount(\n",
              "         modality=<MediaModality.TEXT: 'TEXT'>,\n",
              "         token_count=895\n",
              "       ),\n",
              "     ],\n",
              "     prompt_token_count=40,\n",
              "     prompt_tokens_details=[\n",
              "       ModalityTokenCount(\n",
              "         modality=<MediaModality.TEXT: 'TEXT'>,\n",
              "         token_count=40\n",
              "       ),\n",
              "     ],\n",
              "     thoughts_token_count=1240,\n",
              "     total_token_count=2175,\n",
              "     traffic_type=<TrafficType.ON_DEMAND: 'ON_DEMAND'>\n",
              "   ), live_session_resumption_update=None, input_transcription=None, output_transcription=None, avg_logprobs=-0.7941808604661312, logprobs_result=None, cache_metadata=None, citation_metadata=None, invocation_id='e-9a7b0bba-02da-45e4-8214-dfc6664144fe', author='Generic_QA_Agent', actions=EventActions(skip_summarization=None, state_delta={}, artifact_delta={}, transfer_to_agent=None, escalate=None, requested_auth_configs={}, requested_tool_confirmations={}, compaction=None, end_of_agent=None, agent_state=None), long_running_tool_ids=None, branch=None, id='941764a7-c196-47d1-a7da-39977cc2e0c5', timestamp=1761054581.285307),\n",
              "   Event(content=Content(\n",
              "     parts=[\n",
              "       Part(\n",
              "         text='I like the idea of a bike. Are there any age appropriate options?'\n",
              "       ),\n",
              "     ],\n",
              "     role='user'\n",
              "   ), grounding_metadata=None, partial=None, turn_complete=None, finish_reason=None, error_code=None, error_message=None, interrupted=None, custom_metadata=None, usage_metadata=None, live_session_resumption_update=None, input_transcription=None, output_transcription=None, avg_logprobs=None, logprobs_result=None, cache_metadata=None, citation_metadata=None, invocation_id='e-aeab27ae-a642-4dd5-a663-dcf535f5ee41', author='user', actions=EventActions(skip_summarization=None, state_delta={}, artifact_delta={}, transfer_to_agent=None, escalate=None, requested_auth_configs={}, requested_tool_confirmations={}, compaction=None, end_of_agent=None, agent_state=None), long_running_tool_ids=None, branch=None, id='19a1662d-2868-42a0-9d2c-074dce7a1d9b', timestamp=1761054598.929388),\n",
              "   Event(content=Content(\n",
              "     parts=[\n",
              "       Part(\n",
              "         text=\"\"\"That's a fantastic idea! Bikes are wonderful for gross motor development, outdoor play, and building confidence. For a three-year-old, there are definitely age-appropriate options, and the most recommended one for this age is often a **balance bike**.\n",
              "   \n",
              "   Here's a breakdown of options suitable for a 3-year-old:\n",
              "   \n",
              "   ### 1. Balance Bikes (Highly Recommended)\n",
              "   \n",
              "   *   **What they are:** Balance bikes are two-wheeled bikes without pedals. Children sit on the seat and propel themselves by pushing off the ground with their feet.\n",
              "   *   **Why they're great for 3-year-olds:**\n",
              "       *   **Focus on Balance First:** This is their biggest advantage. Kids learn to balance and steer naturally without the added complexity of pedaling. This makes the transition to a pedal bike much easier later on, often skipping training wheels entirely.\n",
              "       *   **Develops Confidence:** Children feel more in control because their feet are always close to the ground.\n",
              "       *   **Gross Motor Skills:** Excellent for developing coordination, agility, and spatial awareness.\n",
              "       *   **Lightweight:** Most are designed to be light enough for a child to easily maneuver.\n",
              "   *   **Key Features to Look For:**\n",
              "       *   **Adjustable Seat and Handlebars:** Essential for ensuring a proper fit and allowing the bike to grow with the child. Her feet should be able to touch the ground flat-footed when seated.\n",
              "       *   **Lightweight Frame:** Easier for her to control and for parents to carry if she gets tired.\n",
              "       *   **Durable Tires:** Air-filled (pneumatic) tires offer better traction and a smoother ride than foam/plastic tires, especially outdoors.\n",
              "       *   **Footrests (Optional):** Some balance bikes have small footrests where children can place their feet once they've mastered gliding.\n",
              "   *   **Popular Brands:** Strider, Woom, Cruzee, Banwood, Joovy.\n",
              "   \n",
              "   ### 2. Tricycles\n",
              "   \n",
              "   *   **What they are:** Three-wheeled bikes that offer a lot of stability.\n",
              "   *   **Why they're good for 3-year-olds:**\n",
              "       *   **Stability:** They are very stable, which can be reassuring for hesitant riders.\n",
              "       *   **Early Pedaling Practice:** They allow children to practice pedaling motions before they need to balance.\n",
              "       *   **Often have Parent Push Handles:** Many tricycles for this age come with a handle that parents can use to push and steer, acting like a stroller for a while.\n",
              "   *   **Considerations:**\n",
              "       *   **Doesn't Teach Balance:** The main drawback is that they don't help with balance, meaning a child will still need to learn that skill separately when transitioning to a two-wheeled pedal bike.\n",
              "       *   **Can Be Cumbersome:** They can be heavier and less agile than balance bikes.\n",
              "   *   **Types:** Look for sturdy models. Some even convert from a push trike to a free-pedal trike.\n",
              "   \n",
              "   ### 3. Bikes with Training Wheels (Less Common for 3-year-olds now)\n",
              "   \n",
              "   *   **What they are:** Traditional two-wheeled pedal bikes with two small wheels attached to the rear axle for stability.\n",
              "   *   **Why they *might* be considered:** Some parents prefer this traditional route.\n",
              "   *   **Considerations for a 3-year-old:**\n",
              "       *   **Sizing:** Finding a pedal bike small enough for a 3-year-old can be challenging. A 12-inch wheel size is typically the smallest, and even that might be too large for some 3-year-olds. Her feet need to comfortably reach the pedals and the ground.\n",
              "       *   **Doesn't Teach Balance Well:** Training wheels prop the bike up, preventing the child from learning to balance naturally. This often results in a wobbly, dependent ride.\n",
              "       *   **Can Be Heavier:** Pedal bikes with training wheels are generally heavier than balance bikes.\n",
              "       *   **Less Recommended:** Most experts and parents who have used balance bikes will recommend a balance bike first, as it makes the transition to a pedal bike much smoother and faster without training wheels.\n",
              "   \n",
              "   ### Sizing for a 3-Year-Old\n",
              "   \n",
              "   The most important measurement for a bike is the **inseam (crotch to floor)**, not the child's age or height.\n",
              "   \n",
              "   *   **For Balance Bikes:** When seated, her feet should be flat on the ground with a slight bend in the knee. This allows her to push off comfortably and quickly put her feet down.\n",
              "   *   **For Pedal Bikes (with or without training wheels):** When seated, her feet should be able to reach the pedals at their lowest point, and she should be able to touch the ground with her toes or balls of her feet.\n",
              "   \n",
              "   ### Don't Forget Safety Gear!\n",
              "   \n",
              "   No matter which bike you choose, a properly fitting **helmet** is absolutely essential. Make sure it meets safety standards (like CPSC in the US) and fits snugly.\n",
              "   \n",
              "   **Recommendation:**\n",
              "   \n",
              "   For a 3-year-old, a **balance bike** is usually the top recommendation by far. It provides the foundational skills she'll need for riding a two-wheeled pedal bike later, builds confidence, and offers great physical activity. You'll likely find she masters it quickly and has a blast gliding around!\"\"\"\n",
              "       ),\n",
              "     ],\n",
              "     role='model'\n",
              "   ), grounding_metadata=None, partial=None, turn_complete=None, finish_reason=<FinishReason.STOP: 'STOP'>, error_code=None, error_message=None, interrupted=None, custom_metadata=None, usage_metadata=GenerateContentResponseUsageMetadata(\n",
              "     candidates_token_count=1136,\n",
              "     candidates_tokens_details=[\n",
              "       ModalityTokenCount(\n",
              "         modality=<MediaModality.TEXT: 'TEXT'>,\n",
              "         token_count=1136\n",
              "       ),\n",
              "     ],\n",
              "     prompt_token_count=950,\n",
              "     prompt_tokens_details=[\n",
              "       ModalityTokenCount(\n",
              "         modality=<MediaModality.TEXT: 'TEXT'>,\n",
              "         token_count=950\n",
              "       ),\n",
              "     ],\n",
              "     thoughts_token_count=147,\n",
              "     total_token_count=2233,\n",
              "     traffic_type=<TrafficType.ON_DEMAND: 'ON_DEMAND'>\n",
              "   ), live_session_resumption_update=None, input_transcription=None, output_transcription=None, avg_logprobs=-0.36963795943998956, logprobs_result=None, cache_metadata=None, citation_metadata=None, invocation_id='e-aeab27ae-a642-4dd5-a663-dcf535f5ee41', author='Generic_QA_Agent', actions=EventActions(skip_summarization=None, state_delta={}, artifact_delta={}, transfer_to_agent=None, escalate=None, requested_auth_configs={}, requested_tool_confirmations={}, compaction=None, end_of_agent=None, agent_state=None), long_running_tool_ids=None, branch=None, id='84872a55-bd3b-4c6a-9bf2-73ab63c04fb7', timestamp=1761054598.930006)]}}"
            ]
          },
          "execution_count": 11,
          "metadata": {},
          "output_type": "execute_result"
        }
      ],
      "source": [
        "# Peek at the memories.\n",
        "in_memory_service._session_events"
      ]
    },
    {
      "cell_type": "code",
      "execution_count": null,
      "metadata": {
        "colab": {
          "base_uri": "https://localhost:8080/"
        },
        "id": "ZY1cRqfi_4Qz",
        "outputId": "8c202359-7165-4a72-a1cc-e177cb567b83"
      },
      "outputs": [
        {
          "data": {
            "text/plain": [
              "SearchMemoryResponse(memories=[])"
            ]
          },
          "execution_count": 12,
          "metadata": {},
          "output_type": "execute_result"
        }
      ],
      "source": [
        "await in_memory_service.search_memory(app_name=APP_NAME, user_id=USER_ID, query=\"test\")"
      ]
    },
    {
      "cell_type": "code",
      "execution_count": null,
      "metadata": {
        "colab": {
          "base_uri": "https://localhost:8080/"
        },
        "id": "wV2OziabBVt5",
        "outputId": "d20c2d18-f940-4b41-b3d0-ef805977caa0"
      },
      "outputs": [
        {
          "data": {
            "text/plain": [
              "SearchMemoryResponse(memories=[MemoryEntry(content=Content(\n",
              "  parts=[\n",
              "    Part(\n",
              "      text='what types of questions do you answer'\n",
              "    ),\n",
              "  ],\n",
              "  role='user'\n",
              "), author='user', timestamp='2025-10-21T13:47:09.426718'), MemoryEntry(content=Content(\n",
              "  parts=[\n",
              "    Part(\n",
              "      text=\"\"\"As a general-purpose AI, I can answer a wide variety of questions across many domains. Here are some common types of questions I can help with:\n",
              "\n",
              "*   **Factual Questions:** \"What is the capital of France?\" or \"When was the internet invented?\"\n",
              "*   **Definitional Questions:** \"What is quantum mechanics?\" or \"Define 'photosynthesis'.\"\n",
              "*   **Explanatory Questions:** \"How does a car engine work?\" or \"Why do we have different seasons?\"\n",
              "*   **Comparative Questions:** \"What are the differences between a democracy and a republic?\" or \"Compare Python and Java.\"\n",
              "*   **Procedural/Instructional Questions:** \"How do I make a simple résumé?\" or \"What are the steps to bake a chocolate cake?\"\n",
              "*   **Problem-Solving Questions (conceptual):** \"What are some strategies to improve time management?\" or \"Suggest ways to reduce plastic waste.\"\n",
              "*   **Creative/Generative Questions:** \"Write a short story about a talking cat.\" or \"Generate some ideas for a new marketing campaign.\"\n",
              "*   **Summarization Questions:** \"Summarize the main points of the theory of relativity.\"\n",
              "*   **Opinion/Perspective (neutral, generalized):** \"What are some common arguments for and against renewable energy?\" (I don't have personal opinions, but can synthesize common viewpoints.)\n",
              "*   **Hypothetical Scenarios:** \"What might happen if all the ice caps melted?\"\n",
              "\n",
              "Essentially, if it involves information retrieval, explanation, generation of text, or logical reasoning based on the vast amount of text data I was trained on, I can likely assist.\n",
              "\n",
              "However, I cannot:\n",
              "\n",
              "*   **Provide real-time information:** I don't have access to the internet in real-time, so I can't tell you the current weather, today's stock prices, or breaking news. My knowledge cutoff is typically a specific point in time.\n",
              "*   **Perform actions in the real world:** I can't book flights, send emails, or control devices.\n",
              "*   **Access personal or private information:** I don't know who you are, your location, or any personal details unless you provide them in the current conversation.\n",
              "*   **Offer medical, legal, or financial advice:** I can provide general information, but it should not be taken as professional advice. Always consult a qualified professional for such matters.\n",
              "*   **Express personal opinions or feelings:** I am an AI and do not have consciousness, emotions, or personal beliefs.\"\"\"\n",
              "    ),\n",
              "  ],\n",
              "  role='model'\n",
              "), author='Generic_QA_Agent', timestamp='2025-10-21T13:47:09.428100'), MemoryEntry(content=Content(\n",
              "  parts=[\n",
              "    Part(\n",
              "      text='I have a three year old niece. What recommendations do you have for birthday presents?'\n",
              "    ),\n",
              "  ],\n",
              "  role='user'\n",
              "), author='user', timestamp='2025-10-21T13:49:41.284491'), MemoryEntry(content=Content(\n",
              "  parts=[\n",
              "    Part(\n",
              "      text=\"\"\"That's a fun age to buy for! Three-year-olds are bursting with imagination, developing new skills rapidly, and becoming more independent. The best gifts encourage open-ended play, creativity, and learning.\n",
              "\n",
              "Here are some recommendations for your three-year-old niece, categorized to help you choose:\n",
              "\n",
              "**1. Creative & Art Supplies:**\n",
              "\n",
              "*   **Play-Doh Set:** Great for fine motor skills, imagination, and sensory play. Look for sets with tools like cutters, rollers, or simple extruders.\n",
              "*   **Jumbo Crayons, Washable Markers, or Finger Paints:** Large sizes are easier for small hands to grasp. Washable is key for parents! Pair with a large pad of paper or a tabletop easel.\n",
              "*   **Water Wow! Books (Melissa & Doug):** These are fantastic for mess-free \"painting\" with water. The colors magically appear and then disappear as it dries, so they can be used again and again.\n",
              "*   **Simple Craft Kits:** Look for kits with large pieces, like sticker scenes, foam art, or chunky bead stringing sets (with adult supervision).\n",
              "\n",
              "**2. Imaginative & Pretend Play:**\n",
              "\n",
              "*   **Dress-Up Clothes:** A simple set of princess, superhero, doctor, chef, or animal costumes can spark hours of role-playing fun.\n",
              "*   **Play Kitchen & Food:** A classic for a reason! Kids love to mimic adults. Look for wooden or sturdy plastic sets.\n",
              "*   **Doll or Stuffed Animal with Accessories:** A baby doll with a small carrier, bottle, or extra outfit encourages nurturing play.\n",
              "*   **Animal Figures or Vehicle Sets:** A collection of farm animals, zoo animals, construction vehicles, or trains allows for building imaginative worlds.\n",
              "*   **Doctor Kit:** Helps kids understand and process visits to the doctor in a playful way.\n",
              "\n",
              "**3. Building & Construction:**\n",
              "\n",
              "*   **DUPLO Blocks (LEGO Duplo):** Larger than regular LEGOs, they are perfect for small hands to connect and disconnect, building towers, houses, and more.\n",
              "*   **Mega Bloks:** Similar to DUPLO, these large, chunky blocks are easy to handle and encourage creative construction.\n",
              "*   **Wooden Building Blocks:** Timeless and versatile, these blocks can be stacked, sorted, and used in countless ways.\n",
              "\n",
              "**4. Books & Educational Toys:**\n",
              "\n",
              "*   **Picture Books:** Three-year-olds enjoy engaging stories with colorful illustrations. Look for books with rhyming, lift-the-flaps, or interactive elements.\n",
              "*   **Simple Puzzles:** Wooden knob puzzles (shapes, animals), chunky jigsaw puzzles (12-24 pieces), or floor puzzles are great for problem-solving and fine motor skills.\n",
              "*   **Shape Sorters or Stacking Toys:** Reinforce basic concepts like shapes, colors, and sizes.\n",
              "*   **Matching Games:** Simple \"memory\" or matching games with large, colorful cards.\n",
              "\n",
              "**5. Outdoor & Active Play:**\n",
              "\n",
              "*   **Tricycle or Balance Bike:** If she doesn't have one, a tricycle or a balance bike is excellent for gross motor development and getting outdoors.\n",
              "*   **Ball Set:** A soft ball, a bouncy ball, or a set of different sized balls can provide endless fun.\n",
              "*   **Bubble Machine or Giant Bubble Wand:** Who doesn't love bubbles?!\n",
              "*   **Sand Toys:** If she has a sandbox or goes to the beach, a new set of buckets, shovels, and molds is always a hit.\n",
              "\n",
              "**General Tips:**\n",
              "\n",
              "*   **Consider her interests:** Does she love animals? Trucks? Princesses? Dinosaurs? Tailoring the gift to her current fascinations will make it a bigger hit.\n",
              "*   **Ask the parents:** They know best what she already has, what she needs, and if there's anything they'd prefer to avoid (e.g., overly noisy toys).\n",
              "*   **Durability & Safety:** Choose well-made toys that will withstand toddler play and are free from small parts that could be choking hazards.\n",
              "*   **Open-Ended Play:** Toys that can be used in multiple ways and encourage imagination tend to have the longest shelf life.\n",
              "\n",
              "No matter what you choose, the thought and care you put into selecting a gift will surely be appreciated!\"\"\"\n",
              "    ),\n",
              "  ],\n",
              "  role='model'\n",
              "), author='Generic_QA_Agent', timestamp='2025-10-21T13:49:41.285307'), MemoryEntry(content=Content(\n",
              "  parts=[\n",
              "    Part(\n",
              "      text='I like the idea of a bike. Are there any age appropriate options?'\n",
              "    ),\n",
              "  ],\n",
              "  role='user'\n",
              "), author='user', timestamp='2025-10-21T13:49:58.929388'), MemoryEntry(content=Content(\n",
              "  parts=[\n",
              "    Part(\n",
              "      text=\"\"\"That's a fantastic idea! Bikes are wonderful for gross motor development, outdoor play, and building confidence. For a three-year-old, there are definitely age-appropriate options, and the most recommended one for this age is often a **balance bike**.\n",
              "\n",
              "Here's a breakdown of options suitable for a 3-year-old:\n",
              "\n",
              "### 1. Balance Bikes (Highly Recommended)\n",
              "\n",
              "*   **What they are:** Balance bikes are two-wheeled bikes without pedals. Children sit on the seat and propel themselves by pushing off the ground with their feet.\n",
              "*   **Why they're great for 3-year-olds:**\n",
              "    *   **Focus on Balance First:** This is their biggest advantage. Kids learn to balance and steer naturally without the added complexity of pedaling. This makes the transition to a pedal bike much easier later on, often skipping training wheels entirely.\n",
              "    *   **Develops Confidence:** Children feel more in control because their feet are always close to the ground.\n",
              "    *   **Gross Motor Skills:** Excellent for developing coordination, agility, and spatial awareness.\n",
              "    *   **Lightweight:** Most are designed to be light enough for a child to easily maneuver.\n",
              "*   **Key Features to Look For:**\n",
              "    *   **Adjustable Seat and Handlebars:** Essential for ensuring a proper fit and allowing the bike to grow with the child. Her feet should be able to touch the ground flat-footed when seated.\n",
              "    *   **Lightweight Frame:** Easier for her to control and for parents to carry if she gets tired.\n",
              "    *   **Durable Tires:** Air-filled (pneumatic) tires offer better traction and a smoother ride than foam/plastic tires, especially outdoors.\n",
              "    *   **Footrests (Optional):** Some balance bikes have small footrests where children can place their feet once they've mastered gliding.\n",
              "*   **Popular Brands:** Strider, Woom, Cruzee, Banwood, Joovy.\n",
              "\n",
              "### 2. Tricycles\n",
              "\n",
              "*   **What they are:** Three-wheeled bikes that offer a lot of stability.\n",
              "*   **Why they're good for 3-year-olds:**\n",
              "    *   **Stability:** They are very stable, which can be reassuring for hesitant riders.\n",
              "    *   **Early Pedaling Practice:** They allow children to practice pedaling motions before they need to balance.\n",
              "    *   **Often have Parent Push Handles:** Many tricycles for this age come with a handle that parents can use to push and steer, acting like a stroller for a while.\n",
              "*   **Considerations:**\n",
              "    *   **Doesn't Teach Balance:** The main drawback is that they don't help with balance, meaning a child will still need to learn that skill separately when transitioning to a two-wheeled pedal bike.\n",
              "    *   **Can Be Cumbersome:** They can be heavier and less agile than balance bikes.\n",
              "*   **Types:** Look for sturdy models. Some even convert from a push trike to a free-pedal trike.\n",
              "\n",
              "### 3. Bikes with Training Wheels (Less Common for 3-year-olds now)\n",
              "\n",
              "*   **What they are:** Traditional two-wheeled pedal bikes with two small wheels attached to the rear axle for stability.\n",
              "*   **Why they *might* be considered:** Some parents prefer this traditional route.\n",
              "*   **Considerations for a 3-year-old:**\n",
              "    *   **Sizing:** Finding a pedal bike small enough for a 3-year-old can be challenging. A 12-inch wheel size is typically the smallest, and even that might be too large for some 3-year-olds. Her feet need to comfortably reach the pedals and the ground.\n",
              "    *   **Doesn't Teach Balance Well:** Training wheels prop the bike up, preventing the child from learning to balance naturally. This often results in a wobbly, dependent ride.\n",
              "    *   **Can Be Heavier:** Pedal bikes with training wheels are generally heavier than balance bikes.\n",
              "    *   **Less Recommended:** Most experts and parents who have used balance bikes will recommend a balance bike first, as it makes the transition to a pedal bike much smoother and faster without training wheels.\n",
              "\n",
              "### Sizing for a 3-Year-Old\n",
              "\n",
              "The most important measurement for a bike is the **inseam (crotch to floor)**, not the child's age or height.\n",
              "\n",
              "*   **For Balance Bikes:** When seated, her feet should be flat on the ground with a slight bend in the knee. This allows her to push off comfortably and quickly put her feet down.\n",
              "*   **For Pedal Bikes (with or without training wheels):** When seated, her feet should be able to reach the pedals at their lowest point, and she should be able to touch the ground with her toes or balls of her feet.\n",
              "\n",
              "### Don't Forget Safety Gear!\n",
              "\n",
              "No matter which bike you choose, a properly fitting **helmet** is absolutely essential. Make sure it meets safety standards (like CPSC in the US) and fits snugly.\n",
              "\n",
              "**Recommendation:**\n",
              "\n",
              "For a 3-year-old, a **balance bike** is usually the top recommendation by far. It provides the foundational skills she'll need for riding a two-wheeled pedal bike later, builds confidence, and offers great physical activity. You'll likely find she masters it quickly and has a blast gliding around!\"\"\"\n",
              "    ),\n",
              "  ],\n",
              "  role='model'\n",
              "), author='Generic_QA_Agent', timestamp='2025-10-21T13:49:58.930006')])"
            ]
          },
          "execution_count": 13,
          "metadata": {},
          "output_type": "execute_result"
        }
      ],
      "source": [
        "await in_memory_service.search_memory(\n",
        "    app_name=APP_NAME,\n",
        "    user_id=USER_ID,\n",
        "    query=\"what should I get my mom for mother's day\",\n",
        ")"
      ]
    },
    {
      "cell_type": "markdown",
      "metadata": {
        "id": "j8d9R6NMUgyw"
      },
      "source": [
        "### Memory Bank via `VertexAiMemoryBankService`\n",
        "\n",
        "Now, let's use Memory Bank to generate and store memories. Unlike `InMemoryMemoryService`, only content that's meaningful interactions will be persisted. If there's no meaningful content, the `add_session_to_memory` call will be a no-op; memories are not generated.\n",
        "\n",
        "Memory generation happens in the background. It's a non-blocking operation, so `add_session_to_memory` may complete before memories are actually generated in the background. If you want memory generation to be a blocking operation, use the Agent Engine SDK:\n",
        "\n",
        "```\n",
        "client.agent_engines.memories.generate(\n",
        "    ...,\n",
        "    config={\n",
        "        # Default value is True.\n",
        "        \"wait_for_completion\": True\n",
        "    }\n",
        ")\n",
        "```\n",
        "\n",
        "There are two key operations that Memory Bank performs under-the-hood with memory generation:\n",
        "\n",
        "* **Extraction**: Extracts information about the user from their conversations with the agent. Only information that matches at least one of your instance's memory topics will be persisted.\n",
        "* **Consolidation**: Identifies if existing memories with the same scope should be deleted or updated based on the extracted information. Memory Bank checks that new memories are not duplicative or contradictory before merging them with existing memories. If existing memories don't overlap with the new information, a new memory will be created."
      ]
    },
    {
      "cell_type": "markdown",
      "metadata": {
        "id": "HzYBHoUNSZKn"
      },
      "source": [
        "#### ADK `add_session_to_memory`"
      ]
    },
    {
      "cell_type": "code",
      "execution_count": null,
      "metadata": {
        "colab": {
          "base_uri": "https://localhost:8080/"
        },
        "id": "ytzu349cBdW6",
        "outputId": "5edaf7a8-ac78-4963-fd65-6333fea0d5f3"
      },
      "outputs": [
        {
          "name": "stderr",
          "output_type": "stream",
          "text": [
            "INFO:google_adk.google.adk.memory.vertex_ai_memory_bank_service:Generate memory response received.\n",
            "DEBUG:google_adk.google.adk.memory.vertex_ai_memory_bank_service:Generate memory response: name='projects/437300234315/locations/us-central1/reasoningEngines/283924688617340928/operations/6122942571594383360' metadata={'@type': 'type.googleapis.com/google.cloud.aiplatform.v1beta1.GenerateMemoriesOperationMetadata', 'genericMetadata': {'createTime': '2025-10-21T14:00:46.134926Z', 'updateTime': '2025-10-21T14:00:46.134926Z'}} done=None error=None response=None\n",
            "INFO:google_adk.google.adk.memory.vertex_ai_memory_bank_service:Generate memory response received.\n",
            "DEBUG:google_adk.google.adk.memory.vertex_ai_memory_bank_service:Generate memory response: name='projects/437300234315/locations/us-central1/reasoningEngines/283924688617340928/operations/2811670945570226176' metadata={'@type': 'type.googleapis.com/google.cloud.aiplatform.v1beta1.GenerateMemoriesOperationMetadata', 'genericMetadata': {'createTime': '2025-10-21T14:00:48.301077Z', 'updateTime': '2025-10-21T14:00:48.301077Z'}} done=None error=None response=None\n"
          ]
        }
      ],
      "source": [
        "await memory_bank_service.add_session_to_memory(chit_chat_session)\n",
        "await memory_bank_service.add_session_to_memory(recommendations_session)"
      ]
    },
    {
      "cell_type": "markdown",
      "metadata": {
        "id": "E3ihzck53quZ"
      },
      "source": [
        "If you run this immediately after `add_session_to_memory`, there may be no memories printed. `add_session_to_memory` is a non-blocking function and memory generation can take a few seconds to run."
      ]
    },
    {
      "cell_type": "code",
      "execution_count": null,
      "metadata": {
        "colab": {
          "base_uri": "https://localhost:8080/"
        },
        "id": "3emdHmGhBtMd",
        "outputId": "bde88cb0-311a-4e4f-f2b0-5f39428e0d36"
      },
      "outputs": [
        {
          "name": "stderr",
          "output_type": "stream",
          "text": [
            "INFO:google_adk.google.adk.memory.vertex_ai_memory_bank_service:Search memory response received.\n",
            "DEBUG:google_adk.google.adk.memory.vertex_ai_memory_bank_service:Retrieved memory: distance=1.0117469695290702 memory=Memory(\n",
            "  create_time=datetime.datetime(2025, 10, 21, 13, 54, 55, 860546, tzinfo=TzInfo(UTC)),\n",
            "  fact='I like the idea of giving my three-year-old niece a bike for her birthday, and I am looking for age-appropriate options.',\n",
            "  name='projects/437300234315/locations/us-central1/reasoningEngines/283924688617340928/memories/4467337184130629632',\n",
            "  scope={\n",
            "    'app_name': 'memory_example_app',\n",
            "    'user_id': 'My User'\n",
            "  },\n",
            "  update_time=datetime.datetime(2025, 10, 21, 14, 0, 56, 83753, tzinfo=TzInfo(UTC))\n",
            ")\n",
            "DEBUG:google_adk.google.adk.memory.vertex_ai_memory_bank_service:Retrieved memory: distance=1.0594453096266772 memory=Memory(\n",
            "  create_time=datetime.datetime(2025, 10, 21, 13, 54, 55, 859611, tzinfo=TzInfo(UTC)),\n",
            "  fact='I have a three-year-old niece.',\n",
            "  name='projects/437300234315/locations/us-central1/reasoningEngines/283924688617340928/memories/6773180193344323584',\n",
            "  scope={\n",
            "    'app_name': 'memory_example_app',\n",
            "    'user_id': 'My User'\n",
            "  },\n",
            "  update_time=datetime.datetime(2025, 10, 21, 14, 0, 56, 83625, tzinfo=TzInfo(UTC))\n",
            ")\n"
          ]
        },
        {
          "data": {
            "text/plain": [
              "SearchMemoryResponse(memories=[MemoryEntry(content=Content(\n",
              "  parts=[\n",
              "    Part(\n",
              "      text='I like the idea of giving my three-year-old niece a bike for her birthday, and I am looking for age-appropriate options.'\n",
              "    ),\n",
              "  ],\n",
              "  role='user'\n",
              "), author='user', timestamp='2025-10-21T14:00:56.083753+00:00'), MemoryEntry(content=Content(\n",
              "  parts=[\n",
              "    Part(\n",
              "      text='I have a three-year-old niece.'\n",
              "    ),\n",
              "  ],\n",
              "  role='user'\n",
              "), author='user', timestamp='2025-10-21T14:00:56.083625+00:00')])"
            ]
          },
          "execution_count": 18,
          "metadata": {},
          "output_type": "execute_result"
        }
      ],
      "source": [
        "await memory_bank_service.search_memory(\n",
        "    app_name=APP_NAME,\n",
        "    user_id=USER_ID,\n",
        "    query=\"What should I get my mom for mother's day\",\n",
        ")"
      ]
    },
    {
      "cell_type": "markdown",
      "metadata": {
        "id": "DtdqszuOUyJ0"
      },
      "source": [
        "#### Agent Engine SDK `GenerateMemories`\n",
        "\n",
        "If I want to interact directly with Memory Bank, I can use the Agent Engine SDK. For example, I can use [`RetrieveMemories`](https://cloud.google.com/vertex-ai/generative-ai/docs/agent-engine/memory-bank/fetch-memories#scope-based) to retrieve my memories with or without similarity search.\n",
        "\n",
        "Memories are isolated by their `scope`, which is an arbitrary dictionary. `VertexAiMemoryBankService` uses the scope keys `app_name` and `user_id`. `app_name` is set by your Runner, and `user_id` is set when creating your `Session`."
      ]
    },
    {
      "cell_type": "code",
      "execution_count": null,
      "metadata": {
        "colab": {
          "base_uri": "https://localhost:8080/"
        },
        "id": "xXxDASPUG3OK",
        "outputId": "7a6f2830-5aa2-4e46-8e01-ff91d10d25cb"
      },
      "outputs": [
        {
          "data": {
            "text/plain": [
              "[RetrieveMemoriesResponseRetrievedMemory(\n",
              "   memory=Memory(\n",
              "     create_time=datetime.datetime(2025, 10, 21, 13, 54, 55, 859611, tzinfo=TzInfo(UTC)),\n",
              "     fact='I have a three-year-old niece.',\n",
              "     name='projects/437300234315/locations/us-central1/reasoningEngines/283924688617340928/memories/6773180193344323584',\n",
              "     scope={\n",
              "       'app_name': 'memory_example_app',\n",
              "       'user_id': 'My User'\n",
              "     },\n",
              "     update_time=datetime.datetime(2025, 10, 21, 14, 0, 56, 83625, tzinfo=TzInfo(UTC))\n",
              "   )\n",
              " ),\n",
              " RetrieveMemoriesResponseRetrievedMemory(\n",
              "   memory=Memory(\n",
              "     create_time=datetime.datetime(2025, 10, 21, 13, 54, 55, 860546, tzinfo=TzInfo(UTC)),\n",
              "     fact='I like the idea of giving my three-year-old niece a bike for her birthday, and I am looking for age-appropriate options.',\n",
              "     name='projects/437300234315/locations/us-central1/reasoningEngines/283924688617340928/memories/4467337184130629632',\n",
              "     scope={\n",
              "       'app_name': 'memory_example_app',\n",
              "       'user_id': 'My User'\n",
              "     },\n",
              "     update_time=datetime.datetime(2025, 10, 21, 14, 0, 56, 83753, tzinfo=TzInfo(UTC))\n",
              "   )\n",
              " )]"
            ]
          },
          "execution_count": 22,
          "metadata": {},
          "output_type": "execute_result"
        }
      ],
      "source": [
        "response = client.agent_engines.memories.retrieve(\n",
        "    name=agent_engine.api_resource.name,\n",
        "    scope={\"app_name\": APP_NAME,\n",
        "           \"user_id\": USER_ID},\n",
        ")\n",
        "list(response)"
      ]
    },
    {
      "cell_type": "markdown",
      "metadata": {
        "id": "E-KVnoBHV1G5"
      },
      "source": [
        "You can also use `Retrievememories` to retrieve memories using similarity search."
      ]
    },
    {
      "cell_type": "code",
      "execution_count": null,
      "metadata": {
        "colab": {
          "base_uri": "https://localhost:8080/"
        },
        "id": "uwH2UgOZVs36",
        "outputId": "eed066a0-99d5-4a97-9165-338eaf60dff0"
      },
      "outputs": [
        {
          "data": {
            "text/plain": [
              "[RetrieveMemoriesResponseRetrievedMemory(\n",
              "   distance=0.7347648884243799,\n",
              "   memory=Memory(\n",
              "     create_time=datetime.datetime(2025, 10, 21, 13, 54, 55, 859611, tzinfo=TzInfo(UTC)),\n",
              "     fact='I have a three-year-old niece.',\n",
              "     name='projects/437300234315/locations/us-central1/reasoningEngines/283924688617340928/memories/6773180193344323584',\n",
              "     scope={\n",
              "       'app_name': 'memory_example_app',\n",
              "       'user_id': 'My User'\n",
              "     },\n",
              "     update_time=datetime.datetime(2025, 10, 21, 14, 0, 56, 83625, tzinfo=TzInfo(UTC))\n",
              "   )\n",
              " ),\n",
              " RetrieveMemoriesResponseRetrievedMemory(\n",
              "   distance=0.7844351878384009,\n",
              "   memory=Memory(\n",
              "     create_time=datetime.datetime(2025, 10, 21, 13, 54, 55, 860546, tzinfo=TzInfo(UTC)),\n",
              "     fact='I like the idea of giving my three-year-old niece a bike for her birthday, and I am looking for age-appropriate options.',\n",
              "     name='projects/437300234315/locations/us-central1/reasoningEngines/283924688617340928/memories/4467337184130629632',\n",
              "     scope={\n",
              "       'app_name': 'memory_example_app',\n",
              "       'user_id': 'My User'\n",
              "     },\n",
              "     update_time=datetime.datetime(2025, 10, 21, 14, 0, 56, 83753, tzinfo=TzInfo(UTC))\n",
              "   )\n",
              " )]"
            ]
          },
          "execution_count": 23,
          "metadata": {},
          "output_type": "execute_result"
        }
      ],
      "source": [
        "response = client.agent_engines.memories.retrieve(\n",
        "    name=agent_engine.api_resource.name,\n",
        "    scope={\"app_name\": APP_NAME, \"user_id\": USER_ID},\n",
        "    similarity_search_params={\n",
        "        \"search_query\": \"what should I get my niece for her birthday?\"\n",
        "    },\n",
        ")\n",
        "list(response)"
      ]
    },
    {
      "cell_type": "markdown",
      "metadata": {
        "id": "QWWmfmn7XHNf"
      },
      "source": [
        "Memory Bank uses a process called \"consolidation\" to ensure that we do not upload duplicative or contradictory information for the same scope."
      ]
    },
    {
      "cell_type": "code",
      "execution_count": null,
      "metadata": {
        "colab": {
          "base_uri": "https://localhost:8080/"
        },
        "id": "gyHYYlxIXGKQ",
        "outputId": "312f0a51-09ca-4cdf-ae1b-7e8437123837"
      },
      "outputs": [
        {
          "name": "stdout",
          "output_type": "stream",
          "text": [
            "***OPERATION RESPONSE***\n",
            "AgentEngineGenerateMemoriesOperation(\n",
            "  done=True,\n",
            "  metadata={\n",
            "    '@type': 'type.googleapis.com/google.cloud.aiplatform.v1beta1.GenerateMemoriesOperationMetadata',\n",
            "    'genericMetadata': {\n",
            "      'createTime': '2025-10-21T14:13:57.177888Z',\n",
            "      'updateTime': '2025-10-21T14:14:08.005726Z'\n",
            "    }\n",
            "  },\n",
            "  name='projects/437300234315/locations/us-central1/reasoningEngines/283924688617340928/operations/4212149692194095104',\n",
            "  response=GenerateMemoriesResponse(\n",
            "    generated_memories=[\n",
            "      GenerateMemoriesResponseGeneratedMemory(\n",
            "        action=<GenerateMemoriesResponseGeneratedMemoryAction.UPDATED: 'UPDATED'>,\n",
            "        memory=Memory(\n",
            "          name='projects/437300234315/locations/us-central1/reasoningEngines/283924688617340928/memories/4467337184130629632'\n",
            "        )\n",
            "      ),\n",
            "    ]\n",
            "  )\n",
            ")\n",
            "\n",
            "***GENERATED MEMORIES***\n",
            "Memory(\n",
            "  create_time=datetime.datetime(2025, 10, 21, 13, 54, 55, 860546, tzinfo=TzInfo(UTC)),\n",
            "  fact='I like the idea of getting my three-year-old niece a bike for her third birthday, and I am looking for age-appropriate options.',\n",
            "  name='projects/437300234315/locations/us-central1/reasoningEngines/283924688617340928/memories/4467337184130629632',\n",
            "  scope={\n",
            "    'app_name': 'memory_example_app',\n",
            "    'user_id': 'My User'\n",
            "  },\n",
            "  update_time=datetime.datetime(2025, 10, 21, 14, 14, 7, 921086, tzinfo=TzInfo(UTC))\n",
            ")\n"
          ]
        }
      ],
      "source": [
        "import pprint\n",
        "\n",
        "operation = client.agent_engines.memories.generate(\n",
        "    name=agent_engine.api_resource.name,\n",
        "    scope={\"app_name\": APP_NAME, \"user_id\": USER_ID},\n",
        "    direct_contents_source={\n",
        "        \"events\": [\n",
        "            {\n",
        "                \"content\": {\n",
        "                    \"role\": \"user\",\n",
        "                    \"parts\": [\n",
        "                        {\n",
        "                            \"text\": \"I like the idea of getting my niece a bike for her third birthday\"\n",
        "                        }\n",
        "                    ],\n",
        "                }\n",
        "            }\n",
        "        ]\n",
        "    },\n",
        ")\n",
        "print(\"***OPERATION RESPONSE***\")\n",
        "pprint.pprint(operation)\n",
        "\n",
        "print(\"\\n***GENERATED MEMORIES***\")\n",
        "for generated_memory in operation.response.generated_memories:\n",
        "    pprint.pprint(client.agent_engines.memories.get(name=generated_memory.memory.name))"
      ]
    },
    {
      "cell_type": "markdown",
      "metadata": {
        "id": "FUAJRM8pYiNj"
      },
      "source": [
        "What if your agent extracted memories that you want to combine with your existing memories? You can also use `GenerateMemories` to consolidate pre-extracted facts for the same scope [documenation](https://cloud.google.com/vertex-ai/generative-ai/docs/agent-engine/memory-bank/generate-memories#consolidate-pre-extracted-memories).\n",
        "\n",
        "Memory Bank already contains memories on this topic. So, the relevant existing memories will be updated rather than creating a new, duplicative memory."
      ]
    },
    {
      "cell_type": "code",
      "execution_count": null,
      "metadata": {
        "colab": {
          "base_uri": "https://localhost:8080/"
        },
        "id": "hVaFGo7RY0zE",
        "outputId": "a0adf1b4-97bc-4d0e-fed8-7dbd359acd4b"
      },
      "outputs": [
        {
          "name": "stdout",
          "output_type": "stream",
          "text": [
            "***OPERATION RESPONSE***\n",
            "AgentEngineGenerateMemoriesOperation(\n",
            "  done=True,\n",
            "  metadata={\n",
            "    '@type': 'type.googleapis.com/google.cloud.aiplatform.v1beta1.GenerateMemoriesOperationMetadata',\n",
            "    'genericMetadata': {\n",
            "      'createTime': '2025-10-21T14:15:51.979204Z',\n",
            "      'updateTime': '2025-10-21T14:15:56.096074Z'\n",
            "    }\n",
            "  },\n",
            "  name='projects/437300234315/locations/us-central1/reasoningEngines/283924688617340928/operations/7929308234635018240',\n",
            "  response=GenerateMemoriesResponse(\n",
            "    generated_memories=[\n",
            "      GenerateMemoriesResponseGeneratedMemory(\n",
            "        action=<GenerateMemoriesResponseGeneratedMemoryAction.UPDATED: 'UPDATED'>,\n",
            "        memory=Memory(\n",
            "          name='projects/437300234315/locations/us-central1/reasoningEngines/283924688617340928/memories/4467337184130629632'\n",
            "        )\n",
            "      ),\n",
            "    ]\n",
            "  )\n",
            ")\n",
            "\n",
            "***GENERATED MEMORIES***\n",
            "Memory(\n",
            "  create_time=datetime.datetime(2025, 10, 21, 13, 54, 55, 860546, tzinfo=TzInfo(UTC)),\n",
            "  fact='I got my three-year-old niece a red bike for her third birthday.',\n",
            "  name='projects/437300234315/locations/us-central1/reasoningEngines/283924688617340928/memories/4467337184130629632',\n",
            "  scope={\n",
            "    'app_name': 'memory_example_app',\n",
            "    'user_id': 'My User'\n",
            "  },\n",
            "  update_time=datetime.datetime(2025, 10, 21, 14, 15, 56, 19585, tzinfo=TzInfo(UTC))\n",
            ")\n"
          ]
        }
      ],
      "source": [
        "operation = client.agent_engines.memories.generate(\n",
        "    name=agent_engine.api_resource.name,\n",
        "    scope={\"app_name\": APP_NAME, \"user_id\": USER_ID},\n",
        "    direct_memories_source={\"direct_memories\": [{\"fact\": \"I got my niece a red bike\"}]},\n",
        ")\n",
        "\n",
        "print(\"***OPERATION RESPONSE***\")\n",
        "pprint.pprint(operation)\n",
        "\n",
        "print(\"\\n***GENERATED MEMORIES***\")\n",
        "for generated_memory in operation.response.generated_memories:\n",
        "    if generated_memory.action != \"DELETED\":\n",
        "        pprint.pprint(\n",
        "            client.agent_engines.memories.get(name=generated_memory.memory.name)\n",
        "        )"
      ]
    },
    {
      "cell_type": "markdown",
      "metadata": {
        "id": "Ql9iDjUO5Mxb"
      },
      "source": [
        "#### Automate with Callbacks\n",
        "\n",
        "To automate the triggering of memory generation, you can implement a callback to generate memories after every turn. See the [`Remember this: Agent state and memory with ADK` blog post](https://cloud.google.com/blog/topics/developers-practitioners/remember-this-agent-state-and-memory-with-adk) for more information."
      ]
    },
    {
      "cell_type": "code",
      "execution_count": null,
      "metadata": {
        "id": "sq4QSggUAuLu"
      },
      "outputs": [],
      "source": [
        "from google import adk\n",
        "\n",
        "\n",
        "async def auto_save_session_to_memory_callback(callback_context):\n",
        "    # Use the invocation context to access the conversation history that should\n",
        "    # be used as the data source for memory generation.\n",
        "    await memory_bank_service.add_session_to_memory(\n",
        "        callback_context._invocation_context.session\n",
        "    )\n",
        "    print(\"\\n****Triggered memory generation****\\n\")\n",
        "\n",
        "\n",
        "agent = LlmAgent(\n",
        "    model=MODEL,\n",
        "    name=\"Generic_QA_Agent\",\n",
        "    instruction=\"Answer the user's questions\",\n",
        "    tools=[adk.tools.preload_memory_tool.PreloadMemoryTool()],\n",
        "    after_agent_callback=auto_save_session_to_memory_callback,\n",
        ")\n",
        "\n",
        "runner = Runner(\n",
        "    agent=agent,\n",
        "    app_name=APP_NAME,\n",
        "    session_service=session_service,\n",
        "    memory_service=memory_bank_service,\n",
        ")"
      ]
    },
    {
      "cell_type": "code",
      "execution_count": null,
      "metadata": {
        "colab": {
          "base_uri": "https://localhost:8080/"
        },
        "id": "o-oU37SyA5J7",
        "outputId": "76dbbf0e-608a-4445-c5db-5703f89a079e"
      },
      "outputs": [
        {
          "name": "stderr",
          "output_type": "stream",
          "text": [
            "INFO:google_adk.google.adk.memory.vertex_ai_memory_bank_service:Search memory response received.\n",
            "DEBUG:google_adk.google.adk.memory.vertex_ai_memory_bank_service:Retrieved memory: distance=0.8091518668940462 memory=Memory(\n",
            "  create_time=datetime.datetime(2025, 10, 21, 13, 54, 55, 859611, tzinfo=TzInfo(UTC)),\n",
            "  fact='I have a three-year-old niece.',\n",
            "  name='projects/437300234315/locations/us-central1/reasoningEngines/283924688617340928/memories/6773180193344323584',\n",
            "  scope={\n",
            "    'app_name': 'memory_example_app',\n",
            "    'user_id': 'My User'\n",
            "  },\n",
            "  update_time=datetime.datetime(2025, 10, 21, 14, 0, 56, 83625, tzinfo=TzInfo(UTC))\n",
            ")\n",
            "DEBUG:google_adk.google.adk.memory.vertex_ai_memory_bank_service:Retrieved memory: distance=0.8936996259031423 memory=Memory(\n",
            "  create_time=datetime.datetime(2025, 10, 21, 13, 54, 55, 860546, tzinfo=TzInfo(UTC)),\n",
            "  fact='I got my three-year-old niece a red bike for her third birthday.',\n",
            "  name='projects/437300234315/locations/us-central1/reasoningEngines/283924688617340928/memories/4467337184130629632',\n",
            "  scope={\n",
            "    'app_name': 'memory_example_app',\n",
            "    'user_id': 'My User'\n",
            "  },\n",
            "  update_time=datetime.datetime(2025, 10, 21, 14, 15, 56, 19585, tzinfo=TzInfo(UTC))\n",
            ")\n",
            "INFO:google_adk.google.adk.models.google_llm:Sending out request, model: gemini-2.5-flash, backend: GoogleLLMVariant.VERTEX_AI, stream: False\n",
            "DEBUG:google_adk.google.adk.models.google_llm:\n",
            "LLM Request:\n",
            "-----------------------------------------------------------\n",
            "System Instruction:\n",
            "Answer the user's questions\n",
            "\n",
            "You are an agent. Your internal name is \"Generic_QA_Agent\".\n",
            "\n",
            "The following content is from your previous conversations with the user.\n",
            "They may be useful for answering the user's current query.\n",
            "<PAST_CONVERSATIONS>\n",
            "Time: 2025-10-21T14:00:56.083625+00:00\n",
            "user: I have a three-year-old niece.\n",
            "Time: 2025-10-21T14:15:56.019585+00:00\n",
            "user: I got my three-year-old niece a red bike for her third birthday.\n",
            "</PAST_CONVERSATIONS>\n",
            "\n",
            "-----------------------------------------------------------\n",
            "Contents:\n",
            "{\"parts\":[{\"text\":\"What christmas present recommendations do you have for my niece?\"}],\"role\":\"user\"}\n",
            "-----------------------------------------------------------\n",
            "Functions:\n",
            "\n",
            "-----------------------------------------------------------\n",
            "\n",
            "INFO:google_adk.google.adk.models.google_llm:Response received from the model.\n",
            "DEBUG:google_adk.google.adk.models.google_llm:\n",
            "LLM Response:\n",
            "-----------------------------------------------------------\n",
            "Text:\n",
            "Your three-year-old niece sounds like she has a great bike already! For Christmas, you might consider something different to add to her playtime. Here are some recommendations for a three-year-old:\n",
            "\n",
            "1.  **Creative Play:**\n",
            "    *   **Art Supplies:** Large crayons, washable finger paints, chunky paintbrushes, or a simple easel with paper.\n",
            "    *   **Play-Doh Sets:** These are always a hit and encourage fine motor skills and imaginative creation.\n",
            "    *   **Sticker Books:** Reusable sticker books or large activity sticker books can provide hours of fun.\n",
            "\n",
            "2.  **Building & Construction:**\n",
            "    *   **DUPLO or Large Building Blocks:** Perfect for little hands to build towers, houses, and anything they can imagine.\n",
            "    *   **Magnetic Tiles:** These are fantastic for open-ended building and exploring shapes.\n",
            "\n",
            "3.  **Imaginative & Pretend Play:**\n",
            "    *   **Dress-Up Clothes:** A simple costume (like a fairy, princess, doctor, or animal) can spark endless stories.\n",
            "    *   **Play Kitchen Accessories:** If she has a play kitchen, new food items, pots, or pans can refresh her play.\n",
            "    *   **Doll or Stuffed Animal Set:** A new baby doll with accessories (bottle, blanket) or a set of small animal figures.\n",
            "    *   **Puppets:** Hand puppets can encourage storytelling and communication.\n",
            "\n",
            "4.  **Books & Puzzles:**\n",
            "    *   **Picture Books:** Look for engaging stories with colorful illustrations. Interactive books (lift-the-flap, touch-and-feel) are also popular.\n",
            "    *   **Chunky Wooden Puzzles:** Simple 4-6 piece puzzles with knobs are great for developing problem-solving skills.\n",
            "\n",
            "5.  **Musical Instruments:**\n",
            "    *   **Child-friendly instruments:** A toy keyboard, tambourine, or shakers can introduce her to music.\n",
            "\n",
            "Think about what she's currently interested in, whether it's animals, vehicles, princesses, or creating things, and that might help narrow down the perfect gift!\n",
            "-----------------------------------------------------------\n",
            "Function calls:\n",
            "\n",
            "-----------------------------------------------------------\n",
            "Raw response:\n",
            "{\"sdk_http_response\":{\"headers\":{\"Content-Type\":\"application/json; charset=UTF-8\",\"Vary\":\"Origin, X-Origin, Referer\",\"Content-Encoding\":\"gzip\",\"Date\":\"Tue, 21 Oct 2025 14:17:27 GMT\",\"Server\":\"scaffolding on HTTPServer2\",\"X-XSS-Protection\":\"0\",\"X-Frame-Options\":\"SAMEORIGIN\",\"X-Content-Type-Options\":\"nosniff\",\"Transfer-Encoding\":\"chunked\"}},\"candidates\":[{\"content\":{\"parts\":[{\"text\":\"Your three-year-old niece sounds like she has a great bike already! For Christmas, you might consider something different to add to her playtime. Here are some recommendations for a three-year-old:\\n\\n1.  **Creative Play:**\\n    *   **Art Supplies:** Large crayons, washable finger paints, chunky paintbrushes, or a simple easel with paper.\\n    *   **Play-Doh Sets:** These are always a hit and encourage fine motor skills and imaginative creation.\\n    *   **Sticker Books:** Reusable sticker books or large activity sticker books can provide hours of fun.\\n\\n2.  **Building & Construction:**\\n    *   **DUPLO or Large Building Blocks:** Perfect for little hands to build towers, houses, and anything they can imagine.\\n    *   **Magnetic Tiles:** These are fantastic for open-ended building and exploring shapes.\\n\\n3.  **Imaginative & Pretend Play:**\\n    *   **Dress-Up Clothes:** A simple costume (like a fairy, princess, doctor, or animal) can spark endless stories.\\n    *   **Play Kitchen Accessories:** If she has a play kitchen, new food items, pots, or pans can refresh her play.\\n    *   **Doll or Stuffed Animal Set:** A new baby doll with accessories (bottle, blanket) or a set of small animal figures.\\n    *   **Puppets:** Hand puppets can encourage storytelling and communication.\\n\\n4.  **Books & Puzzles:**\\n    *   **Picture Books:** Look for engaging stories with colorful illustrations. Interactive books (lift-the-flap, touch-and-feel) are also popular.\\n    *   **Chunky Wooden Puzzles:** Simple 4-6 piece puzzles with knobs are great for developing problem-solving skills.\\n\\n5.  **Musical Instruments:**\\n    *   **Child-friendly instruments:** A toy keyboard, tambourine, or shakers can introduce her to music.\\n\\nThink about what she's currently interested in, whether it's animals, vehicles, princesses, or creating things, and that might help narrow down the perfect gift!\"}],\"role\":\"model\"},\"finish_reason\":\"STOP\",\"avg_logprobs\":-0.5732456364043771}],\"create_time\":\"2025-10-21T14:17:22.623065Z\",\"model_version\":\"gemini-2.5-flash\",\"response_id\":\"8pX3aNmDJrPQnvgP3Kaf8Ac\",\"usage_metadata\":{\"candidates_token_count\":438,\"candidates_tokens_details\":[{\"modality\":\"TEXT\",\"token_count\":438}],\"prompt_token_count\":183,\"prompt_tokens_details\":[{\"modality\":\"TEXT\",\"token_count\":183}],\"thoughts_token_count\":289,\"total_token_count\":910,\"traffic_type\":\"ON_DEMAND\"},\"automatic_function_calling_history\":[]}\n",
            "-----------------------------------------------------------\n",
            "\n"
          ]
        },
        {
          "name": "stdout",
          "output_type": "stream",
          "text": [
            "Agent Response:  Your three-year-old niece sounds like she has a great bike already! For Christmas, you might consider something different to add to her playtime. Here are some recommendations for a three-year-old:\n",
            "\n",
            "1.  **Creative Play:**\n",
            "    *   **Art Supplies:** Large crayons, washable finger paints, chunky paintbrushes, or a simple easel with paper.\n",
            "    *   **Play-Doh Sets:** These are always a hit and encourage fine motor skills and imaginative creation.\n",
            "    *   **Sticker Books:** Reusable sticker books or large activity sticker books can provide hours of fun.\n",
            "\n",
            "2.  **Building & Construction:**\n",
            "    *   **DUPLO or Large Building Blocks:** Perfect for little hands to build towers, houses, and anything they can imagine.\n",
            "    *   **Magnetic Tiles:** These are fantastic for open-ended building and exploring shapes.\n",
            "\n",
            "3.  **Imaginative & Pretend Play:**\n",
            "    *   **Dress-Up Clothes:** A simple costume (like a fairy, princess, doctor, or animal) can spark endless stories.\n",
            "    *   **Play Kitchen Accessories:** If she has a play kitchen, new food items, pots, or pans can refresh her play.\n",
            "    *   **Doll or Stuffed Animal Set:** A new baby doll with accessories (bottle, blanket) or a set of small animal figures.\n",
            "    *   **Puppets:** Hand puppets can encourage storytelling and communication.\n",
            "\n",
            "4.  **Books & Puzzles:**\n",
            "    *   **Picture Books:** Look for engaging stories with colorful illustrations. Interactive books (lift-the-flap, touch-and-feel) are also popular.\n",
            "    *   **Chunky Wooden Puzzles:** Simple 4-6 piece puzzles with knobs are great for developing problem-solving skills.\n",
            "\n",
            "5.  **Musical Instruments:**\n",
            "    *   **Child-friendly instruments:** A toy keyboard, tambourine, or shakers can introduce her to music.\n",
            "\n",
            "Think about what she's currently interested in, whether it's animals, vehicles, princesses, or creating things, and that might help narrow down the perfect gift!\n"
          ]
        },
        {
          "name": "stderr",
          "output_type": "stream",
          "text": [
            "INFO:google_adk.google.adk.memory.vertex_ai_memory_bank_service:Generate memory response received.\n",
            "DEBUG:google_adk.google.adk.memory.vertex_ai_memory_bank_service:Generate memory response: name='projects/437300234315/locations/us-central1/reasoningEngines/283924688617340928/operations/683016434195890176' metadata={'@type': 'type.googleapis.com/google.cloud.aiplatform.v1beta1.GenerateMemoriesOperationMetadata', 'genericMetadata': {'createTime': '2025-10-21T14:17:29.840373Z', 'updateTime': '2025-10-21T14:17:29.840373Z'}} done=None error=None response=None\n"
          ]
        },
        {
          "name": "stdout",
          "output_type": "stream",
          "text": [
            "\n",
            "****Triggered memory generation****\n",
            "\n"
          ]
        },
        {
          "name": "stderr",
          "output_type": "stream",
          "text": [
            "INFO:google_adk.google.adk.memory.vertex_ai_memory_bank_service:Search memory response received.\n",
            "DEBUG:google_adk.google.adk.memory.vertex_ai_memory_bank_service:Retrieved memory: distance=0.9376007979564559 memory=Memory(\n",
            "  create_time=datetime.datetime(2025, 10, 21, 13, 54, 55, 859611, tzinfo=TzInfo(UTC)),\n",
            "  fact='I have a three-year-old niece.',\n",
            "  name='projects/437300234315/locations/us-central1/reasoningEngines/283924688617340928/memories/6773180193344323584',\n",
            "  scope={\n",
            "    'app_name': 'memory_example_app',\n",
            "    'user_id': 'My User'\n",
            "  },\n",
            "  update_time=datetime.datetime(2025, 10, 21, 14, 0, 56, 83625, tzinfo=TzInfo(UTC))\n",
            ")\n",
            "DEBUG:google_adk.google.adk.memory.vertex_ai_memory_bank_service:Retrieved memory: distance=0.9382428087527607 memory=Memory(\n",
            "  create_time=datetime.datetime(2025, 10, 21, 13, 54, 55, 860546, tzinfo=TzInfo(UTC)),\n",
            "  fact='I got my three-year-old niece a red bike for her third birthday.',\n",
            "  name='projects/437300234315/locations/us-central1/reasoningEngines/283924688617340928/memories/4467337184130629632',\n",
            "  scope={\n",
            "    'app_name': 'memory_example_app',\n",
            "    'user_id': 'My User'\n",
            "  },\n",
            "  update_time=datetime.datetime(2025, 10, 21, 14, 15, 56, 19585, tzinfo=TzInfo(UTC))\n",
            ")\n",
            "INFO:google_adk.google.adk.models.google_llm:Sending out request, model: gemini-2.5-flash, backend: GoogleLLMVariant.VERTEX_AI, stream: False\n",
            "DEBUG:google_adk.google.adk.models.google_llm:\n",
            "LLM Request:\n",
            "-----------------------------------------------------------\n",
            "System Instruction:\n",
            "Answer the user's questions\n",
            "\n",
            "You are an agent. Your internal name is \"Generic_QA_Agent\".\n",
            "\n",
            "The following content is from your previous conversations with the user.\n",
            "They may be useful for answering the user's current query.\n",
            "<PAST_CONVERSATIONS>\n",
            "Time: 2025-10-21T14:00:56.083625+00:00\n",
            "user: I have a three-year-old niece.\n",
            "Time: 2025-10-21T14:15:56.019585+00:00\n",
            "user: I got my three-year-old niece a red bike for her third birthday.\n",
            "</PAST_CONVERSATIONS>\n",
            "\n",
            "-----------------------------------------------------------\n",
            "Contents:\n",
            "{\"parts\":[{\"text\":\"What christmas present recommendations do you have for my niece?\"}],\"role\":\"user\"}\n",
            "{\"parts\":[{\"text\":\"Your three-year-old niece sounds like she has a great bike already! For Christmas, you might consider something different to add to her playtime. Here are some recommendations for a three-year-old:\\n\\n1.  **Creative Play:**\\n    *   **Art Supplies:** Large crayons, washable finger paints, chunky paintbrushes, or a simple easel with paper.\\n    *   **Play-Doh Sets:** These are always a hit and encourage fine motor skills and imaginative creation.\\n    *   **Sticker Books:** Reusable sticker books or large activity sticker books can provide hours of fun.\\n\\n2.  **Building & Construction:**\\n    *   **DUPLO or Large Building Blocks:** Perfect for little hands to build towers, houses, and anything they can imagine.\\n    *   **Magnetic Tiles:** These are fantastic for open-ended building and exploring shapes.\\n\\n3.  **Imaginative & Pretend Play:**\\n    *   **Dress-Up Clothes:** A simple costume (like a fairy, princess, doctor, or animal) can spark endless stories.\\n    *   **Play Kitchen Accessories:** If she has a play kitchen, new food items, pots, or pans can refresh her play.\\n    *   **Doll or Stuffed Animal Set:** A new baby doll with accessories (bottle, blanket) or a set of small animal figures.\\n    *   **Puppets:** Hand puppets can encourage storytelling and communication.\\n\\n4.  **Books & Puzzles:**\\n    *   **Picture Books:** Look for engaging stories with colorful illustrations. Interactive books (lift-the-flap, touch-and-feel) are also popular.\\n    *   **Chunky Wooden Puzzles:** Simple 4-6 piece puzzles with knobs are great for developing problem-solving skills.\\n\\n5.  **Musical Instruments:**\\n    *   **Child-friendly instruments:** A toy keyboard, tambourine, or shakers can introduce her to music.\\n\\nThink about what she's currently interested in, whether it's animals, vehicles, princesses, or creating things, and that might help narrow down the perfect gift!\"}],\"role\":\"model\"}\n",
            "{\"parts\":[{\"text\":\"I think I'll get her a doll. What types are good for her age?\"}],\"role\":\"user\"}\n",
            "-----------------------------------------------------------\n",
            "Functions:\n",
            "\n",
            "-----------------------------------------------------------\n",
            "\n",
            "INFO:google_adk.google.adk.models.google_llm:Response received from the model.\n",
            "DEBUG:google_adk.google.adk.models.google_llm:\n",
            "LLM Response:\n",
            "-----------------------------------------------------------\n",
            "Text:\n",
            "That's a lovely idea! Dolls are wonderful for encouraging imaginative play, nurturing, and developing social-emotional skills in three-year-olds.\n",
            "\n",
            "For a three-year-old, you'll want something that is durable, easy for them to manage, and safe. Here are some types of dolls that are generally great for her age:\n",
            "\n",
            "1.  **Soft-Bodied Baby Dolls:**\n",
            "    *   **Why they're good:** These are often the first choice for this age. They are soft and cuddly, perfect for hugging and comforting. Many come with simple outfits that are easy for little hands to put on and take off (great for developing fine motor skills). They encourage nurturing play, like feeding, rocking, and putting to bed.\n",
            "    *   **Look for:** Dolls with soft, washable bodies and simple, chunky clothing. Brands like Cabbage Patch Kids (the soft-bodied versions), Melissa & Doug, or smaller baby doll lines are popular.\n",
            "\n",
            "2.  **Toddler Dolls (like some \"My First\" dolls):**\n",
            "    *   **Why they're good:** These are often slightly larger than baby dolls but still manageable. They might have a bit more articulation (moveable arms/legs) and a wider range of clothing options. They can be good for slightly more complex pretend play scenarios.\n",
            "    *   **Look for:** Dolls that are still relatively soft, or made from durable, child-friendly plastic. Avoid dolls with tiny accessories or intricate hair that will tangle easily. \"My First Princess\" dolls from brands like Disney often fit this category, as they usually have simpler outfits and fewer small parts than the collector versions.\n",
            "\n",
            "3.  **Doll with Easy-to-Manage Hair:**\n",
            "    *   **Why they're good:** At three, many children enjoy brushing and styling a doll's hair. Look for dolls with rooted hair that isn't too long or fine, making it less prone to tangling and easier for little fingers to brush.\n",
            "    *   **Look for:** Hair that feels thick and securely rooted. Some dolls come with a simple brush.\n",
            "\n",
            "4.  **Simple Rag Dolls:**\n",
            "    *   **Why they're good:** These are classic, timeless, and incredibly cuddly. They are usually very durable, machine washable, and have soft, friendly faces. They are great for quiet play and bedtime snuggles.\n",
            "    *   **Look for:** Well-made rag dolls with embroidered features (no small buttons for eyes, etc.) and sturdy stitching.\n",
            "\n",
            "**Things to consider and avoid:**\n",
            "\n",
            "*   **Size:** Make sure the doll isn't too big or heavy for her to carry comfortably.\n",
            "*   **Small Parts:** Absolutely avoid dolls with tiny shoes, hair accessories, or other small detachable parts that could be a choking hazard. Check age recommendations carefully.\n",
            "*   **Complex Electronics:** While some dolls talk or sing, too many complex features can sometimes limit imaginative play. A simple doll leaves more room for her to create her own stories.\n",
            "*   **Hair Quality:** Avoid dolls with very thin, wispy hair that knots and frizzes instantly, as it can be frustrating for a three-year-old.\n",
            "\n",
            "Many brands like **Corolle, Melissa & Doug, Manhattan Toy Company, HABA,** or even generic **soft baby dolls** you might find at toy stores, offer excellent options for this age group. If you can, opt for a doll with a friendly, welcoming expression.\n",
            "\n",
            "Happy shopping! She'll love whatever you choose.\n",
            "-----------------------------------------------------------\n",
            "Function calls:\n",
            "\n",
            "-----------------------------------------------------------\n",
            "Raw response:\n",
            "{\"sdk_http_response\":{\"headers\":{\"Content-Type\":\"application/json; charset=UTF-8\",\"Vary\":\"Origin, X-Origin, Referer\",\"Content-Encoding\":\"gzip\",\"Date\":\"Tue, 21 Oct 2025 14:17:43 GMT\",\"Server\":\"scaffolding on HTTPServer2\",\"X-XSS-Protection\":\"0\",\"X-Frame-Options\":\"SAMEORIGIN\",\"X-Content-Type-Options\":\"nosniff\",\"Transfer-Encoding\":\"chunked\"}},\"candidates\":[{\"content\":{\"parts\":[{\"text\":\"That's a lovely idea! Dolls are wonderful for encouraging imaginative play, nurturing, and developing social-emotional skills in three-year-olds.\\n\\nFor a three-year-old, you'll want something that is durable, easy for them to manage, and safe. Here are some types of dolls that are generally great for her age:\\n\\n1.  **Soft-Bodied Baby Dolls:**\\n    *   **Why they're good:** These are often the first choice for this age. They are soft and cuddly, perfect for hugging and comforting. Many come with simple outfits that are easy for little hands to put on and take off (great for developing fine motor skills). They encourage nurturing play, like feeding, rocking, and putting to bed.\\n    *   **Look for:** Dolls with soft, washable bodies and simple, chunky clothing. Brands like Cabbage Patch Kids (the soft-bodied versions), Melissa & Doug, or smaller baby doll lines are popular.\\n\\n2.  **Toddler Dolls (like some \\\"My First\\\" dolls):**\\n    *   **Why they're good:** These are often slightly larger than baby dolls but still manageable. They might have a bit more articulation (moveable arms/legs) and a wider range of clothing options. They can be good for slightly more complex pretend play scenarios.\\n    *   **Look for:** Dolls that are still relatively soft, or made from durable, child-friendly plastic. Avoid dolls with tiny accessories or intricate hair that will tangle easily. \\\"My First Princess\\\" dolls from brands like Disney often fit this category, as they usually have simpler outfits and fewer small parts than the collector versions.\\n\\n3.  **Doll with Easy-to-Manage Hair:**\\n    *   **Why they're good:** At three, many children enjoy brushing and styling a doll's hair. Look for dolls with rooted hair that isn't too long or fine, making it less prone to tangling and easier for little fingers to brush.\\n    *   **Look for:** Hair that feels thick and securely rooted. Some dolls come with a simple brush.\\n\\n4.  **Simple Rag Dolls:**\\n    *   **Why they're good:** These are classic, timeless, and incredibly cuddly. They are usually very durable, machine washable, and have soft, friendly faces. They are great for quiet play and bedtime snuggles.\\n    *   **Look for:** Well-made rag dolls with embroidered features (no small buttons for eyes, etc.) and sturdy stitching.\\n\\n**Things to consider and avoid:**\\n\\n*   **Size:** Make sure the doll isn't too big or heavy for her to carry comfortably.\\n*   **Small Parts:** Absolutely avoid dolls with tiny shoes, hair accessories, or other small detachable parts that could be a choking hazard. Check age recommendations carefully.\\n*   **Complex Electronics:** While some dolls talk or sing, too many complex features can sometimes limit imaginative play. A simple doll leaves more room for her to create her own stories.\\n*   **Hair Quality:** Avoid dolls with very thin, wispy hair that knots and frizzes instantly, as it can be frustrating for a three-year-old.\\n\\nMany brands like **Corolle, Melissa & Doug, Manhattan Toy Company, HABA,** or even generic **soft baby dolls** you might find at toy stores, offer excellent options for this age group. If you can, opt for a doll with a friendly, welcoming expression.\\n\\nHappy shopping! She'll love whatever you choose.\"}],\"role\":\"model\"},\"finish_reason\":\"STOP\",\"avg_logprobs\":-0.5814277868101274}],\"create_time\":\"2025-10-21T14:17:34.331377Z\",\"model_version\":\"gemini-2.5-flash\",\"response_id\":\"_pX3aPGcFOXb698PvciY6Ag\",\"usage_metadata\":{\"candidates_token_count\":731,\"candidates_tokens_details\":[{\"modality\":\"TEXT\",\"token_count\":731}],\"prompt_token_count\":639,\"prompt_tokens_details\":[{\"modality\":\"TEXT\",\"token_count\":639}],\"thoughts_token_count\":193,\"total_token_count\":1563,\"traffic_type\":\"ON_DEMAND\"},\"automatic_function_calling_history\":[]}\n",
            "-----------------------------------------------------------\n",
            "\n"
          ]
        },
        {
          "name": "stdout",
          "output_type": "stream",
          "text": [
            "Agent Response:  That's a lovely idea! Dolls are wonderful for encouraging imaginative play, nurturing, and developing social-emotional skills in three-year-olds.\n",
            "\n",
            "For a three-year-old, you'll want something that is durable, easy for them to manage, and safe. Here are some types of dolls that are generally great for her age:\n",
            "\n",
            "1.  **Soft-Bodied Baby Dolls:**\n",
            "    *   **Why they're good:** These are often the first choice for this age. They are soft and cuddly, perfect for hugging and comforting. Many come with simple outfits that are easy for little hands to put on and take off (great for developing fine motor skills). They encourage nurturing play, like feeding, rocking, and putting to bed.\n",
            "    *   **Look for:** Dolls with soft, washable bodies and simple, chunky clothing. Brands like Cabbage Patch Kids (the soft-bodied versions), Melissa & Doug, or smaller baby doll lines are popular.\n",
            "\n",
            "2.  **Toddler Dolls (like some \"My First\" dolls):**\n",
            "    *   **Why they're good:** These are often slightly larger than baby dolls but still manageable. They might have a bit more articulation (moveable arms/legs) and a wider range of clothing options. They can be good for slightly more complex pretend play scenarios.\n",
            "    *   **Look for:** Dolls that are still relatively soft, or made from durable, child-friendly plastic. Avoid dolls with tiny accessories or intricate hair that will tangle easily. \"My First Princess\" dolls from brands like Disney often fit this category, as they usually have simpler outfits and fewer small parts than the collector versions.\n",
            "\n",
            "3.  **Doll with Easy-to-Manage Hair:**\n",
            "    *   **Why they're good:** At three, many children enjoy brushing and styling a doll's hair. Look for dolls with rooted hair that isn't too long or fine, making it less prone to tangling and easier for little fingers to brush.\n",
            "    *   **Look for:** Hair that feels thick and securely rooted. Some dolls come with a simple brush.\n",
            "\n",
            "4.  **Simple Rag Dolls:**\n",
            "    *   **Why they're good:** These are classic, timeless, and incredibly cuddly. They are usually very durable, machine washable, and have soft, friendly faces. They are great for quiet play and bedtime snuggles.\n",
            "    *   **Look for:** Well-made rag dolls with embroidered features (no small buttons for eyes, etc.) and sturdy stitching.\n",
            "\n",
            "**Things to consider and avoid:**\n",
            "\n",
            "*   **Size:** Make sure the doll isn't too big or heavy for her to carry comfortably.\n",
            "*   **Small Parts:** Absolutely avoid dolls with tiny shoes, hair accessories, or other small detachable parts that could be a choking hazard. Check age recommendations carefully.\n",
            "*   **Complex Electronics:** While some dolls talk or sing, too many complex features can sometimes limit imaginative play. A simple doll leaves more room for her to create her own stories.\n",
            "*   **Hair Quality:** Avoid dolls with very thin, wispy hair that knots and frizzes instantly, as it can be frustrating for a three-year-old.\n",
            "\n",
            "Many brands like **Corolle, Melissa & Doug, Manhattan Toy Company, HABA,** or even generic **soft baby dolls** you might find at toy stores, offer excellent options for this age group. If you can, opt for a doll with a friendly, welcoming expression.\n",
            "\n",
            "Happy shopping! She'll love whatever you choose.\n"
          ]
        },
        {
          "name": "stderr",
          "output_type": "stream",
          "text": [
            "INFO:google_adk.google.adk.memory.vertex_ai_memory_bank_service:Generate memory response received.\n",
            "DEBUG:google_adk.google.adk.memory.vertex_ai_memory_bank_service:Generate memory response: name='projects/437300234315/locations/us-central1/reasoningEngines/283924688617340928/operations/4399612026683392000' metadata={'@type': 'type.googleapis.com/google.cloud.aiplatform.v1beta1.GenerateMemoriesOperationMetadata', 'genericMetadata': {'createTime': '2025-10-21T14:17:45.339368Z', 'updateTime': '2025-10-21T14:17:45.339368Z'}} done=None error=None response=None\n"
          ]
        },
        {
          "name": "stdout",
          "output_type": "stream",
          "text": [
            "\n",
            "****Triggered memory generation****\n",
            "\n"
          ]
        }
      ],
      "source": [
        "session = await session_service.create_session(app_name=APP_NAME, user_id=USER_ID)\n",
        "\n",
        "call_agent(\n",
        "    \"What christmas present recommendations do you have for my niece?\",\n",
        "    session.id,\n",
        "    user_id=USER_ID,\n",
        ")\n",
        "\n",
        "call_agent(\n",
        "    \"I think I'll get her a doll. What types are good for her age?\",\n",
        "    session.id,\n",
        "    user_id=USER_ID,\n",
        ")"
      ]
    },
    {
      "cell_type": "code",
      "execution_count": null,
      "metadata": {
        "colab": {
          "base_uri": "https://localhost:8080/"
        },
        "id": "E9_pkrRUBBSP",
        "outputId": "25e8aae3-802f-4e2b-e4e0-afee5cb3cd56"
      },
      "outputs": [
        {
          "data": {
            "text/plain": [
              "[RetrieveMemoriesResponseRetrievedMemory(\n",
              "   distance=0.7943347759252403,\n",
              "   memory=Memory(\n",
              "     create_time=datetime.datetime(2025, 10, 21, 13, 54, 55, 859611, tzinfo=TzInfo(UTC)),\n",
              "     fact='I have a three-year-old niece.',\n",
              "     name='projects/437300234315/locations/us-central1/reasoningEngines/283924688617340928/memories/6773180193344323584',\n",
              "     scope={\n",
              "       'app_name': 'memory_example_app',\n",
              "       'user_id': 'My User'\n",
              "     },\n",
              "     update_time=datetime.datetime(2025, 10, 21, 14, 0, 56, 83625, tzinfo=TzInfo(UTC))\n",
              "   )\n",
              " ),\n",
              " RetrieveMemoriesResponseRetrievedMemory(\n",
              "   distance=0.7986168617004635,\n",
              "   memory=Memory(\n",
              "     create_time=datetime.datetime(2025, 10, 21, 14, 17, 48, 588965, tzinfo=TzInfo(UTC)),\n",
              "     fact='I plan to get my three-year-old niece a doll for Christmas.',\n",
              "     name='projects/437300234315/locations/us-central1/reasoningEngines/283924688617340928/memories/8674121448559738880',\n",
              "     scope={\n",
              "       'app_name': 'memory_example_app',\n",
              "       'user_id': 'My User'\n",
              "     },\n",
              "     update_time=datetime.datetime(2025, 10, 21, 14, 17, 48, 588965, tzinfo=TzInfo(UTC))\n",
              "   )\n",
              " ),\n",
              " RetrieveMemoriesResponseRetrievedMemory(\n",
              "   distance=0.8143763517425631,\n",
              "   memory=Memory(\n",
              "     create_time=datetime.datetime(2025, 10, 21, 13, 54, 55, 860546, tzinfo=TzInfo(UTC)),\n",
              "     fact='I got my three-year-old niece a red bike for her third birthday.',\n",
              "     name='projects/437300234315/locations/us-central1/reasoningEngines/283924688617340928/memories/4467337184130629632',\n",
              "     scope={\n",
              "       'app_name': 'memory_example_app',\n",
              "       'user_id': 'My User'\n",
              "     },\n",
              "     update_time=datetime.datetime(2025, 10, 21, 14, 15, 56, 19585, tzinfo=TzInfo(UTC))\n",
              "   )\n",
              " )]"
            ]
          },
          "execution_count": 28,
          "metadata": {},
          "output_type": "execute_result"
        }
      ],
      "source": [
        "response = client.agent_engines.memories.retrieve(\n",
        "    name=agent_engine.api_resource.name,\n",
        "    scope={\"app_name\": APP_NAME, \"user_id\": USER_ID},\n",
        "    similarity_search_params={\n",
        "        \"search_query\": \"What was I thinking about getting my niece for Christmas?\"\n",
        "    },\n",
        ")\n",
        "list(response)"
      ]
    },
    {
      "cell_type": "markdown",
      "metadata": {
        "id": "koK2O-odR36D"
      },
      "source": [
        "The prior example used the entire Session to generate memories. However, this can be costly as the size of the session increases.\n",
        "\n",
        "You can also use callbacks to only save the current turn to Memory Bank. This has the downside, however, where you lose some of the context of the conversation."
      ]
    },
    {
      "cell_type": "code",
      "execution_count": null,
      "metadata": {
        "id": "F5hWwSvEPaaW"
      },
      "outputs": [],
      "source": [
        "async def auto_save_user_turn_to_memory_callback(callback_context):\n",
        "    last_turn = callback_context._invocation_context.user_content\n",
        "    client.agent_engines.memories.generate(\n",
        "        name=agent_engine.api_resource.name,\n",
        "        scope={\"app_name\": APP_NAME, \"user_id\": USER_ID},\n",
        "        direct_contents_source={\"events\": [{\"content\": last_turn}]},\n",
        "        config={\"wait_for_completion\": False},\n",
        "    )\n",
        "    print(\"\\n****Triggered memory generation****\\n\")\n",
        "\n",
        "\n",
        "agent = LlmAgent(\n",
        "    model=MODEL,\n",
        "    name=\"Generic_QA_Agent\",\n",
        "    instruction=\"Answer the user's questions\",\n",
        "    tools=[adk.tools.preload_memory_tool.PreloadMemoryTool()],\n",
        "    before_agent_callback=auto_save_user_turn_to_memory_callback,\n",
        ")\n",
        "\n",
        "runner = Runner(\n",
        "    agent=agent,\n",
        "    app_name=APP_NAME,\n",
        "    session_service=session_service,\n",
        "    memory_service=memory_bank_service,\n",
        ")"
      ]
    },
    {
      "cell_type": "code",
      "execution_count": null,
      "metadata": {
        "colab": {
          "base_uri": "https://localhost:8080/"
        },
        "id": "ziRXQsAJPeYl",
        "outputId": "685fe622-90a0-48f3-e98e-741443c19441"
      },
      "outputs": [
        {
          "name": "stdout",
          "output_type": "stream",
          "text": [
            "\n",
            "****Triggered memory generation****\n",
            "\n"
          ]
        },
        {
          "name": "stderr",
          "output_type": "stream",
          "text": [
            "INFO:google_adk.google.adk.memory.vertex_ai_memory_bank_service:Search memory response received.\n",
            "DEBUG:google_adk.google.adk.memory.vertex_ai_memory_bank_service:Retrieved memory: distance=0.6587006361125946 memory=Memory(\n",
            "  create_time=datetime.datetime(2025, 10, 21, 14, 17, 48, 588965, tzinfo=TzInfo(UTC)),\n",
            "  fact='I plan to get my three-year-old niece a doll for Christmas.',\n",
            "  name='projects/437300234315/locations/us-central1/reasoningEngines/283924688617340928/memories/8674121448559738880',\n",
            "  scope={\n",
            "    'app_name': 'memory_example_app',\n",
            "    'user_id': 'My User'\n",
            "  },\n",
            "  update_time=datetime.datetime(2025, 10, 21, 14, 17, 48, 588965, tzinfo=TzInfo(UTC))\n",
            ")\n",
            "DEBUG:google_adk.google.adk.memory.vertex_ai_memory_bank_service:Retrieved memory: distance=0.9376007979564559 memory=Memory(\n",
            "  create_time=datetime.datetime(2025, 10, 21, 13, 54, 55, 859611, tzinfo=TzInfo(UTC)),\n",
            "  fact='I have a three-year-old niece.',\n",
            "  name='projects/437300234315/locations/us-central1/reasoningEngines/283924688617340928/memories/6773180193344323584',\n",
            "  scope={\n",
            "    'app_name': 'memory_example_app',\n",
            "    'user_id': 'My User'\n",
            "  },\n",
            "  update_time=datetime.datetime(2025, 10, 21, 14, 0, 56, 83625, tzinfo=TzInfo(UTC))\n",
            ")\n",
            "DEBUG:google_adk.google.adk.memory.vertex_ai_memory_bank_service:Retrieved memory: distance=0.9382428087527607 memory=Memory(\n",
            "  create_time=datetime.datetime(2025, 10, 21, 13, 54, 55, 860546, tzinfo=TzInfo(UTC)),\n",
            "  fact='I got my three-year-old niece a red bike for her third birthday.',\n",
            "  name='projects/437300234315/locations/us-central1/reasoningEngines/283924688617340928/memories/4467337184130629632',\n",
            "  scope={\n",
            "    'app_name': 'memory_example_app',\n",
            "    'user_id': 'My User'\n",
            "  },\n",
            "  update_time=datetime.datetime(2025, 10, 21, 14, 15, 56, 19585, tzinfo=TzInfo(UTC))\n",
            ")\n",
            "INFO:google_adk.google.adk.models.google_llm:Sending out request, model: gemini-2.5-flash, backend: GoogleLLMVariant.VERTEX_AI, stream: False\n",
            "DEBUG:google_adk.google.adk.models.google_llm:\n",
            "LLM Request:\n",
            "-----------------------------------------------------------\n",
            "System Instruction:\n",
            "Answer the user's questions\n",
            "\n",
            "You are an agent. Your internal name is \"Generic_QA_Agent\".\n",
            "\n",
            "The following content is from your previous conversations with the user.\n",
            "They may be useful for answering the user's current query.\n",
            "<PAST_CONVERSATIONS>\n",
            "Time: 2025-10-21T14:17:48.588965+00:00\n",
            "user: I plan to get my three-year-old niece a doll for Christmas.\n",
            "Time: 2025-10-21T14:00:56.083625+00:00\n",
            "user: I have a three-year-old niece.\n",
            "Time: 2025-10-21T14:15:56.019585+00:00\n",
            "user: I got my three-year-old niece a red bike for her third birthday.\n",
            "</PAST_CONVERSATIONS>\n",
            "\n",
            "-----------------------------------------------------------\n",
            "Contents:\n",
            "{\"parts\":[{\"text\":\"What christmas present recommendations do you have for my niece?\"}],\"role\":\"user\"}\n",
            "{\"parts\":[{\"text\":\"Your three-year-old niece sounds like she has a great bike already! For Christmas, you might consider something different to add to her playtime. Here are some recommendations for a three-year-old:\\n\\n1.  **Creative Play:**\\n    *   **Art Supplies:** Large crayons, washable finger paints, chunky paintbrushes, or a simple easel with paper.\\n    *   **Play-Doh Sets:** These are always a hit and encourage fine motor skills and imaginative creation.\\n    *   **Sticker Books:** Reusable sticker books or large activity sticker books can provide hours of fun.\\n\\n2.  **Building & Construction:**\\n    *   **DUPLO or Large Building Blocks:** Perfect for little hands to build towers, houses, and anything they can imagine.\\n    *   **Magnetic Tiles:** These are fantastic for open-ended building and exploring shapes.\\n\\n3.  **Imaginative & Pretend Play:**\\n    *   **Dress-Up Clothes:** A simple costume (like a fairy, princess, doctor, or animal) can spark endless stories.\\n    *   **Play Kitchen Accessories:** If she has a play kitchen, new food items, pots, or pans can refresh her play.\\n    *   **Doll or Stuffed Animal Set:** A new baby doll with accessories (bottle, blanket) or a set of small animal figures.\\n    *   **Puppets:** Hand puppets can encourage storytelling and communication.\\n\\n4.  **Books & Puzzles:**\\n    *   **Picture Books:** Look for engaging stories with colorful illustrations. Interactive books (lift-the-flap, touch-and-feel) are also popular.\\n    *   **Chunky Wooden Puzzles:** Simple 4-6 piece puzzles with knobs are great for developing problem-solving skills.\\n\\n5.  **Musical Instruments:**\\n    *   **Child-friendly instruments:** A toy keyboard, tambourine, or shakers can introduce her to music.\\n\\nThink about what she's currently interested in, whether it's animals, vehicles, princesses, or creating things, and that might help narrow down the perfect gift!\"}],\"role\":\"model\"}\n",
            "{\"parts\":[{\"text\":\"I think I'll get her a doll. What types are good for her age?\"}],\"role\":\"user\"}\n",
            "{\"parts\":[{\"text\":\"That's a lovely idea! Dolls are wonderful for encouraging imaginative play, nurturing, and developing social-emotional skills in three-year-olds.\\n\\nFor a three-year-old, you'll want something that is durable, easy for them to manage, and safe. Here are some types of dolls that are generally great for her age:\\n\\n1.  **Soft-Bodied Baby Dolls:**\\n    *   **Why they're good:** These are often the first choice for this age. They are soft and cuddly, perfect for hugging and comforting. Many come with simple outfits that are easy for little hands to put on and take off (great for developing fine motor skills). They encourage nurturing play, like feeding, rocking, and putting to bed.\\n    *   **Look for:** Dolls with soft, washable bodies and simple, chunky clothing. Brands like Cabbage Patch Kids (the soft-bodied versions), Melissa & Doug, or smaller baby doll lines are popular.\\n\\n2.  **Toddler Dolls (like some \\\"My First\\\" dolls):**\\n    *   **Why they're good:** These are often slightly larger than baby dolls but still manageable. They might have a bit more articulation (moveable arms/legs) and a wider range of clothing options. They can be good for slightly more complex pretend play scenarios.\\n    *   **Look for:** Dolls that are still relatively soft, or made from durable, child-friendly plastic. Avoid dolls with tiny accessories or intricate hair that will tangle easily. \\\"My First Princess\\\" dolls from brands like Disney often fit this category, as they usually have simpler outfits and fewer small parts than the collector versions.\\n\\n3.  **Doll with Easy-to-Manage Hair:**\\n    *   **Why they're good:** At three, many children enjoy brushing and styling a doll's hair. Look for dolls with rooted hair that isn't too long or fine, making it less prone to tangling and easier for little fingers to brush.\\n    *   **Look for:** Hair that feels thick and securely rooted. Some dolls come with a simple brush.\\n\\n4.  **Simple Rag Dolls:**\\n    *   **Why they're good:** These are classic, timeless, and incredibly cuddly. They are usually very durable, machine washable, and have soft, friendly faces. They are great for quiet play and bedtime snuggles.\\n    *   **Look for:** Well-made rag dolls with embroidered features (no small buttons for eyes, etc.) and sturdy stitching.\\n\\n**Things to consider and avoid:**\\n\\n*   **Size:** Make sure the doll isn't too big or heavy for her to carry comfortably.\\n*   **Small Parts:** Absolutely avoid dolls with tiny shoes, hair accessories, or other small detachable parts that could be a choking hazard. Check age recommendations carefully.\\n*   **Complex Electronics:** While some dolls talk or sing, too many complex features can sometimes limit imaginative play. A simple doll leaves more room for her to create her own stories.\\n*   **Hair Quality:** Avoid dolls with very thin, wispy hair that knots and frizzes instantly, as it can be frustrating for a three-year-old.\\n\\nMany brands like **Corolle, Melissa & Doug, Manhattan Toy Company, HABA,** or even generic **soft baby dolls** you might find at toy stores, offer excellent options for this age group. If you can, opt for a doll with a friendly, welcoming expression.\\n\\nHappy shopping! She'll love whatever you choose.\"}],\"role\":\"model\"}\n",
            "{\"parts\":[{\"text\":\"I think I'll get her a doll. What types are good for her age?\"}],\"role\":\"user\"}\n",
            "-----------------------------------------------------------\n",
            "Functions:\n",
            "\n",
            "-----------------------------------------------------------\n",
            "\n",
            "INFO:google_adk.google.adk.models.google_llm:Response received from the model.\n",
            "DEBUG:google_adk.google.adk.models.google_llm:\n",
            "LLM Response:\n",
            "-----------------------------------------------------------\n",
            "Text:\n",
            "That's a wonderful choice! A doll is a classic gift that encourages nurturing, imaginative play, and social-emotional development in three-year-olds.\n",
            "\n",
            "When choosing a doll for her age, here are the key types that are generally best and why:\n",
            "\n",
            "1.  **Soft-Bodied Baby Dolls:**\n",
            "    *   **Why they're great:** These are often the most popular for this age. They're soft, cuddly, and perfect for hugging. Many come with simple, easy-to-manage clothing that helps children practice dressing skills. They naturally inspire nurturing play like feeding, rocking, and comforting.\n",
            "    *   **What to look for:** Washable materials are a plus! Look for dolls with friendly embroidered or painted faces rather than small plastic parts.\n",
            "\n",
            "2.  **Toddler Dolls (e.g., \"My First\" dolls):**\n",
            "    *   **Why they're great:** These dolls might be a bit larger or have slightly more articulation (movable limbs) than pure baby dolls but are still designed for younger children. They can be great for slightly more complex imaginative scenarios.\n",
            "    *   **What to look for:** Ensure they're still robust and don't have intricate outfits or tiny accessories that are difficult for little hands to manage.\n",
            "\n",
            "3.  **Rag Dolls:**\n",
            "    *   **Why they're great:** Timeless and incredibly durable, rag dolls are very cuddly and often machine washable. Their simple design encourages children to create their own stories and personalities for the doll.\n",
            "    *   **What to look for:** Well-made construction, embroidered features (to avoid choking hazards from buttons), and soft, child-safe materials.\n",
            "\n",
            "**Key Considerations for a 3-year-old:**\n",
            "\n",
            "*   **No Small Parts:** This is crucial. Avoid dolls with tiny shoes, hair clips, jewelry, or any other small detachable pieces that could be a choking hazard. Always double-check age recommendations.\n",
            "*   **Manageable Size:** The doll shouldn't be too big or heavy for her to easily carry, dress, and play with independently.\n",
            "*   **Durable & Washable:** Three-year-olds can be enthusiastic! A doll that can withstand play and be easily cleaned is a major plus.\n",
            "*   **Simple Features:** While some dolls have electronic functions, a simple doll often fosters more imaginative play as your niece creates the doll's voice and personality.\n",
            "*   **Easy Hair (if applicable):** If the doll has hair, look for rooted hair that isn't too long or fine, making it less prone to tangles and easier for her to brush (if she's interested in that).\n",
            "\n",
            "Popular brands like **Corolle, Melissa & Doug, Manhattan Toy Company, HABA,** and various generic soft baby dolls from reputable toy stores offer excellent choices suitable for a three-year-old. She'll be thrilled with a doll for Christmas!\n",
            "-----------------------------------------------------------\n",
            "Function calls:\n",
            "\n",
            "-----------------------------------------------------------\n",
            "Raw response:\n",
            "{\"sdk_http_response\":{\"headers\":{\"Content-Type\":\"application/json; charset=UTF-8\",\"Vary\":\"Origin, X-Origin, Referer\",\"Content-Encoding\":\"gzip\",\"Date\":\"Tue, 21 Oct 2025 14:22:11 GMT\",\"Server\":\"scaffolding on HTTPServer2\",\"X-XSS-Protection\":\"0\",\"X-Frame-Options\":\"SAMEORIGIN\",\"X-Content-Type-Options\":\"nosniff\",\"Transfer-Encoding\":\"chunked\"}},\"candidates\":[{\"content\":{\"parts\":[{\"text\":\"That's a wonderful choice! A doll is a classic gift that encourages nurturing, imaginative play, and social-emotional development in three-year-olds.\\n\\nWhen choosing a doll for her age, here are the key types that are generally best and why:\\n\\n1.  **Soft-Bodied Baby Dolls:**\\n    *   **Why they're great:** These are often the most popular for this age. They're soft, cuddly, and perfect for hugging. Many come with simple, easy-to-manage clothing that helps children practice dressing skills. They naturally inspire nurturing play like feeding, rocking, and comforting.\\n    *   **What to look for:** Washable materials are a plus! Look for dolls with friendly embroidered or painted faces rather than small plastic parts.\\n\\n2.  **Toddler Dolls (e.g., \\\"My First\\\" dolls):**\\n    *   **Why they're great:** These dolls might be a bit larger or have slightly more articulation (movable limbs) than pure baby dolls but are still designed for younger children. They can be great for slightly more complex imaginative scenarios.\\n    *   **What to look for:** Ensure they're still robust and don't have intricate outfits or tiny accessories that are difficult for little hands to manage.\\n\\n3.  **Rag Dolls:**\\n    *   **Why they're great:** Timeless and incredibly durable, rag dolls are very cuddly and often machine washable. Their simple design encourages children to create their own stories and personalities for the doll.\\n    *   **What to look for:** Well-made construction, embroidered features (to avoid choking hazards from buttons), and soft, child-safe materials.\\n\\n**Key Considerations for a 3-year-old:**\\n\\n*   **No Small Parts:** This is crucial. Avoid dolls with tiny shoes, hair clips, jewelry, or any other small detachable pieces that could be a choking hazard. Always double-check age recommendations.\\n*   **Manageable Size:** The doll shouldn't be too big or heavy for her to easily carry, dress, and play with independently.\\n*   **Durable & Washable:** Three-year-olds can be enthusiastic! A doll that can withstand play and be easily cleaned is a major plus.\\n*   **Simple Features:** While some dolls have electronic functions, a simple doll often fosters more imaginative play as your niece creates the doll's voice and personality.\\n*   **Easy Hair (if applicable):** If the doll has hair, look for rooted hair that isn't too long or fine, making it less prone to tangles and easier for her to brush (if she's interested in that).\\n\\nPopular brands like **Corolle, Melissa & Doug, Manhattan Toy Company, HABA,** and various generic soft baby dolls from reputable toy stores offer excellent choices suitable for a three-year-old. She'll be thrilled with a doll for Christmas!\"}],\"role\":\"model\"},\"finish_reason\":\"STOP\",\"avg_logprobs\":-0.4524714194053461}],\"create_time\":\"2025-10-21T14:22:07.032947Z\",\"model_version\":\"gemini-2.5-flash\",\"response_id\":\"D5f3aLOBAqCH3NoPqZW5gAo\",\"usage_metadata\":{\"candidates_token_count\":605,\"candidates_tokens_details\":[{\"modality\":\"TEXT\",\"token_count\":605}],\"prompt_token_count\":1443,\"prompt_tokens_details\":[{\"modality\":\"TEXT\",\"token_count\":1443}],\"thoughts_token_count\":62,\"total_token_count\":2110,\"traffic_type\":\"ON_DEMAND\"},\"automatic_function_calling_history\":[]}\n",
            "-----------------------------------------------------------\n",
            "\n"
          ]
        },
        {
          "name": "stdout",
          "output_type": "stream",
          "text": [
            "Agent Response:  That's a wonderful choice! A doll is a classic gift that encourages nurturing, imaginative play, and social-emotional development in three-year-olds.\n",
            "\n",
            "When choosing a doll for her age, here are the key types that are generally best and why:\n",
            "\n",
            "1.  **Soft-Bodied Baby Dolls:**\n",
            "    *   **Why they're great:** These are often the most popular for this age. They're soft, cuddly, and perfect for hugging. Many come with simple, easy-to-manage clothing that helps children practice dressing skills. They naturally inspire nurturing play like feeding, rocking, and comforting.\n",
            "    *   **What to look for:** Washable materials are a plus! Look for dolls with friendly embroidered or painted faces rather than small plastic parts.\n",
            "\n",
            "2.  **Toddler Dolls (e.g., \"My First\" dolls):**\n",
            "    *   **Why they're great:** These dolls might be a bit larger or have slightly more articulation (movable limbs) than pure baby dolls but are still designed for younger children. They can be great for slightly more complex imaginative scenarios.\n",
            "    *   **What to look for:** Ensure they're still robust and don't have intricate outfits or tiny accessories that are difficult for little hands to manage.\n",
            "\n",
            "3.  **Rag Dolls:**\n",
            "    *   **Why they're great:** Timeless and incredibly durable, rag dolls are very cuddly and often machine washable. Their simple design encourages children to create their own stories and personalities for the doll.\n",
            "    *   **What to look for:** Well-made construction, embroidered features (to avoid choking hazards from buttons), and soft, child-safe materials.\n",
            "\n",
            "**Key Considerations for a 3-year-old:**\n",
            "\n",
            "*   **No Small Parts:** This is crucial. Avoid dolls with tiny shoes, hair clips, jewelry, or any other small detachable pieces that could be a choking hazard. Always double-check age recommendations.\n",
            "*   **Manageable Size:** The doll shouldn't be too big or heavy for her to easily carry, dress, and play with independently.\n",
            "*   **Durable & Washable:** Three-year-olds can be enthusiastic! A doll that can withstand play and be easily cleaned is a major plus.\n",
            "*   **Simple Features:** While some dolls have electronic functions, a simple doll often fosters more imaginative play as your niece creates the doll's voice and personality.\n",
            "*   **Easy Hair (if applicable):** If the doll has hair, look for rooted hair that isn't too long or fine, making it less prone to tangles and easier for her to brush (if she's interested in that).\n",
            "\n",
            "Popular brands like **Corolle, Melissa & Doug, Manhattan Toy Company, HABA,** and various generic soft baby dolls from reputable toy stores offer excellent choices suitable for a three-year-old. She'll be thrilled with a doll for Christmas!\n"
          ]
        }
      ],
      "source": [
        "call_agent(\n",
        "    \"I think I'll get her a doll. What types are good for her age?\",\n",
        "    session.id,\n",
        "    user_id=USER_ID,\n",
        ")"
      ]
    },
    {
      "cell_type": "markdown",
      "metadata": {
        "id": "rstDOvEhWogm"
      },
      "source": [
        "## Using Memory in your agent\n",
        "\n",
        "Now, let's link our agent to Memory, so that memories can be fetched by your agent and used for inference. This allows your agent to remember information from prior sessions in a new, empty session.\n",
        "\n",
        "You can use ADK's built-in tools to fetch memories and incorporate them in the prompt. When using the built-in tools, it's important to provide both a memory tool when creating your Agent and a memory service when defining your Runner."
      ]
    },
    {
      "cell_type": "markdown",
      "metadata": {
        "id": "yOiYWk7GZlyN"
      },
      "source": [
        "### `adk.PreloadMemoryTool`\n",
        "The `PreloadMemoryTool` always retrieves memories at the start of each turn and includes the memories in the system instruction.\n",
        "\n",
        "Under the hood, it invokes `memory_service.search_memory` for the given User and App Name. Memory is invoked before the LLM is called, so there will not be an associated tool call logged for memory.\n",
        "\n",
        "We're going to use a [callback](https://google.github.io/adk-docs/callbacks/) to print out the System Instructions. Since we use `before_model_callback`, the callback executes right before the model is called.\n",
        "\n",
        "<img src=\"https://google.github.io/adk-docs/assets/callback_flow.png\">"
      ]
    },
    {
      "cell_type": "code",
      "execution_count": null,
      "metadata": {
        "id": "l1ENgxmkWnVl"
      },
      "outputs": [],
      "source": [
        "from google import adk\n",
        "\n",
        "\n",
        "def log_system_instructions(callback_context, llm_request):\n",
        "    \"\"\"A callback to print the LLM request.\"\"\"\n",
        "    print(\n",
        "        f\"\\n*System Instruction*:\\n{llm_request.config.system_instruction}\\n*********\\n\"\n",
        "    )\n",
        "\n",
        "\n",
        "agent = LlmAgent(\n",
        "    model=MODEL,\n",
        "    name=\"Generic_QA_Agent\",\n",
        "    instruction=\"Answer the user's questions\",\n",
        "    tools=[adk.tools.preload_memory_tool.PreloadMemoryTool()],\n",
        "    before_model_callback=log_system_instructions,\n",
        ")\n",
        "\n",
        "runner = Runner(\n",
        "    agent=agent,\n",
        "    app_name=APP_NAME,\n",
        "    session_service=session_service,\n",
        "    memory_service=memory_bank_service,\n",
        ")"
      ]
    },
    {
      "cell_type": "markdown",
      "metadata": {
        "id": "r0g7dxD0aG_H"
      },
      "source": [
        "This conversation uses a new session, so it doesn't have access to the user's conversation history without using memory.\n",
        "\n",
        "Since we're using `PreloadMemoryTool`, the retrieved memories will be appended to the System Instructions."
      ]
    },
    {
      "cell_type": "code",
      "execution_count": null,
      "metadata": {
        "colab": {
          "base_uri": "https://localhost:8080/"
        },
        "id": "2FD9VV_4Hqja",
        "outputId": "4a9b0535-052d-4e5a-d28c-ee06e0f6a09f"
      },
      "outputs": [
        {
          "name": "stderr",
          "output_type": "stream",
          "text": [
            "INFO:google_adk.google.adk.memory.vertex_ai_memory_bank_service:Search memory response received.\n",
            "DEBUG:google_adk.google.adk.memory.vertex_ai_memory_bank_service:Retrieved memory: distance=0.8436347388201234 memory=Memory(\n",
            "  create_time=datetime.datetime(2025, 10, 21, 13, 54, 55, 860546, tzinfo=TzInfo(UTC)),\n",
            "  fact='I got my three-year-old niece a red bike for her third birthday.',\n",
            "  name='projects/437300234315/locations/us-central1/reasoningEngines/283924688617340928/memories/4467337184130629632',\n",
            "  scope={\n",
            "    'app_name': 'memory_example_app',\n",
            "    'user_id': 'My User'\n",
            "  },\n",
            "  update_time=datetime.datetime(2025, 10, 21, 14, 15, 56, 19585, tzinfo=TzInfo(UTC))\n",
            ")\n",
            "DEBUG:google_adk.google.adk.memory.vertex_ai_memory_bank_service:Retrieved memory: distance=0.8454955729521494 memory=Memory(\n",
            "  create_time=datetime.datetime(2025, 10, 21, 14, 17, 48, 588965, tzinfo=TzInfo(UTC)),\n",
            "  fact='I plan to get my three-year-old niece a doll for Christmas.',\n",
            "  name='projects/437300234315/locations/us-central1/reasoningEngines/283924688617340928/memories/8674121448559738880',\n",
            "  scope={\n",
            "    'app_name': 'memory_example_app',\n",
            "    'user_id': 'My User'\n",
            "  },\n",
            "  update_time=datetime.datetime(2025, 10, 21, 14, 17, 48, 588965, tzinfo=TzInfo(UTC))\n",
            ")\n",
            "DEBUG:google_adk.google.adk.memory.vertex_ai_memory_bank_service:Retrieved memory: distance=0.8461041281672127 memory=Memory(\n",
            "  create_time=datetime.datetime(2025, 10, 21, 13, 54, 55, 859611, tzinfo=TzInfo(UTC)),\n",
            "  fact='I have a three-year-old niece.',\n",
            "  name='projects/437300234315/locations/us-central1/reasoningEngines/283924688617340928/memories/6773180193344323584',\n",
            "  scope={\n",
            "    'app_name': 'memory_example_app',\n",
            "    'user_id': 'My User'\n",
            "  },\n",
            "  update_time=datetime.datetime(2025, 10, 21, 14, 0, 56, 83625, tzinfo=TzInfo(UTC))\n",
            ")\n"
          ]
        },
        {
          "name": "stdout",
          "output_type": "stream",
          "text": [
            "\n",
            "*System Instruction*:\n",
            "Answer the user's questions\n",
            "\n",
            "You are an agent. Your internal name is \"Generic_QA_Agent\".\n",
            "\n",
            "The following content is from your previous conversations with the user.\n",
            "They may be useful for answering the user's current query.\n",
            "<PAST_CONVERSATIONS>\n",
            "Time: 2025-10-21T14:15:56.019585+00:00\n",
            "user: I got my three-year-old niece a red bike for her third birthday.\n",
            "Time: 2025-10-21T14:17:48.588965+00:00\n",
            "user: I plan to get my three-year-old niece a doll for Christmas.\n",
            "Time: 2025-10-21T14:00:56.083625+00:00\n",
            "user: I have a three-year-old niece.\n",
            "</PAST_CONVERSATIONS>\n",
            "\n",
            "*********\n",
            "\n"
          ]
        },
        {
          "name": "stderr",
          "output_type": "stream",
          "text": [
            "INFO:google_adk.google.adk.models.google_llm:Sending out request, model: gemini-2.5-flash, backend: GoogleLLMVariant.VERTEX_AI, stream: False\n",
            "DEBUG:google_adk.google.adk.models.google_llm:\n",
            "LLM Request:\n",
            "-----------------------------------------------------------\n",
            "System Instruction:\n",
            "Answer the user's questions\n",
            "\n",
            "You are an agent. Your internal name is \"Generic_QA_Agent\".\n",
            "\n",
            "The following content is from your previous conversations with the user.\n",
            "They may be useful for answering the user's current query.\n",
            "<PAST_CONVERSATIONS>\n",
            "Time: 2025-10-21T14:15:56.019585+00:00\n",
            "user: I got my three-year-old niece a red bike for her third birthday.\n",
            "Time: 2025-10-21T14:17:48.588965+00:00\n",
            "user: I plan to get my three-year-old niece a doll for Christmas.\n",
            "Time: 2025-10-21T14:00:56.083625+00:00\n",
            "user: I have a three-year-old niece.\n",
            "</PAST_CONVERSATIONS>\n",
            "\n",
            "-----------------------------------------------------------\n",
            "Contents:\n",
            "{\"parts\":[{\"text\":\"Can you remind me what I got my niece for her christmas?\"}],\"role\":\"user\"}\n",
            "-----------------------------------------------------------\n",
            "Functions:\n",
            "\n",
            "-----------------------------------------------------------\n",
            "\n",
            "INFO:google_adk.google.adk.models.google_llm:Response received from the model.\n",
            "DEBUG:google_adk.google.adk.models.google_llm:\n",
            "LLM Response:\n",
            "-----------------------------------------------------------\n",
            "Text:\n",
            "You planned to get your niece a doll for Christmas.\n",
            "-----------------------------------------------------------\n",
            "Function calls:\n",
            "\n",
            "-----------------------------------------------------------\n",
            "Raw response:\n",
            "{\"sdk_http_response\":{\"headers\":{\"Content-Type\":\"application/json; charset=UTF-8\",\"Vary\":\"Origin, X-Origin, Referer\",\"Content-Encoding\":\"gzip\",\"Date\":\"Tue, 21 Oct 2025 14:23:47 GMT\",\"Server\":\"scaffolding on HTTPServer2\",\"X-XSS-Protection\":\"0\",\"X-Frame-Options\":\"SAMEORIGIN\",\"X-Content-Type-Options\":\"nosniff\",\"Transfer-Encoding\":\"chunked\"}},\"candidates\":[{\"content\":{\"parts\":[{\"text\":\"You planned to get your niece a doll for Christmas.\"}],\"role\":\"model\"},\"finish_reason\":\"STOP\",\"avg_logprobs\":-3.0602767250754614}],\"create_time\":\"2025-10-21T14:23:46.244591Z\",\"model_version\":\"gemini-2.5-flash\",\"response_id\":\"cpf3aO_2DtWD2PgPnuuEyAE\",\"usage_metadata\":{\"candidates_token_count\":11,\"candidates_tokens_details\":[{\"modality\":\"TEXT\",\"token_count\":11}],\"prompt_token_count\":240,\"prompt_tokens_details\":[{\"modality\":\"TEXT\",\"token_count\":240}],\"thoughts_token_count\":146,\"total_token_count\":397,\"traffic_type\":\"ON_DEMAND\"},\"automatic_function_calling_history\":[]}\n",
            "-----------------------------------------------------------\n",
            "\n"
          ]
        },
        {
          "name": "stdout",
          "output_type": "stream",
          "text": [
            "Agent Response:  You planned to get your niece a doll for Christmas.\n"
          ]
        }
      ],
      "source": [
        "session = await session_service.create_session(app_name=APP_NAME, user_id=USER_ID)\n",
        "\n",
        "call_agent(\n",
        "    \"Can you remind me what I got my niece for her christmas?\",\n",
        "    session.id,\n",
        "    user_id=USER_ID,\n",
        ")"
      ]
    },
    {
      "cell_type": "markdown",
      "metadata": {
        "id": "TSpv-aGuaG4g"
      },
      "source": [
        "### adk.LoadMemoryTool\n",
        "\n",
        "Now, let's use `LoadMemoryTool`. Unlike `PreloadMemoryTool`, this tool acts like a standard tool. Your agent needs to decide whether the tool should be invoked."
      ]
    },
    {
      "cell_type": "code",
      "execution_count": null,
      "metadata": {
        "id": "aIbplEW0ZlRR"
      },
      "outputs": [],
      "source": [
        "from google import adk\n",
        "\n",
        "\n",
        "def log_tool_call(tool, args, tool_response, **kwargs):\n",
        "    \"\"\"A callback to print the LLM request.\"\"\"\n",
        "    print(f\"\\n*Tool*:\\n{tool}\")\n",
        "    print(f\"\\n*Tool call*:\\n{args}\")\n",
        "    print(f\"\\n*Tool response*:\\n{tool_response}\\n*********\\n\")\n",
        "\n",
        "\n",
        "agent = LlmAgent(\n",
        "    model=MODEL,\n",
        "    name=\"Generic_QA_Agent\",\n",
        "    instruction=\"Answer the user's questions\",\n",
        "    tools=[adk.tools.load_memory_tool.LoadMemoryTool()],\n",
        "    before_model_callback=log_system_instructions,\n",
        "    after_tool_callback=log_tool_call,\n",
        ")\n",
        "\n",
        "runner = Runner(\n",
        "    agent=agent,\n",
        "    app_name=APP_NAME,\n",
        "    session_service=session_service,\n",
        "    memory_service=memory_bank_service,\n",
        ")"
      ]
    },
    {
      "cell_type": "code",
      "execution_count": null,
      "metadata": {
        "colab": {
          "base_uri": "https://localhost:8080/"
        },
        "id": "u2LLB98aZssb",
        "outputId": "87fbcf42-e97f-4e92-9201-c8ac47242567"
      },
      "outputs": [
        {
          "name": "stdout",
          "output_type": "stream",
          "text": [
            "\n",
            "*System Instruction*:\n",
            "Answer the user's questions\n",
            "\n",
            "You are an agent. Your internal name is \"Generic_QA_Agent\".\n",
            "\n",
            "\n",
            "You have memory. You can use it to answer questions. If any questions need\n",
            "you to look up the memory, you should call load_memory function with a query.\n",
            "\n",
            "*********\n",
            "\n"
          ]
        },
        {
          "name": "stderr",
          "output_type": "stream",
          "text": [
            "INFO:google_adk.google.adk.models.google_llm:Sending out request, model: gemini-2.5-flash, backend: GoogleLLMVariant.VERTEX_AI, stream: False\n",
            "DEBUG:google_adk.google.adk.models.google_llm:\n",
            "LLM Request:\n",
            "-----------------------------------------------------------\n",
            "System Instruction:\n",
            "Answer the user's questions\n",
            "\n",
            "You are an agent. Your internal name is \"Generic_QA_Agent\".\n",
            "\n",
            "\n",
            "You have memory. You can use it to answer questions. If any questions need\n",
            "you to look up the memory, you should call load_memory function with a query.\n",
            "\n",
            "-----------------------------------------------------------\n",
            "Contents:\n",
            "{\"parts\":[{\"text\":\"Can you remind me what I got my niece for her christmas?\"}],\"role\":\"user\"}\n",
            "-----------------------------------------------------------\n",
            "Functions:\n",
            "load_memory: {'query': {'type': <Type.STRING: 'STRING'>}} \n",
            "-----------------------------------------------------------\n",
            "\n",
            "INFO:google_adk.google.adk.models.google_llm:Response received from the model.\n",
            "WARNING:google_genai.types:Warning: there are non-text parts in the response: ['thought_signature', 'function_call'], returning concatenated text result from text parts. Check the full candidates.content.parts accessor to get the full model response.\n",
            "DEBUG:google_adk.google.adk.models.google_llm:\n",
            "LLM Response:\n",
            "-----------------------------------------------------------\n",
            "Text:\n",
            "None\n",
            "-----------------------------------------------------------\n",
            "Function calls:\n",
            "name: load_memory, args: {'query': 'what I got my niece for christmas'}\n",
            "-----------------------------------------------------------\n",
            "Raw response:\n",
            "{\"sdk_http_response\":{\"headers\":{\"Content-Type\":\"application/json; charset=UTF-8\",\"Vary\":\"Origin, X-Origin, Referer\",\"Content-Encoding\":\"gzip\",\"Date\":\"Tue, 21 Oct 2025 14:29:51 GMT\",\"Server\":\"scaffolding on HTTPServer2\",\"X-XSS-Protection\":\"0\",\"X-Frame-Options\":\"SAMEORIGIN\",\"X-Content-Type-Options\":\"nosniff\",\"Transfer-Encoding\":\"chunked\"}},\"candidates\":[{\"content\":{\"parts\":[{\"thought_signature\":\"CocDAePx_17DNHeYTJXEv0WXkgqsmsILFbCH-38bs2HI8EWKJvuzFco5saQTBFlJIWjDJiO7lYGOocdj0v9uaLuP_2isqk4ZqeKXz-SKnwC1fJpnWKCwqDRiNLQT_qCrpxe9DDTs3GlUDYkIQ0aoj5lK2c98aEfOiTg2TNe2Ip4q6VytaP646QHiPHyRKjDuNClBOzJaKkqp0RP0zD8CVoUIl73Co23xTtijoBuHckzP0eUaGESKbC-1Mkbf_38reuKoZr-8T8-CES8fersGprWMPJReOU1WItdsZRcIJvAbFcZyOfMchXySRF3q4Nh8qqJ1q4kavUjP-DeHF3sSPuXE_uOYvJj4MMvPxz5hAJIK4Ejy794fiaILJ-smCjJ7jmuLo9N0BXDtqq-rvnWQHXk3Judagc409bvzwAERLne-w6h3nHH7yFIZNK7HJL_ScwMdhhFs3WPPAf5KJmaTuri7RYIj2Bmly_r09dQM7gaeAdjOtLro-zgV253wfel-GzmxD1AvGqKDjQ==\",\"function_call\":{\"args\":{\"query\":\"what I got my niece for christmas\"},\"name\":\"load_memory\"}}],\"role\":\"model\"},\"finish_reason\":\"STOP\",\"avg_logprobs\":-2.1048460873690518}],\"create_time\":\"2025-10-21T14:29:50.598579Z\",\"model_version\":\"gemini-2.5-flash\",\"response_id\":\"3pj3aLPEJNWD2PgPnuuEyAE\",\"usage_metadata\":{\"candidates_token_count\":11,\"candidates_tokens_details\":[{\"modality\":\"TEXT\",\"token_count\":11}],\"prompt_token_count\":114,\"prompt_tokens_details\":[{\"modality\":\"TEXT\",\"token_count\":114}],\"thoughts_token_count\":80,\"total_token_count\":205,\"traffic_type\":\"ON_DEMAND\"},\"automatic_function_calling_history\":[]}\n",
            "-----------------------------------------------------------\n",
            "\n",
            "INFO:google_adk.google.adk.memory.vertex_ai_memory_bank_service:Search memory response received.\n",
            "DEBUG:google_adk.google.adk.memory.vertex_ai_memory_bank_service:Retrieved memory: distance=0.7643322053222495 memory=Memory(\n",
            "  create_time=datetime.datetime(2025, 10, 21, 13, 54, 55, 859611, tzinfo=TzInfo(UTC)),\n",
            "  fact='I have a three-year-old niece.',\n",
            "  name='projects/437300234315/locations/us-central1/reasoningEngines/283924688617340928/memories/6773180193344323584',\n",
            "  scope={\n",
            "    'app_name': 'memory_example_app',\n",
            "    'user_id': 'My User'\n",
            "  },\n",
            "  update_time=datetime.datetime(2025, 10, 21, 14, 0, 56, 83625, tzinfo=TzInfo(UTC))\n",
            ")\n",
            "DEBUG:google_adk.google.adk.memory.vertex_ai_memory_bank_service:Retrieved memory: distance=0.7894313063666599 memory=Memory(\n",
            "  create_time=datetime.datetime(2025, 10, 21, 14, 17, 48, 588965, tzinfo=TzInfo(UTC)),\n",
            "  fact='I plan to get my three-year-old niece a doll for Christmas.',\n",
            "  name='projects/437300234315/locations/us-central1/reasoningEngines/283924688617340928/memories/8674121448559738880',\n",
            "  scope={\n",
            "    'app_name': 'memory_example_app',\n",
            "    'user_id': 'My User'\n",
            "  },\n",
            "  update_time=datetime.datetime(2025, 10, 21, 14, 17, 48, 588965, tzinfo=TzInfo(UTC))\n",
            ")\n",
            "DEBUG:google_adk.google.adk.memory.vertex_ai_memory_bank_service:Retrieved memory: distance=0.7942956430698213 memory=Memory(\n",
            "  create_time=datetime.datetime(2025, 10, 21, 13, 54, 55, 860546, tzinfo=TzInfo(UTC)),\n",
            "  fact='I got my three-year-old niece a red bike for her third birthday.',\n",
            "  name='projects/437300234315/locations/us-central1/reasoningEngines/283924688617340928/memories/4467337184130629632',\n",
            "  scope={\n",
            "    'app_name': 'memory_example_app',\n",
            "    'user_id': 'My User'\n",
            "  },\n",
            "  update_time=datetime.datetime(2025, 10, 21, 14, 15, 56, 19585, tzinfo=TzInfo(UTC))\n",
            ")\n",
            "INFO:google_adk.google.adk.models.google_llm:Sending out request, model: gemini-2.5-flash, backend: GoogleLLMVariant.VERTEX_AI, stream: False\n",
            "DEBUG:google_adk.google.adk.models.google_llm:\n",
            "LLM Request:\n",
            "-----------------------------------------------------------\n",
            "System Instruction:\n",
            "Answer the user's questions\n",
            "\n",
            "You are an agent. Your internal name is \"Generic_QA_Agent\".\n",
            "\n",
            "\n",
            "You have memory. You can use it to answer questions. If any questions need\n",
            "you to look up the memory, you should call load_memory function with a query.\n",
            "\n",
            "-----------------------------------------------------------\n",
            "Contents:\n",
            "{\"parts\":[{\"text\":\"Can you remind me what I got my niece for her christmas?\"}],\"role\":\"user\"}\n",
            "{\"parts\":[{\"thought_signature\":\"CocDAePx_17DNHeYTJXEv0WXkgqsmsILFbCH-38bs2HI8EWKJvuzFco5saQTBFlJIWjDJiO7lYGOocdj0v9uaLuP_2isqk4ZqeKXz-SKnwC1fJpnWKCwqDRiNLQT_qCrpxe9DDTs3GlUDYkIQ0aoj5lK2c98aEfOiTg2TNe2Ip4q6VytaP646QHiPHyRKjDuNClBOzJaKkqp0RP0zD8CVoUIl73Co23xTtijoBuHckzP0eUaGESKbC-1Mkbf_38reuKoZr-8T8-CES8fersGprWMPJReOU1WItdsZRcIJvAbFcZyOfMchXySRF3q4Nh8qqJ1q4kavUjP-DeHF3sSPuXE_uOYvJj4MMvPxz5hAJIK4Ejy794fiaILJ-smCjJ7jmuLo9N0BXDtqq-rvnWQHXk3Judagc409bvzwAERLne-w6h3nHH7yFIZNK7HJL_ScwMdhhFs3WPPAf5KJmaTuri7RYIj2Bmly_r09dQM7gaeAdjOtLro-zgV253wfel-GzmxD1AvGqKDjQ==\",\"function_call\":{\"args\":{\"query\":\"what I got my niece for christmas\"},\"name\":\"load_memory\"}}],\"role\":\"model\"}\n",
            "{\"parts\":[{\"function_response\":{\"name\":\"load_memory\",\"response\":{\"result\":{\"memories\":[{\"content\":{\"parts\":[{\"text\":\"I have a three-year-old niece.\"}],\"role\":\"user\"},\"author\":\"user\",\"timestamp\":\"2025-10-21T14:00:56.083625+00:00\"},{\"content\":{\"parts\":[{\"text\":\"I plan to get my three-year-old niece a doll for Christmas.\"}],\"role\":\"user\"},\"author\":\"user\",\"timestamp\":\"2025-10-21T14:17:48.588965+00:00\"},{\"content\":{\"parts\":[{\"text\":\"I got my three-year-old niece a red bike for her third birthday.\"}],\"role\":\"user\"},\"author\":\"user\",\"timestamp\":\"2025-10-21T14:15:56.019585+00:00\"}]}}}}],\"role\":\"user\"}\n",
            "-----------------------------------------------------------\n",
            "Functions:\n",
            "load_memory: {'query': {'type': <Type.STRING: 'STRING'>}} \n",
            "-----------------------------------------------------------\n",
            "\n"
          ]
        },
        {
          "name": "stdout",
          "output_type": "stream",
          "text": [
            "\n",
            "*Tool*:\n",
            "<google.adk.tools.load_memory_tool.LoadMemoryTool object at 0x7fda78a18f50>\n",
            "\n",
            "*Tool call*:\n",
            "{'query': 'what I got my niece for christmas'}\n",
            "\n",
            "*Tool response*:\n",
            "memories=[MemoryEntry(content=Content(\n",
            "  parts=[\n",
            "    Part(\n",
            "      text='I have a three-year-old niece.'\n",
            "    ),\n",
            "  ],\n",
            "  role='user'\n",
            "), author='user', timestamp='2025-10-21T14:00:56.083625+00:00'), MemoryEntry(content=Content(\n",
            "  parts=[\n",
            "    Part(\n",
            "      text='I plan to get my three-year-old niece a doll for Christmas.'\n",
            "    ),\n",
            "  ],\n",
            "  role='user'\n",
            "), author='user', timestamp='2025-10-21T14:17:48.588965+00:00'), MemoryEntry(content=Content(\n",
            "  parts=[\n",
            "    Part(\n",
            "      text='I got my three-year-old niece a red bike for her third birthday.'\n",
            "    ),\n",
            "  ],\n",
            "  role='user'\n",
            "), author='user', timestamp='2025-10-21T14:15:56.019585+00:00')]\n",
            "*********\n",
            "\n",
            "\n",
            "*System Instruction*:\n",
            "Answer the user's questions\n",
            "\n",
            "You are an agent. Your internal name is \"Generic_QA_Agent\".\n",
            "\n",
            "\n",
            "You have memory. You can use it to answer questions. If any questions need\n",
            "you to look up the memory, you should call load_memory function with a query.\n",
            "\n",
            "*********\n",
            "\n"
          ]
        },
        {
          "name": "stderr",
          "output_type": "stream",
          "text": [
            "INFO:google_adk.google.adk.models.google_llm:Response received from the model.\n",
            "WARNING:google_genai.types:Warning: there are non-text parts in the response: ['thought_signature'], returning concatenated text result from text parts. Check the full candidates.content.parts accessor to get the full model response.\n",
            "DEBUG:google_adk.google.adk.models.google_llm:\n",
            "LLM Response:\n",
            "-----------------------------------------------------------\n",
            "Text:\n",
            "I'm sorry, I couldn't find a record of what you got your niece for Christmas. I can see that you *planned* to get her a doll, but not what you actually got her. I also see you got her a red bike for her third birthday.\n",
            "-----------------------------------------------------------\n",
            "Function calls:\n",
            "\n",
            "-----------------------------------------------------------\n",
            "Raw response:\n",
            "{\"sdk_http_response\":{\"headers\":{\"Content-Type\":\"application/json; charset=UTF-8\",\"Vary\":\"Origin, X-Origin, Referer\",\"Content-Encoding\":\"gzip\",\"Date\":\"Tue, 21 Oct 2025 14:29:57 GMT\",\"Server\":\"scaffolding on HTTPServer2\",\"X-XSS-Protection\":\"0\",\"X-Frame-Options\":\"SAMEORIGIN\",\"X-Content-Type-Options\":\"nosniff\",\"Transfer-Encoding\":\"chunked\"}},\"candidates\":[{\"content\":{\"parts\":[{\"thought_signature\":\"CuIEAePx_16Jx-Ji1dPyddpYcgoxe3VXifqnKwhlURKte99HbXnogTpyuOiSEFDPdi24HOACmuMQidvfaBMLiSkO8kPBUDO4kABjR4NVpQRs5dOx3S4xWoqo8gPUNh3JmWMTMVSrLV2S3Mof4Gnj3tTfzQGAO75a6SQtLjciZhwztSWrLY5-YRQ42QsAYR_bgjrMyVqJfnTLlQKKLhrMh653PmlTWQOpo_wlpXuwl0DAuiGVVm1EBnc70PQahm4LX0-QaCANWOwMHHmkkXzp0diSRO5HZYK6ZmqavofiHk58GfiGF3owVY9DSBZ0rPj7-Ew6B_pT3yvT1TdsFTqMBj0sj9q53Cn_6N7SiOm9TJuvkNrOEPSpIgfx2DKCQw3ICBVouL6swbmQiqGFiYLYOZ9L2FzXedKZ14k3dROTQCZZ0yYRq9KjJ0QE_m1QIxfGaUiJQdup6624BCSeDfqRfZIgNUwMiYEj_w3Af4HJXRjgTFIrpizzFuw5lzsKEZTQfgPbYR3ZE92_FkoLC0kxKYTjnfLvL7A4ryr01wfqJoOg8kG6EbJLnHBxifUefbmKAvMj2883TkIfKegPPtBjOpl4eYkx0Sdu8O09tRRn-5IkVKWEPVYedIIxXBM2l7m4wh5LA95HGaZTIl2HZkt-CvMCwAdB_qgQzJC9zlaO08qSYSaYQ0k_DBdm4pw-aQSNgzAP9rAW7PugRCK5oCvtMPU61FvJiA1VFVI4C_V2ay-tUWrgSPaWkgoFNSRQ4mehivsfbF-abAjxWNvNZEViZfCluSdJTffqRMm15YRevKPNPB4S1A==\",\"text\":\"I'm sorry, I couldn't find a record of what you got your niece for Christmas. I can see that you *planned* to get her a doll, but not what you actually got her. I also see you got her a red bike for her third birthday.\"}],\"role\":\"model\"},\"finish_reason\":\"STOP\",\"avg_logprobs\":-0.8120983859948945}],\"create_time\":\"2025-10-21T14:29:55.818380Z\",\"model_version\":\"gemini-2.5-flash\",\"response_id\":\"45j3aMz5MaWB2PgPgpCCyA8\",\"usage_metadata\":{\"candidates_token_count\":57,\"candidates_tokens_details\":[{\"modality\":\"TEXT\",\"token_count\":57}],\"prompt_token_count\":293,\"prompt_tokens_details\":[{\"modality\":\"TEXT\",\"token_count\":371}],\"thoughts_token_count\":136,\"total_token_count\":486,\"traffic_type\":\"ON_DEMAND\"},\"automatic_function_calling_history\":[]}\n",
            "-----------------------------------------------------------\n",
            "\n"
          ]
        },
        {
          "name": "stdout",
          "output_type": "stream",
          "text": [
            "Agent Response:  I'm sorry, I couldn't find a record of what you got your niece for Christmas. I can see that you *planned* to get her a doll, but not what you actually got her. I also see you got her a red bike for her third birthday.\n"
          ]
        }
      ],
      "source": [
        "session = await session_service.create_session(app_name=APP_NAME, user_id=USER_ID)\n",
        "\n",
        "call_agent(\n",
        "    \"Can you remind me what I got my niece for her christmas?\",\n",
        "    session.id,\n",
        "    user_id=USER_ID,\n",
        ")"
      ]
    },
    {
      "cell_type": "markdown",
      "metadata": {
        "id": "9uGnTDQO42tf"
      },
      "source": [
        "If the agent decides that Memory is not helpful for a given query, the Memory tool will not be invoked."
      ]
    },
    {
      "cell_type": "code",
      "execution_count": null,
      "metadata": {
        "colab": {
          "base_uri": "https://localhost:8080/"
        },
        "id": "Pmm3SJOsd288",
        "outputId": "4a41126a-0562-4145-e613-3311afefc7da"
      },
      "outputs": [
        {
          "name": "stdout",
          "output_type": "stream",
          "text": [
            "\n",
            "*System Instruction*:\n",
            "Answer the user's questions\n",
            "\n",
            "You are an agent. Your internal name is \"Generic_QA_Agent\".\n",
            "\n",
            "\n",
            "You have memory. You can use it to answer questions. If any questions need\n",
            "you to look up the memory, you should call load_memory function with a query.\n",
            "\n",
            "*********\n",
            "\n"
          ]
        },
        {
          "name": "stderr",
          "output_type": "stream",
          "text": [
            "INFO:google_adk.google.adk.models.google_llm:Sending out request, model: gemini-2.5-flash, backend: GoogleLLMVariant.VERTEX_AI, stream: False\n",
            "DEBUG:google_adk.google.adk.models.google_llm:\n",
            "LLM Request:\n",
            "-----------------------------------------------------------\n",
            "System Instruction:\n",
            "Answer the user's questions\n",
            "\n",
            "You are an agent. Your internal name is \"Generic_QA_Agent\".\n",
            "\n",
            "\n",
            "You have memory. You can use it to answer questions. If any questions need\n",
            "you to look up the memory, you should call load_memory function with a query.\n",
            "\n",
            "-----------------------------------------------------------\n",
            "Contents:\n",
            "{\"parts\":[{\"text\":\"Hi!\"}],\"role\":\"user\"}\n",
            "-----------------------------------------------------------\n",
            "Functions:\n",
            "load_memory: {'query': {'type': <Type.STRING: 'STRING'>}} \n",
            "-----------------------------------------------------------\n",
            "\n",
            "INFO:google_adk.google.adk.models.google_llm:Response received from the model.\n",
            "WARNING:google_genai.types:Warning: there are non-text parts in the response: ['thought_signature'], returning concatenated text result from text parts. Check the full candidates.content.parts accessor to get the full model response.\n",
            "DEBUG:google_adk.google.adk.models.google_llm:\n",
            "LLM Response:\n",
            "-----------------------------------------------------------\n",
            "Text:\n",
            "Hi there! How can I help you today?\n",
            "-----------------------------------------------------------\n",
            "Function calls:\n",
            "\n",
            "-----------------------------------------------------------\n",
            "Raw response:\n",
            "{\"sdk_http_response\":{\"headers\":{\"Content-Type\":\"application/json; charset=UTF-8\",\"Vary\":\"Origin, X-Origin, Referer\",\"Content-Encoding\":\"gzip\",\"Date\":\"Tue, 21 Oct 2025 14:30:17 GMT\",\"Server\":\"scaffolding on HTTPServer2\",\"X-XSS-Protection\":\"0\",\"X-Frame-Options\":\"SAMEORIGIN\",\"X-Content-Type-Options\":\"nosniff\",\"Transfer-Encoding\":\"chunked\"}},\"candidates\":[{\"content\":{\"parts\":[{\"thought_signature\":\"CqsBAePx_144DDbBadJlr8ZNMGG57Fln8nhj68_dAKzTMtln0Ef1Jf6NwhQ2sUSWUP61Ys12tEFUWejJerok_Ourd4_yxiqpidkUw3l2rkim_9VlkpjATDB6j0bvw_IBrRwl9Sxe8Lm-G4H9x9HAuhdkClonWw-hlFgHoOjA5Og4V8ryUmwkLNCfMGAbDfWRVjEnDPFvlbPaMYztVNti9_SQc-8qZIbURok2AZUD\",\"text\":\"Hi there! How can I help you today?\"}],\"role\":\"model\"},\"finish_reason\":\"STOP\",\"avg_logprobs\":-1.0614112854003905}],\"create_time\":\"2025-10-21T14:30:17.144634Z\",\"model_version\":\"gemini-2.5-flash\",\"response_id\":\"-Zj3aPrpCK2g3NoPg96PgAY\",\"usage_metadata\":{\"candidates_token_count\":10,\"candidates_tokens_details\":[{\"modality\":\"TEXT\",\"token_count\":10}],\"prompt_token_count\":103,\"prompt_tokens_details\":[{\"modality\":\"TEXT\",\"token_count\":103}],\"thoughts_token_count\":32,\"total_token_count\":145,\"traffic_type\":\"ON_DEMAND\"},\"automatic_function_calling_history\":[]}\n",
            "-----------------------------------------------------------\n",
            "\n"
          ]
        },
        {
          "name": "stdout",
          "output_type": "stream",
          "text": [
            "Agent Response:  Hi there! How can I help you today?\n"
          ]
        }
      ],
      "source": [
        "session = await session_service.create_session(app_name=APP_NAME, user_id=USER_ID)\n",
        "\n",
        "call_agent(\"Hi!\", session.id, user_id=USER_ID)"
      ]
    },
    {
      "cell_type": "markdown",
      "metadata": {
        "id": "-M6GeiZzAox6"
      },
      "source": [
        "### Custom callback to retrieve memories\n",
        "\n",
        "If you want more control over how memories are retrieved, you can create your own custom callback.\n",
        "\n",
        "For example, you can use the Agent Engine SDK within the callback to retrieve memories without similarity search. This is lower latency than using similarity search.\n",
        "\n",
        "You can also customize your `scope` rather than using the default \"app_name\" and \"user_id\" scope keys used by ADK's memory service."
      ]
    },
    {
      "cell_type": "code",
      "execution_count": null,
      "metadata": {
        "id": "TUc_jTzr5QSm"
      },
      "outputs": [],
      "source": [
        "def retrieve_memories_callback(callback_context, llm_request):\n",
        "    user_id = callback_context._invocation_context.user_id\n",
        "\n",
        "    response = client.agent_engines.memories.retrieve(\n",
        "        name=agent_engine.api_resource.name,\n",
        "        # Unlike the ADK Memory Service, this does not use App Name in the scope.\n",
        "        scope={\"user_id\": user_id},\n",
        "    )\n",
        "    memories = [f\"* {memory.memory.fact}\" for memory in list(response)]\n",
        "    if not memories:\n",
        "        # No memories to add to System Instructions.\n",
        "        return\n",
        "    # Append formatted memories to the System Instructions\n",
        "    llm_request.config.system_instruction += (\n",
        "        \"\\nHere is information that you have about the user:\\n\"\n",
        "    )\n",
        "    llm_request.config.system_instruction += \"\\n\".join(memories)\n",
        "\n",
        "\n",
        "def log_tool_call(tool, args, tool_response, **kwargs):\n",
        "    \"\"\"A callback to print the LLM request.\"\"\"\n",
        "    print(f\"\\n*Tool*:\\n{tool}\")\n",
        "    print(f\"\\n*Tool call*:\\n{args}\")\n",
        "    print(f\"\\n*Tool response*:\\n{log_tool_call}\\n*********\\n\")\n",
        "\n",
        "\n",
        "agent = LlmAgent(\n",
        "    model=MODEL,\n",
        "    name=\"Generic_QA_Agent\",\n",
        "    instruction=\"Answer the user's questions\",\n",
        "    before_model_callback=retrieve_memories_callback,\n",
        ")\n",
        "\n",
        "runner = Runner(\n",
        "    agent=agent,\n",
        "    app_name=APP_NAME,\n",
        "    session_service=session_service,\n",
        "    memory_service=memory_bank_service,\n",
        ")"
      ]
    },
    {
      "cell_type": "markdown",
      "metadata": {
        "id": "hPHr71m4_hiJ"
      },
      "source": [
        "Since we're using a different scope than the ADK Memory Service, we don't have access to the prior memories. Memories are isolated by their scope dictionary."
      ]
    },
    {
      "cell_type": "code",
      "execution_count": null,
      "metadata": {
        "colab": {
          "base_uri": "https://localhost:8080/"
        },
        "id": "0zV-bZtz51E6",
        "outputId": "afe6ff7c-46dd-41a4-b271-bf96e2f2b7f4"
      },
      "outputs": [
        {
          "name": "stderr",
          "output_type": "stream",
          "text": [
            "INFO:google_adk.google.adk.models.google_llm:Sending out request, model: gemini-2.5-flash, backend: GoogleLLMVariant.VERTEX_AI, stream: False\n",
            "DEBUG:google_adk.google.adk.models.google_llm:\n",
            "LLM Request:\n",
            "-----------------------------------------------------------\n",
            "System Instruction:\n",
            "Answer the user's questions\n",
            "\n",
            "You are an agent. Your internal name is \"Generic_QA_Agent\".\n",
            "-----------------------------------------------------------\n",
            "Contents:\n",
            "{\"parts\":[{\"text\":\"Hi!\"}],\"role\":\"user\"}\n",
            "-----------------------------------------------------------\n",
            "Functions:\n",
            "\n",
            "-----------------------------------------------------------\n",
            "\n",
            "INFO:google_adk.google.adk.models.google_llm:Response received from the model.\n",
            "DEBUG:google_adk.google.adk.models.google_llm:\n",
            "LLM Response:\n",
            "-----------------------------------------------------------\n",
            "Text:\n",
            "Hello there! How can I help you today?\n",
            "-----------------------------------------------------------\n",
            "Function calls:\n",
            "\n",
            "-----------------------------------------------------------\n",
            "Raw response:\n",
            "{\"sdk_http_response\":{\"headers\":{\"Content-Type\":\"application/json; charset=UTF-8\",\"Vary\":\"Origin, X-Origin, Referer\",\"Content-Encoding\":\"gzip\",\"Date\":\"Tue, 21 Oct 2025 14:34:40 GMT\",\"Server\":\"scaffolding on HTTPServer2\",\"X-XSS-Protection\":\"0\",\"X-Frame-Options\":\"SAMEORIGIN\",\"X-Content-Type-Options\":\"nosniff\",\"Transfer-Encoding\":\"chunked\"}},\"candidates\":[{\"content\":{\"parts\":[{\"text\":\"Hello there! How can I help you today?\"}],\"role\":\"model\"},\"finish_reason\":\"STOP\",\"avg_logprobs\":-0.5082371711730957}],\"create_time\":\"2025-10-21T14:34:40.111377Z\",\"model_version\":\"gemini-2.5-flash\",\"response_id\":\"AJr3aJHmBtWD2PgPnuuEyAE\",\"usage_metadata\":{\"candidates_token_count\":10,\"candidates_tokens_details\":[{\"modality\":\"TEXT\",\"token_count\":10}],\"prompt_token_count\":25,\"prompt_tokens_details\":[{\"modality\":\"TEXT\",\"token_count\":25}],\"thoughts_token_count\":23,\"total_token_count\":58,\"traffic_type\":\"ON_DEMAND\"},\"automatic_function_calling_history\":[]}\n",
            "-----------------------------------------------------------\n",
            "\n"
          ]
        },
        {
          "name": "stdout",
          "output_type": "stream",
          "text": [
            "Agent Response:  Hello there! How can I help you today?\n"
          ]
        }
      ],
      "source": [
        "session = await session_service.create_session(app_name=APP_NAME, user_id=USER_ID)\n",
        "\n",
        "call_agent(\"Hi!\", session.id, user_id=USER_ID)"
      ]
    },
    {
      "cell_type": "markdown",
      "metadata": {
        "id": "F-RoQ0UF_s5v"
      },
      "source": [
        "Let's first generate memories for our new scope."
      ]
    },
    {
      "cell_type": "code",
      "execution_count": null,
      "metadata": {
        "colab": {
          "base_uri": "https://localhost:8080/"
        },
        "id": "3PjiIK2L_r43",
        "outputId": "0d2f1466-829a-4eb4-9cd6-6d77148b5b76"
      },
      "outputs": [
        {
          "data": {
            "text/plain": [
              "AgentEngineGenerateMemoriesOperation(\n",
              "  done=True,\n",
              "  metadata={\n",
              "    '@type': 'type.googleapis.com/google.cloud.aiplatform.v1beta1.GenerateMemoriesOperationMetadata',\n",
              "    'genericMetadata': {\n",
              "      'createTime': '2025-10-21T14:36:07.761304Z',\n",
              "      'updateTime': '2025-10-21T14:36:10.561373Z'\n",
              "    }\n",
              "  },\n",
              "  name='projects/437300234315/locations/us-central1/reasoningEngines/283924688617340928/operations/2797386090502160384',\n",
              "  response=GenerateMemoriesResponse(\n",
              "    generated_memories=[\n",
              "      GenerateMemoriesResponseGeneratedMemory(\n",
              "        action=<GenerateMemoriesResponseGeneratedMemoryAction.CREATED: 'CREATED'>,\n",
              "        memory=Memory(\n",
              "          name='projects/437300234315/locations/us-central1/reasoningEngines/283924688617340928/memories/2531211556826382336'\n",
              "        )\n",
              "      ),\n",
              "    ]\n",
              "  )\n",
              ")"
            ]
          },
          "execution_count": 38,
          "metadata": {},
          "output_type": "execute_result"
        }
      ],
      "source": [
        "client.agent_engines.memories.generate(\n",
        "    scope={\"user_id\": USER_ID},\n",
        "    name=agent_engine.api_resource.name,\n",
        "    direct_contents_source={\n",
        "        \"events\": [\n",
        "            {\"content\": {\"role\": \"user\", \"parts\": [{\"text\": \"I have four nieces!\"}]}}\n",
        "        ]\n",
        "    },\n",
        ")"
      ]
    },
    {
      "cell_type": "code",
      "execution_count": null,
      "metadata": {
        "colab": {
          "base_uri": "https://localhost:8080/"
        },
        "id": "fTzgPdtU_9Qd",
        "outputId": "44a9d58a-baff-4496-ec06-d24452fad512"
      },
      "outputs": [
        {
          "name": "stderr",
          "output_type": "stream",
          "text": [
            "INFO:google_adk.google.adk.models.google_llm:Sending out request, model: gemini-2.5-flash, backend: GoogleLLMVariant.VERTEX_AI, stream: False\n",
            "DEBUG:google_adk.google.adk.models.google_llm:\n",
            "LLM Request:\n",
            "-----------------------------------------------------------\n",
            "System Instruction:\n",
            "Answer the user's questions\n",
            "\n",
            "You are an agent. Your internal name is \"Generic_QA_Agent\".\n",
            "Here is information that you have about the user:\n",
            "* I have four nieces.\n",
            "-----------------------------------------------------------\n",
            "Contents:\n",
            "{\"parts\":[{\"text\":\"Hi!\"}],\"role\":\"user\"}\n",
            "{\"parts\":[{\"text\":\"Hello there! How can I help you today?\"}],\"role\":\"model\"}\n",
            "{\"parts\":[{\"text\":\"What information do you know about me?\"}],\"role\":\"user\"}\n",
            "-----------------------------------------------------------\n",
            "Functions:\n",
            "\n",
            "-----------------------------------------------------------\n",
            "\n",
            "INFO:google_adk.google.adk.models.google_llm:Response received from the model.\n",
            "DEBUG:google_adk.google.adk.models.google_llm:\n",
            "LLM Response:\n",
            "-----------------------------------------------------------\n",
            "Text:\n",
            "I know that you have four nieces.\n",
            "-----------------------------------------------------------\n",
            "Function calls:\n",
            "\n",
            "-----------------------------------------------------------\n",
            "Raw response:\n",
            "{\"sdk_http_response\":{\"headers\":{\"Content-Type\":\"application/json; charset=UTF-8\",\"Vary\":\"Origin, X-Origin, Referer\",\"Content-Encoding\":\"gzip\",\"Date\":\"Tue, 21 Oct 2025 14:36:23 GMT\",\"Server\":\"scaffolding on HTTPServer2\",\"X-XSS-Protection\":\"0\",\"X-Frame-Options\":\"SAMEORIGIN\",\"X-Content-Type-Options\":\"nosniff\",\"Transfer-Encoding\":\"chunked\"}},\"candidates\":[{\"content\":{\"parts\":[{\"text\":\"I know that you have four nieces.\"}],\"role\":\"model\"},\"finish_reason\":\"STOP\",\"avg_logprobs\":-1.7027127742767334}],\"create_time\":\"2025-10-21T14:36:22.449994Z\",\"model_version\":\"gemini-2.5-flash\",\"response_id\":\"Zpr3aMq7G_qBnvgP1-TfQA\",\"usage_metadata\":{\"candidates_token_count\":8,\"candidates_tokens_details\":[{\"modality\":\"TEXT\",\"token_count\":8}],\"prompt_token_count\":61,\"prompt_tokens_details\":[{\"modality\":\"TEXT\",\"token_count\":61}],\"thoughts_token_count\":35,\"total_token_count\":104,\"traffic_type\":\"ON_DEMAND\"},\"automatic_function_calling_history\":[]}\n",
            "-----------------------------------------------------------\n",
            "\n"
          ]
        },
        {
          "name": "stdout",
          "output_type": "stream",
          "text": [
            "Agent Response:  I know that you have four nieces.\n"
          ]
        }
      ],
      "source": [
        "call_agent(\"What information do you know about me?\", session.id, user_id=USER_ID)"
      ]
    },
    {
      "cell_type": "markdown",
      "metadata": {
        "id": "SAw7Dax-biQW"
      },
      "source": [
        "## Customize your Memory Bank's behavior\n",
        "\n",
        "So far, we've used Memory Bank with it's default settings. Now, let's customize some configurations. The configuration is set when creating or updating your Agent Engine."
      ]
    },
    {
      "cell_type": "markdown",
      "metadata": {
        "id": "6nIKVog-sitb"
      },
      "source": [
        "### Customizing Memory Extraction\n",
        "\n",
        "By default, Memory Bank considers memories that fit the following topics to be meaningful:\n",
        "\n",
        "* **Personal information (`USER_PERSONAL_INFO`)**: Significant personal information about the user, like names, relationships, hobbies, and important dates. For example, \"I work at Google\" or \"My wedding anniversary is on December 31\".\n",
        "* **User preferences (`USER_PREFERENCES`)**: Stated or implied likes, dislikes, preferred styles, or patterns. For example, \"I prefer the middle seat.\"\n",
        "* **Key conversation events and task outcomes (`KEY_CONVERSATION_DETAILS`)**: Important milestones or conclusions within the dialogue. For example, \"I booked plane tickets for a round trip between JFK and SFO. I leave on June 1, 2025 and return on June 7, 2025.\"\n",
        "* **Explicit remember / forget instructions (`EXPLICIT_INSTRUCTIONS`)**: Information that the user explicitly asks the agent to remember or forget. For example, if the user says \"Remember that I primarily use Python,\" Memory Bank generates a memory such as \"I primarily use Python.\"\n",
        "\n",
        "These are managed topics where Memory Bank manages their definition. If you want to use a subset of these topics or use custom topics, you can provide a \"CustomizationConfig\" to customize what information Memory Bank should consider meaningful to persist."
      ]
    },
    {
      "cell_type": "markdown",
      "metadata": {
        "id": "G2pwuUddXf59"
      },
      "source": [
        "#### Managed Topics\n",
        "\n",
        "We're going to update our Memory Bank to only extract user preferences.\n",
        "\n",
        "This will take affect for all requests to Memory Bank, regardless of whether you use ADK or Agent Engine SDK."
      ]
    },
    {
      "cell_type": "code",
      "execution_count": null,
      "metadata": {
        "colab": {
          "base_uri": "https://localhost:8080/"
        },
        "id": "6qc7x-1tXWS_",
        "outputId": "29f596d1-5b53-4664-bae9-3492559f1fd8"
      },
      "outputs": [
        {
          "name": "stderr",
          "output_type": "stream",
          "text": [
            "INFO:vertexai_genai.agentengines:View progress and logs at https://console.cloud.google.com/logs/query?project=unstacked-x-bwai.\n",
            "INFO:vertexai_genai.agentengines:Agent Engine updated. To use it in another session:\n",
            "INFO:vertexai_genai.agentengines:agent_engine=client.agent_engines.get('projects/437300234315/locations/us-central1/reasoningEngines/283924688617340928')\n"
          ]
        },
        {
          "data": {
            "text/plain": [
              "AgentEngine(api_resource.name='projects/437300234315/locations/us-central1/reasoningEngines/283924688617340928')"
            ]
          },
          "execution_count": 40,
          "metadata": {},
          "output_type": "execute_result"
        }
      ],
      "source": [
        "user_preferences_config = {\n",
        "    \"scope_keys\": [\"user_id\"],\n",
        "    \"memory_topics\": [\n",
        "        {\"managed_memory_topic\": {\"managed_topic_enum\": \"USER_PREFERENCES\"}}\n",
        "    ],\n",
        "}\n",
        "\n",
        "\n",
        "client.agent_engines.update(\n",
        "    name=agent_engine.api_resource.name,\n",
        "    config={\n",
        "        \"context_spec\": {\n",
        "            \"memory_bank_config\": {\n",
        "                \"customization_configs\": [user_preferences_config],\n",
        "            }\n",
        "        }\n",
        "    },\n",
        ")"
      ]
    },
    {
      "cell_type": "markdown",
      "metadata": {
        "id": "t3RNGsTmYI74"
      },
      "source": [
        "Memories that fit the `USER_PREFERENCES` category will be persisted."
      ]
    },
    {
      "cell_type": "code",
      "execution_count": null,
      "metadata": {
        "colab": {
          "base_uri": "https://localhost:8080/"
        },
        "id": "g_efAhHIYGEC",
        "outputId": "d685c94e-173e-4fb9-f567-4400941977d4"
      },
      "outputs": [
        {
          "data": {
            "text/plain": [
              "AgentEngineGenerateMemoriesOperation(\n",
              "  done=True,\n",
              "  metadata={\n",
              "    '@type': 'type.googleapis.com/google.cloud.aiplatform.v1beta1.GenerateMemoriesOperationMetadata',\n",
              "    'genericMetadata': {\n",
              "      'createTime': '2025-10-21T14:38:23.614611Z',\n",
              "      'updateTime': '2025-10-21T14:38:26.594311Z'\n",
              "    }\n",
              "  },\n",
              "  name='projects/437300234315/locations/us-central1/reasoningEngines/283924688617340928/operations/3001173973640675328',\n",
              "  response=GenerateMemoriesResponse(\n",
              "    generated_memories=[\n",
              "      GenerateMemoriesResponseGeneratedMemory(\n",
              "        action=<GenerateMemoriesResponseGeneratedMemoryAction.CREATED: 'CREATED'>,\n",
              "        memory=Memory(\n",
              "          name='projects/437300234315/locations/us-central1/reasoningEngines/283924688617340928/memories/8818236636635594752'\n",
              "        )\n",
              "      ),\n",
              "    ]\n",
              "  )\n",
              ")"
            ]
          },
          "execution_count": 41,
          "metadata": {},
          "output_type": "execute_result"
        }
      ],
      "source": [
        "client.agent_engines.memories.generate(\n",
        "    scope={\"user_id\": USER_ID},\n",
        "    name=agent_engine.api_resource.name,\n",
        "    direct_contents_source={\n",
        "        \"events\": [\n",
        "            {\n",
        "                \"content\": {\n",
        "                    \"role\": \"user\",\n",
        "                    \"parts\": [{\"text\": \"I prefer the aisle seat\"}],\n",
        "                }\n",
        "            }\n",
        "        ]\n",
        "    },\n",
        ")"
      ]
    },
    {
      "cell_type": "markdown",
      "metadata": {
        "id": "0W7oEz7KYOks"
      },
      "source": [
        "Memories that don't fit `USER_PREFERENCES` won't be persisted."
      ]
    },
    {
      "cell_type": "code",
      "execution_count": null,
      "metadata": {
        "colab": {
          "base_uri": "https://localhost:8080/"
        },
        "id": "V9sQPIGQYTr0",
        "outputId": "eefe1e99-4bcc-4cc7-982f-d21dbe3eb998"
      },
      "outputs": [
        {
          "data": {
            "text/plain": [
              "AgentEngineGenerateMemoriesOperation(\n",
              "  done=True,\n",
              "  metadata={\n",
              "    '@type': 'type.googleapis.com/google.cloud.aiplatform.v1beta1.GenerateMemoriesOperationMetadata',\n",
              "    'genericMetadata': {\n",
              "      'createTime': '2025-10-21T14:38:33.401302Z',\n",
              "      'updateTime': '2025-10-21T14:38:34.552294Z'\n",
              "    }\n",
              "  },\n",
              "  name='projects/437300234315/locations/us-central1/reasoningEngines/283924688617340928/operations/3640685120727285760'\n",
              ")"
            ]
          },
          "execution_count": 42,
          "metadata": {},
          "output_type": "execute_result"
        }
      ],
      "source": [
        "client.agent_engines.memories.generate(\n",
        "    scope={\"user_id\": USER_ID},\n",
        "    name=agent_engine.api_resource.name,\n",
        "    direct_contents_source={\n",
        "        \"events\": [\n",
        "            {\n",
        "                \"content\": {\n",
        "                    \"role\": \"user\",\n",
        "                    \"parts\": [{\"text\": \"I'm going to get my niece a red bike\"}],\n",
        "                }\n",
        "            }\n",
        "        ]\n",
        "    },\n",
        ")"
      ]
    },
    {
      "cell_type": "markdown",
      "metadata": {
        "id": "SodYXQQrXMqD"
      },
      "source": [
        "#### Custom Topics\n",
        "Alternatively, you can define your own custom topics where you define your own labels, descriptions, and examples."
      ]
    },
    {
      "cell_type": "code",
      "execution_count": null,
      "metadata": {
        "colab": {
          "base_uri": "https://localhost:8080/"
        },
        "id": "o-W0cxdqsjRi",
        "outputId": "2d7098fc-14bc-49ff-95f2-a55240d843b0"
      },
      "outputs": [
        {
          "name": "stderr",
          "output_type": "stream",
          "text": [
            "INFO:vertexai_genai.agentengines:View progress and logs at https://console.cloud.google.com/logs/query?project=unstacked-x-bwai.\n",
            "INFO:vertexai_genai.agentengines:Agent Engine updated. To use it in another session:\n",
            "INFO:vertexai_genai.agentengines:agent_engine=client.agent_engines.get('projects/437300234315/locations/us-central1/reasoningEngines/283924688617340928')\n"
          ]
        },
        {
          "data": {
            "text/plain": [
              "AgentEngine(api_resource.name='projects/437300234315/locations/us-central1/reasoningEngines/283924688617340928')"
            ]
          },
          "execution_count": 43,
          "metadata": {},
          "output_type": "execute_result"
        }
      ],
      "source": [
        "from vertexai.types import MemoryBankCustomizationConfig as CustomizationConfig\n",
        "from vertexai.types import (\n",
        "    MemoryBankCustomizationConfigGenerateMemoriesExample as GenerateMemoriesExample,\n",
        ")\n",
        "from vertexai.types import (\n",
        "    MemoryBankCustomizationConfigGenerateMemoriesExampleConversationSource as ConversationSource,\n",
        ")\n",
        "from vertexai.types import (\n",
        "    MemoryBankCustomizationConfigGenerateMemoriesExampleConversationSourceEvent as ConversationSourceEvent,\n",
        ")\n",
        "from vertexai.types import (\n",
        "    MemoryBankCustomizationConfigGenerateMemoriesExampleGeneratedMemory as ExampleGeneratedMemory,\n",
        ")\n",
        "from vertexai.types import MemoryBankCustomizationConfigMemoryTopic as MemoryTopic\n",
        "from vertexai.types import (\n",
        "    MemoryBankCustomizationConfigMemoryTopicCustomMemoryTopic as CustomMemoryTopic,\n",
        ")\n",
        "\n",
        "memory_topic = MemoryTopic(\n",
        "    custom_memory_topic=CustomMemoryTopic(\n",
        "        label=\"business_feedback\",\n",
        "        description=\"\"\"Specific user feedback about their experience at\n",
        "the coffee shop. This includes opinions on drinks, food, pastries, ambiance,\n",
        "staff friendliness, service speed, cleanliness, and any suggestions for\n",
        "improvement.\"\"\",\n",
        "    )\n",
        ")\n",
        "\n",
        "\n",
        "example = GenerateMemoriesExample(\n",
        "    conversation_source=ConversationSource(\n",
        "        events=[\n",
        "            ConversationSourceEvent(\n",
        "                content=Content(\n",
        "                    role=\"model\",\n",
        "                    parts=[\n",
        "                        Part(\n",
        "                            text=\"Welcome back to The Daily Grind! We'd love to hear your feedback on your visit.\"\n",
        "                        )\n",
        "                    ],\n",
        "                )\n",
        "            ),\n",
        "            ConversationSourceEvent(\n",
        "                content=Content(\n",
        "                    role=\"user\",\n",
        "                    parts=[\n",
        "                        Part(\n",
        "                            text=\"Hey. The drip coffee was a bit lukewarm today, which was a bummer. Also, the music was way too loud, I could barely hear my friend.\"\n",
        "                        )\n",
        "                    ],\n",
        "                )\n",
        "            ),\n",
        "        ]\n",
        "    ),\n",
        "    generated_memories=[\n",
        "        ExampleGeneratedMemory(\n",
        "            fact=\"The user reported that the drip coffee was lukewarm.\"\n",
        "        ),\n",
        "        ExampleGeneratedMemory(\n",
        "            fact=\"The user felt the music in the shop was too loud.\"\n",
        "        ),\n",
        "    ],\n",
        ")\n",
        "\n",
        "noop_example = GenerateMemoriesExample(\n",
        "    conversation_source=ConversationSource(\n",
        "        events=[\n",
        "            ConversationSourceEvent(\n",
        "                content=Content(\n",
        "                    role=\"model\",\n",
        "                    parts=[\n",
        "                        Part(\n",
        "                            text=\"Welcome back to The Daily Grind! We'd love to hear your feedback on your visit.\"\n",
        "                        )\n",
        "                    ],\n",
        "                )\n",
        "            ),\n",
        "            ConversationSourceEvent(\n",
        "                content=Content(\n",
        "                    role=\"user\", parts=[Part(text=\"Thanks for the coffee!\")]\n",
        "                )\n",
        "            ),\n",
        "        ]\n",
        "    ),\n",
        "    generated_memories=[],\n",
        ")\n",
        "\n",
        "client.agent_engines.update(\n",
        "    name=agent_engine.api_resource.name,\n",
        "    config={\n",
        "        \"context_spec\": {\n",
        "            \"memory_bank_config\": {\n",
        "                \"customization_configs\": [\n",
        "                    CustomizationConfig(\n",
        "                        memory_topics=[memory_topic],\n",
        "                        generate_memories_examples=[example, noop_example],\n",
        "                    )\n",
        "                ],\n",
        "            }\n",
        "        }\n",
        "    },\n",
        ")"
      ]
    },
    {
      "cell_type": "code",
      "execution_count": null,
      "metadata": {
        "colab": {
          "base_uri": "https://localhost:8080/"
        },
        "id": "XE783Z_TDHC_",
        "outputId": "55dea5b8-5e41-469d-c0cd-573e79e0c100"
      },
      "outputs": [
        {
          "data": {
            "text/plain": [
              "AgentEngineGenerateMemoriesOperation(\n",
              "  done=True,\n",
              "  metadata={\n",
              "    '@type': 'type.googleapis.com/google.cloud.aiplatform.v1beta1.GenerateMemoriesOperationMetadata',\n",
              "    'genericMetadata': {\n",
              "      'createTime': '2025-10-21T14:40:13.466775Z',\n",
              "      'updateTime': '2025-10-21T14:40:14.572092Z'\n",
              "    }\n",
              "  },\n",
              "  name='projects/437300234315/locations/us-central1/reasoningEngines/283924688617340928/operations/2414298647198957568'\n",
              ")"
            ]
          },
          "execution_count": 44,
          "metadata": {},
          "output_type": "execute_result"
        }
      ],
      "source": [
        "client.agent_engines.memories.generate(\n",
        "    scope={\"user_id\": \"123\"},\n",
        "    name=agent_engine.api_resource.name,\n",
        "    direct_contents_source={\n",
        "        \"events\": [\n",
        "            {\n",
        "                \"content\": {\n",
        "                    \"role\": \"user\",\n",
        "                    \"parts\": [{\"text\": \"I prefer the aisle seat\"}],\n",
        "                }\n",
        "            }\n",
        "        ]\n",
        "    },\n",
        ")"
      ]
    },
    {
      "cell_type": "code",
      "execution_count": null,
      "metadata": {
        "colab": {
          "base_uri": "https://localhost:8080/"
        },
        "id": "u1j8iPHBdg6n",
        "outputId": "0fa802ae-c916-4914-dd2f-97790e2c8bd6"
      },
      "outputs": [
        {
          "data": {
            "text/plain": [
              "AgentEngineGenerateMemoriesOperation(\n",
              "  done=True,\n",
              "  metadata={\n",
              "    '@type': 'type.googleapis.com/google.cloud.aiplatform.v1beta1.GenerateMemoriesOperationMetadata',\n",
              "    'genericMetadata': {\n",
              "      'createTime': '2025-10-21T14:40:21.197068Z',\n",
              "      'updateTime': '2025-10-21T14:40:22.505189Z'\n",
              "    }\n",
              "  },\n",
              "  name='projects/437300234315/locations/us-central1/reasoningEngines/283924688617340928/operations/6017178349095354368',\n",
              "  response=GenerateMemoriesResponse(\n",
              "    generated_memories=[\n",
              "      GenerateMemoriesResponseGeneratedMemory(\n",
              "        action=<GenerateMemoriesResponseGeneratedMemoryAction.CREATED: 'CREATED'>,\n",
              "        memory=Memory(\n",
              "          name='projects/437300234315/locations/us-central1/reasoningEngines/283924688617340928/memories/6170120055741743104'\n",
              "        )\n",
              "      ),\n",
              "    ]\n",
              "  )\n",
              ")"
            ]
          },
          "execution_count": 45,
          "metadata": {},
          "output_type": "execute_result"
        }
      ],
      "source": [
        "import vertexai\n",
        "\n",
        "client.agent_engines.memories.generate(\n",
        "    scope={\"user_id\": \"123\"},\n",
        "    name=agent_engine.api_resource.name,\n",
        "    direct_contents_source={\n",
        "        \"events\": [\n",
        "            {\n",
        "                \"content\": {\n",
        "                    \"role\": \"user\",\n",
        "                    \"parts\": [{\"text\": \"You should have almond milk\"}],\n",
        "                }\n",
        "            }\n",
        "        ]\n",
        "    },\n",
        ")"
      ]
    },
    {
      "cell_type": "code",
      "execution_count": null,
      "metadata": {
        "colab": {
          "base_uri": "https://localhost:8080/"
        },
        "id": "DJ7v62dIePo9",
        "outputId": "021b345e-dc4d-4b42-e46e-9251444d1ccb"
      },
      "outputs": [
        {
          "data": {
            "text/plain": [
              "[RetrieveMemoriesResponseRetrievedMemory(\n",
              "   memory=Memory(\n",
              "     create_time=datetime.datetime(2025, 10, 21, 14, 40, 22, 431937, tzinfo=TzInfo(UTC)),\n",
              "     fact='I suggested that the business should have almond milk.',\n",
              "     name='projects/437300234315/locations/us-central1/reasoningEngines/283924688617340928/memories/6170120055741743104',\n",
              "     scope={\n",
              "       'user_id': '123'\n",
              "     },\n",
              "     update_time=datetime.datetime(2025, 10, 21, 14, 40, 22, 431937, tzinfo=TzInfo(UTC))\n",
              "   )\n",
              " )]"
            ]
          },
          "execution_count": 46,
          "metadata": {},
          "output_type": "execute_result"
        }
      ],
      "source": [
        "list(\n",
        "    client.agent_engines.memories.retrieve(\n",
        "        name=agent_engine.api_resource.name, scope={\"user_id\": \"123\"}\n",
        "    )\n",
        ")"
      ]
    },
    {
      "cell_type": "markdown",
      "metadata": {
        "id": "KVPXrs2GS_ZJ"
      },
      "source": [
        "### Dynamic TTL\n",
        "\n",
        "You can also configure Memory Bank to automatically set the TTL for any generated or manually created (or updated) memories."
      ]
    },
    {
      "cell_type": "markdown",
      "metadata": {
        "id": "Dtf5AcltTV2I"
      },
      "source": [
        "#### Default TTL\n",
        "\n",
        "Default TTL applies to all operations that create or update a Memory."
      ]
    },
    {
      "cell_type": "code",
      "execution_count": null,
      "metadata": {
        "colab": {
          "base_uri": "https://localhost:8080/"
        },
        "id": "vQZKHD-TS-qD",
        "outputId": "d350f8cd-7830-4027-c161-9d167e8ba01d"
      },
      "outputs": [
        {
          "name": "stderr",
          "output_type": "stream",
          "text": [
            "INFO:vertexai_genai.agentengines:View progress and logs at https://console.cloud.google.com/logs/query?project=unstacked-x-bwai.\n",
            "INFO:vertexai_genai.agentengines:Agent Engine updated. To use it in another session:\n",
            "INFO:vertexai_genai.agentengines:agent_engine=client.agent_engines.get('projects/437300234315/locations/us-central1/reasoningEngines/283924688617340928')\n"
          ]
        },
        {
          "data": {
            "text/plain": [
              "AgentEngine(api_resource.name='projects/437300234315/locations/us-central1/reasoningEngines/283924688617340928')"
            ]
          },
          "execution_count": 47,
          "metadata": {},
          "output_type": "execute_result"
        }
      ],
      "source": [
        "client.agent_engines.update(\n",
        "    name=agent_engine.api_resource.name,\n",
        "    config={\n",
        "        \"context_spec\": {\n",
        "            \"memory_bank_config\": {\n",
        "                \"ttl_config\": {\n",
        "                    # 30 days\n",
        "                    \"default_ttl\": f\"{60 * 60 * 24 * 30}s\"\n",
        "                }\n",
        "            }\n",
        "        }\n",
        "    },\n",
        ")"
      ]
    },
    {
      "cell_type": "code",
      "execution_count": null,
      "metadata": {
        "colab": {
          "base_uri": "https://localhost:8080/"
        },
        "id": "vICeAqPyCaT0",
        "outputId": "9c6645ec-30b1-4945-f1cc-4bd69a601800"
      },
      "outputs": [
        {
          "data": {
            "text/plain": [
              "Memory(\n",
              "  create_time=datetime.datetime(2025, 10, 21, 14, 36, 9, 601480, tzinfo=TzInfo(UTC)),\n",
              "  expire_time=datetime.datetime(2025, 11, 20, 14, 42, 56, 299370, tzinfo=TzInfo(UTC)),\n",
              "  fact='I have four nieces.',\n",
              "  name='projects/437300234315/locations/us-central1/reasoningEngines/283924688617340928/memories/2531211556826382336',\n",
              "  scope={\n",
              "    'user_id': 'My User'\n",
              "  },\n",
              "  update_time=datetime.datetime(2025, 10, 21, 14, 42, 56, 302588, tzinfo=TzInfo(UTC))\n",
              ")"
            ]
          },
          "execution_count": 48,
          "metadata": {},
          "output_type": "execute_result"
        }
      ],
      "source": [
        "response = client.agent_engines.memories.generate(\n",
        "    scope={\"user_id\": USER_ID},\n",
        "    name=agent_engine.api_resource.name,\n",
        "    direct_contents_source={\n",
        "        \"events\": [\n",
        "            {\"content\": {\"role\": \"user\", \"parts\": [{\"text\": \"I have four nieces!\"}]}}\n",
        "        ]\n",
        "    },\n",
        "    config={\"wait_for_completion\": True},\n",
        ")\n",
        "\n",
        "client.agent_engines.memories.get(\n",
        "    name=response.response.generated_memories[0].memory.name\n",
        ")"
      ]
    },
    {
      "cell_type": "markdown",
      "metadata": {
        "id": "Oa0A4ogWT8BM"
      },
      "source": [
        "#### Granular TTL\n",
        "\n",
        "The TTL is calculated based on which operation created or updated the Memory. If not set for a given operation, then the operation won't update the Memory's expiration time.\n",
        "\n",
        "Parameters include:\n",
        " * `create_ttl`: Applies to Memories created with CreateMemory operations\n",
        " * `generate_created_ttl`: Applies to Memories created with GenerateMemories\n",
        " * `generate_updated_ttl`: Applies to Memories updated with GenerateMemories"
      ]
    },
    {
      "cell_type": "code",
      "execution_count": null,
      "metadata": {
        "colab": {
          "base_uri": "https://localhost:8080/"
        },
        "id": "3g02gtyrT7fG",
        "outputId": "4efaa174-1c5a-4931-b8da-16c3b8302c02"
      },
      "outputs": [
        {
          "name": "stderr",
          "output_type": "stream",
          "text": [
            "INFO:vertexai_genai.agentengines:View progress and logs at https://console.cloud.google.com/logs/query?project=unstacked-x-bwai.\n",
            "INFO:vertexai_genai.agentengines:Agent Engine updated. To use it in another session:\n",
            "INFO:vertexai_genai.agentengines:agent_engine=client.agent_engines.get('projects/437300234315/locations/us-central1/reasoningEngines/283924688617340928')\n"
          ]
        },
        {
          "data": {
            "text/plain": [
              "AgentEngine(api_resource.name='projects/437300234315/locations/us-central1/reasoningEngines/283924688617340928')"
            ]
          },
          "execution_count": 49,
          "metadata": {},
          "output_type": "execute_result"
        }
      ],
      "source": [
        "client.agent_engines.update(\n",
        "    name=agent_engine.api_resource.name,\n",
        "    config={\n",
        "        \"context_spec\": {\n",
        "            \"memory_bank_config\": {\n",
        "                \"ttl_config\": {\n",
        "                    \"granular_ttl_config\": {\n",
        "                        # 365 days\n",
        "                        \"generate_created_ttl\": f\"{24 * 60 * 60 * 365}s\",\n",
        "                    }\n",
        "                }\n",
        "            }\n",
        "        }\n",
        "    },\n",
        ")"
      ]
    },
    {
      "cell_type": "code",
      "execution_count": null,
      "metadata": {
        "colab": {
          "base_uri": "https://localhost:8080/"
        },
        "id": "dT3ffaBksw99",
        "outputId": "a604a853-23e7-485f-80cf-84bf2775f9ae"
      },
      "outputs": [
        {
          "data": {
            "text/plain": [
              "Memory(\n",
              "  create_time=datetime.datetime(2025, 10, 21, 14, 44, 34, 692040, tzinfo=TzInfo(UTC)),\n",
              "  expire_time=datetime.datetime(2026, 10, 21, 14, 44, 34, 685971, tzinfo=TzInfo(UTC)),\n",
              "  fact='I work at Zindua School.',\n",
              "  name='projects/437300234315/locations/us-central1/reasoningEngines/283924688617340928/memories/8151703891784761344',\n",
              "  scope={\n",
              "    'user_id': 'My User'\n",
              "  },\n",
              "  update_time=datetime.datetime(2025, 10, 21, 14, 44, 34, 692040, tzinfo=TzInfo(UTC))\n",
              ")"
            ]
          },
          "execution_count": 50,
          "metadata": {},
          "output_type": "execute_result"
        }
      ],
      "source": [
        "response = client.agent_engines.memories.generate(\n",
        "    scope={\"user_id\": USER_ID},\n",
        "    name=agent_engine.api_resource.name,\n",
        "    direct_contents_source={\n",
        "        \"events\": [\n",
        "            {\n",
        "                \"content\": {\n",
        "                    \"role\": \"user\",\n",
        "                    \"parts\": [{\"text\": \"Remember that I work at Zindua School!\"}],\n",
        "                }\n",
        "            }\n",
        "        ]\n",
        "    },\n",
        ")\n",
        "\n",
        "client.agent_engines.memories.get(\n",
        "    name=response.response.generated_memories[0].memory.name\n",
        ")"
      ]
    },
    {
      "cell_type": "code",
      "execution_count": null,
      "metadata": {
        "colab": {
          "base_uri": "https://localhost:8080/"
        },
        "id": "O6UGzBpCTpHB",
        "outputId": "cbf21a20-dcb0-48a9-9939-34bf2ea53be2"
      },
      "outputs": [
        {
          "data": {
            "text/plain": [
              "Memory(\n",
              "  create_time=datetime.datetime(2025, 10, 21, 14, 45, 10, 120194, tzinfo=TzInfo(UTC)),\n",
              "  expire_time=datetime.datetime(2026, 10, 21, 14, 45, 10, 114376, tzinfo=TzInfo(UTC)),\n",
              "  fact='I work at Google.',\n",
              "  name='projects/437300234315/locations/us-central1/reasoningEngines/283924688617340928/memories/6224163251270189056',\n",
              "  scope={\n",
              "    'user_id': 'My User'\n",
              "  },\n",
              "  update_time=datetime.datetime(2025, 10, 21, 14, 45, 10, 120194, tzinfo=TzInfo(UTC))\n",
              ")"
            ]
          },
          "execution_count": 51,
          "metadata": {},
          "output_type": "execute_result"
        }
      ],
      "source": [
        "response = client.agent_engines.memories.generate(\n",
        "    scope={\"user_id\": USER_ID},\n",
        "    name=agent_engine.api_resource.name,\n",
        "    direct_contents_source={\n",
        "        \"events\": [\n",
        "            {\"content\": {\"role\": \"user\", \"parts\": [{\"text\": \"I work at Google!\"}]}}\n",
        "        ]\n",
        "    },\n",
        ")\n",
        "\n",
        "client.agent_engines.memories.get(\n",
        "    name=response.response.generated_memories[0].memory.name\n",
        ")"
      ]
    },
    {
      "cell_type": "markdown",
      "metadata": {
        "id": "a678c7a2bf29"
      },
      "source": [
        "## Cleaning up\n",
        "\n",
        "It's always a best practice in cloud development to clean up resources you no longer need to avoid incurring unexpected costs. This final cell deletes the AgentEngine resources we created throughout this tutorial."
      ]
    },
    {
      "cell_type": "code",
      "execution_count": null,
      "metadata": {
        "id": "10fe83835935"
      },
      "outputs": [],
      "source": [
        "delete_agent_engines = True\n",
        "\n",
        "agent_engine_name = agent_engine.api_resource.name\n",
        "\n",
        "if delete_agent_engines:\n",
        "    # Delete agent engine\n",
        "    client.agent_engines.delete(name=agent_engine_name, force=True)"
      ]
    }
  ],
  "metadata": {
    "colab": {
      "provenance": [],
      "include_colab_link": true
    },
    "kernelspec": {
      "display_name": "Python 3",
      "name": "python3"
    }
  },
  "nbformat": 4,
  "nbformat_minor": 0
}