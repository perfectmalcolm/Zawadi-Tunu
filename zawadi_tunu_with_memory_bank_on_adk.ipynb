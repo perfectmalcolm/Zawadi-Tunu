{
  "cells": [
    {
      "cell_type": "markdown",
      "metadata": {
        "id": "view-in-github",
        "colab_type": "text"
      },
      "source": [
        "<a href=\"https://colab.research.google.com/github/perfectmalcolm/Zawadi-Tunu/blob/main/zawadi_tunu_with_memory_bank_on_adk.ipynb\" target=\"_parent\"><img src=\"https://colab.research.google.com/assets/colab-badge.svg\" alt=\"Open In Colab\"/></a>"
      ]
    },
    {
      "cell_type": "markdown",
      "metadata": {
        "id": "4m7sSmIurRyr"
      },
      "source": [
        "# Get started with Zawadi Tunu Built with Memory Bank on ADK\n",
        "\n",
        "<table align=\"left\">\n",
        "  <td style=\"text-align: center\">\n",
        "    <a href=\"https://colab.research.google.com/github/mwanyumba7/Zawadi-Tunu/blob/main/zawadi_tunu_with_memory_bank_on_adk.ipynb\">\n",
        "      <img width=\"32px\" src=\"https://www.gstatic.com/pantheon/images/bigquery/welcome_page/colab-logo.svg\" alt=\"Google Colaboratory logo\"><br> Open in Colab\n",
        "    </a>\n",
        "  </td>\n",
        "</table>"
      ]
    },
    {
      "cell_type": "markdown",
      "metadata": {
        "id": "qlXbr9YbMyzc"
      },
      "source": [
        "## Overview\n",
        "We will be building an Agent `Zawadi Tunu` which is an agent ispecialized in gift recommendation engine designed to elevate the act of gift-giving, transforming it from a chore into a deeply personalized and meaningful experience. Built as a demonstration of the Agent Development Kit (ADK) for Gemini and the Vertex AI Memory Bank, this agent's core strength lies in its ability to retain and recall nuanced information over time.\n",
        "\n",
        "Instead of generic suggestions, the agent uses its long-term memory to remember key details gleaned from previous conversations: a niece's age and past birthday presents (like the \"red bike\" in the demo), a spouse's stated preference for aisle seats, or a parent's hint about a desired hobby.\n",
        "\n",
        "This tutorial demonstrates how to build ADK agents with Memory, including both `InMemoryMemoryService` and `VertexAiMemoryBankService`.\n",
        "\n",
        "This tutorial will cover:\n",
        "* Comparing `InMemoryMemoryService` vs. `VertexAiMemoryBankService`.\n",
        "* Generating memories with ADK and Agent Engine Memory Bank.\n",
        "* Retrieving memories with ADK and Agent Engine Memory Bank.\n",
        "* Customizing your Memory Bank instance's behavior."
      ]
    },
    {
      "cell_type": "markdown",
      "metadata": {
        "id": "HSSuQi5wS-AY"
      },
      "source": [
        "## Get started"
      ]
    },
    {
      "cell_type": "markdown",
      "metadata": {
        "id": "ngEAiXw8cQRt"
      },
      "source": [
        "### Install Google Gen AI SDK and other required packages\n"
      ]
    },
    {
      "cell_type": "code",
      "execution_count": 51,
      "metadata": {
        "id": "ZNg0utat73eG"
      },
      "outputs": [],
      "source": [
        "%pip install google-adk google-cloud-aiplatform --upgrade --quiet"
      ]
    },
    {
      "cell_type": "markdown",
      "metadata": {
        "id": "bbArJaMNcWVz"
      },
      "source": [
        "### Authenticate your notebook environment (Colab only)\n",
        "\n",
        "If you're running this notebook on Google Colab, run the cell below to authenticate your environment."
      ]
    },
    {
      "cell_type": "code",
      "execution_count": 52,
      "metadata": {
        "id": "oMmt34WM-08o"
      },
      "outputs": [],
      "source": [
        "import sys\n",
        "\n",
        "if \"google.colab\" in sys.modules:\n",
        "    from google.colab import auth\n",
        "\n",
        "    auth.authenticate_user()"
      ]
    },
    {
      "cell_type": "markdown",
      "metadata": {
        "id": "mbeaDydxcdEo"
      },
      "source": [
        "### Set Google Cloud project information\n",
        "\n",
        "To get started using Vertex AI, you must have an existing Google Cloud project and [enable the Vertex AI API](https://console.cloud.google.com/flows/enableapi?apiid=aiplatform.googleapis.com).\n",
        "\n",
        "Learn more about [setting up a project and a development environment](https://cloud.google.com/vertex-ai/docs/start/cloud-environment)."
      ]
    },
    {
      "cell_type": "code",
      "execution_count": 53,
      "metadata": {
        "id": "PKZ_ad_g_AuU"
      },
      "outputs": [],
      "source": [
        "# Use the environment variable if the user doesn't provide Project ID.\n",
        "import os\n",
        "\n",
        "import vertexai\n",
        "\n",
        "# fmt: off\n",
        "PROJECT = \"devfest-2025-day-1\"  # @param {type: \"string\", placeholder: \"[your-project-id]\", isTemplate: true}\n",
        "# fmt: on\n",
        "if not PROJECT or PROJECT == \"[your-project-id]\":\n",
        "    PROJECT = str(os.environ.get(\"GOOGLE_CLOUD_PROJECT\"))\n",
        "\n",
        "LOCATION = os.environ.get(\"GOOGLE_CLOUD_REGION\", \"us-central1\")\n",
        "\n",
        "client = vertexai.Client(project=PROJECT, location=LOCATION)\n",
        "\n",
        "# Set environment variables for ADK.\n",
        "os.environ[\"GOOGLE_GENAI_USE_VERTEXAI\"] = \"TRUE\"\n",
        "os.environ[\"GOOGLE_CLOUD_PROJECT\"] = PROJECT\n",
        "os.environ[\"GOOGLE_CLOUD_LOCATION\"] = LOCATION"
      ]
    },
    {
      "cell_type": "markdown",
      "metadata": {
        "id": "b2fe816fc0d0"
      },
      "source": [
        "## (Optional) Set up logging\n",
        "To surface ADK logs in your notebook, you may need to configure the logging level of ADK's logger."
      ]
    },
    {
      "cell_type": "code",
      "execution_count": 54,
      "metadata": {
        "id": "91955e5b44ec"
      },
      "outputs": [],
      "source": [
        "import logging\n",
        "import sys\n",
        "\n",
        "# Set up a general handler for all logs to be printed in your Colab output.\n",
        "# We'll set the overall level to INFO.\n",
        "logging.basicConfig(\n",
        "    level=logging.INFO,\n",
        "    format=\"%(asctime)s - %(name)s - %(levelname)s - %(message)s\",\n",
        "    stream=sys.stdout,\n",
        ")\n",
        "\n",
        "# Get the specific logger used by ADK.\n",
        "adk_logger = logging.getLogger(\"google_adk\")\n",
        "\n",
        "# Set its level to DEBUG to ensure you capture ALL messages from the SDK,\n",
        "# even if the general level is higher (like INFO).\n",
        "adk_logger.setLevel(logging.DEBUG)"
      ]
    },
    {
      "cell_type": "markdown",
      "metadata": {
        "id": "W0n_JRrHNUUX"
      },
      "source": [
        "## Define a simple agent\n",
        "\n",
        "The ADK Runner defines what session service is used by the agent. The session service is responsible for saving the conversation history.\n",
        "\n",
        "In this example, we're using the in-memory session service (`InMemorySessionService`). However, you can use any session service with Memory.\n",
        "\n",
        "If you want to use Google's pre-built Memory tools, you can provide a Memory service to the Runner as well. In this example, we'll start by directly invoking memory so that we can compare different services. So, we're not directly setting `memory_service` in the Runner."
      ]
    },
    {
      "cell_type": "code",
      "execution_count": 55,
      "metadata": {
        "id": "rKxFZmSRAECu"
      },
      "outputs": [],
      "source": [
        "from google.adk.agents import LlmAgent\n",
        "from google.adk.runners import Runner\n",
        "from google.adk.sessions import InMemorySessionService\n",
        "from google.genai.types import Content, Part\n",
        "\n",
        "APP_NAME = \"memory_example_app\"\n",
        "MODEL = \"gemini-2.5-flash\"\n",
        "\n",
        "agent = LlmAgent(\n",
        "    model=MODEL,\n",
        "    name=\"Generic_QA_Agent\",\n",
        "    instruction=\"Answer the user's questions\",\n",
        ")\n",
        "\n",
        "session_service = InMemorySessionService()\n",
        "\n",
        "runner = Runner(agent=agent, app_name=APP_NAME, session_service=session_service)\n",
        "\n",
        "\n",
        "def call_agent(query, session, user_id):\n",
        "    content = Content(role=\"user\", parts=[Part(text=query)])\n",
        "    events = runner.run(user_id=user_id, session_id=session, new_message=content)\n",
        "\n",
        "    for event in events:\n",
        "        if event.is_final_response():\n",
        "            final_response = event.content.parts[0].text\n",
        "            print(\"Agent Response: \", final_response)"
      ]
    },
    {
      "cell_type": "markdown",
      "metadata": {
        "id": "WEAg11vnOyYs"
      },
      "source": [
        "## Introduction to ADK Memory Service\n",
        "ADK memory services offer an interface for creating and searching for memories. The [`BaseMemoryService`](https://github.com/google/adk-python/blob/main/src/google/adk/memory/base_memory_service.py) defines the interface for managing this searchable, long-term knowledge store. Its primary responsibilities are:\n",
        "\n",
        "* Ingesting Information (`add_session_to_memory`): Taking the contents of a (usually completed) Session and adding relevant information to the long-term knowledge store.\n",
        "* Searching Information (`search_memory`): Allowing an agent (typically via a Tool) to query the knowledge store and retrieve relevant snippets or context based on a search query.\n",
        "\n",
        "In this colab, we'll cover two options:\n",
        "\n",
        "* `InMemoryMemoryService`: A in-memory service that allows you to search your conversation history to retrieve the raw dialogue using basic keyword matching.\n",
        "* `VertexAiMemoryBankService`: A remote service that remotely generates memories for \"meaningful\" information from user conversation.\n",
        "\n",
        "\n",
        "You can also interact directly with Memory Bank by using the Agent Engine SDK."
      ]
    },
    {
      "cell_type": "markdown",
      "metadata": {
        "id": "LSZQQAPQWBXs"
      },
      "source": [
        "### `InMemoryMemoryService`\n",
        "\n",
        "[`InMemoryMemoryService`](https://github.com/google/adk-python/blob/main/src/google/adk/memory/in_memory_memory_service.py) persists **all** information in-memory. The events are not condensed, and information is not extracted from them."
      ]
    },
    {
      "cell_type": "code",
      "execution_count": 56,
      "metadata": {
        "id": "HqXCHxi2Cb-n"
      },
      "outputs": [],
      "source": [
        "from google.adk.memory import InMemoryMemoryService\n",
        "\n",
        "in_memory_service = InMemoryMemoryService()"
      ]
    },
    {
      "cell_type": "markdown",
      "metadata": {
        "id": "mTuaUZ1DWG7L"
      },
      "source": [
        "### `VertexAiMemoryBankService`\n",
        "Memory Bank will only persist information that's meaningful for future interactions. [`VertexAiMemoryBankService`](https://github.com/google/adk-python/blob/main/src/google/adk/memory/vertex_ai_memory_bank_service.py) provides a built-in integration between Memory Bank and ADK.\n",
        "\n",
        "To get started with Memory Bank, you need to first create an Agent Engine. This only takes a few seconds.\n",
        "\n",
        "If you don't have a Google Cloud project, you can use [Vertex in Express mode, which only requires an API key](https://cloud.google.com/vertex-ai/generative-ai/docs/agent-engine/memory-bank/set-up#authentication)."
      ]
    },
    {
      "cell_type": "code",
      "execution_count": 57,
      "metadata": {
        "colab": {
          "base_uri": "https://localhost:8080/"
        },
        "id": "rZP-0IVaQ5_N",
        "outputId": "a8fe2c1e-952b-486f-8193-8e6c20d554a5"
      },
      "outputs": [
        {
          "output_type": "stream",
          "name": "stderr",
          "text": [
            "INFO:vertexai_genai.agentengines:View progress and logs at https://console.cloud.google.com/logs/query?project=devfest-2025-day-1.\n",
            "INFO:vertexai_genai.agentengines:Agent Engine created. To use it in another session:\n",
            "INFO:vertexai_genai.agentengines:agent_engine=client.agent_engines.get(name='projects/568929544199/locations/us-central1/reasoningEngines/7795577023350439936')\n"
          ]
        }
      ],
      "source": [
        "import vertexai\n",
        "from google.adk.memory import VertexAiMemoryBankService\n",
        "\n",
        "client = vertexai.Client(project=PROJECT, location=LOCATION)\n",
        "\n",
        "agent_engine = client.agent_engines.create(\n",
        "    config={\n",
        "        \"context_spec\": {\n",
        "            \"memory_bank_config\": {\n",
        "                \"generation_config\": {\n",
        "                    \"model\": f\"projects/{PROJECT}/locations/{LOCATION}/publishers/google/models/gemini-2.5-flash\"\n",
        "                }\n",
        "            }\n",
        "        }\n",
        "    }\n",
        ")\n",
        "\n",
        "memory_bank_service = VertexAiMemoryBankService(\n",
        "    agent_engine_id=agent_engine.api_resource.name.split(\"/\")[-1],\n",
        "    project=PROJECT,\n",
        "    location=LOCATION,\n",
        ")"
      ]
    },
    {
      "cell_type": "markdown",
      "metadata": {
        "id": "N-IrevumRepq"
      },
      "source": [
        "## Generating Memories\n",
        "\n",
        "Memories will be generated from your conversation history stored in the `Session` object. The ADK `add_session_to_memory` method is responsible for triggering memory generation for your memory service, but the exact behavior depends on which service you use:\n",
        "\n",
        "* `InMemoryMemoryService` persists all information, including the raw dialogue.\n",
        "\n",
        "* `VertexAiMemoryBankService` only persists *meaningful* information. Not all conversations will result in generated memories. Additionally, the information will be condensed to individual, self-contained memories.\n",
        "\n",
        "In this example, we create two sessions:\n",
        "1. `chit_chat_session`, which is a conversation that contains events that may not be meaningful for future interactions.\n",
        "2. `recommendations_session`, which is a conversation about looking for birthday presents for a family member. It includes implicit information that may be helpful for future conversations."
      ]
    },
    {
      "cell_type": "code",
      "execution_count": 58,
      "metadata": {
        "colab": {
          "base_uri": "https://localhost:8080/"
        },
        "id": "VfTIuJfFAR2z",
        "outputId": "4ab1c946-e8e4-4899-fd54-6d65537f227e"
      },
      "outputs": [
        {
          "output_type": "stream",
          "name": "stderr",
          "text": [
            "INFO:google_adk.google.adk.models.google_llm:Sending out request, model: gemini-2.5-flash, backend: GoogleLLMVariant.VERTEX_AI, stream: False\n",
            "DEBUG:google_adk.google.adk.models.google_llm:\n",
            "LLM Request:\n",
            "-----------------------------------------------------------\n",
            "System Instruction:\n",
            "Answer the user's questions\n",
            "\n",
            "You are an agent. Your internal name is \"Generic_QA_Agent\".\n",
            "-----------------------------------------------------------\n",
            "Config:\n",
            "{'labels': {'adk_agent_name': 'Generic_QA_Agent'}}\n",
            "-----------------------------------------------------------\n",
            "Contents:\n",
            "{\"parts\":[{\"text\":\"what types of questions do you answer\"}],\"role\":\"user\"}\n",
            "-----------------------------------------------------------\n",
            "Functions:\n",
            "\n",
            "-----------------------------------------------------------\n",
            "\n",
            "INFO:google_adk.google.adk.models.google_llm:Response received from the model.\n",
            "DEBUG:google_adk.google.adk.models.google_llm:\n",
            "LLM Response:\n",
            "-----------------------------------------------------------\n",
            "Text:\n",
            "As a large language model, I can answer a wide variety of questions across many different topics. You can ask me about:\n",
            "\n",
            "*   **Facts and Information:** History, science, geography, current events (up to my last update), pop culture, technology, literature, etc.\n",
            "*   **Explanations:** How things work, concepts, theories, ideas.\n",
            "*   **Definitions:** What a word or phrase means.\n",
            "*   **Summaries:** Summarize articles, books, concepts, or documents (if provided).\n",
            "*   **Creative Writing:** Generate stories, poems, scripts, song lyrics, or other creative text.\n",
            "*   **Problem Solving:** Help with math problems, logical puzzles, or general reasoning questions.\n",
            "*   **Language Tasks:** Translation (to some extent), grammar correction, rephrasing, generating text in different styles.\n",
            "*   **General Advice/Suggestions:** Offer general recommendations or ideas on various non-personal topics.\n",
            "*   **Coding Assistance:** Explain code, debug simple issues, or generate code snippets in various languages.\n",
            "\n",
            "**However, there are a few things I cannot do:**\n",
            "\n",
            "*   **Provide personal opinions or feelings:** I don't have personal experiences, beliefs, or emotions.\n",
            "*   **Give medical, legal, or financial advice:** I am not a qualified professional in these fields.\n",
            "*   **Perform actions in the real world:** I cannot browse the internet in real-time, send emails, make calls, or control devices.\n",
            "*   **Access private or real-time information:** My knowledge is based on the data I was trained on, so I don't have access to current events past my last update, nor can I access private databases or specific personal details.\n",
            "*   **Know who you are or remember past conversations definitively:** Each interaction is treated somewhat independently.\n",
            "\n",
            "Feel free to ask me anything you're curious about, and I'll do my best to provide a helpful and accurate answer!\n",
            "-----------------------------------------------------------\n",
            "Function calls:\n",
            "\n",
            "-----------------------------------------------------------\n",
            "Raw response:\n",
            "{\"sdk_http_response\":{\"headers\":{\"Content-Type\":\"application/json; charset=UTF-8\",\"Vary\":\"Origin, X-Origin, Referer\",\"Content-Encoding\":\"gzip\",\"Date\":\"Fri, 31 Oct 2025 10:24:59 GMT\",\"Server\":\"scaffolding on HTTPServer2\",\"X-XSS-Protection\":\"0\",\"X-Frame-Options\":\"SAMEORIGIN\",\"X-Content-Type-Options\":\"nosniff\",\"Transfer-Encoding\":\"chunked\"}},\"candidates\":[{\"content\":{\"parts\":[{\"text\":\"As a large language model, I can answer a wide variety of questions across many different topics. You can ask me about:\\n\\n*   **Facts and Information:** History, science, geography, current events (up to my last update), pop culture, technology, literature, etc.\\n*   **Explanations:** How things work, concepts, theories, ideas.\\n*   **Definitions:** What a word or phrase means.\\n*   **Summaries:** Summarize articles, books, concepts, or documents (if provided).\\n*   **Creative Writing:** Generate stories, poems, scripts, song lyrics, or other creative text.\\n*   **Problem Solving:** Help with math problems, logical puzzles, or general reasoning questions.\\n*   **Language Tasks:** Translation (to some extent), grammar correction, rephrasing, generating text in different styles.\\n*   **General Advice/Suggestions:** Offer general recommendations or ideas on various non-personal topics.\\n*   **Coding Assistance:** Explain code, debug simple issues, or generate code snippets in various languages.\\n\\n**However, there are a few things I cannot do:**\\n\\n*   **Provide personal opinions or feelings:** I don't have personal experiences, beliefs, or emotions.\\n*   **Give medical, legal, or financial advice:** I am not a qualified professional in these fields.\\n*   **Perform actions in the real world:** I cannot browse the internet in real-time, send emails, make calls, or control devices.\\n*   **Access private or real-time information:** My knowledge is based on the data I was trained on, so I don't have access to current events past my last update, nor can I access private databases or specific personal details.\\n*   **Know who you are or remember past conversations definitively:** Each interaction is treated somewhat independently.\\n\\nFeel free to ask me anything you're curious about, and I'll do my best to provide a helpful and accurate answer!\"}],\"role\":\"model\"},\"finish_reason\":\"STOP\",\"avg_logprobs\":-0.48709944182751225}],\"create_time\":\"2025-10-31T10:24:54.488903Z\",\"model_version\":\"gemini-2.5-flash\",\"response_id\":\"do4EacfrHbmfnvgPoaTSqQ0\",\"usage_metadata\":{\"candidates_token_count\":408,\"candidates_tokens_details\":[{\"modality\":\"TEXT\",\"token_count\":408}],\"prompt_token_count\":30,\"prompt_tokens_details\":[{\"modality\":\"TEXT\",\"token_count\":30}],\"thoughts_token_count\":321,\"total_token_count\":759,\"traffic_type\":\"ON_DEMAND\"},\"automatic_function_calling_history\":[]}\n",
            "-----------------------------------------------------------\n",
            "\n"
          ]
        },
        {
          "output_type": "stream",
          "name": "stdout",
          "text": [
            "Agent Response:  As a large language model, I can answer a wide variety of questions across many different topics. You can ask me about:\n",
            "\n",
            "*   **Facts and Information:** History, science, geography, current events (up to my last update), pop culture, technology, literature, etc.\n",
            "*   **Explanations:** How things work, concepts, theories, ideas.\n",
            "*   **Definitions:** What a word or phrase means.\n",
            "*   **Summaries:** Summarize articles, books, concepts, or documents (if provided).\n",
            "*   **Creative Writing:** Generate stories, poems, scripts, song lyrics, or other creative text.\n",
            "*   **Problem Solving:** Help with math problems, logical puzzles, or general reasoning questions.\n",
            "*   **Language Tasks:** Translation (to some extent), grammar correction, rephrasing, generating text in different styles.\n",
            "*   **General Advice/Suggestions:** Offer general recommendations or ideas on various non-personal topics.\n",
            "*   **Coding Assistance:** Explain code, debug simple issues, or generate code snippets in various languages.\n",
            "\n",
            "**However, there are a few things I cannot do:**\n",
            "\n",
            "*   **Provide personal opinions or feelings:** I don't have personal experiences, beliefs, or emotions.\n",
            "*   **Give medical, legal, or financial advice:** I am not a qualified professional in these fields.\n",
            "*   **Perform actions in the real world:** I cannot browse the internet in real-time, send emails, make calls, or control devices.\n",
            "*   **Access private or real-time information:** My knowledge is based on the data I was trained on, so I don't have access to current events past my last update, nor can I access private databases or specific personal details.\n",
            "*   **Know who you are or remember past conversations definitively:** Each interaction is treated somewhat independently.\n",
            "\n",
            "Feel free to ask me anything you're curious about, and I'll do my best to provide a helpful and accurate answer!\n"
          ]
        }
      ],
      "source": [
        "USER_ID = \"My User\"\n",
        "\n",
        "chit_chat_session = await session_service.create_session(\n",
        "    app_name=APP_NAME, user_id=USER_ID\n",
        ")\n",
        "\n",
        "call_agent(\n",
        "    \"what types of questions do you answer\", chit_chat_session.id, user_id=USER_ID\n",
        ")\n",
        "# Refresh session object.\n",
        "chit_chat_session = await session_service.get_session(\n",
        "    app_name=APP_NAME, user_id=USER_ID, session_id=chit_chat_session.id\n",
        ")"
      ]
    },
    {
      "cell_type": "code",
      "execution_count": 59,
      "metadata": {
        "colab": {
          "base_uri": "https://localhost:8080/"
        },
        "id": "hLvyyXRHEEQH",
        "outputId": "a63d6106-edac-42bb-a333-1067677c7f4a"
      },
      "outputs": [
        {
          "output_type": "stream",
          "name": "stderr",
          "text": [
            "INFO:google_adk.google.adk.models.google_llm:Sending out request, model: gemini-2.5-flash, backend: GoogleLLMVariant.VERTEX_AI, stream: False\n",
            "DEBUG:google_adk.google.adk.models.google_llm:\n",
            "LLM Request:\n",
            "-----------------------------------------------------------\n",
            "System Instruction:\n",
            "Answer the user's questions\n",
            "\n",
            "You are an agent. Your internal name is \"Generic_QA_Agent\".\n",
            "-----------------------------------------------------------\n",
            "Config:\n",
            "{'labels': {'adk_agent_name': 'Generic_QA_Agent'}}\n",
            "-----------------------------------------------------------\n",
            "Contents:\n",
            "{\"parts\":[{\"text\":\"I have a three year old niece. What recommendations do you have for birthday presents?\"}],\"role\":\"user\"}\n",
            "-----------------------------------------------------------\n",
            "Functions:\n",
            "\n",
            "-----------------------------------------------------------\n",
            "\n",
            "INFO:google_adk.google.adk.models.google_llm:Response received from the model.\n",
            "DEBUG:google_adk.google.adk.models.google_llm:\n",
            "LLM Response:\n",
            "-----------------------------------------------------------\n",
            "Text:\n",
            "That's a fun age to shop for! Three-year-olds are really developing their imagination, fine motor skills, and curiosity. Here are some recommendations, keeping different types of play and development in mind:\n",
            "\n",
            "**1. Imaginative & Pretend Play:**\n",
            "*   **Play Kitchen or Food Set:** A classic for a reason! Kids love to \"cook\" and serve.\n",
            "*   **Doctor's Kit:** Encourages empathy and helps demystify doctor visits.\n",
            "*   **Dress-Up Clothes:** Princess outfits, superhero capes, animal costumes, or even just fun hats and scarves can spark hours of play.\n",
            "*   **Dollhouse & Figures:** Simple, sturdy dollhouses with a few family figures can lead to wonderful storytelling.\n",
            "*   **Toy Animals/Figures:** A collection of farm animals, dinosaurs, or community helpers for creating their own worlds.\n",
            "\n",
            "**2. Creative & Fine Motor Skills:**\n",
            "*   **Large Building Blocks (e.g., DUPLO, Mega Bloks):** Perfect for small hands to build towers, houses, and anything they can imagine.\n",
            "*   **Play-Doh or Modeling Clay:** Great for strengthening hand muscles and open-ended creative fun. Look for sets with cutters or tools.\n",
            "*   **Washable Art Supplies:** Chunky crayons, washable markers, finger paints, and large paper are always a hit.\n",
            "*   **Sticker Books:** Reusable sticker books or scene-building sticker sets.\n",
            "*   **Simple Puzzles:** Wooden puzzles with knobs or 12-24 piece jigsaw puzzles help with problem-solving and spatial reasoning.\n",
            "\n",
            "**3. Active & Gross Motor Skills:**\n",
            "*   **Tricycle or Balance Bike:** If she doesn't have one, this is a great age to start developing balance and coordination.\n",
            "*   **Pop-Up Play Tent or Tunnel:** Creates a fun hideaway or an obstacle course.\n",
            "*   **Bubble Machine:** Guaranteed giggles and encourages running and jumping.\n",
            "*   **Mini Trampoline (with handle):** Great for indoor energy burning and developing coordination.\n",
            "\n",
            "**4. Books & Educational Fun:**\n",
            "*   **Picture Books:** Look for interactive books (lift-the-flap, touch-and-feel), rhyming books, or stories about friendship and emotions.\n",
            "*   **Sound Books:** Books that make animal sounds or musical instrument sounds.\n",
            "*   **Counting or Alphabet Toys:** Wooden puzzles or simple matching games that introduce early concepts.\n",
            "\n",
            "**5. Comfort & Practical Fun:**\n",
            "*   **A Special Stuffed Animal:** A soft, huggable friend can be a cherished companion.\n",
            "*   **Personalized Item:** A blanket, backpack, or towel with her name on it can feel very special.\n",
            "\n",
            "**A few tips:**\n",
            "*   **Consider her current interests:** Does she love animals? Trucks? Princesses? Tailor the gift to what she's already excited about.\n",
            "*   **Ask her parents:** They might have a wish list or know what she already has plenty of, or what they specifically need.\n",
            "*   **Think about durability and safety:** At this age, toys should be sturdy, non-toxic, and free of small parts that could be a choking hazard.\n",
            "\n",
            "No matter what you choose, the thought behind the gift will surely be appreciated! Happy shopping!\n",
            "-----------------------------------------------------------\n",
            "Function calls:\n",
            "\n",
            "-----------------------------------------------------------\n",
            "Raw response:\n",
            "{\"sdk_http_response\":{\"headers\":{\"Content-Type\":\"application/json; charset=UTF-8\",\"Vary\":\"Origin, X-Origin, Referer\",\"Content-Encoding\":\"gzip\",\"Date\":\"Fri, 31 Oct 2025 10:25:13 GMT\",\"Server\":\"scaffolding on HTTPServer2\",\"X-XSS-Protection\":\"0\",\"X-Frame-Options\":\"SAMEORIGIN\",\"X-Content-Type-Options\":\"nosniff\",\"Transfer-Encoding\":\"chunked\"}},\"candidates\":[{\"content\":{\"parts\":[{\"text\":\"That's a fun age to shop for! Three-year-olds are really developing their imagination, fine motor skills, and curiosity. Here are some recommendations, keeping different types of play and development in mind:\\n\\n**1. Imaginative & Pretend Play:**\\n*   **Play Kitchen or Food Set:** A classic for a reason! Kids love to \\\"cook\\\" and serve.\\n*   **Doctor's Kit:** Encourages empathy and helps demystify doctor visits.\\n*   **Dress-Up Clothes:** Princess outfits, superhero capes, animal costumes, or even just fun hats and scarves can spark hours of play.\\n*   **Dollhouse & Figures:** Simple, sturdy dollhouses with a few family figures can lead to wonderful storytelling.\\n*   **Toy Animals/Figures:** A collection of farm animals, dinosaurs, or community helpers for creating their own worlds.\\n\\n**2. Creative & Fine Motor Skills:**\\n*   **Large Building Blocks (e.g., DUPLO, Mega Bloks):** Perfect for small hands to build towers, houses, and anything they can imagine.\\n*   **Play-Doh or Modeling Clay:** Great for strengthening hand muscles and open-ended creative fun. Look for sets with cutters or tools.\\n*   **Washable Art Supplies:** Chunky crayons, washable markers, finger paints, and large paper are always a hit.\\n*   **Sticker Books:** Reusable sticker books or scene-building sticker sets.\\n*   **Simple Puzzles:** Wooden puzzles with knobs or 12-24 piece jigsaw puzzles help with problem-solving and spatial reasoning.\\n\\n**3. Active & Gross Motor Skills:**\\n*   **Tricycle or Balance Bike:** If she doesn't have one, this is a great age to start developing balance and coordination.\\n*   **Pop-Up Play Tent or Tunnel:** Creates a fun hideaway or an obstacle course.\\n*   **Bubble Machine:** Guaranteed giggles and encourages running and jumping.\\n*   **Mini Trampoline (with handle):** Great for indoor energy burning and developing coordination.\\n\\n**4. Books & Educational Fun:**\\n*   **Picture Books:** Look for interactive books (lift-the-flap, touch-and-feel), rhyming books, or stories about friendship and emotions.\\n*   **Sound Books:** Books that make animal sounds or musical instrument sounds.\\n*   **Counting or Alphabet Toys:** Wooden puzzles or simple matching games that introduce early concepts.\\n\\n**5. Comfort & Practical Fun:**\\n*   **A Special Stuffed Animal:** A soft, huggable friend can be a cherished companion.\\n*   **Personalized Item:** A blanket, backpack, or towel with her name on it can feel very special.\\n\\n**A few tips:**\\n*   **Consider her current interests:** Does she love animals? Trucks? Princesses? Tailor the gift to what she's already excited about.\\n*   **Ask her parents:** They might have a wish list or know what she already has plenty of, or what they specifically need.\\n*   **Think about durability and safety:** At this age, toys should be sturdy, non-toxic, and free of small parts that could be a choking hazard.\\n\\nNo matter what you choose, the thought behind the gift will surely be appreciated! Happy shopping!\"}],\"role\":\"model\"},\"finish_reason\":\"STOP\",\"avg_logprobs\":-0.5509330371378462}],\"create_time\":\"2025-10-31T10:25:04.418638Z\",\"model_version\":\"gemini-2.5-flash\",\"response_id\":\"gI4Eac7GGa-vnvgPjoXZqA0\",\"usage_metadata\":{\"candidates_token_count\":686,\"candidates_tokens_details\":[{\"modality\":\"TEXT\",\"token_count\":686}],\"prompt_token_count\":40,\"prompt_tokens_details\":[{\"modality\":\"TEXT\",\"token_count\":40}],\"thoughts_token_count\":570,\"total_token_count\":1296,\"traffic_type\":\"ON_DEMAND\"},\"automatic_function_calling_history\":[]}\n",
            "-----------------------------------------------------------\n",
            "\n",
            "INFO:google_adk.google.adk.models.google_llm:Sending out request, model: gemini-2.5-flash, backend: GoogleLLMVariant.VERTEX_AI, stream: False\n"
          ]
        },
        {
          "output_type": "stream",
          "name": "stdout",
          "text": [
            "Agent Response:  That's a fun age to shop for! Three-year-olds are really developing their imagination, fine motor skills, and curiosity. Here are some recommendations, keeping different types of play and development in mind:\n",
            "\n",
            "**1. Imaginative & Pretend Play:**\n",
            "*   **Play Kitchen or Food Set:** A classic for a reason! Kids love to \"cook\" and serve.\n",
            "*   **Doctor's Kit:** Encourages empathy and helps demystify doctor visits.\n",
            "*   **Dress-Up Clothes:** Princess outfits, superhero capes, animal costumes, or even just fun hats and scarves can spark hours of play.\n",
            "*   **Dollhouse & Figures:** Simple, sturdy dollhouses with a few family figures can lead to wonderful storytelling.\n",
            "*   **Toy Animals/Figures:** A collection of farm animals, dinosaurs, or community helpers for creating their own worlds.\n",
            "\n",
            "**2. Creative & Fine Motor Skills:**\n",
            "*   **Large Building Blocks (e.g., DUPLO, Mega Bloks):** Perfect for small hands to build towers, houses, and anything they can imagine.\n",
            "*   **Play-Doh or Modeling Clay:** Great for strengthening hand muscles and open-ended creative fun. Look for sets with cutters or tools.\n",
            "*   **Washable Art Supplies:** Chunky crayons, washable markers, finger paints, and large paper are always a hit.\n",
            "*   **Sticker Books:** Reusable sticker books or scene-building sticker sets.\n",
            "*   **Simple Puzzles:** Wooden puzzles with knobs or 12-24 piece jigsaw puzzles help with problem-solving and spatial reasoning.\n",
            "\n",
            "**3. Active & Gross Motor Skills:**\n",
            "*   **Tricycle or Balance Bike:** If she doesn't have one, this is a great age to start developing balance and coordination.\n",
            "*   **Pop-Up Play Tent or Tunnel:** Creates a fun hideaway or an obstacle course.\n",
            "*   **Bubble Machine:** Guaranteed giggles and encourages running and jumping.\n",
            "*   **Mini Trampoline (with handle):** Great for indoor energy burning and developing coordination.\n",
            "\n",
            "**4. Books & Educational Fun:**\n",
            "*   **Picture Books:** Look for interactive books (lift-the-flap, touch-and-feel), rhyming books, or stories about friendship and emotions.\n",
            "*   **Sound Books:** Books that make animal sounds or musical instrument sounds.\n",
            "*   **Counting or Alphabet Toys:** Wooden puzzles or simple matching games that introduce early concepts.\n",
            "\n",
            "**5. Comfort & Practical Fun:**\n",
            "*   **A Special Stuffed Animal:** A soft, huggable friend can be a cherished companion.\n",
            "*   **Personalized Item:** A blanket, backpack, or towel with her name on it can feel very special.\n",
            "\n",
            "**A few tips:**\n",
            "*   **Consider her current interests:** Does she love animals? Trucks? Princesses? Tailor the gift to what she's already excited about.\n",
            "*   **Ask her parents:** They might have a wish list or know what she already has plenty of, or what they specifically need.\n",
            "*   **Think about durability and safety:** At this age, toys should be sturdy, non-toxic, and free of small parts that could be a choking hazard.\n",
            "\n",
            "No matter what you choose, the thought behind the gift will surely be appreciated! Happy shopping!\n"
          ]
        },
        {
          "output_type": "stream",
          "name": "stderr",
          "text": [
            "DEBUG:google_adk.google.adk.models.google_llm:\n",
            "LLM Request:\n",
            "-----------------------------------------------------------\n",
            "System Instruction:\n",
            "Answer the user's questions\n",
            "\n",
            "You are an agent. Your internal name is \"Generic_QA_Agent\".\n",
            "-----------------------------------------------------------\n",
            "Config:\n",
            "{'labels': {'adk_agent_name': 'Generic_QA_Agent'}}\n",
            "-----------------------------------------------------------\n",
            "Contents:\n",
            "{\"parts\":[{\"text\":\"I have a three year old niece. What recommendations do you have for birthday presents?\"}],\"role\":\"user\"}\n",
            "{\"parts\":[{\"text\":\"That's a fun age to shop for! Three-year-olds are really developing their imagination, fine motor skills, and curiosity. Here are some recommendations, keeping different types of play and development in mind:\\n\\n**1. Imaginative & Pretend Play:**\\n*   **Play Kitchen or Food Set:** A classic for a reason! Kids love to \\\"cook\\\" and serve.\\n*   **Doctor's Kit:** Encourages empathy and helps demystify doctor visits.\\n*   **Dress-Up Clothes:** Princess outfits, superhero capes, animal costumes, or even just fun hats and scarves can spark hours of play.\\n*   **Dollhouse & Figures:** Simple, sturdy dollhouses with a few family figures can lead to wonderful storytelling.\\n*   **Toy Animals/Figures:** A collection of farm animals, dinosaurs, or community helpers for creating their own worlds.\\n\\n**2. Creative & Fine Motor Skills:**\\n*   **Large Building Blocks (e.g., DUPLO, Mega Bloks):** Perfect for small hands to build towers, houses, and anything they can imagine.\\n*   **Play-Doh or Modeling Clay:** Great for strengthening hand muscles and open-ended creative fun. Look for sets with cutters or tools.\\n*   **Washable Art Supplies:** Chunky crayons, washable markers, finger paints, and large paper are always a hit.\\n*   **Sticker Books:** Reusable sticker books or scene-building sticker sets.\\n*   **Simple Puzzles:** Wooden puzzles with knobs or 12-24 piece jigsaw puzzles help with problem-solving and spatial reasoning.\\n\\n**3. Active & Gross Motor Skills:**\\n*   **Tricycle or Balance Bike:** If she doesn't have one, this is a great age to start developing balance and coordination.\\n*   **Pop-Up Play Tent or Tunnel:** Creates a fun hideaway or an obstacle course.\\n*   **Bubble Machine:** Guaranteed giggles and encourages running and jumping.\\n*   **Mini Trampoline (with handle):** Great for indoor energy burning and developing coordination.\\n\\n**4. Books & Educational Fun:**\\n*   **Picture Books:** Look for interactive books (lift-the-flap, touch-and-feel), rhyming books, or stories about friendship and emotions.\\n*   **Sound Books:** Books that make animal sounds or musical instrument sounds.\\n*   **Counting or Alphabet Toys:** Wooden puzzles or simple matching games that introduce early concepts.\\n\\n**5. Comfort & Practical Fun:**\\n*   **A Special Stuffed Animal:** A soft, huggable friend can be a cherished companion.\\n*   **Personalized Item:** A blanket, backpack, or towel with her name on it can feel very special.\\n\\n**A few tips:**\\n*   **Consider her current interests:** Does she love animals? Trucks? Princesses? Tailor the gift to what she's already excited about.\\n*   **Ask her parents:** They might have a wish list or know what she already has plenty of, or what they specifically need.\\n*   **Think about durability and safety:** At this age, toys should be sturdy, non-toxic, and free of small parts that could be a choking hazard.\\n\\nNo matter what you choose, the thought behind the gift will surely be appreciated! Happy shopping!\"}],\"role\":\"model\"}\n",
            "{\"parts\":[{\"text\":\"I like the idea of a bike. Are there any age appropriate options?\"}],\"role\":\"user\"}\n",
            "-----------------------------------------------------------\n",
            "Functions:\n",
            "\n",
            "-----------------------------------------------------------\n",
            "\n",
            "INFO:google_adk.google.adk.models.google_llm:Response received from the model.\n",
            "DEBUG:google_adk.google.adk.models.google_llm:\n",
            "LLM Response:\n",
            "-----------------------------------------------------------\n",
            "Text:\n",
            "Yes, absolutely! A bike is a fantastic idea for a three-year-old, as it encourages outdoor play, develops gross motor skills, balance, and coordination. At this age, you have a couple of excellent, age-appropriate options:\n",
            "\n",
            "1.  **Balance Bikes:**\n",
            "    *   **What they are:** These bikes have no pedals or training wheels. Kids push off the ground with their feet to propel themselves forward and learn to balance by coasting.\n",
            "    *   **Why they're great for 3-year-olds:** This is often the *best* option for this age. A 3-year-old can quickly learn to glide on a balance bike, developing a natural sense of balance and steering. When they eventually transition to a pedal bike, they often skip training wheels entirely because they've already mastered balance.\n",
            "    *   **Benefits:** Promotes confidence, develops coordination, and makes learning to ride a pedal bike much easier in the future.\n",
            "    *   **Things to look for:**\n",
            "        *   **Lightweight:** Easier for them to maneuver and pick up if they fall.\n",
            "        *   **Adjustable seat height:** Crucial for ensuring their feet can be flat on the ground with a slight bend in the knee.\n",
            "        *   **Footrest (optional):** Some balance bikes have a small footrest for when they are gliding.\n",
            "        *   **No brakes necessary:** At this age, they typically use their feet to stop, but some models have hand brakes which can introduce that concept early.\n",
            "\n",
            "2.  **Tricycles:**\n",
            "    *   **What they are:** Three-wheeled bikes with pedals, providing inherent stability.\n",
            "    *   **Why they're great for 3-year-olds:** Tricycles are excellent for teaching pedaling action. They are very stable, so there's no balance required, which can be less intimidating for some children.\n",
            "    *   **Benefits:** Helps them understand how to use pedals and can be very confidence-boosting due to their stability.\n",
            "    *   **Things to look for:**\n",
            "        *   **Sturdy construction:** They should be able to withstand enthusiastic riding.\n",
            "        *   **Comfortable seat:** Ensure it's adjustable.\n",
            "        *   **Handlebar design:** Easy for small hands to grip and steer.\n",
            "        *   **Push handle (optional):** Some tricycles come with a parent push handle, which can be useful for walks if she gets tired or needs assistance steering.\n",
            "\n",
            "**Which one to choose?**\n",
            "\n",
            "*   If the goal is to **teach balance and make the transition to a two-wheel pedal bike easier later on**, a **balance bike** is usually the top recommendation. Many kids who start with balance bikes can ride a pedal bike without training wheels by age 4 or 5.\n",
            "*   If you want something immediately stable where she can focus solely on **learning to pedal** and just enjoy cruising around, a **tricycle** is a great choice.\n",
            "\n",
            "Ultimately, both are fantastic options for a 3-year-old. You might consider which skill you want to prioritize or if her parents have a preference. Either way, she's sure to have a blast!\n",
            "-----------------------------------------------------------\n",
            "Function calls:\n",
            "\n",
            "-----------------------------------------------------------\n",
            "Raw response:\n",
            "{\"sdk_http_response\":{\"headers\":{\"Content-Type\":\"application/json; charset=UTF-8\",\"Vary\":\"Origin, X-Origin, Referer\",\"Content-Encoding\":\"gzip\",\"Date\":\"Fri, 31 Oct 2025 10:25:18 GMT\",\"Server\":\"scaffolding on HTTPServer2\",\"X-XSS-Protection\":\"0\",\"X-Frame-Options\":\"SAMEORIGIN\",\"X-Content-Type-Options\":\"nosniff\",\"Transfer-Encoding\":\"chunked\"}},\"candidates\":[{\"content\":{\"parts\":[{\"text\":\"Yes, absolutely! A bike is a fantastic idea for a three-year-old, as it encourages outdoor play, develops gross motor skills, balance, and coordination. At this age, you have a couple of excellent, age-appropriate options:\\n\\n1.  **Balance Bikes:**\\n    *   **What they are:** These bikes have no pedals or training wheels. Kids push off the ground with their feet to propel themselves forward and learn to balance by coasting.\\n    *   **Why they're great for 3-year-olds:** This is often the *best* option for this age. A 3-year-old can quickly learn to glide on a balance bike, developing a natural sense of balance and steering. When they eventually transition to a pedal bike, they often skip training wheels entirely because they've already mastered balance.\\n    *   **Benefits:** Promotes confidence, develops coordination, and makes learning to ride a pedal bike much easier in the future.\\n    *   **Things to look for:**\\n        *   **Lightweight:** Easier for them to maneuver and pick up if they fall.\\n        *   **Adjustable seat height:** Crucial for ensuring their feet can be flat on the ground with a slight bend in the knee.\\n        *   **Footrest (optional):** Some balance bikes have a small footrest for when they are gliding.\\n        *   **No brakes necessary:** At this age, they typically use their feet to stop, but some models have hand brakes which can introduce that concept early.\\n\\n2.  **Tricycles:**\\n    *   **What they are:** Three-wheeled bikes with pedals, providing inherent stability.\\n    *   **Why they're great for 3-year-olds:** Tricycles are excellent for teaching pedaling action. They are very stable, so there's no balance required, which can be less intimidating for some children.\\n    *   **Benefits:** Helps them understand how to use pedals and can be very confidence-boosting due to their stability.\\n    *   **Things to look for:**\\n        *   **Sturdy construction:** They should be able to withstand enthusiastic riding.\\n        *   **Comfortable seat:** Ensure it's adjustable.\\n        *   **Handlebar design:** Easy for small hands to grip and steer.\\n        *   **Push handle (optional):** Some tricycles come with a parent push handle, which can be useful for walks if she gets tired or needs assistance steering.\\n\\n**Which one to choose?**\\n\\n*   If the goal is to **teach balance and make the transition to a two-wheel pedal bike easier later on**, a **balance bike** is usually the top recommendation. Many kids who start with balance bikes can ride a pedal bike without training wheels by age 4 or 5.\\n*   If you want something immediately stable where she can focus solely on **learning to pedal** and just enjoy cruising around, a **tricycle** is a great choice.\\n\\nUltimately, both are fantastic options for a 3-year-old. You might consider which skill you want to prioritize or if her parents have a preference. Either way, she's sure to have a blast!\"}],\"role\":\"model\"},\"finish_reason\":\"STOP\",\"avg_logprobs\":-0.3697650721254905}],\"create_time\":\"2025-10-31T10:25:13.462090Z\",\"model_version\":\"gemini-2.5-flash\",\"response_id\":\"iY4EaYqaHLmfnvgPoaTSqQ0\",\"usage_metadata\":{\"candidates_token_count\":669,\"candidates_tokens_details\":[{\"modality\":\"TEXT\",\"token_count\":669}],\"prompt_token_count\":741,\"prompt_tokens_details\":[{\"modality\":\"TEXT\",\"token_count\":741}],\"thoughts_token_count\":67,\"total_token_count\":1477,\"traffic_type\":\"ON_DEMAND\"},\"automatic_function_calling_history\":[]}\n",
            "-----------------------------------------------------------\n",
            "\n"
          ]
        },
        {
          "output_type": "stream",
          "name": "stdout",
          "text": [
            "Agent Response:  Yes, absolutely! A bike is a fantastic idea for a three-year-old, as it encourages outdoor play, develops gross motor skills, balance, and coordination. At this age, you have a couple of excellent, age-appropriate options:\n",
            "\n",
            "1.  **Balance Bikes:**\n",
            "    *   **What they are:** These bikes have no pedals or training wheels. Kids push off the ground with their feet to propel themselves forward and learn to balance by coasting.\n",
            "    *   **Why they're great for 3-year-olds:** This is often the *best* option for this age. A 3-year-old can quickly learn to glide on a balance bike, developing a natural sense of balance and steering. When they eventually transition to a pedal bike, they often skip training wheels entirely because they've already mastered balance.\n",
            "    *   **Benefits:** Promotes confidence, develops coordination, and makes learning to ride a pedal bike much easier in the future.\n",
            "    *   **Things to look for:**\n",
            "        *   **Lightweight:** Easier for them to maneuver and pick up if they fall.\n",
            "        *   **Adjustable seat height:** Crucial for ensuring their feet can be flat on the ground with a slight bend in the knee.\n",
            "        *   **Footrest (optional):** Some balance bikes have a small footrest for when they are gliding.\n",
            "        *   **No brakes necessary:** At this age, they typically use their feet to stop, but some models have hand brakes which can introduce that concept early.\n",
            "\n",
            "2.  **Tricycles:**\n",
            "    *   **What they are:** Three-wheeled bikes with pedals, providing inherent stability.\n",
            "    *   **Why they're great for 3-year-olds:** Tricycles are excellent for teaching pedaling action. They are very stable, so there's no balance required, which can be less intimidating for some children.\n",
            "    *   **Benefits:** Helps them understand how to use pedals and can be very confidence-boosting due to their stability.\n",
            "    *   **Things to look for:**\n",
            "        *   **Sturdy construction:** They should be able to withstand enthusiastic riding.\n",
            "        *   **Comfortable seat:** Ensure it's adjustable.\n",
            "        *   **Handlebar design:** Easy for small hands to grip and steer.\n",
            "        *   **Push handle (optional):** Some tricycles come with a parent push handle, which can be useful for walks if she gets tired or needs assistance steering.\n",
            "\n",
            "**Which one to choose?**\n",
            "\n",
            "*   If the goal is to **teach balance and make the transition to a two-wheel pedal bike easier later on**, a **balance bike** is usually the top recommendation. Many kids who start with balance bikes can ride a pedal bike without training wheels by age 4 or 5.\n",
            "*   If you want something immediately stable where she can focus solely on **learning to pedal** and just enjoy cruising around, a **tricycle** is a great choice.\n",
            "\n",
            "Ultimately, both are fantastic options for a 3-year-old. You might consider which skill you want to prioritize or if her parents have a preference. Either way, she's sure to have a blast!\n"
          ]
        }
      ],
      "source": [
        "recommendations_session = await session_service.create_session(\n",
        "    app_name=APP_NAME, user_id=USER_ID\n",
        ")\n",
        "\n",
        "call_agent(\n",
        "    \"I have a three year old niece. What recommendations do you have for birthday presents?\",\n",
        "    recommendations_session.id,\n",
        "    user_id=USER_ID,\n",
        ")\n",
        "call_agent(\n",
        "    \"I like the idea of a bike. Are there any age appropriate options?\",\n",
        "    recommendations_session.id,\n",
        "    user_id=USER_ID,\n",
        ")\n",
        "\n",
        "recommendations_session = await session_service.get_session(\n",
        "    app_name=APP_NAME, user_id=USER_ID, session_id=recommendations_session.id\n",
        ")"
      ]
    },
    {
      "cell_type": "markdown",
      "metadata": {
        "id": "0-bWy4LlTjio"
      },
      "source": [
        "### InMemoryMemoryService\n",
        "\n",
        "First, let's see what memories are extracted from the conversation using `InMemoryMemoryService`\n",
        "\n",
        "The memories include the raw dialogue of the conversation."
      ]
    },
    {
      "cell_type": "code",
      "execution_count": 60,
      "metadata": {
        "id": "D6PyuoF7_dz2"
      },
      "outputs": [],
      "source": [
        "await in_memory_service.add_session_to_memory(chit_chat_session)\n",
        "await in_memory_service.add_session_to_memory(recommendations_session)"
      ]
    },
    {
      "cell_type": "code",
      "execution_count": 61,
      "metadata": {
        "colab": {
          "base_uri": "https://localhost:8080/"
        },
        "id": "IP1_NjgjTzO0",
        "outputId": "2c52f89b-d4ea-41f9-bd70-42fc69c3f814"
      },
      "outputs": [
        {
          "output_type": "execute_result",
          "data": {
            "text/plain": [
              "{'memory_example_app/My User': {'64be8ba1-a0a7-4911-ac32-32f84f356b70': [Event(content=Content(\n",
              "     parts=[\n",
              "       Part(\n",
              "         text='what types of questions do you answer'\n",
              "       ),\n",
              "     ],\n",
              "     role='user'\n",
              "   ), grounding_metadata=None, partial=None, turn_complete=None, finish_reason=None, error_code=None, error_message=None, interrupted=None, custom_metadata=None, usage_metadata=None, live_session_resumption_update=None, input_transcription=None, output_transcription=None, avg_logprobs=None, logprobs_result=None, cache_metadata=None, citation_metadata=None, invocation_id='e-2443715e-a694-4357-b2f6-b4486aa13c29', author='user', actions=EventActions(skip_summarization=None, state_delta={}, artifact_delta={}, transfer_to_agent=None, escalate=None, requested_auth_configs={}, requested_tool_confirmations={}, compaction=None, end_of_agent=None, agent_state=None, rewind_before_invocation_id=None), long_running_tool_ids=None, branch=None, id='5ba29b33-548a-4bad-b5cc-267841d8e71f', timestamp=1761906293.830161),\n",
              "   Event(content=Content(\n",
              "     parts=[\n",
              "       Part(\n",
              "         text=\"\"\"As a large language model, I can answer a wide variety of questions across many different topics. You can ask me about:\n",
              "   \n",
              "   *   **Facts and Information:** History, science, geography, current events (up to my last update), pop culture, technology, literature, etc.\n",
              "   *   **Explanations:** How things work, concepts, theories, ideas.\n",
              "   *   **Definitions:** What a word or phrase means.\n",
              "   *   **Summaries:** Summarize articles, books, concepts, or documents (if provided).\n",
              "   *   **Creative Writing:** Generate stories, poems, scripts, song lyrics, or other creative text.\n",
              "   *   **Problem Solving:** Help with math problems, logical puzzles, or general reasoning questions.\n",
              "   *   **Language Tasks:** Translation (to some extent), grammar correction, rephrasing, generating text in different styles.\n",
              "   *   **General Advice/Suggestions:** Offer general recommendations or ideas on various non-personal topics.\n",
              "   *   **Coding Assistance:** Explain code, debug simple issues, or generate code snippets in various languages.\n",
              "   \n",
              "   **However, there are a few things I cannot do:**\n",
              "   \n",
              "   *   **Provide personal opinions or feelings:** I don't have personal experiences, beliefs, or emotions.\n",
              "   *   **Give medical, legal, or financial advice:** I am not a qualified professional in these fields.\n",
              "   *   **Perform actions in the real world:** I cannot browse the internet in real-time, send emails, make calls, or control devices.\n",
              "   *   **Access private or real-time information:** My knowledge is based on the data I was trained on, so I don't have access to current events past my last update, nor can I access private databases or specific personal details.\n",
              "   *   **Know who you are or remember past conversations definitively:** Each interaction is treated somewhat independently.\n",
              "   \n",
              "   Feel free to ask me anything you're curious about, and I'll do my best to provide a helpful and accurate answer!\"\"\"\n",
              "       ),\n",
              "     ],\n",
              "     role='model'\n",
              "   ), grounding_metadata=None, partial=None, turn_complete=None, finish_reason=<FinishReason.STOP: 'STOP'>, error_code=None, error_message=None, interrupted=None, custom_metadata=None, usage_metadata=GenerateContentResponseUsageMetadata(\n",
              "     candidates_token_count=408,\n",
              "     candidates_tokens_details=[\n",
              "       ModalityTokenCount(\n",
              "         modality=<MediaModality.TEXT: 'TEXT'>,\n",
              "         token_count=408\n",
              "       ),\n",
              "     ],\n",
              "     prompt_token_count=30,\n",
              "     prompt_tokens_details=[\n",
              "       ModalityTokenCount(\n",
              "         modality=<MediaModality.TEXT: 'TEXT'>,\n",
              "         token_count=30\n",
              "       ),\n",
              "     ],\n",
              "     thoughts_token_count=321,\n",
              "     total_token_count=759,\n",
              "     traffic_type=<TrafficType.ON_DEMAND: 'ON_DEMAND'>\n",
              "   ), live_session_resumption_update=None, input_transcription=None, output_transcription=None, avg_logprobs=-0.48709944182751225, logprobs_result=None, cache_metadata=None, citation_metadata=None, invocation_id='e-2443715e-a694-4357-b2f6-b4486aa13c29', author='Generic_QA_Agent', actions=EventActions(skip_summarization=None, state_delta={}, artifact_delta={}, transfer_to_agent=None, escalate=None, requested_auth_configs={}, requested_tool_confirmations={}, compaction=None, end_of_agent=None, agent_state=None, rewind_before_invocation_id=None), long_running_tool_ids=None, branch=None, id='7df70005-425c-42c5-877c-0b5687e5a9d8', timestamp=1761906293.831551)],\n",
              "  '6cd543eb-55fe-487e-b673-0a3a38098c60': [Event(content=Content(\n",
              "     parts=[\n",
              "       Part(\n",
              "         text='I have a three year old niece. What recommendations do you have for birthday presents?'\n",
              "       ),\n",
              "     ],\n",
              "     role='user'\n",
              "   ), grounding_metadata=None, partial=None, turn_complete=None, finish_reason=None, error_code=None, error_message=None, interrupted=None, custom_metadata=None, usage_metadata=None, live_session_resumption_update=None, input_transcription=None, output_transcription=None, avg_logprobs=None, logprobs_result=None, cache_metadata=None, citation_metadata=None, invocation_id='e-53c7e54b-b5b1-4dbb-b4cc-be5b420492d0', author='user', actions=EventActions(skip_summarization=None, state_delta={}, artifact_delta={}, transfer_to_agent=None, escalate=None, requested_auth_configs={}, requested_tool_confirmations={}, compaction=None, end_of_agent=None, agent_state=None, rewind_before_invocation_id=None), long_running_tool_ids=None, branch=None, id='e3e1a3ee-60c4-4db4-b3d2-22fc85ddc982', timestamp=1761906304.058495),\n",
              "   Event(content=Content(\n",
              "     parts=[\n",
              "       Part(\n",
              "         text=\"\"\"That's a fun age to shop for! Three-year-olds are really developing their imagination, fine motor skills, and curiosity. Here are some recommendations, keeping different types of play and development in mind:\n",
              "   \n",
              "   **1. Imaginative & Pretend Play:**\n",
              "   *   **Play Kitchen or Food Set:** A classic for a reason! Kids love to \"cook\" and serve.\n",
              "   *   **Doctor's Kit:** Encourages empathy and helps demystify doctor visits.\n",
              "   *   **Dress-Up Clothes:** Princess outfits, superhero capes, animal costumes, or even just fun hats and scarves can spark hours of play.\n",
              "   *   **Dollhouse & Figures:** Simple, sturdy dollhouses with a few family figures can lead to wonderful storytelling.\n",
              "   *   **Toy Animals/Figures:** A collection of farm animals, dinosaurs, or community helpers for creating their own worlds.\n",
              "   \n",
              "   **2. Creative & Fine Motor Skills:**\n",
              "   *   **Large Building Blocks (e.g., DUPLO, Mega Bloks):** Perfect for small hands to build towers, houses, and anything they can imagine.\n",
              "   *   **Play-Doh or Modeling Clay:** Great for strengthening hand muscles and open-ended creative fun. Look for sets with cutters or tools.\n",
              "   *   **Washable Art Supplies:** Chunky crayons, washable markers, finger paints, and large paper are always a hit.\n",
              "   *   **Sticker Books:** Reusable sticker books or scene-building sticker sets.\n",
              "   *   **Simple Puzzles:** Wooden puzzles with knobs or 12-24 piece jigsaw puzzles help with problem-solving and spatial reasoning.\n",
              "   \n",
              "   **3. Active & Gross Motor Skills:**\n",
              "   *   **Tricycle or Balance Bike:** If she doesn't have one, this is a great age to start developing balance and coordination.\n",
              "   *   **Pop-Up Play Tent or Tunnel:** Creates a fun hideaway or an obstacle course.\n",
              "   *   **Bubble Machine:** Guaranteed giggles and encourages running and jumping.\n",
              "   *   **Mini Trampoline (with handle):** Great for indoor energy burning and developing coordination.\n",
              "   \n",
              "   **4. Books & Educational Fun:**\n",
              "   *   **Picture Books:** Look for interactive books (lift-the-flap, touch-and-feel), rhyming books, or stories about friendship and emotions.\n",
              "   *   **Sound Books:** Books that make animal sounds or musical instrument sounds.\n",
              "   *   **Counting or Alphabet Toys:** Wooden puzzles or simple matching games that introduce early concepts.\n",
              "   \n",
              "   **5. Comfort & Practical Fun:**\n",
              "   *   **A Special Stuffed Animal:** A soft, huggable friend can be a cherished companion.\n",
              "   *   **Personalized Item:** A blanket, backpack, or towel with her name on it can feel very special.\n",
              "   \n",
              "   **A few tips:**\n",
              "   *   **Consider her current interests:** Does she love animals? Trucks? Princesses? Tailor the gift to what she's already excited about.\n",
              "   *   **Ask her parents:** They might have a wish list or know what she already has plenty of, or what they specifically need.\n",
              "   *   **Think about durability and safety:** At this age, toys should be sturdy, non-toxic, and free of small parts that could be a choking hazard.\n",
              "   \n",
              "   No matter what you choose, the thought behind the gift will surely be appreciated! Happy shopping!\"\"\"\n",
              "       ),\n",
              "     ],\n",
              "     role='model'\n",
              "   ), grounding_metadata=None, partial=None, turn_complete=None, finish_reason=<FinishReason.STOP: 'STOP'>, error_code=None, error_message=None, interrupted=None, custom_metadata=None, usage_metadata=GenerateContentResponseUsageMetadata(\n",
              "     candidates_token_count=686,\n",
              "     candidates_tokens_details=[\n",
              "       ModalityTokenCount(\n",
              "         modality=<MediaModality.TEXT: 'TEXT'>,\n",
              "         token_count=686\n",
              "       ),\n",
              "     ],\n",
              "     prompt_token_count=40,\n",
              "     prompt_tokens_details=[\n",
              "       ModalityTokenCount(\n",
              "         modality=<MediaModality.TEXT: 'TEXT'>,\n",
              "         token_count=40\n",
              "       ),\n",
              "     ],\n",
              "     thoughts_token_count=570,\n",
              "     total_token_count=1296,\n",
              "     traffic_type=<TrafficType.ON_DEMAND: 'ON_DEMAND'>\n",
              "   ), live_session_resumption_update=None, input_transcription=None, output_transcription=None, avg_logprobs=-0.5509330371378462, logprobs_result=None, cache_metadata=None, citation_metadata=None, invocation_id='e-53c7e54b-b5b1-4dbb-b4cc-be5b420492d0', author='Generic_QA_Agent', actions=EventActions(skip_summarization=None, state_delta={}, artifact_delta={}, transfer_to_agent=None, escalate=None, requested_auth_configs={}, requested_tool_confirmations={}, compaction=None, end_of_agent=None, agent_state=None, rewind_before_invocation_id=None), long_running_tool_ids=None, branch=None, id='93b2e776-6b77-47f1-84fb-285fb5785830', timestamp=1761906304.059137),\n",
              "   Event(content=Content(\n",
              "     parts=[\n",
              "       Part(\n",
              "         text='I like the idea of a bike. Are there any age appropriate options?'\n",
              "       ),\n",
              "     ],\n",
              "     role='user'\n",
              "   ), grounding_metadata=None, partial=None, turn_complete=None, finish_reason=None, error_code=None, error_message=None, interrupted=None, custom_metadata=None, usage_metadata=None, live_session_resumption_update=None, input_transcription=None, output_transcription=None, avg_logprobs=None, logprobs_result=None, cache_metadata=None, citation_metadata=None, invocation_id='e-0e755a03-0ecb-4662-a2b1-f128f40f6ed2', author='user', actions=EventActions(skip_summarization=None, state_delta={}, artifact_delta={}, transfer_to_agent=None, escalate=None, requested_auth_configs={}, requested_tool_confirmations={}, compaction=None, end_of_agent=None, agent_state=None, rewind_before_invocation_id=None), long_running_tool_ids=None, branch=None, id='8eceaec8-77d5-41f6-a7e6-12fdd64b4920', timestamp=1761906313.087656),\n",
              "   Event(content=Content(\n",
              "     parts=[\n",
              "       Part(\n",
              "         text=\"\"\"Yes, absolutely! A bike is a fantastic idea for a three-year-old, as it encourages outdoor play, develops gross motor skills, balance, and coordination. At this age, you have a couple of excellent, age-appropriate options:\n",
              "   \n",
              "   1.  **Balance Bikes:**\n",
              "       *   **What they are:** These bikes have no pedals or training wheels. Kids push off the ground with their feet to propel themselves forward and learn to balance by coasting.\n",
              "       *   **Why they're great for 3-year-olds:** This is often the *best* option for this age. A 3-year-old can quickly learn to glide on a balance bike, developing a natural sense of balance and steering. When they eventually transition to a pedal bike, they often skip training wheels entirely because they've already mastered balance.\n",
              "       *   **Benefits:** Promotes confidence, develops coordination, and makes learning to ride a pedal bike much easier in the future.\n",
              "       *   **Things to look for:**\n",
              "           *   **Lightweight:** Easier for them to maneuver and pick up if they fall.\n",
              "           *   **Adjustable seat height:** Crucial for ensuring their feet can be flat on the ground with a slight bend in the knee.\n",
              "           *   **Footrest (optional):** Some balance bikes have a small footrest for when they are gliding.\n",
              "           *   **No brakes necessary:** At this age, they typically use their feet to stop, but some models have hand brakes which can introduce that concept early.\n",
              "   \n",
              "   2.  **Tricycles:**\n",
              "       *   **What they are:** Three-wheeled bikes with pedals, providing inherent stability.\n",
              "       *   **Why they're great for 3-year-olds:** Tricycles are excellent for teaching pedaling action. They are very stable, so there's no balance required, which can be less intimidating for some children.\n",
              "       *   **Benefits:** Helps them understand how to use pedals and can be very confidence-boosting due to their stability.\n",
              "       *   **Things to look for:**\n",
              "           *   **Sturdy construction:** They should be able to withstand enthusiastic riding.\n",
              "           *   **Comfortable seat:** Ensure it's adjustable.\n",
              "           *   **Handlebar design:** Easy for small hands to grip and steer.\n",
              "           *   **Push handle (optional):** Some tricycles come with a parent push handle, which can be useful for walks if she gets tired or needs assistance steering.\n",
              "   \n",
              "   **Which one to choose?**\n",
              "   \n",
              "   *   If the goal is to **teach balance and make the transition to a two-wheel pedal bike easier later on**, a **balance bike** is usually the top recommendation. Many kids who start with balance bikes can ride a pedal bike without training wheels by age 4 or 5.\n",
              "   *   If you want something immediately stable where she can focus solely on **learning to pedal** and just enjoy cruising around, a **tricycle** is a great choice.\n",
              "   \n",
              "   Ultimately, both are fantastic options for a 3-year-old. You might consider which skill you want to prioritize or if her parents have a preference. Either way, she's sure to have a blast!\"\"\"\n",
              "       ),\n",
              "     ],\n",
              "     role='model'\n",
              "   ), grounding_metadata=None, partial=None, turn_complete=None, finish_reason=<FinishReason.STOP: 'STOP'>, error_code=None, error_message=None, interrupted=None, custom_metadata=None, usage_metadata=GenerateContentResponseUsageMetadata(\n",
              "     candidates_token_count=669,\n",
              "     candidates_tokens_details=[\n",
              "       ModalityTokenCount(\n",
              "         modality=<MediaModality.TEXT: 'TEXT'>,\n",
              "         token_count=669\n",
              "       ),\n",
              "     ],\n",
              "     prompt_token_count=741,\n",
              "     prompt_tokens_details=[\n",
              "       ModalityTokenCount(\n",
              "         modality=<MediaModality.TEXT: 'TEXT'>,\n",
              "         token_count=741\n",
              "       ),\n",
              "     ],\n",
              "     thoughts_token_count=67,\n",
              "     total_token_count=1477,\n",
              "     traffic_type=<TrafficType.ON_DEMAND: 'ON_DEMAND'>\n",
              "   ), live_session_resumption_update=None, input_transcription=None, output_transcription=None, avg_logprobs=-0.3697650721254905, logprobs_result=None, cache_metadata=None, citation_metadata=None, invocation_id='e-0e755a03-0ecb-4662-a2b1-f128f40f6ed2', author='Generic_QA_Agent', actions=EventActions(skip_summarization=None, state_delta={}, artifact_delta={}, transfer_to_agent=None, escalate=None, requested_auth_configs={}, requested_tool_confirmations={}, compaction=None, end_of_agent=None, agent_state=None, rewind_before_invocation_id=None), long_running_tool_ids=None, branch=None, id='e081db36-8d6a-4a42-9aba-7a3527a7bd0f', timestamp=1761906313.088355)]}}"
            ]
          },
          "metadata": {},
          "execution_count": 61
        }
      ],
      "source": [
        "# Peek at the memories.\n",
        "in_memory_service._session_events"
      ]
    },
    {
      "cell_type": "code",
      "execution_count": 62,
      "metadata": {
        "colab": {
          "base_uri": "https://localhost:8080/"
        },
        "id": "ZY1cRqfi_4Qz",
        "outputId": "f49f2858-495a-45d7-e4c6-16a048f37c8c"
      },
      "outputs": [
        {
          "output_type": "execute_result",
          "data": {
            "text/plain": [
              "SearchMemoryResponse(memories=[])"
            ]
          },
          "metadata": {},
          "execution_count": 62
        }
      ],
      "source": [
        "await in_memory_service.search_memory(app_name=APP_NAME, user_id=USER_ID, query=\"test\")"
      ]
    },
    {
      "cell_type": "code",
      "execution_count": 63,
      "metadata": {
        "colab": {
          "base_uri": "https://localhost:8080/"
        },
        "id": "wV2OziabBVt5",
        "outputId": "9780598b-0683-46a1-e06d-7ae8d1d599b1"
      },
      "outputs": [
        {
          "output_type": "execute_result",
          "data": {
            "text/plain": [
              "SearchMemoryResponse(memories=[MemoryEntry(content=Content(\n",
              "  parts=[\n",
              "    Part(\n",
              "      text='what types of questions do you answer'\n",
              "    ),\n",
              "  ],\n",
              "  role='user'\n",
              "), author='user', timestamp='2025-10-31T10:24:53.830161'), MemoryEntry(content=Content(\n",
              "  parts=[\n",
              "    Part(\n",
              "      text=\"\"\"As a large language model, I can answer a wide variety of questions across many different topics. You can ask me about:\n",
              "\n",
              "*   **Facts and Information:** History, science, geography, current events (up to my last update), pop culture, technology, literature, etc.\n",
              "*   **Explanations:** How things work, concepts, theories, ideas.\n",
              "*   **Definitions:** What a word or phrase means.\n",
              "*   **Summaries:** Summarize articles, books, concepts, or documents (if provided).\n",
              "*   **Creative Writing:** Generate stories, poems, scripts, song lyrics, or other creative text.\n",
              "*   **Problem Solving:** Help with math problems, logical puzzles, or general reasoning questions.\n",
              "*   **Language Tasks:** Translation (to some extent), grammar correction, rephrasing, generating text in different styles.\n",
              "*   **General Advice/Suggestions:** Offer general recommendations or ideas on various non-personal topics.\n",
              "*   **Coding Assistance:** Explain code, debug simple issues, or generate code snippets in various languages.\n",
              "\n",
              "**However, there are a few things I cannot do:**\n",
              "\n",
              "*   **Provide personal opinions or feelings:** I don't have personal experiences, beliefs, or emotions.\n",
              "*   **Give medical, legal, or financial advice:** I am not a qualified professional in these fields.\n",
              "*   **Perform actions in the real world:** I cannot browse the internet in real-time, send emails, make calls, or control devices.\n",
              "*   **Access private or real-time information:** My knowledge is based on the data I was trained on, so I don't have access to current events past my last update, nor can I access private databases or specific personal details.\n",
              "*   **Know who you are or remember past conversations definitively:** Each interaction is treated somewhat independently.\n",
              "\n",
              "Feel free to ask me anything you're curious about, and I'll do my best to provide a helpful and accurate answer!\"\"\"\n",
              "    ),\n",
              "  ],\n",
              "  role='model'\n",
              "), author='Generic_QA_Agent', timestamp='2025-10-31T10:24:53.831551'), MemoryEntry(content=Content(\n",
              "  parts=[\n",
              "    Part(\n",
              "      text='I have a three year old niece. What recommendations do you have for birthday presents?'\n",
              "    ),\n",
              "  ],\n",
              "  role='user'\n",
              "), author='user', timestamp='2025-10-31T10:25:04.058495'), MemoryEntry(content=Content(\n",
              "  parts=[\n",
              "    Part(\n",
              "      text=\"\"\"That's a fun age to shop for! Three-year-olds are really developing their imagination, fine motor skills, and curiosity. Here are some recommendations, keeping different types of play and development in mind:\n",
              "\n",
              "**1. Imaginative & Pretend Play:**\n",
              "*   **Play Kitchen or Food Set:** A classic for a reason! Kids love to \"cook\" and serve.\n",
              "*   **Doctor's Kit:** Encourages empathy and helps demystify doctor visits.\n",
              "*   **Dress-Up Clothes:** Princess outfits, superhero capes, animal costumes, or even just fun hats and scarves can spark hours of play.\n",
              "*   **Dollhouse & Figures:** Simple, sturdy dollhouses with a few family figures can lead to wonderful storytelling.\n",
              "*   **Toy Animals/Figures:** A collection of farm animals, dinosaurs, or community helpers for creating their own worlds.\n",
              "\n",
              "**2. Creative & Fine Motor Skills:**\n",
              "*   **Large Building Blocks (e.g., DUPLO, Mega Bloks):** Perfect for small hands to build towers, houses, and anything they can imagine.\n",
              "*   **Play-Doh or Modeling Clay:** Great for strengthening hand muscles and open-ended creative fun. Look for sets with cutters or tools.\n",
              "*   **Washable Art Supplies:** Chunky crayons, washable markers, finger paints, and large paper are always a hit.\n",
              "*   **Sticker Books:** Reusable sticker books or scene-building sticker sets.\n",
              "*   **Simple Puzzles:** Wooden puzzles with knobs or 12-24 piece jigsaw puzzles help with problem-solving and spatial reasoning.\n",
              "\n",
              "**3. Active & Gross Motor Skills:**\n",
              "*   **Tricycle or Balance Bike:** If she doesn't have one, this is a great age to start developing balance and coordination.\n",
              "*   **Pop-Up Play Tent or Tunnel:** Creates a fun hideaway or an obstacle course.\n",
              "*   **Bubble Machine:** Guaranteed giggles and encourages running and jumping.\n",
              "*   **Mini Trampoline (with handle):** Great for indoor energy burning and developing coordination.\n",
              "\n",
              "**4. Books & Educational Fun:**\n",
              "*   **Picture Books:** Look for interactive books (lift-the-flap, touch-and-feel), rhyming books, or stories about friendship and emotions.\n",
              "*   **Sound Books:** Books that make animal sounds or musical instrument sounds.\n",
              "*   **Counting or Alphabet Toys:** Wooden puzzles or simple matching games that introduce early concepts.\n",
              "\n",
              "**5. Comfort & Practical Fun:**\n",
              "*   **A Special Stuffed Animal:** A soft, huggable friend can be a cherished companion.\n",
              "*   **Personalized Item:** A blanket, backpack, or towel with her name on it can feel very special.\n",
              "\n",
              "**A few tips:**\n",
              "*   **Consider her current interests:** Does she love animals? Trucks? Princesses? Tailor the gift to what she's already excited about.\n",
              "*   **Ask her parents:** They might have a wish list or know what she already has plenty of, or what they specifically need.\n",
              "*   **Think about durability and safety:** At this age, toys should be sturdy, non-toxic, and free of small parts that could be a choking hazard.\n",
              "\n",
              "No matter what you choose, the thought behind the gift will surely be appreciated! Happy shopping!\"\"\"\n",
              "    ),\n",
              "  ],\n",
              "  role='model'\n",
              "), author='Generic_QA_Agent', timestamp='2025-10-31T10:25:04.059137'), MemoryEntry(content=Content(\n",
              "  parts=[\n",
              "    Part(\n",
              "      text='I like the idea of a bike. Are there any age appropriate options?'\n",
              "    ),\n",
              "  ],\n",
              "  role='user'\n",
              "), author='user', timestamp='2025-10-31T10:25:13.087656'), MemoryEntry(content=Content(\n",
              "  parts=[\n",
              "    Part(\n",
              "      text=\"\"\"Yes, absolutely! A bike is a fantastic idea for a three-year-old, as it encourages outdoor play, develops gross motor skills, balance, and coordination. At this age, you have a couple of excellent, age-appropriate options:\n",
              "\n",
              "1.  **Balance Bikes:**\n",
              "    *   **What they are:** These bikes have no pedals or training wheels. Kids push off the ground with their feet to propel themselves forward and learn to balance by coasting.\n",
              "    *   **Why they're great for 3-year-olds:** This is often the *best* option for this age. A 3-year-old can quickly learn to glide on a balance bike, developing a natural sense of balance and steering. When they eventually transition to a pedal bike, they often skip training wheels entirely because they've already mastered balance.\n",
              "    *   **Benefits:** Promotes confidence, develops coordination, and makes learning to ride a pedal bike much easier in the future.\n",
              "    *   **Things to look for:**\n",
              "        *   **Lightweight:** Easier for them to maneuver and pick up if they fall.\n",
              "        *   **Adjustable seat height:** Crucial for ensuring their feet can be flat on the ground with a slight bend in the knee.\n",
              "        *   **Footrest (optional):** Some balance bikes have a small footrest for when they are gliding.\n",
              "        *   **No brakes necessary:** At this age, they typically use their feet to stop, but some models have hand brakes which can introduce that concept early.\n",
              "\n",
              "2.  **Tricycles:**\n",
              "    *   **What they are:** Three-wheeled bikes with pedals, providing inherent stability.\n",
              "    *   **Why they're great for 3-year-olds:** Tricycles are excellent for teaching pedaling action. They are very stable, so there's no balance required, which can be less intimidating for some children.\n",
              "    *   **Benefits:** Helps them understand how to use pedals and can be very confidence-boosting due to their stability.\n",
              "    *   **Things to look for:**\n",
              "        *   **Sturdy construction:** They should be able to withstand enthusiastic riding.\n",
              "        *   **Comfortable seat:** Ensure it's adjustable.\n",
              "        *   **Handlebar design:** Easy for small hands to grip and steer.\n",
              "        *   **Push handle (optional):** Some tricycles come with a parent push handle, which can be useful for walks if she gets tired or needs assistance steering.\n",
              "\n",
              "**Which one to choose?**\n",
              "\n",
              "*   If the goal is to **teach balance and make the transition to a two-wheel pedal bike easier later on**, a **balance bike** is usually the top recommendation. Many kids who start with balance bikes can ride a pedal bike without training wheels by age 4 or 5.\n",
              "*   If you want something immediately stable where she can focus solely on **learning to pedal** and just enjoy cruising around, a **tricycle** is a great choice.\n",
              "\n",
              "Ultimately, both are fantastic options for a 3-year-old. You might consider which skill you want to prioritize or if her parents have a preference. Either way, she's sure to have a blast!\"\"\"\n",
              "    ),\n",
              "  ],\n",
              "  role='model'\n",
              "), author='Generic_QA_Agent', timestamp='2025-10-31T10:25:13.088355')])"
            ]
          },
          "metadata": {},
          "execution_count": 63
        }
      ],
      "source": [
        "await in_memory_service.search_memory(\n",
        "    app_name=APP_NAME,\n",
        "    user_id=USER_ID,\n",
        "    query=\"what should I get my mom for mother's day\",\n",
        ")"
      ]
    },
    {
      "cell_type": "markdown",
      "metadata": {
        "id": "j8d9R6NMUgyw"
      },
      "source": [
        "### Memory Bank via `VertexAiMemoryBankService`\n",
        "\n",
        "Now, let's use Memory Bank to generate and store memories. Unlike `InMemoryMemoryService`, only content that's meaningful interactions will be persisted. If there's no meaningful content, the `add_session_to_memory` call will be a no-op; memories are not generated.\n",
        "\n",
        "Memory generation happens in the background. It's a non-blocking operation, so `add_session_to_memory` may complete before memories are actually generated in the background. If you want memory generation to be a blocking operation, use the Agent Engine SDK:\n",
        "\n",
        "```\n",
        "client.agent_engines.memories.generate(\n",
        "    ...,\n",
        "    config={\n",
        "        # Default value is True.\n",
        "        \"wait_for_completion\": True\n",
        "    }\n",
        ")\n",
        "```\n",
        "\n",
        "There are two key operations that Memory Bank performs under-the-hood with memory generation:\n",
        "\n",
        "* **Extraction**: Extracts information about the user from their conversations with the agent. Only information that matches at least one of your instance's memory topics will be persisted.\n",
        "* **Consolidation**: Identifies if existing memories with the same scope should be deleted or updated based on the extracted information. Memory Bank checks that new memories are not duplicative or contradictory before merging them with existing memories. If existing memories don't overlap with the new information, a new memory will be created."
      ]
    },
    {
      "cell_type": "markdown",
      "metadata": {
        "id": "HzYBHoUNSZKn"
      },
      "source": [
        "#### ADK `add_session_to_memory`"
      ]
    },
    {
      "cell_type": "code",
      "execution_count": 64,
      "metadata": {
        "colab": {
          "base_uri": "https://localhost:8080/"
        },
        "id": "ytzu349cBdW6",
        "outputId": "3a2e9e1d-8c7d-461e-f5a5-579adcfa3150"
      },
      "outputs": [
        {
          "output_type": "stream",
          "name": "stderr",
          "text": [
            "INFO:google_adk.google.adk.memory.vertex_ai_memory_bank_service:Generate memory response received.\n",
            "DEBUG:google_adk.google.adk.memory.vertex_ai_memory_bank_service:Generate memory response: name='projects/568929544199/locations/us-central1/reasoningEngines/7795577023350439936/operations/8780758906629521408' metadata={'@type': 'type.googleapis.com/google.cloud.aiplatform.v1beta1.GenerateMemoriesOperationMetadata', 'genericMetadata': {'createTime': '2025-10-31T10:25:51.776861Z', 'updateTime': '2025-10-31T10:25:51.776861Z'}} done=None error=None response=None\n",
            "INFO:google_adk.google.adk.memory.vertex_ai_memory_bank_service:Generate memory response received.\n",
            "DEBUG:google_adk.google.adk.memory.vertex_ai_memory_bank_service:Generate memory response: name='projects/568929544199/locations/us-central1/reasoningEngines/7795577023350439936/operations/1759647087558918144' metadata={'@type': 'type.googleapis.com/google.cloud.aiplatform.v1beta1.GenerateMemoriesOperationMetadata', 'genericMetadata': {'createTime': '2025-10-31T10:25:52.244599Z', 'updateTime': '2025-10-31T10:25:52.244599Z'}} done=None error=None response=None\n"
          ]
        }
      ],
      "source": [
        "await memory_bank_service.add_session_to_memory(chit_chat_session)\n",
        "await memory_bank_service.add_session_to_memory(recommendations_session)"
      ]
    },
    {
      "cell_type": "markdown",
      "metadata": {
        "id": "E3ihzck53quZ"
      },
      "source": [
        "If you run this immediately after `add_session_to_memory`, there may be no memories printed. `add_session_to_memory` is a non-blocking function and memory generation can take a few seconds to run."
      ]
    },
    {
      "cell_type": "code",
      "execution_count": 65,
      "metadata": {
        "colab": {
          "base_uri": "https://localhost:8080/"
        },
        "id": "3emdHmGhBtMd",
        "outputId": "77993aae-beb0-4351-cd8c-789e692cae36"
      },
      "outputs": [
        {
          "output_type": "stream",
          "name": "stderr",
          "text": [
            "INFO:google_adk.google.adk.memory.vertex_ai_memory_bank_service:Search memory response received.\n",
            "DEBUG:google_adk.google.adk.memory.vertex_ai_memory_bank_service:Retrieved memory: distance=0.9933563316379599 memory=Memory(\n",
            "  create_time=datetime.datetime(2025, 10, 31, 10, 25, 54, 376825, tzinfo=TzInfo(UTC)),\n",
            "  fact='I like the idea of getting a bike as a birthday present for my three-year-old niece.',\n",
            "  name='projects/568929544199/locations/us-central1/reasoningEngines/7795577023350439936/memories/3144615899823079424',\n",
            "  scope={\n",
            "    'app_name': 'memory_example_app',\n",
            "    'user_id': 'My User'\n",
            "  },\n",
            "  update_time=datetime.datetime(2025, 10, 31, 10, 25, 54, 376825, tzinfo=TzInfo(UTC))\n",
            ")\n",
            "DEBUG:google_adk.google.adk.memory.vertex_ai_memory_bank_service:Retrieved memory: distance=1.059445197106196 memory=Memory(\n",
            "  create_time=datetime.datetime(2025, 10, 31, 10, 25, 54, 382024, tzinfo=TzInfo(UTC)),\n",
            "  fact='I have a three-year-old niece.',\n",
            "  name='projects/568929544199/locations/us-central1/reasoningEngines/7795577023350439936/memories/5450458909036773376',\n",
            "  scope={\n",
            "    'app_name': 'memory_example_app',\n",
            "    'user_id': 'My User'\n",
            "  },\n",
            "  update_time=datetime.datetime(2025, 10, 31, 10, 25, 54, 382024, tzinfo=TzInfo(UTC))\n",
            ")\n"
          ]
        },
        {
          "output_type": "execute_result",
          "data": {
            "text/plain": [
              "SearchMemoryResponse(memories=[MemoryEntry(content=Content(\n",
              "  parts=[\n",
              "    Part(\n",
              "      text='I like the idea of getting a bike as a birthday present for my three-year-old niece.'\n",
              "    ),\n",
              "  ],\n",
              "  role='user'\n",
              "), author='user', timestamp='2025-10-31T10:25:54.376825+00:00'), MemoryEntry(content=Content(\n",
              "  parts=[\n",
              "    Part(\n",
              "      text='I have a three-year-old niece.'\n",
              "    ),\n",
              "  ],\n",
              "  role='user'\n",
              "), author='user', timestamp='2025-10-31T10:25:54.382024+00:00')])"
            ]
          },
          "metadata": {},
          "execution_count": 65
        }
      ],
      "source": [
        "await memory_bank_service.search_memory(\n",
        "    app_name=APP_NAME,\n",
        "    user_id=USER_ID,\n",
        "    query=\"What should I get my mom for mother's day\",\n",
        ")"
      ]
    },
    {
      "cell_type": "markdown",
      "metadata": {
        "id": "DtdqszuOUyJ0"
      },
      "source": [
        "#### Agent Engine SDK `GenerateMemories`\n",
        "\n",
        "If I want to interact directly with Memory Bank, I can use the Agent Engine SDK. For example, I can use [`RetrieveMemories`](https://cloud.google.com/vertex-ai/generative-ai/docs/agent-engine/memory-bank/fetch-memories#scope-based) to retrieve my memories with or without similarity search.\n",
        "\n",
        "Memories are isolated by their `scope`, which is an arbitrary dictionary. `VertexAiMemoryBankService` uses the scope keys `app_name` and `user_id`. `app_name` is set by your Runner, and `user_id` is set when creating your `Session`."
      ]
    },
    {
      "cell_type": "code",
      "execution_count": 66,
      "metadata": {
        "colab": {
          "base_uri": "https://localhost:8080/"
        },
        "id": "xXxDASPUG3OK",
        "outputId": "90da1a33-1894-4ee0-e35e-6cb4750f962d"
      },
      "outputs": [
        {
          "output_type": "execute_result",
          "data": {
            "text/plain": [
              "[RetrieveMemoriesResponseRetrievedMemory(\n",
              "   memory=Memory(\n",
              "     create_time=datetime.datetime(2025, 10, 31, 10, 25, 54, 376825, tzinfo=TzInfo(UTC)),\n",
              "     fact='I like the idea of getting a bike as a birthday present for my three-year-old niece.',\n",
              "     name='projects/568929544199/locations/us-central1/reasoningEngines/7795577023350439936/memories/3144615899823079424',\n",
              "     scope={\n",
              "       'app_name': 'memory_example_app',\n",
              "       'user_id': 'My User'\n",
              "     },\n",
              "     update_time=datetime.datetime(2025, 10, 31, 10, 25, 54, 376825, tzinfo=TzInfo(UTC))\n",
              "   )\n",
              " ),\n",
              " RetrieveMemoriesResponseRetrievedMemory(\n",
              "   memory=Memory(\n",
              "     create_time=datetime.datetime(2025, 10, 31, 10, 25, 54, 382024, tzinfo=TzInfo(UTC)),\n",
              "     fact='I have a three-year-old niece.',\n",
              "     name='projects/568929544199/locations/us-central1/reasoningEngines/7795577023350439936/memories/5450458909036773376',\n",
              "     scope={\n",
              "       'app_name': 'memory_example_app',\n",
              "       'user_id': 'My User'\n",
              "     },\n",
              "     update_time=datetime.datetime(2025, 10, 31, 10, 25, 54, 382024, tzinfo=TzInfo(UTC))\n",
              "   )\n",
              " )]"
            ]
          },
          "metadata": {},
          "execution_count": 66
        }
      ],
      "source": [
        "response = client.agent_engines.memories.retrieve(\n",
        "    name=agent_engine.api_resource.name,\n",
        "    scope={\"app_name\": APP_NAME,\n",
        "           \"user_id\": USER_ID},\n",
        ")\n",
        "list(response)"
      ]
    },
    {
      "cell_type": "markdown",
      "metadata": {
        "id": "E-KVnoBHV1G5"
      },
      "source": [
        "You can also use `Retrievememories` to retrieve memories using similarity search."
      ]
    },
    {
      "cell_type": "code",
      "execution_count": 67,
      "metadata": {
        "colab": {
          "base_uri": "https://localhost:8080/"
        },
        "id": "uwH2UgOZVs36",
        "outputId": "41a24fac-3c94-4b3f-e510-6a745419cd4b"
      },
      "outputs": [
        {
          "output_type": "execute_result",
          "data": {
            "text/plain": [
              "[RetrieveMemoriesResponseRetrievedMemory(\n",
              "   distance=0.7347648884243799,\n",
              "   memory=Memory(\n",
              "     create_time=datetime.datetime(2025, 10, 31, 10, 25, 54, 382024, tzinfo=TzInfo(UTC)),\n",
              "     fact='I have a three-year-old niece.',\n",
              "     name='projects/568929544199/locations/us-central1/reasoningEngines/7795577023350439936/memories/5450458909036773376',\n",
              "     scope={\n",
              "       'app_name': 'memory_example_app',\n",
              "       'user_id': 'My User'\n",
              "     },\n",
              "     update_time=datetime.datetime(2025, 10, 31, 10, 25, 54, 382024, tzinfo=TzInfo(UTC))\n",
              "   )\n",
              " ),\n",
              " RetrieveMemoriesResponseRetrievedMemory(\n",
              "   distance=0.7547651547113708,\n",
              "   memory=Memory(\n",
              "     create_time=datetime.datetime(2025, 10, 31, 10, 25, 54, 376825, tzinfo=TzInfo(UTC)),\n",
              "     fact='I like the idea of getting a bike as a birthday present for my three-year-old niece.',\n",
              "     name='projects/568929544199/locations/us-central1/reasoningEngines/7795577023350439936/memories/3144615899823079424',\n",
              "     scope={\n",
              "       'app_name': 'memory_example_app',\n",
              "       'user_id': 'My User'\n",
              "     },\n",
              "     update_time=datetime.datetime(2025, 10, 31, 10, 25, 54, 376825, tzinfo=TzInfo(UTC))\n",
              "   )\n",
              " )]"
            ]
          },
          "metadata": {},
          "execution_count": 67
        }
      ],
      "source": [
        "response = client.agent_engines.memories.retrieve(\n",
        "    name=agent_engine.api_resource.name,\n",
        "    scope={\"app_name\": APP_NAME, \"user_id\": USER_ID},\n",
        "    similarity_search_params={\n",
        "        \"search_query\": \"what should I get my niece for her birthday?\"\n",
        "    },\n",
        ")\n",
        "list(response)"
      ]
    },
    {
      "cell_type": "markdown",
      "metadata": {
        "id": "QWWmfmn7XHNf"
      },
      "source": [
        "Memory Bank uses a process called \"consolidation\" to ensure that we do not upload duplicative or contradictory information for the same scope."
      ]
    },
    {
      "cell_type": "code",
      "execution_count": 68,
      "metadata": {
        "colab": {
          "base_uri": "https://localhost:8080/"
        },
        "id": "gyHYYlxIXGKQ",
        "outputId": "b745c941-77dd-4377-8979-c28db0eb18ed"
      },
      "outputs": [
        {
          "output_type": "stream",
          "name": "stdout",
          "text": [
            "***OPERATION RESPONSE***\n",
            "AgentEngineGenerateMemoriesOperation(\n",
            "  done=True,\n",
            "  metadata={\n",
            "    '@type': 'type.googleapis.com/google.cloud.aiplatform.v1beta1.GenerateMemoriesOperationMetadata',\n",
            "    'genericMetadata': {\n",
            "      'createTime': '2025-10-31T10:26:05.171373Z',\n",
            "      'updateTime': '2025-10-31T10:26:10.423233Z'\n",
            "    }\n",
            "  },\n",
            "  name='projects/568929544199/locations/us-central1/reasoningEngines/7795577023350439936/operations/1692093093148360704',\n",
            "  response=GenerateMemoriesResponse(\n",
            "    generated_memories=[\n",
            "      GenerateMemoriesResponseGeneratedMemory(\n",
            "        action=<GenerateMemoriesResponseGeneratedMemoryAction.UPDATED: 'UPDATED'>,\n",
            "        memory=Memory(\n",
            "          name='projects/568929544199/locations/us-central1/reasoningEngines/7795577023350439936/memories/3144615899823079424'\n",
            "        )\n",
            "      ),\n",
            "    ]\n",
            "  )\n",
            ")\n",
            "\n",
            "***GENERATED MEMORIES***\n",
            "Memory(\n",
            "  create_time=datetime.datetime(2025, 10, 31, 10, 25, 54, 376825, tzinfo=TzInfo(UTC)),\n",
            "  fact='I like the idea of getting my niece a bike for her third birthday.',\n",
            "  name='projects/568929544199/locations/us-central1/reasoningEngines/7795577023350439936/memories/3144615899823079424',\n",
            "  scope={\n",
            "    'app_name': 'memory_example_app',\n",
            "    'user_id': 'My User'\n",
            "  },\n",
            "  topics=[\n",
            "    MemoryTopicId(\n",
            "      managed_memory_topic=<ManagedTopicEnum.USER_PREFERENCES: 'USER_PREFERENCES'>\n",
            "    ),\n",
            "  ],\n",
            "  update_time=datetime.datetime(2025, 10, 31, 10, 26, 10, 356351, tzinfo=TzInfo(UTC))\n",
            ")\n"
          ]
        }
      ],
      "source": [
        "import pprint\n",
        "\n",
        "operation = client.agent_engines.memories.generate(\n",
        "    name=agent_engine.api_resource.name,\n",
        "    scope={\"app_name\": APP_NAME, \"user_id\": USER_ID},\n",
        "    direct_contents_source={\n",
        "        \"events\": [\n",
        "            {\n",
        "                \"content\": {\n",
        "                    \"role\": \"user\",\n",
        "                    \"parts\": [\n",
        "                        {\n",
        "                            \"text\": \"I like the idea of getting my niece a bike for her third birthday\"\n",
        "                        }\n",
        "                    ],\n",
        "                }\n",
        "            }\n",
        "        ]\n",
        "    },\n",
        ")\n",
        "print(\"***OPERATION RESPONSE***\")\n",
        "pprint.pprint(operation)\n",
        "\n",
        "print(\"\\n***GENERATED MEMORIES***\")\n",
        "for generated_memory in operation.response.generated_memories:\n",
        "    pprint.pprint(client.agent_engines.memories.get(name=generated_memory.memory.name))"
      ]
    },
    {
      "cell_type": "markdown",
      "metadata": {
        "id": "FUAJRM8pYiNj"
      },
      "source": [
        "What if your agent extracted memories that you want to combine with your existing memories? You can also use `GenerateMemories` to consolidate pre-extracted facts for the same scope [documenation](https://cloud.google.com/vertex-ai/generative-ai/docs/agent-engine/memory-bank/generate-memories#consolidate-pre-extracted-memories).\n",
        "\n",
        "Memory Bank already contains memories on this topic. So, the relevant existing memories will be updated rather than creating a new, duplicative memory."
      ]
    },
    {
      "cell_type": "code",
      "execution_count": 69,
      "metadata": {
        "colab": {
          "base_uri": "https://localhost:8080/"
        },
        "id": "hVaFGo7RY0zE",
        "outputId": "6aaebef3-23a4-4d6a-f35b-71ac025ae502"
      },
      "outputs": [
        {
          "output_type": "stream",
          "name": "stdout",
          "text": [
            "***OPERATION RESPONSE***\n",
            "AgentEngineGenerateMemoriesOperation(\n",
            "  done=True,\n",
            "  metadata={\n",
            "    '@type': 'type.googleapis.com/google.cloud.aiplatform.v1beta1.GenerateMemoriesOperationMetadata',\n",
            "    'genericMetadata': {\n",
            "      'createTime': '2025-10-31T10:26:16.353898Z',\n",
            "      'updateTime': '2025-10-31T10:26:25.340280Z'\n",
            "    }\n",
            "  },\n",
            "  name='projects/568929544199/locations/us-central1/reasoningEngines/7795577023350439936/operations/8730093410821603328',\n",
            "  response=GenerateMemoriesResponse(\n",
            "    generated_memories=[\n",
            "      GenerateMemoriesResponseGeneratedMemory(\n",
            "        action=<GenerateMemoriesResponseGeneratedMemoryAction.UPDATED: 'UPDATED'>,\n",
            "        memory=Memory(\n",
            "          name='projects/568929544199/locations/us-central1/reasoningEngines/7795577023350439936/memories/3144615899823079424'\n",
            "        )\n",
            "      ),\n",
            "    ]\n",
            "  )\n",
            ")\n",
            "\n",
            "***GENERATED MEMORIES***\n",
            "Memory(\n",
            "  create_time=datetime.datetime(2025, 10, 31, 10, 25, 54, 376825, tzinfo=TzInfo(UTC)),\n",
            "  fact='I got my niece a red bike for her third birthday.',\n",
            "  name='projects/568929544199/locations/us-central1/reasoningEngines/7795577023350439936/memories/3144615899823079424',\n",
            "  scope={\n",
            "    'app_name': 'memory_example_app',\n",
            "    'user_id': 'My User'\n",
            "  },\n",
            "  update_time=datetime.datetime(2025, 10, 31, 10, 26, 25, 254356, tzinfo=TzInfo(UTC))\n",
            ")\n"
          ]
        }
      ],
      "source": [
        "operation = client.agent_engines.memories.generate(\n",
        "    name=agent_engine.api_resource.name,\n",
        "    scope={\"app_name\": APP_NAME, \"user_id\": USER_ID},\n",
        "    direct_memories_source={\"direct_memories\": [{\"fact\": \"I got my niece a red bike\"}]},\n",
        ")\n",
        "\n",
        "print(\"***OPERATION RESPONSE***\")\n",
        "pprint.pprint(operation)\n",
        "\n",
        "print(\"\\n***GENERATED MEMORIES***\")\n",
        "for generated_memory in operation.response.generated_memories:\n",
        "    if generated_memory.action != \"DELETED\":\n",
        "        pprint.pprint(\n",
        "            client.agent_engines.memories.get(name=generated_memory.memory.name)\n",
        "        )"
      ]
    },
    {
      "cell_type": "markdown",
      "metadata": {
        "id": "Ql9iDjUO5Mxb"
      },
      "source": [
        "#### Automate with Callbacks\n",
        "\n",
        "To automate the triggering of memory generation, you can implement a callback to generate memories after every turn. See the [`Remember this: Agent state and memory with ADK` blog post](https://cloud.google.com/blog/topics/developers-practitioners/remember-this-agent-state-and-memory-with-adk) for more information."
      ]
    },
    {
      "cell_type": "code",
      "execution_count": 70,
      "metadata": {
        "id": "sq4QSggUAuLu"
      },
      "outputs": [],
      "source": [
        "from google import adk\n",
        "\n",
        "\n",
        "async def auto_save_session_to_memory_callback(callback_context):\n",
        "    # Use the invocation context to access the conversation history that should\n",
        "    # be used as the data source for memory generation.\n",
        "    await memory_bank_service.add_session_to_memory(\n",
        "        callback_context._invocation_context.session\n",
        "    )\n",
        "    print(\"\\n****Triggered memory generation****\\n\")\n",
        "\n",
        "\n",
        "agent = LlmAgent(\n",
        "    model=MODEL,\n",
        "    name=\"Generic_QA_Agent\",\n",
        "    instruction=\"Answer the user's questions\",\n",
        "    tools=[adk.tools.preload_memory_tool.PreloadMemoryTool()],\n",
        "    after_agent_callback=auto_save_session_to_memory_callback,\n",
        ")\n",
        "\n",
        "runner = Runner(\n",
        "    agent=agent,\n",
        "    app_name=APP_NAME,\n",
        "    session_service=session_service,\n",
        "    memory_service=memory_bank_service,\n",
        ")"
      ]
    },
    {
      "cell_type": "code",
      "execution_count": 71,
      "metadata": {
        "colab": {
          "base_uri": "https://localhost:8080/"
        },
        "id": "o-oU37SyA5J7",
        "outputId": "354f4e20-cc0a-458a-ffac-72134a15c1b2"
      },
      "outputs": [
        {
          "output_type": "stream",
          "name": "stderr",
          "text": [
            "INFO:google_adk.google.adk.memory.vertex_ai_memory_bank_service:Search memory response received.\n",
            "DEBUG:google_adk.google.adk.memory.vertex_ai_memory_bank_service:Retrieved memory: distance=0.8091518668940462 memory=Memory(\n",
            "  create_time=datetime.datetime(2025, 10, 31, 10, 25, 54, 382024, tzinfo=TzInfo(UTC)),\n",
            "  fact='I have a three-year-old niece.',\n",
            "  name='projects/568929544199/locations/us-central1/reasoningEngines/7795577023350439936/memories/5450458909036773376',\n",
            "  scope={\n",
            "    'app_name': 'memory_example_app',\n",
            "    'user_id': 'My User'\n",
            "  },\n",
            "  update_time=datetime.datetime(2025, 10, 31, 10, 25, 54, 382024, tzinfo=TzInfo(UTC))\n",
            ")\n",
            "DEBUG:google_adk.google.adk.memory.vertex_ai_memory_bank_service:Retrieved memory: distance=0.8911007396912826 memory=Memory(\n",
            "  create_time=datetime.datetime(2025, 10, 31, 10, 25, 54, 376825, tzinfo=TzInfo(UTC)),\n",
            "  fact='I got my niece a red bike for her third birthday.',\n",
            "  name='projects/568929544199/locations/us-central1/reasoningEngines/7795577023350439936/memories/3144615899823079424',\n",
            "  scope={\n",
            "    'app_name': 'memory_example_app',\n",
            "    'user_id': 'My User'\n",
            "  },\n",
            "  update_time=datetime.datetime(2025, 10, 31, 10, 26, 25, 254356, tzinfo=TzInfo(UTC))\n",
            ")\n",
            "INFO:google_adk.google.adk.models.google_llm:Sending out request, model: gemini-2.5-flash, backend: GoogleLLMVariant.VERTEX_AI, stream: False\n",
            "DEBUG:google_adk.google.adk.models.google_llm:\n",
            "LLM Request:\n",
            "-----------------------------------------------------------\n",
            "System Instruction:\n",
            "Answer the user's questions\n",
            "\n",
            "You are an agent. Your internal name is \"Generic_QA_Agent\".\n",
            "\n",
            "The following content is from your previous conversations with the user.\n",
            "They may be useful for answering the user's current query.\n",
            "<PAST_CONVERSATIONS>\n",
            "Time: 2025-10-31T10:25:54.382024+00:00\n",
            "user: I have a three-year-old niece.\n",
            "Time: 2025-10-31T10:26:25.254356+00:00\n",
            "user: I got my niece a red bike for her third birthday.\n",
            "</PAST_CONVERSATIONS>\n",
            "\n",
            "-----------------------------------------------------------\n",
            "Config:\n",
            "{'labels': {'adk_agent_name': 'Generic_QA_Agent'}}\n",
            "-----------------------------------------------------------\n",
            "Contents:\n",
            "{\"parts\":[{\"text\":\"What christmas present recommendations do you have for my niece?\"}],\"role\":\"user\"}\n",
            "-----------------------------------------------------------\n",
            "Functions:\n",
            "\n",
            "-----------------------------------------------------------\n",
            "\n",
            "INFO:google_adk.google.adk.models.google_llm:Response received from the model.\n",
            "DEBUG:google_adk.google.adk.models.google_llm:\n",
            "LLM Response:\n",
            "-----------------------------------------------------------\n",
            "Text:\n",
            "Based on your previous messages, your niece is three years old. Since she just received a red bike for her birthday, here are some Christmas present recommendations that she might enjoy and that offer different types of play:\n",
            "\n",
            "1.  **Building Blocks (LEGO DUPLO or Wooden Blocks):** Great for developing fine motor skills, creativity, and problem-solving. A large set of DUPLO bricks or colorful wooden blocks can provide hours of open-ended play.\n",
            "2.  **Play Kitchen or Tool Bench:** Encourages imaginative role-play and helps develop social skills. She can \"cook\" meals or \"fix\" things, mimicking adults.\n",
            "3.  **Art Supplies:** A large easel with washable paints, chunky crayons, or a big roll of paper can spark creativity. Look for toddler-friendly, non-toxic options.\n",
            "4.  **Picture Books:** Three-year-olds love engaging stories with colorful illustrations. Interactive books with flaps or textures are also a hit. You could get a few new titles to expand her library.\n",
            "5.  **Puzzles:** Simple jigsaw puzzles (24-48 pieces) or chunky wooden puzzles with knobs are excellent for cognitive development and hand-eye coordination.\n",
            "6.  **Dollhouse or Animal Figures:** These encourage storytelling and imaginative play. A sturdy, age-appropriate dollhouse with simple furniture or a set of farm/zoo animals can be very engaging.\n",
            "7.  **Musical Instruments:** A small keyboard, a drum, or shakers can introduce her to music and rhythm in a fun way.\n",
            "8.  **Cozy Comfort Item:** A special stuffed animal, a soft blanket, or a cuddly toy can be a comforting and cherished gift.\n",
            "\n",
            "Consider what she's currently interested in or if there are any specific characters she loves!\n",
            "-----------------------------------------------------------\n",
            "Function calls:\n",
            "\n",
            "-----------------------------------------------------------\n",
            "Raw response:\n",
            "{\"sdk_http_response\":{\"headers\":{\"Content-Type\":\"application/json; charset=UTF-8\",\"Vary\":\"Origin, X-Origin, Referer\",\"Content-Encoding\":\"gzip\",\"Date\":\"Fri, 31 Oct 2025 10:26:40 GMT\",\"Server\":\"scaffolding on HTTPServer2\",\"X-XSS-Protection\":\"0\",\"X-Frame-Options\":\"SAMEORIGIN\",\"X-Content-Type-Options\":\"nosniff\",\"Transfer-Encoding\":\"chunked\"}},\"candidates\":[{\"content\":{\"parts\":[{\"text\":\"Based on your previous messages, your niece is three years old. Since she just received a red bike for her birthday, here are some Christmas present recommendations that she might enjoy and that offer different types of play:\\n\\n1.  **Building Blocks (LEGO DUPLO or Wooden Blocks):** Great for developing fine motor skills, creativity, and problem-solving. A large set of DUPLO bricks or colorful wooden blocks can provide hours of open-ended play.\\n2.  **Play Kitchen or Tool Bench:** Encourages imaginative role-play and helps develop social skills. She can \\\"cook\\\" meals or \\\"fix\\\" things, mimicking adults.\\n3.  **Art Supplies:** A large easel with washable paints, chunky crayons, or a big roll of paper can spark creativity. Look for toddler-friendly, non-toxic options.\\n4.  **Picture Books:** Three-year-olds love engaging stories with colorful illustrations. Interactive books with flaps or textures are also a hit. You could get a few new titles to expand her library.\\n5.  **Puzzles:** Simple jigsaw puzzles (24-48 pieces) or chunky wooden puzzles with knobs are excellent for cognitive development and hand-eye coordination.\\n6.  **Dollhouse or Animal Figures:** These encourage storytelling and imaginative play. A sturdy, age-appropriate dollhouse with simple furniture or a set of farm/zoo animals can be very engaging.\\n7.  **Musical Instruments:** A small keyboard, a drum, or shakers can introduce her to music and rhythm in a fun way.\\n8.  **Cozy Comfort Item:** A special stuffed animal, a soft blanket, or a cuddly toy can be a comforting and cherished gift.\\n\\nConsider what she's currently interested in or if there are any specific characters she loves!\"}],\"role\":\"model\"},\"finish_reason\":\"STOP\",\"avg_logprobs\":-0.6484647596204604}],\"create_time\":\"2025-10-31T10:26:35.749734Z\",\"model_version\":\"gemini-2.5-flash\",\"response_id\":\"244EaabhLcjtnvgP8NiHuAw\",\"usage_metadata\":{\"candidates_token_count\":370,\"candidates_tokens_details\":[{\"modality\":\"TEXT\",\"token_count\":370}],\"prompt_token_count\":178,\"prompt_tokens_details\":[{\"modality\":\"TEXT\",\"token_count\":178}],\"thoughts_token_count\":241,\"total_token_count\":789,\"traffic_type\":\"ON_DEMAND\"},\"automatic_function_calling_history\":[]}\n",
            "-----------------------------------------------------------\n",
            "\n"
          ]
        },
        {
          "output_type": "stream",
          "name": "stdout",
          "text": [
            "Agent Response:  Based on your previous messages, your niece is three years old. Since she just received a red bike for her birthday, here are some Christmas present recommendations that she might enjoy and that offer different types of play:\n",
            "\n",
            "1.  **Building Blocks (LEGO DUPLO or Wooden Blocks):** Great for developing fine motor skills, creativity, and problem-solving. A large set of DUPLO bricks or colorful wooden blocks can provide hours of open-ended play.\n",
            "2.  **Play Kitchen or Tool Bench:** Encourages imaginative role-play and helps develop social skills. She can \"cook\" meals or \"fix\" things, mimicking adults.\n",
            "3.  **Art Supplies:** A large easel with washable paints, chunky crayons, or a big roll of paper can spark creativity. Look for toddler-friendly, non-toxic options.\n",
            "4.  **Picture Books:** Three-year-olds love engaging stories with colorful illustrations. Interactive books with flaps or textures are also a hit. You could get a few new titles to expand her library.\n",
            "5.  **Puzzles:** Simple jigsaw puzzles (24-48 pieces) or chunky wooden puzzles with knobs are excellent for cognitive development and hand-eye coordination.\n",
            "6.  **Dollhouse or Animal Figures:** These encourage storytelling and imaginative play. A sturdy, age-appropriate dollhouse with simple furniture or a set of farm/zoo animals can be very engaging.\n",
            "7.  **Musical Instruments:** A small keyboard, a drum, or shakers can introduce her to music and rhythm in a fun way.\n",
            "8.  **Cozy Comfort Item:** A special stuffed animal, a soft blanket, or a cuddly toy can be a comforting and cherished gift.\n",
            "\n",
            "Consider what she's currently interested in or if there are any specific characters she loves!\n"
          ]
        },
        {
          "output_type": "stream",
          "name": "stderr",
          "text": [
            "INFO:google_adk.google.adk.memory.vertex_ai_memory_bank_service:Generate memory response received.\n",
            "DEBUG:google_adk.google.adk.memory.vertex_ai_memory_bank_service:Generate memory response: name='projects/568929544199/locations/us-central1/reasoningEngines/7795577023350439936/operations/5559559273152774144' metadata={'@type': 'type.googleapis.com/google.cloud.aiplatform.v1beta1.GenerateMemoriesOperationMetadata', 'genericMetadata': {'createTime': '2025-10-31T10:26:40.561284Z', 'updateTime': '2025-10-31T10:26:40.561284Z'}} done=None error=None response=None\n"
          ]
        },
        {
          "output_type": "stream",
          "name": "stdout",
          "text": [
            "\n",
            "****Triggered memory generation****\n",
            "\n"
          ]
        },
        {
          "output_type": "stream",
          "name": "stderr",
          "text": [
            "INFO:google_adk.google.adk.memory.vertex_ai_memory_bank_service:Search memory response received.\n",
            "DEBUG:google_adk.google.adk.memory.vertex_ai_memory_bank_service:Retrieved memory: distance=0.9376008297421816 memory=Memory(\n",
            "  create_time=datetime.datetime(2025, 10, 31, 10, 25, 54, 382024, tzinfo=TzInfo(UTC)),\n",
            "  fact='I have a three-year-old niece.',\n",
            "  name='projects/568929544199/locations/us-central1/reasoningEngines/7795577023350439936/memories/5450458909036773376',\n",
            "  scope={\n",
            "    'app_name': 'memory_example_app',\n",
            "    'user_id': 'My User'\n",
            "  },\n",
            "  update_time=datetime.datetime(2025, 10, 31, 10, 25, 54, 382024, tzinfo=TzInfo(UTC))\n",
            ")\n",
            "DEBUG:google_adk.google.adk.memory.vertex_ai_memory_bank_service:Retrieved memory: distance=0.9477699117276959 memory=Memory(\n",
            "  create_time=datetime.datetime(2025, 10, 31, 10, 25, 54, 376825, tzinfo=TzInfo(UTC)),\n",
            "  fact='I got my niece a red bike for her third birthday.',\n",
            "  name='projects/568929544199/locations/us-central1/reasoningEngines/7795577023350439936/memories/3144615899823079424',\n",
            "  scope={\n",
            "    'app_name': 'memory_example_app',\n",
            "    'user_id': 'My User'\n",
            "  },\n",
            "  update_time=datetime.datetime(2025, 10, 31, 10, 26, 25, 254356, tzinfo=TzInfo(UTC))\n",
            ")\n",
            "INFO:google_adk.google.adk.models.google_llm:Sending out request, model: gemini-2.5-flash, backend: GoogleLLMVariant.VERTEX_AI, stream: False\n",
            "DEBUG:google_adk.google.adk.models.google_llm:\n",
            "LLM Request:\n",
            "-----------------------------------------------------------\n",
            "System Instruction:\n",
            "Answer the user's questions\n",
            "\n",
            "You are an agent. Your internal name is \"Generic_QA_Agent\".\n",
            "\n",
            "The following content is from your previous conversations with the user.\n",
            "They may be useful for answering the user's current query.\n",
            "<PAST_CONVERSATIONS>\n",
            "Time: 2025-10-31T10:25:54.382024+00:00\n",
            "user: I have a three-year-old niece.\n",
            "Time: 2025-10-31T10:26:25.254356+00:00\n",
            "user: I got my niece a red bike for her third birthday.\n",
            "</PAST_CONVERSATIONS>\n",
            "\n",
            "-----------------------------------------------------------\n",
            "Config:\n",
            "{'labels': {'adk_agent_name': 'Generic_QA_Agent'}}\n",
            "-----------------------------------------------------------\n",
            "Contents:\n",
            "{\"parts\":[{\"text\":\"What christmas present recommendations do you have for my niece?\"}],\"role\":\"user\"}\n",
            "{\"parts\":[{\"text\":\"Based on your previous messages, your niece is three years old. Since she just received a red bike for her birthday, here are some Christmas present recommendations that she might enjoy and that offer different types of play:\\n\\n1.  **Building Blocks (LEGO DUPLO or Wooden Blocks):** Great for developing fine motor skills, creativity, and problem-solving. A large set of DUPLO bricks or colorful wooden blocks can provide hours of open-ended play.\\n2.  **Play Kitchen or Tool Bench:** Encourages imaginative role-play and helps develop social skills. She can \\\"cook\\\" meals or \\\"fix\\\" things, mimicking adults.\\n3.  **Art Supplies:** A large easel with washable paints, chunky crayons, or a big roll of paper can spark creativity. Look for toddler-friendly, non-toxic options.\\n4.  **Picture Books:** Three-year-olds love engaging stories with colorful illustrations. Interactive books with flaps or textures are also a hit. You could get a few new titles to expand her library.\\n5.  **Puzzles:** Simple jigsaw puzzles (24-48 pieces) or chunky wooden puzzles with knobs are excellent for cognitive development and hand-eye coordination.\\n6.  **Dollhouse or Animal Figures:** These encourage storytelling and imaginative play. A sturdy, age-appropriate dollhouse with simple furniture or a set of farm/zoo animals can be very engaging.\\n7.  **Musical Instruments:** A small keyboard, a drum, or shakers can introduce her to music and rhythm in a fun way.\\n8.  **Cozy Comfort Item:** A special stuffed animal, a soft blanket, or a cuddly toy can be a comforting and cherished gift.\\n\\nConsider what she's currently interested in or if there are any specific characters she loves!\"}],\"role\":\"model\"}\n",
            "{\"parts\":[{\"text\":\"I think I'll get her a doll. What types are good for her age?\"}],\"role\":\"user\"}\n",
            "-----------------------------------------------------------\n",
            "Functions:\n",
            "\n",
            "-----------------------------------------------------------\n",
            "\n",
            "INFO:google_adk.google.adk.models.google_llm:Response received from the model.\n",
            "DEBUG:google_adk.google.adk.models.google_llm:\n",
            "LLM Response:\n",
            "-----------------------------------------------------------\n",
            "Text:\n",
            "That's a lovely idea! Dolls are fantastic for fostering nurturing play, imagination, and social-emotional development in three-year-olds.\n",
            "\n",
            "Here are some types of dolls that are generally great for her age:\n",
            "\n",
            "1.  **Soft-Bodied Baby Dolls:**\n",
            "    *   **Why they're great:** These are often the first type of doll kids connect with. They're soft, huggable, easy for little hands to carry, and perfect for role-playing as a parent (feeding, rocking, changing diapers). Many come with simple outfits that are easy to put on and take off, which is great for developing fine motor skills.\n",
            "    *   **Look for:** Dolls with soft cloth bodies, sometimes with vinyl heads, hands, and feet. Washable options are a bonus! Brands like Baby Stella, Corolle Mon Premier, or similar generic soft baby dolls are excellent.\n",
            "\n",
            "2.  **Toddler/Pre-schooler Dolls (e.g., \"My First\" or \"Bitty Baby\" style):**\n",
            "    *   **Why they're great:** These dolls are often designed to look like slightly older children rather than just babies. They're still soft-bodied and huggable but might have more structured limbs, making them good for sitting or posing. They encourage a broader range of imaginative play, from tea parties to going on adventures.\n",
            "    *   **Look for:** Dolls with durable, simple clothing that's easy for little fingers to manipulate. American Girl's Bitty Baby or similar sized dolls are popular choices.\n",
            "\n",
            "3.  **Rag Dolls:**\n",
            "    *   **Why they're great:** These classic dolls are timeless. They are completely soft, very durable, and often have embroidered features, making them super safe with no small parts to worry about. They're wonderful for snuggling and open-ended imaginative play.\n",
            "    *   **Look for:** Well-made rag dolls with friendly embroidered faces and soft, child-safe fabrics.\n",
            "\n",
            "4.  **Plastic/Vinyl Play Dolls (e.g., smaller versions of common fashion dolls, but age-appropriate):**\n",
            "    *   **Why they're great:** While some fashion dolls have too many small parts, there are lines specifically designed for younger children. They're often more durable and easier to clean than soft dolls. They might have rooted hair that's fun to brush.\n",
            "    *   **Look for:** Dolls specifically marketed for ages 3+. Ensure their clothing is easy to manage (velcro closures, not too many tiny pieces) and that there are no very small accessories that could be a choking hazard. Brands like \"Disney Toddler Dolls\" (larger, simpler versions of princesses) or similar play-line dolls are good examples.\n",
            "\n",
            "**Things to keep in mind when choosing:**\n",
            "\n",
            "*   **Size:** Not too big for her to carry easily, and not too small that it gets lost or has tiny parts. A doll between 12-16 inches is often ideal.\n",
            "*   **Durability:** Three-year-olds can be a bit rough with their toys, so choose something that can withstand being loved and played with.\n",
            "*   **Washability:** Accidents happen! Dolls that can be spot-cleaned or even machine-washed (check the label!) are a big plus.\n",
            "*   **Simplicity:** Simpler dolls often encourage more imaginative play, as your niece can project her own stories and ideas onto them.\n",
            "*   **No Small Parts:** This is crucial for safety. Avoid dolls with small buttons, beads, or tiny accessories that can detach.\n",
            "\n",
            "No matter which type you choose, a doll is a wonderful gift for a three-year-old!\n",
            "-----------------------------------------------------------\n",
            "Function calls:\n",
            "\n",
            "-----------------------------------------------------------\n",
            "Raw response:\n",
            "{\"sdk_http_response\":{\"headers\":{\"Content-Type\":\"application/json; charset=UTF-8\",\"Vary\":\"Origin, X-Origin, Referer\",\"Content-Encoding\":\"gzip\",\"Date\":\"Fri, 31 Oct 2025 10:26:48 GMT\",\"Server\":\"scaffolding on HTTPServer2\",\"X-XSS-Protection\":\"0\",\"X-Frame-Options\":\"SAMEORIGIN\",\"X-Content-Type-Options\":\"nosniff\",\"Transfer-Encoding\":\"chunked\"}},\"candidates\":[{\"content\":{\"parts\":[{\"text\":\"That's a lovely idea! Dolls are fantastic for fostering nurturing play, imagination, and social-emotional development in three-year-olds.\\n\\nHere are some types of dolls that are generally great for her age:\\n\\n1.  **Soft-Bodied Baby Dolls:**\\n    *   **Why they're great:** These are often the first type of doll kids connect with. They're soft, huggable, easy for little hands to carry, and perfect for role-playing as a parent (feeding, rocking, changing diapers). Many come with simple outfits that are easy to put on and take off, which is great for developing fine motor skills.\\n    *   **Look for:** Dolls with soft cloth bodies, sometimes with vinyl heads, hands, and feet. Washable options are a bonus! Brands like Baby Stella, Corolle Mon Premier, or similar generic soft baby dolls are excellent.\\n\\n2.  **Toddler/Pre-schooler Dolls (e.g., \\\"My First\\\" or \\\"Bitty Baby\\\" style):**\\n    *   **Why they're great:** These dolls are often designed to look like slightly older children rather than just babies. They're still soft-bodied and huggable but might have more structured limbs, making them good for sitting or posing. They encourage a broader range of imaginative play, from tea parties to going on adventures.\\n    *   **Look for:** Dolls with durable, simple clothing that's easy for little fingers to manipulate. American Girl's Bitty Baby or similar sized dolls are popular choices.\\n\\n3.  **Rag Dolls:**\\n    *   **Why they're great:** These classic dolls are timeless. They are completely soft, very durable, and often have embroidered features, making them super safe with no small parts to worry about. They're wonderful for snuggling and open-ended imaginative play.\\n    *   **Look for:** Well-made rag dolls with friendly embroidered faces and soft, child-safe fabrics.\\n\\n4.  **Plastic/Vinyl Play Dolls (e.g., smaller versions of common fashion dolls, but age-appropriate):**\\n    *   **Why they're great:** While some fashion dolls have too many small parts, there are lines specifically designed for younger children. They're often more durable and easier to clean than soft dolls. They might have rooted hair that's fun to brush.\\n    *   **Look for:** Dolls specifically marketed for ages 3+. Ensure their clothing is easy to manage (velcro closures, not too many tiny pieces) and that there are no very small accessories that could be a choking hazard. Brands like \\\"Disney Toddler Dolls\\\" (larger, simpler versions of princesses) or similar play-line dolls are good examples.\\n\\n**Things to keep in mind when choosing:**\\n\\n*   **Size:** Not too big for her to carry easily, and not too small that it gets lost or has tiny parts. A doll between 12-16 inches is often ideal.\\n*   **Durability:** Three-year-olds can be a bit rough with their toys, so choose something that can withstand being loved and played with.\\n*   **Washability:** Accidents happen! Dolls that can be spot-cleaned or even machine-washed (check the label!) are a big plus.\\n*   **Simplicity:** Simpler dolls often encourage more imaginative play, as your niece can project her own stories and ideas onto them.\\n*   **No Small Parts:** This is crucial for safety. Avoid dolls with small buttons, beads, or tiny accessories that can detach.\\n\\nNo matter which type you choose, a doll is a wonderful gift for a three-year-old!\"}],\"role\":\"model\"},\"finish_reason\":\"STOP\",\"avg_logprobs\":-0.4833145340802464}],\"create_time\":\"2025-10-31T10:26:41.289346Z\",\"model_version\":\"gemini-2.5-flash\",\"response_id\":\"4Y4EacLUEdiD2PgPtoDY4AI\",\"usage_metadata\":{\"candidates_token_count\":766,\"candidates_tokens_details\":[{\"modality\":\"TEXT\",\"token_count\":766}],\"prompt_token_count\":566,\"prompt_tokens_details\":[{\"modality\":\"TEXT\",\"token_count\":566}],\"thoughts_token_count\":165,\"total_token_count\":1497,\"traffic_type\":\"ON_DEMAND\"},\"automatic_function_calling_history\":[]}\n",
            "-----------------------------------------------------------\n",
            "\n"
          ]
        },
        {
          "output_type": "stream",
          "name": "stdout",
          "text": [
            "Agent Response:  That's a lovely idea! Dolls are fantastic for fostering nurturing play, imagination, and social-emotional development in three-year-olds.\n",
            "\n",
            "Here are some types of dolls that are generally great for her age:\n",
            "\n",
            "1.  **Soft-Bodied Baby Dolls:**\n",
            "    *   **Why they're great:** These are often the first type of doll kids connect with. They're soft, huggable, easy for little hands to carry, and perfect for role-playing as a parent (feeding, rocking, changing diapers). Many come with simple outfits that are easy to put on and take off, which is great for developing fine motor skills.\n",
            "    *   **Look for:** Dolls with soft cloth bodies, sometimes with vinyl heads, hands, and feet. Washable options are a bonus! Brands like Baby Stella, Corolle Mon Premier, or similar generic soft baby dolls are excellent.\n",
            "\n",
            "2.  **Toddler/Pre-schooler Dolls (e.g., \"My First\" or \"Bitty Baby\" style):**\n",
            "    *   **Why they're great:** These dolls are often designed to look like slightly older children rather than just babies. They're still soft-bodied and huggable but might have more structured limbs, making them good for sitting or posing. They encourage a broader range of imaginative play, from tea parties to going on adventures.\n",
            "    *   **Look for:** Dolls with durable, simple clothing that's easy for little fingers to manipulate. American Girl's Bitty Baby or similar sized dolls are popular choices.\n",
            "\n",
            "3.  **Rag Dolls:**\n",
            "    *   **Why they're great:** These classic dolls are timeless. They are completely soft, very durable, and often have embroidered features, making them super safe with no small parts to worry about. They're wonderful for snuggling and open-ended imaginative play.\n",
            "    *   **Look for:** Well-made rag dolls with friendly embroidered faces and soft, child-safe fabrics.\n",
            "\n",
            "4.  **Plastic/Vinyl Play Dolls (e.g., smaller versions of common fashion dolls, but age-appropriate):**\n",
            "    *   **Why they're great:** While some fashion dolls have too many small parts, there are lines specifically designed for younger children. They're often more durable and easier to clean than soft dolls. They might have rooted hair that's fun to brush.\n",
            "    *   **Look for:** Dolls specifically marketed for ages 3+. Ensure their clothing is easy to manage (velcro closures, not too many tiny pieces) and that there are no very small accessories that could be a choking hazard. Brands like \"Disney Toddler Dolls\" (larger, simpler versions of princesses) or similar play-line dolls are good examples.\n",
            "\n",
            "**Things to keep in mind when choosing:**\n",
            "\n",
            "*   **Size:** Not too big for her to carry easily, and not too small that it gets lost or has tiny parts. A doll between 12-16 inches is often ideal.\n",
            "*   **Durability:** Three-year-olds can be a bit rough with their toys, so choose something that can withstand being loved and played with.\n",
            "*   **Washability:** Accidents happen! Dolls that can be spot-cleaned or even machine-washed (check the label!) are a big plus.\n",
            "*   **Simplicity:** Simpler dolls often encourage more imaginative play, as your niece can project her own stories and ideas onto them.\n",
            "*   **No Small Parts:** This is crucial for safety. Avoid dolls with small buttons, beads, or tiny accessories that can detach.\n",
            "\n",
            "No matter which type you choose, a doll is a wonderful gift for a three-year-old!\n"
          ]
        },
        {
          "output_type": "stream",
          "name": "stderr",
          "text": [
            "INFO:google_adk.google.adk.memory.vertex_ai_memory_bank_service:Generate memory response received.\n",
            "DEBUG:google_adk.google.adk.memory.vertex_ai_memory_bank_service:Generate memory response: name='projects/568929544199/locations/us-central1/reasoningEngines/7795577023350439936/operations/655139278946304000' metadata={'@type': 'type.googleapis.com/google.cloud.aiplatform.v1beta1.GenerateMemoriesOperationMetadata', 'genericMetadata': {'createTime': '2025-10-31T10:26:48.557364Z', 'updateTime': '2025-10-31T10:26:48.557364Z'}} done=None error=None response=None\n"
          ]
        },
        {
          "output_type": "stream",
          "name": "stdout",
          "text": [
            "\n",
            "****Triggered memory generation****\n",
            "\n"
          ]
        }
      ],
      "source": [
        "session = await session_service.create_session(app_name=APP_NAME, user_id=USER_ID)\n",
        "\n",
        "call_agent(\n",
        "    \"What christmas present recommendations do you have for my niece?\",\n",
        "    session.id,\n",
        "    user_id=USER_ID,\n",
        ")\n",
        "\n",
        "call_agent(\n",
        "    \"I think I'll get her a doll. What types are good for her age?\",\n",
        "    session.id,\n",
        "    user_id=USER_ID,\n",
        ")"
      ]
    },
    {
      "cell_type": "code",
      "execution_count": 72,
      "metadata": {
        "colab": {
          "base_uri": "https://localhost:8080/"
        },
        "id": "E9_pkrRUBBSP",
        "outputId": "570adafb-3d7d-4782-dc9b-22f89793f2cb"
      },
      "outputs": [
        {
          "output_type": "execute_result",
          "data": {
            "text/plain": [
              "[RetrieveMemoriesResponseRetrievedMemory(\n",
              "   distance=0.7943347759252403,\n",
              "   memory=Memory(\n",
              "     create_time=datetime.datetime(2025, 10, 31, 10, 25, 54, 382024, tzinfo=TzInfo(UTC)),\n",
              "     fact='I have a three-year-old niece.',\n",
              "     name='projects/568929544199/locations/us-central1/reasoningEngines/7795577023350439936/memories/5450458909036773376',\n",
              "     scope={\n",
              "       'app_name': 'memory_example_app',\n",
              "       'user_id': 'My User'\n",
              "     },\n",
              "     update_time=datetime.datetime(2025, 10, 31, 10, 25, 54, 382024, tzinfo=TzInfo(UTC))\n",
              "   )\n",
              " ),\n",
              " RetrieveMemoriesResponseRetrievedMemory(\n",
              "   distance=0.8010640831147657,\n",
              "   memory=Memory(\n",
              "     create_time=datetime.datetime(2025, 10, 31, 10, 25, 54, 376825, tzinfo=TzInfo(UTC)),\n",
              "     fact='I got my niece a red bike for her third birthday.',\n",
              "     name='projects/568929544199/locations/us-central1/reasoningEngines/7795577023350439936/memories/3144615899823079424',\n",
              "     scope={\n",
              "       'app_name': 'memory_example_app',\n",
              "       'user_id': 'My User'\n",
              "     },\n",
              "     update_time=datetime.datetime(2025, 10, 31, 10, 26, 25, 254356, tzinfo=TzInfo(UTC))\n",
              "   )\n",
              " )]"
            ]
          },
          "metadata": {},
          "execution_count": 72
        }
      ],
      "source": [
        "response = client.agent_engines.memories.retrieve(\n",
        "    name=agent_engine.api_resource.name,\n",
        "    scope={\"app_name\": APP_NAME, \"user_id\": USER_ID},\n",
        "    similarity_search_params={\n",
        "        \"search_query\": \"What was I thinking about getting my niece for Christmas?\"\n",
        "    },\n",
        ")\n",
        "list(response)"
      ]
    },
    {
      "cell_type": "markdown",
      "metadata": {
        "id": "koK2O-odR36D"
      },
      "source": [
        "The prior example used the entire Session to generate memories. However, this can be costly as the size of the session increases.\n",
        "\n",
        "You can also use callbacks to only save the current turn to Memory Bank. This has the downside, however, where you lose some of the context of the conversation."
      ]
    },
    {
      "cell_type": "code",
      "execution_count": 73,
      "metadata": {
        "id": "F5hWwSvEPaaW"
      },
      "outputs": [],
      "source": [
        "async def auto_save_user_turn_to_memory_callback(callback_context):\n",
        "    last_turn = callback_context._invocation_context.user_content\n",
        "    client.agent_engines.memories.generate(\n",
        "        name=agent_engine.api_resource.name,\n",
        "        scope={\"app_name\": APP_NAME, \"user_id\": USER_ID},\n",
        "        direct_contents_source={\"events\": [{\"content\": last_turn}]},\n",
        "        config={\"wait_for_completion\": False},\n",
        "    )\n",
        "    print(\"\\n****Triggered memory generation****\\n\")\n",
        "\n",
        "\n",
        "agent = LlmAgent(\n",
        "    model=MODEL,\n",
        "    name=\"Generic_QA_Agent\",\n",
        "    instruction=\"Answer the user's questions\",\n",
        "    tools=[adk.tools.preload_memory_tool.PreloadMemoryTool()],\n",
        "    before_agent_callback=auto_save_user_turn_to_memory_callback,\n",
        ")\n",
        "\n",
        "runner = Runner(\n",
        "    agent=agent,\n",
        "    app_name=APP_NAME,\n",
        "    session_service=session_service,\n",
        "    memory_service=memory_bank_service,\n",
        ")"
      ]
    },
    {
      "cell_type": "code",
      "execution_count": 74,
      "metadata": {
        "colab": {
          "base_uri": "https://localhost:8080/"
        },
        "id": "ziRXQsAJPeYl",
        "outputId": "4564d360-474c-418f-f888-5b0a6b71a124"
      },
      "outputs": [
        {
          "output_type": "stream",
          "name": "stdout",
          "text": [
            "\n",
            "****Triggered memory generation****\n",
            "\n"
          ]
        },
        {
          "output_type": "stream",
          "name": "stderr",
          "text": [
            "INFO:google_adk.google.adk.memory.vertex_ai_memory_bank_service:Search memory response received.\n",
            "DEBUG:google_adk.google.adk.memory.vertex_ai_memory_bank_service:Retrieved memory: distance=0.9376007979564559 memory=Memory(\n",
            "  create_time=datetime.datetime(2025, 10, 31, 10, 25, 54, 382024, tzinfo=TzInfo(UTC)),\n",
            "  fact='I have a three-year-old niece.',\n",
            "  name='projects/568929544199/locations/us-central1/reasoningEngines/7795577023350439936/memories/5450458909036773376',\n",
            "  scope={\n",
            "    'app_name': 'memory_example_app',\n",
            "    'user_id': 'My User'\n",
            "  },\n",
            "  update_time=datetime.datetime(2025, 10, 31, 10, 25, 54, 382024, tzinfo=TzInfo(UTC))\n",
            ")\n",
            "DEBUG:google_adk.google.adk.memory.vertex_ai_memory_bank_service:Retrieved memory: distance=0.9477698802830146 memory=Memory(\n",
            "  create_time=datetime.datetime(2025, 10, 31, 10, 25, 54, 376825, tzinfo=TzInfo(UTC)),\n",
            "  fact='I got my niece a red bike for her third birthday.',\n",
            "  name='projects/568929544199/locations/us-central1/reasoningEngines/7795577023350439936/memories/3144615899823079424',\n",
            "  scope={\n",
            "    'app_name': 'memory_example_app',\n",
            "    'user_id': 'My User'\n",
            "  },\n",
            "  update_time=datetime.datetime(2025, 10, 31, 10, 26, 25, 254356, tzinfo=TzInfo(UTC))\n",
            ")\n",
            "INFO:google_adk.google.adk.models.google_llm:Sending out request, model: gemini-2.5-flash, backend: GoogleLLMVariant.VERTEX_AI, stream: False\n",
            "DEBUG:google_adk.google.adk.models.google_llm:\n",
            "LLM Request:\n",
            "-----------------------------------------------------------\n",
            "System Instruction:\n",
            "Answer the user's questions\n",
            "\n",
            "You are an agent. Your internal name is \"Generic_QA_Agent\".\n",
            "\n",
            "The following content is from your previous conversations with the user.\n",
            "They may be useful for answering the user's current query.\n",
            "<PAST_CONVERSATIONS>\n",
            "Time: 2025-10-31T10:25:54.382024+00:00\n",
            "user: I have a three-year-old niece.\n",
            "Time: 2025-10-31T10:26:25.254356+00:00\n",
            "user: I got my niece a red bike for her third birthday.\n",
            "</PAST_CONVERSATIONS>\n",
            "\n",
            "-----------------------------------------------------------\n",
            "Config:\n",
            "{'labels': {'adk_agent_name': 'Generic_QA_Agent'}}\n",
            "-----------------------------------------------------------\n",
            "Contents:\n",
            "{\"parts\":[{\"text\":\"What christmas present recommendations do you have for my niece?\"}],\"role\":\"user\"}\n",
            "{\"parts\":[{\"text\":\"Based on your previous messages, your niece is three years old. Since she just received a red bike for her birthday, here are some Christmas present recommendations that she might enjoy and that offer different types of play:\\n\\n1.  **Building Blocks (LEGO DUPLO or Wooden Blocks):** Great for developing fine motor skills, creativity, and problem-solving. A large set of DUPLO bricks or colorful wooden blocks can provide hours of open-ended play.\\n2.  **Play Kitchen or Tool Bench:** Encourages imaginative role-play and helps develop social skills. She can \\\"cook\\\" meals or \\\"fix\\\" things, mimicking adults.\\n3.  **Art Supplies:** A large easel with washable paints, chunky crayons, or a big roll of paper can spark creativity. Look for toddler-friendly, non-toxic options.\\n4.  **Picture Books:** Three-year-olds love engaging stories with colorful illustrations. Interactive books with flaps or textures are also a hit. You could get a few new titles to expand her library.\\n5.  **Puzzles:** Simple jigsaw puzzles (24-48 pieces) or chunky wooden puzzles with knobs are excellent for cognitive development and hand-eye coordination.\\n6.  **Dollhouse or Animal Figures:** These encourage storytelling and imaginative play. A sturdy, age-appropriate dollhouse with simple furniture or a set of farm/zoo animals can be very engaging.\\n7.  **Musical Instruments:** A small keyboard, a drum, or shakers can introduce her to music and rhythm in a fun way.\\n8.  **Cozy Comfort Item:** A special stuffed animal, a soft blanket, or a cuddly toy can be a comforting and cherished gift.\\n\\nConsider what she's currently interested in or if there are any specific characters she loves!\"}],\"role\":\"model\"}\n",
            "{\"parts\":[{\"text\":\"I think I'll get her a doll. What types are good for her age?\"}],\"role\":\"user\"}\n",
            "{\"parts\":[{\"text\":\"That's a lovely idea! Dolls are fantastic for fostering nurturing play, imagination, and social-emotional development in three-year-olds.\\n\\nHere are some types of dolls that are generally great for her age:\\n\\n1.  **Soft-Bodied Baby Dolls:**\\n    *   **Why they're great:** These are often the first type of doll kids connect with. They're soft, huggable, easy for little hands to carry, and perfect for role-playing as a parent (feeding, rocking, changing diapers). Many come with simple outfits that are easy to put on and take off, which is great for developing fine motor skills.\\n    *   **Look for:** Dolls with soft cloth bodies, sometimes with vinyl heads, hands, and feet. Washable options are a bonus! Brands like Baby Stella, Corolle Mon Premier, or similar generic soft baby dolls are excellent.\\n\\n2.  **Toddler/Pre-schooler Dolls (e.g., \\\"My First\\\" or \\\"Bitty Baby\\\" style):**\\n    *   **Why they're great:** These dolls are often designed to look like slightly older children rather than just babies. They're still soft-bodied and huggable but might have more structured limbs, making them good for sitting or posing. They encourage a broader range of imaginative play, from tea parties to going on adventures.\\n    *   **Look for:** Dolls with durable, simple clothing that's easy for little fingers to manipulate. American Girl's Bitty Baby or similar sized dolls are popular choices.\\n\\n3.  **Rag Dolls:**\\n    *   **Why they're great:** These classic dolls are timeless. They are completely soft, very durable, and often have embroidered features, making them super safe with no small parts to worry about. They're wonderful for snuggling and open-ended imaginative play.\\n    *   **Look for:** Well-made rag dolls with friendly embroidered faces and soft, child-safe fabrics.\\n\\n4.  **Plastic/Vinyl Play Dolls (e.g., smaller versions of common fashion dolls, but age-appropriate):**\\n    *   **Why they're great:** While some fashion dolls have too many small parts, there are lines specifically designed for younger children. They're often more durable and easier to clean than soft dolls. They might have rooted hair that's fun to brush.\\n    *   **Look for:** Dolls specifically marketed for ages 3+. Ensure their clothing is easy to manage (velcro closures, not too many tiny pieces) and that there are no very small accessories that could be a choking hazard. Brands like \\\"Disney Toddler Dolls\\\" (larger, simpler versions of princesses) or similar play-line dolls are good examples.\\n\\n**Things to keep in mind when choosing:**\\n\\n*   **Size:** Not too big for her to carry easily, and not too small that it gets lost or has tiny parts. A doll between 12-16 inches is often ideal.\\n*   **Durability:** Three-year-olds can be a bit rough with their toys, so choose something that can withstand being loved and played with.\\n*   **Washability:** Accidents happen! Dolls that can be spot-cleaned or even machine-washed (check the label!) are a big plus.\\n*   **Simplicity:** Simpler dolls often encourage more imaginative play, as your niece can project her own stories and ideas onto them.\\n*   **No Small Parts:** This is crucial for safety. Avoid dolls with small buttons, beads, or tiny accessories that can detach.\\n\\nNo matter which type you choose, a doll is a wonderful gift for a three-year-old!\"}],\"role\":\"model\"}\n",
            "{\"parts\":[{\"text\":\"I think I'll get her a doll. What types are good for her age?\"}],\"role\":\"user\"}\n",
            "-----------------------------------------------------------\n",
            "Functions:\n",
            "\n",
            "-----------------------------------------------------------\n",
            "\n",
            "INFO:google_adk.google.adk.models.google_llm:Response received from the model.\n",
            "DEBUG:google_adk.google.adk.models.google_llm:\n",
            "LLM Response:\n",
            "-----------------------------------------------------------\n",
            "Text:\n",
            "That's a lovely idea! Dolls are fantastic for fostering nurturing play, imagination, and social-emotional development in three-year-olds.\n",
            "\n",
            "Here are some types of dolls that are generally great for her age:\n",
            "\n",
            "1.  **Soft-Bodied Baby Dolls:**\n",
            "    *   **Why they're great:** These are often the first type of doll kids connect with. They're soft, huggable, easy for little hands to carry, and perfect for role-playing as a parent (feeding, rocking, changing diapers). Many come with simple outfits that are easy to put on and take off, which is great for developing fine motor skills.\n",
            "    *   **Look for:** Dolls with soft cloth bodies, sometimes with vinyl heads, hands, and feet. Washable options are a bonus! Brands like Baby Stella, Corolle Mon Premier, or similar generic soft baby dolls are excellent.\n",
            "\n",
            "2.  **Toddler/Pre-schooler Dolls (e.g., \"My First\" or \"Bitty Baby\" style):**\n",
            "    *   **Why they're great:** These dolls are often designed to look like slightly older children rather than just babies. They're still soft-bodied and huggable but might have more structured limbs, making them good for sitting or posing. They encourage a broader range of imaginative play, from tea parties to going on adventures.\n",
            "    *   **Look for:** Dolls with durable, simple clothing that's easy for little fingers to manipulate. American Girl's Bitty Baby or similar sized dolls are popular choices.\n",
            "\n",
            "3.  **Rag Dolls:**\n",
            "    *   **Why they're great:** These classic dolls are timeless. They are completely soft, very durable, and often have embroidered features, making them super safe with no small parts to worry about. They're wonderful for snuggling and open-ended imaginative play.\n",
            "    *   **Look for:** Well-made rag dolls with friendly embroidered faces and soft, child-safe fabrics.\n",
            "\n",
            "4.  **Plastic/Vinyl Play Dolls (e.g., smaller versions of common fashion dolls, but age-appropriate):**\n",
            "    *   **Why they're great:** While some fashion dolls have too many small parts, there are lines specifically designed for younger children. They're often more durable and easier to clean than soft dolls. They might have rooted hair that's fun to brush.\n",
            "    *   **Look for:** Dolls specifically marketed for ages 3+. Ensure their clothing is easy to manage (velcro closures, not too many tiny pieces) and that there are no very small accessories that could be a choking hazard. Brands like \"Disney Toddler Dolls\" (larger, simpler versions of princesses) or similar play-line dolls are good examples.\n",
            "\n",
            "**Things to keep in mind when choosing:**\n",
            "\n",
            "*   **Size:** Not too big for her to carry easily, and not too small that it gets lost or has tiny parts. A doll between 12-16 inches is often ideal.\n",
            "*   **Durability:** Three-year-olds can be a bit rough with their toys, so choose something that can withstand being loved and played with.\n",
            "*   **Washability:** Accidents happen! Dolls that can be spot-cleaned or even machine-washed (check the label!) are a big plus.\n",
            "*   **Simplicity:** Simpler dolls often encourage more imaginative play, as your niece can project her own stories and ideas onto them.\n",
            "*   **No Small Parts:** This is crucial for safety. Avoid dolls with small buttons, beads, or tiny accessories that can detach.\n",
            "\n",
            "No matter which type you choose, a doll is a wonderful gift for a three-year-old!\n",
            "-----------------------------------------------------------\n",
            "Function calls:\n",
            "\n",
            "-----------------------------------------------------------\n",
            "Raw response:\n",
            "{\"sdk_http_response\":{\"headers\":{\"Content-Type\":\"application/json; charset=UTF-8\",\"Vary\":\"Origin, X-Origin, Referer\",\"Content-Encoding\":\"gzip\",\"Date\":\"Fri, 31 Oct 2025 10:27:05 GMT\",\"Server\":\"scaffolding on HTTPServer2\",\"X-XSS-Protection\":\"0\",\"X-Frame-Options\":\"SAMEORIGIN\",\"X-Content-Type-Options\":\"nosniff\",\"Transfer-Encoding\":\"chunked\"}},\"candidates\":[{\"content\":{\"parts\":[{\"text\":\"That's a lovely idea! Dolls are fantastic for fostering nurturing play, imagination, and social-emotional development in three-year-olds.\\n\\nHere are some types of dolls that are generally great for her age:\\n\\n1.  **Soft-Bodied Baby Dolls:**\\n    *   **Why they're great:** These are often the first type of doll kids connect with. They're soft, huggable, easy for little hands to carry, and perfect for role-playing as a parent (feeding, rocking, changing diapers). Many come with simple outfits that are easy to put on and take off, which is great for developing fine motor skills.\\n    *   **Look for:** Dolls with soft cloth bodies, sometimes with vinyl heads, hands, and feet. Washable options are a bonus! Brands like Baby Stella, Corolle Mon Premier, or similar generic soft baby dolls are excellent.\\n\\n2.  **Toddler/Pre-schooler Dolls (e.g., \\\"My First\\\" or \\\"Bitty Baby\\\" style):**\\n    *   **Why they're great:** These dolls are often designed to look like slightly older children rather than just babies. They're still soft-bodied and huggable but might have more structured limbs, making them good for sitting or posing. They encourage a broader range of imaginative play, from tea parties to going on adventures.\\n    *   **Look for:** Dolls with durable, simple clothing that's easy for little fingers to manipulate. American Girl's Bitty Baby or similar sized dolls are popular choices.\\n\\n3.  **Rag Dolls:**\\n    *   **Why they're great:** These classic dolls are timeless. They are completely soft, very durable, and often have embroidered features, making them super safe with no small parts to worry about. They're wonderful for snuggling and open-ended imaginative play.\\n    *   **Look for:** Well-made rag dolls with friendly embroidered faces and soft, child-safe fabrics.\\n\\n4.  **Plastic/Vinyl Play Dolls (e.g., smaller versions of common fashion dolls, but age-appropriate):**\\n    *   **Why they're great:** While some fashion dolls have too many small parts, there are lines specifically designed for younger children. They're often more durable and easier to clean than soft dolls. They might have rooted hair that's fun to brush.\\n    *   **Look for:** Dolls specifically marketed for ages 3+. Ensure their clothing is easy to manage (velcro closures, not too many tiny pieces) and that there are no very small accessories that could be a choking hazard. Brands like \\\"Disney Toddler Dolls\\\" (larger, simpler versions of princesses) or similar play-line dolls are good examples.\\n\\n**Things to keep in mind when choosing:**\\n\\n*   **Size:** Not too big for her to carry easily, and not too small that it gets lost or has tiny parts. A doll between 12-16 inches is often ideal.\\n*   **Durability:** Three-year-olds can be a bit rough with their toys, so choose something that can withstand being loved and played with.\\n*   **Washability:** Accidents happen! Dolls that can be spot-cleaned or even machine-washed (check the label!) are a big plus.\\n*   **Simplicity:** Simpler dolls often encourage more imaginative play, as your niece can project her own stories and ideas onto them.\\n*   **No Small Parts:** This is crucial for safety. Avoid dolls with small buttons, beads, or tiny accessories that can detach.\\n\\nNo matter which type you choose, a doll is a wonderful gift for a three-year-old!\"}],\"role\":\"model\"},\"finish_reason\":\"STOP\",\"avg_logprobs\":-0.008665355005089982}],\"create_time\":\"2025-10-31T10:27:01.826863Z\",\"model_version\":\"gemini-2.5-flash\",\"response_id\":\"9Y4Eae-7MsOV2PgP_eXxgAE\",\"usage_metadata\":{\"candidates_token_count\":766,\"candidates_tokens_details\":[{\"modality\":\"TEXT\",\"token_count\":766}],\"prompt_token_count\":1350,\"prompt_tokens_details\":[{\"modality\":\"TEXT\",\"token_count\":1350}],\"thoughts_token_count\":30,\"total_token_count\":2146,\"traffic_type\":\"ON_DEMAND\"},\"automatic_function_calling_history\":[]}\n",
            "-----------------------------------------------------------\n",
            "\n"
          ]
        },
        {
          "output_type": "stream",
          "name": "stdout",
          "text": [
            "Agent Response:  That's a lovely idea! Dolls are fantastic for fostering nurturing play, imagination, and social-emotional development in three-year-olds.\n",
            "\n",
            "Here are some types of dolls that are generally great for her age:\n",
            "\n",
            "1.  **Soft-Bodied Baby Dolls:**\n",
            "    *   **Why they're great:** These are often the first type of doll kids connect with. They're soft, huggable, easy for little hands to carry, and perfect for role-playing as a parent (feeding, rocking, changing diapers). Many come with simple outfits that are easy to put on and take off, which is great for developing fine motor skills.\n",
            "    *   **Look for:** Dolls with soft cloth bodies, sometimes with vinyl heads, hands, and feet. Washable options are a bonus! Brands like Baby Stella, Corolle Mon Premier, or similar generic soft baby dolls are excellent.\n",
            "\n",
            "2.  **Toddler/Pre-schooler Dolls (e.g., \"My First\" or \"Bitty Baby\" style):**\n",
            "    *   **Why they're great:** These dolls are often designed to look like slightly older children rather than just babies. They're still soft-bodied and huggable but might have more structured limbs, making them good for sitting or posing. They encourage a broader range of imaginative play, from tea parties to going on adventures.\n",
            "    *   **Look for:** Dolls with durable, simple clothing that's easy for little fingers to manipulate. American Girl's Bitty Baby or similar sized dolls are popular choices.\n",
            "\n",
            "3.  **Rag Dolls:**\n",
            "    *   **Why they're great:** These classic dolls are timeless. They are completely soft, very durable, and often have embroidered features, making them super safe with no small parts to worry about. They're wonderful for snuggling and open-ended imaginative play.\n",
            "    *   **Look for:** Well-made rag dolls with friendly embroidered faces and soft, child-safe fabrics.\n",
            "\n",
            "4.  **Plastic/Vinyl Play Dolls (e.g., smaller versions of common fashion dolls, but age-appropriate):**\n",
            "    *   **Why they're great:** While some fashion dolls have too many small parts, there are lines specifically designed for younger children. They're often more durable and easier to clean than soft dolls. They might have rooted hair that's fun to brush.\n",
            "    *   **Look for:** Dolls specifically marketed for ages 3+. Ensure their clothing is easy to manage (velcro closures, not too many tiny pieces) and that there are no very small accessories that could be a choking hazard. Brands like \"Disney Toddler Dolls\" (larger, simpler versions of princesses) or similar play-line dolls are good examples.\n",
            "\n",
            "**Things to keep in mind when choosing:**\n",
            "\n",
            "*   **Size:** Not too big for her to carry easily, and not too small that it gets lost or has tiny parts. A doll between 12-16 inches is often ideal.\n",
            "*   **Durability:** Three-year-olds can be a bit rough with their toys, so choose something that can withstand being loved and played with.\n",
            "*   **Washability:** Accidents happen! Dolls that can be spot-cleaned or even machine-washed (check the label!) are a big plus.\n",
            "*   **Simplicity:** Simpler dolls often encourage more imaginative play, as your niece can project her own stories and ideas onto them.\n",
            "*   **No Small Parts:** This is crucial for safety. Avoid dolls with small buttons, beads, or tiny accessories that can detach.\n",
            "\n",
            "No matter which type you choose, a doll is a wonderful gift for a three-year-old!\n"
          ]
        }
      ],
      "source": [
        "call_agent(\n",
        "    \"I think I'll get her a doll. What types are good for her age?\",\n",
        "    session.id,\n",
        "    user_id=USER_ID,\n",
        ")"
      ]
    },
    {
      "cell_type": "markdown",
      "metadata": {
        "id": "rstDOvEhWogm"
      },
      "source": [
        "## Using Memory in your agent\n",
        "\n",
        "Now, let's link our agent to Memory, so that memories can be fetched by your agent and used for inference. This allows your agent to remember information from prior sessions in a new, empty session.\n",
        "\n",
        "You can use ADK's built-in tools to fetch memories and incorporate them in the prompt. When using the built-in tools, it's important to provide both a memory tool when creating your Agent and a memory service when defining your Runner."
      ]
    },
    {
      "cell_type": "markdown",
      "metadata": {
        "id": "yOiYWk7GZlyN"
      },
      "source": [
        "### `adk.PreloadMemoryTool`\n",
        "The `PreloadMemoryTool` always retrieves memories at the start of each turn and includes the memories in the system instruction.\n",
        "\n",
        "Under the hood, it invokes `memory_service.search_memory` for the given User and App Name. Memory is invoked before the LLM is called, so there will not be an associated tool call logged for memory.\n",
        "\n",
        "We're going to use a [callback](https://google.github.io/adk-docs/callbacks/) to print out the System Instructions. Since we use `before_model_callback`, the callback executes right before the model is called.\n",
        "\n",
        "<img src=\"https://google.github.io/adk-docs/assets/callback_flow.png\">"
      ]
    },
    {
      "cell_type": "code",
      "execution_count": 75,
      "metadata": {
        "id": "l1ENgxmkWnVl"
      },
      "outputs": [],
      "source": [
        "from google import adk\n",
        "\n",
        "\n",
        "def log_system_instructions(callback_context, llm_request):\n",
        "    \"\"\"A callback to print the LLM request.\"\"\"\n",
        "    print(\n",
        "        f\"\\n*System Instruction*:\\n{llm_request.config.system_instruction}\\n*********\\n\"\n",
        "    )\n",
        "\n",
        "\n",
        "agent = LlmAgent(\n",
        "    model=MODEL,\n",
        "    name=\"Generic_QA_Agent\",\n",
        "    instruction=\"Answer the user's questions\",\n",
        "    tools=[adk.tools.preload_memory_tool.PreloadMemoryTool()],\n",
        "    before_model_callback=log_system_instructions,\n",
        ")\n",
        "\n",
        "runner = Runner(\n",
        "    agent=agent,\n",
        "    app_name=APP_NAME,\n",
        "    session_service=session_service,\n",
        "    memory_service=memory_bank_service,\n",
        ")"
      ]
    },
    {
      "cell_type": "markdown",
      "metadata": {
        "id": "r0g7dxD0aG_H"
      },
      "source": [
        "This conversation uses a new session, so it doesn't have access to the user's conversation history without using memory.\n",
        "\n",
        "Since we're using `PreloadMemoryTool`, the retrieved memories will be appended to the System Instructions."
      ]
    },
    {
      "cell_type": "code",
      "execution_count": 76,
      "metadata": {
        "colab": {
          "base_uri": "https://localhost:8080/"
        },
        "id": "2FD9VV_4Hqja",
        "outputId": "b90e9de2-c506-45f4-a600-23a2f14d1a3d"
      },
      "outputs": [
        {
          "output_type": "stream",
          "name": "stderr",
          "text": [
            "INFO:google_adk.google.adk.memory.vertex_ai_memory_bank_service:Search memory response received.\n",
            "DEBUG:google_adk.google.adk.memory.vertex_ai_memory_bank_service:Retrieved memory: distance=0.8241405721171347 memory=Memory(\n",
            "  create_time=datetime.datetime(2025, 10, 31, 10, 25, 54, 376825, tzinfo=TzInfo(UTC)),\n",
            "  fact='I got my niece a red bike for her third birthday.',\n",
            "  name='projects/568929544199/locations/us-central1/reasoningEngines/7795577023350439936/memories/3144615899823079424',\n",
            "  scope={\n",
            "    'app_name': 'memory_example_app',\n",
            "    'user_id': 'My User'\n",
            "  },\n",
            "  update_time=datetime.datetime(2025, 10, 31, 10, 26, 25, 254356, tzinfo=TzInfo(UTC))\n",
            ")\n",
            "DEBUG:google_adk.google.adk.memory.vertex_ai_memory_bank_service:Retrieved memory: distance=0.8461041281672127 memory=Memory(\n",
            "  create_time=datetime.datetime(2025, 10, 31, 10, 25, 54, 382024, tzinfo=TzInfo(UTC)),\n",
            "  fact='I have a three-year-old niece.',\n",
            "  name='projects/568929544199/locations/us-central1/reasoningEngines/7795577023350439936/memories/5450458909036773376',\n",
            "  scope={\n",
            "    'app_name': 'memory_example_app',\n",
            "    'user_id': 'My User'\n",
            "  },\n",
            "  update_time=datetime.datetime(2025, 10, 31, 10, 25, 54, 382024, tzinfo=TzInfo(UTC))\n",
            ")\n"
          ]
        },
        {
          "output_type": "stream",
          "name": "stdout",
          "text": [
            "\n",
            "*System Instruction*:\n",
            "Answer the user's questions\n",
            "\n",
            "You are an agent. Your internal name is \"Generic_QA_Agent\".\n",
            "\n",
            "The following content is from your previous conversations with the user.\n",
            "They may be useful for answering the user's current query.\n",
            "<PAST_CONVERSATIONS>\n",
            "Time: 2025-10-31T10:26:25.254356+00:00\n",
            "user: I got my niece a red bike for her third birthday.\n",
            "Time: 2025-10-31T10:25:54.382024+00:00\n",
            "user: I have a three-year-old niece.\n",
            "</PAST_CONVERSATIONS>\n",
            "\n",
            "*********\n",
            "\n"
          ]
        },
        {
          "output_type": "stream",
          "name": "stderr",
          "text": [
            "INFO:google_adk.google.adk.models.google_llm:Sending out request, model: gemini-2.5-flash, backend: GoogleLLMVariant.VERTEX_AI, stream: False\n",
            "DEBUG:google_adk.google.adk.models.google_llm:\n",
            "LLM Request:\n",
            "-----------------------------------------------------------\n",
            "System Instruction:\n",
            "Answer the user's questions\n",
            "\n",
            "You are an agent. Your internal name is \"Generic_QA_Agent\".\n",
            "\n",
            "The following content is from your previous conversations with the user.\n",
            "They may be useful for answering the user's current query.\n",
            "<PAST_CONVERSATIONS>\n",
            "Time: 2025-10-31T10:26:25.254356+00:00\n",
            "user: I got my niece a red bike for her third birthday.\n",
            "Time: 2025-10-31T10:25:54.382024+00:00\n",
            "user: I have a three-year-old niece.\n",
            "</PAST_CONVERSATIONS>\n",
            "\n",
            "-----------------------------------------------------------\n",
            "Config:\n",
            "{'labels': {'adk_agent_name': 'Generic_QA_Agent'}}\n",
            "-----------------------------------------------------------\n",
            "Contents:\n",
            "{\"parts\":[{\"text\":\"Can you remind me what I got my niece for her christmas?\"}],\"role\":\"user\"}\n",
            "-----------------------------------------------------------\n",
            "Functions:\n",
            "\n",
            "-----------------------------------------------------------\n",
            "\n",
            "INFO:google_adk.google.adk.models.google_llm:Response received from the model.\n",
            "DEBUG:google_adk.google.adk.models.google_llm:\n",
            "LLM Response:\n",
            "-----------------------------------------------------------\n",
            "Text:\n",
            "I don't have a record of what you got your niece for Christmas. However, I do remember that you got her a red bike for her third birthday.\n",
            "-----------------------------------------------------------\n",
            "Function calls:\n",
            "\n",
            "-----------------------------------------------------------\n",
            "Raw response:\n",
            "{\"sdk_http_response\":{\"headers\":{\"Content-Type\":\"application/json; charset=UTF-8\",\"Vary\":\"Origin, X-Origin, Referer\",\"Content-Encoding\":\"gzip\",\"Date\":\"Fri, 31 Oct 2025 10:27:22 GMT\",\"Server\":\"scaffolding on HTTPServer2\",\"X-XSS-Protection\":\"0\",\"X-Frame-Options\":\"SAMEORIGIN\",\"X-Content-Type-Options\":\"nosniff\",\"Transfer-Encoding\":\"chunked\"}},\"candidates\":[{\"content\":{\"parts\":[{\"text\":\"I don't have a record of what you got your niece for Christmas. However, I do remember that you got her a red bike for her third birthday.\"}],\"role\":\"model\"},\"finish_reason\":\"STOP\",\"avg_logprobs\":-1.1641634160822087}],\"create_time\":\"2025-10-31T10:27:21.226759Z\",\"model_version\":\"gemini-2.5-flash\",\"response_id\":\"CY8EacfrDeaQ2PgPqvKU8As\",\"usage_metadata\":{\"candidates_token_count\":33,\"candidates_tokens_details\":[{\"modality\":\"TEXT\",\"token_count\":33}],\"prompt_token_count\":180,\"prompt_tokens_details\":[{\"modality\":\"TEXT\",\"token_count\":180}],\"thoughts_token_count\":96,\"total_token_count\":309,\"traffic_type\":\"ON_DEMAND\"},\"automatic_function_calling_history\":[]}\n",
            "-----------------------------------------------------------\n",
            "\n"
          ]
        },
        {
          "output_type": "stream",
          "name": "stdout",
          "text": [
            "Agent Response:  I don't have a record of what you got your niece for Christmas. However, I do remember that you got her a red bike for her third birthday.\n"
          ]
        }
      ],
      "source": [
        "session = await session_service.create_session(app_name=APP_NAME, user_id=USER_ID)\n",
        "\n",
        "call_agent(\n",
        "    \"Can you remind me what I got my niece for her christmas?\",\n",
        "    session.id,\n",
        "    user_id=USER_ID,\n",
        ")"
      ]
    },
    {
      "cell_type": "markdown",
      "metadata": {
        "id": "TSpv-aGuaG4g"
      },
      "source": [
        "### adk.LoadMemoryTool\n",
        "\n",
        "Now, let's use `LoadMemoryTool`. Unlike `PreloadMemoryTool`, this tool acts like a standard tool. Your agent needs to decide whether the tool should be invoked."
      ]
    },
    {
      "cell_type": "code",
      "execution_count": 77,
      "metadata": {
        "id": "aIbplEW0ZlRR"
      },
      "outputs": [],
      "source": [
        "from google import adk\n",
        "\n",
        "\n",
        "def log_tool_call(tool, args, tool_response, **kwargs):\n",
        "    \"\"\"A callback to print the LLM request.\"\"\"\n",
        "    print(f\"\\n*Tool*:\\n{tool}\")\n",
        "    print(f\"\\n*Tool call*:\\n{args}\")\n",
        "    print(f\"\\n*Tool response*:\\n{tool_response}\\n*********\\n\")\n",
        "\n",
        "\n",
        "agent = LlmAgent(\n",
        "    model=MODEL,\n",
        "    name=\"Generic_QA_Agent\",\n",
        "    instruction=\"Answer the user's questions\",\n",
        "    tools=[adk.tools.load_memory_tool.LoadMemoryTool()],\n",
        "    before_model_callback=log_system_instructions,\n",
        "    after_tool_callback=log_tool_call,\n",
        ")\n",
        "\n",
        "runner = Runner(\n",
        "    agent=agent,\n",
        "    app_name=APP_NAME,\n",
        "    session_service=session_service,\n",
        "    memory_service=memory_bank_service,\n",
        ")"
      ]
    },
    {
      "cell_type": "code",
      "execution_count": 78,
      "metadata": {
        "colab": {
          "base_uri": "https://localhost:8080/"
        },
        "id": "u2LLB98aZssb",
        "outputId": "bf34e261-d492-496a-99c0-13ff82bf4e0a"
      },
      "outputs": [
        {
          "output_type": "stream",
          "name": "stderr",
          "text": [
            "INFO:google_adk.google.adk.models.google_llm:Sending out request, model: gemini-2.5-flash, backend: GoogleLLMVariant.VERTEX_AI, stream: False\n",
            "DEBUG:google_adk.google.adk.models.google_llm:\n",
            "LLM Request:\n",
            "-----------------------------------------------------------\n",
            "System Instruction:\n",
            "Answer the user's questions\n",
            "\n",
            "You are an agent. Your internal name is \"Generic_QA_Agent\".\n",
            "\n",
            "\n",
            "You have memory. You can use it to answer questions. If any questions need\n",
            "you to look up the memory, you should call load_memory function with a query.\n",
            "\n",
            "-----------------------------------------------------------\n",
            "Config:\n",
            "{'tools': [{}], 'labels': {'adk_agent_name': 'Generic_QA_Agent'}}\n",
            "-----------------------------------------------------------\n",
            "Contents:\n",
            "{\"parts\":[{\"text\":\"Can you remind me what I got my niece for her christmas?\"}],\"role\":\"user\"}\n",
            "-----------------------------------------------------------\n",
            "Functions:\n",
            "load_memory: {'query': {'type': <Type.STRING: 'STRING'>}} \n",
            "-----------------------------------------------------------\n",
            "\n"
          ]
        },
        {
          "output_type": "stream",
          "name": "stdout",
          "text": [
            "\n",
            "*System Instruction*:\n",
            "Answer the user's questions\n",
            "\n",
            "You are an agent. Your internal name is \"Generic_QA_Agent\".\n",
            "\n",
            "\n",
            "You have memory. You can use it to answer questions. If any questions need\n",
            "you to look up the memory, you should call load_memory function with a query.\n",
            "\n",
            "*********\n",
            "\n"
          ]
        },
        {
          "output_type": "stream",
          "name": "stderr",
          "text": [
            "INFO:google_adk.google.adk.models.google_llm:Response received from the model.\n",
            "WARNING:google_genai.types:Warning: there are non-text parts in the response: ['thought_signature', 'function_call'], returning concatenated text result from text parts. Check the full candidates.content.parts accessor to get the full model response.\n",
            "DEBUG:google_adk.google.adk.models.google_llm:\n",
            "LLM Response:\n",
            "-----------------------------------------------------------\n",
            "Text:\n",
            "None\n",
            "-----------------------------------------------------------\n",
            "Function calls:\n",
            "name: load_memory, args: {'query': 'what I got my niece for christmas'}\n",
            "-----------------------------------------------------------\n",
            "Raw response:\n",
            "{\"sdk_http_response\":{\"headers\":{\"Content-Type\":\"application/json; charset=UTF-8\",\"Vary\":\"Origin, X-Origin, Referer\",\"Content-Encoding\":\"gzip\",\"Date\":\"Fri, 31 Oct 2025 10:27:38 GMT\",\"Server\":\"scaffolding on HTTPServer2\",\"X-XSS-Protection\":\"0\",\"X-Frame-Options\":\"SAMEORIGIN\",\"X-Content-Type-Options\":\"nosniff\",\"Transfer-Encoding\":\"chunked\"}},\"candidates\":[{\"content\":{\"parts\":[{\"thought_signature\":\"Cq8DAePx_14ObmPM1V88ZEwn0TJLgcIFDMjfL-x9W4DrrI9lu4__t2SuLPi7-Fz62f_lSnr9tDsw8Z30CiYFKvr_UCJcTNUQV1K5X4hQdrcZ3YlUA0JJHPbF_PbSBYywTQmBoLwZHEUTZ5LV6gHDQGZjYvk8xhOCOxHzlK8VKv1nnmaSt6zVYgTuxnEopdA2J0JX4ygkGP8Zwp5IOKeeM7rv2HiNhRinJC8uUUGowj8I4O0rFZb5JJ_hiqL3zFVfH-z-dQM7jL3TmrAn64u6l5oHJeXkvzdhk1WNb2U8g__rWq40x9Tw_6j8yQFHpNHvXcEtawAs4oNpV6KLoYHllJpS5DWP3eXdLajsInqBCza0ZxG_ZlmeYSR8nMjPhJgX3VQQPoYPfErQCI_VHGrjCn6s1D7ODHbzP2ycZWalcQERlNH_L6wNDLDKqD097iaCpYakP5JgHbwZ35ZDp6AU0djduZOZr1iq7yHodPBOAV678KdK8DlMke8GhReSTNF2Rs9nfLFX4fgwK1ZtyqITvVj3iJ8nt85gWkAuzymnhDQ1_1ra89mwXD8nv1qqIZwzPw8=\",\"function_call\":{\"args\":{\"query\":\"what I got my niece for christmas\"},\"name\":\"load_memory\"}}],\"role\":\"model\"},\"finish_reason\":\"STOP\",\"avg_logprobs\":-1.5227052515203303}],\"create_time\":\"2025-10-31T10:27:37.822524Z\",\"model_version\":\"gemini-2.5-flash\",\"response_id\":\"GY8EafyZMp__698PweWaiQ4\",\"usage_metadata\":{\"candidates_token_count\":11,\"candidates_tokens_details\":[{\"modality\":\"TEXT\",\"token_count\":11}],\"prompt_token_count\":114,\"prompt_tokens_details\":[{\"modality\":\"TEXT\",\"token_count\":114}],\"thoughts_token_count\":84,\"total_token_count\":209,\"traffic_type\":\"ON_DEMAND\"},\"automatic_function_calling_history\":[]}\n",
            "-----------------------------------------------------------\n",
            "\n",
            "INFO:google_adk.google.adk.memory.vertex_ai_memory_bank_service:Search memory response received.\n",
            "DEBUG:google_adk.google.adk.memory.vertex_ai_memory_bank_service:Retrieved memory: distance=0.7643321663309275 memory=Memory(\n",
            "  create_time=datetime.datetime(2025, 10, 31, 10, 25, 54, 382024, tzinfo=TzInfo(UTC)),\n",
            "  fact='I have a three-year-old niece.',\n",
            "  name='projects/568929544199/locations/us-central1/reasoningEngines/7795577023350439936/memories/5450458909036773376',\n",
            "  scope={\n",
            "    'app_name': 'memory_example_app',\n",
            "    'user_id': 'My User'\n",
            "  },\n",
            "  update_time=datetime.datetime(2025, 10, 31, 10, 25, 54, 382024, tzinfo=TzInfo(UTC))\n",
            ")\n",
            "DEBUG:google_adk.google.adk.memory.vertex_ai_memory_bank_service:Retrieved memory: distance=0.7783193935259631 memory=Memory(\n",
            "  create_time=datetime.datetime(2025, 10, 31, 10, 25, 54, 376825, tzinfo=TzInfo(UTC)),\n",
            "  fact='I got my niece a red bike for her third birthday.',\n",
            "  name='projects/568929544199/locations/us-central1/reasoningEngines/7795577023350439936/memories/3144615899823079424',\n",
            "  scope={\n",
            "    'app_name': 'memory_example_app',\n",
            "    'user_id': 'My User'\n",
            "  },\n",
            "  update_time=datetime.datetime(2025, 10, 31, 10, 26, 25, 254356, tzinfo=TzInfo(UTC))\n",
            ")\n",
            "INFO:google_adk.google.adk.models.google_llm:Sending out request, model: gemini-2.5-flash, backend: GoogleLLMVariant.VERTEX_AI, stream: False\n",
            "DEBUG:google_adk.google.adk.models.google_llm:\n",
            "LLM Request:\n",
            "-----------------------------------------------------------\n",
            "System Instruction:\n",
            "Answer the user's questions\n",
            "\n",
            "You are an agent. Your internal name is \"Generic_QA_Agent\".\n",
            "\n",
            "\n",
            "You have memory. You can use it to answer questions. If any questions need\n",
            "you to look up the memory, you should call load_memory function with a query.\n",
            "\n",
            "-----------------------------------------------------------\n",
            "Config:\n",
            "{'tools': [{}], 'labels': {'adk_agent_name': 'Generic_QA_Agent'}}\n",
            "-----------------------------------------------------------\n",
            "Contents:\n",
            "{\"parts\":[{\"text\":\"Can you remind me what I got my niece for her christmas?\"}],\"role\":\"user\"}\n",
            "{\"parts\":[{\"thought_signature\":\"Cq8DAePx_14ObmPM1V88ZEwn0TJLgcIFDMjfL-x9W4DrrI9lu4__t2SuLPi7-Fz62f_lSnr9tDsw8Z30CiYFKvr_UCJcTNUQV1K5X4hQdrcZ3YlUA0JJHPbF_PbSBYywTQmBoLwZHEUTZ5LV6gHDQGZjYvk8xhOCOxHzlK8VKv1nnmaSt6zVYgTuxnEopdA2J0JX4ygkGP8Zwp5IOKeeM7rv2HiNhRinJC8uUUGowj8I4O0rFZb5JJ_hiqL3zFVfH-z-dQM7jL3TmrAn64u6l5oHJeXkvzdhk1WNb2U8g__rWq40x9Tw_6j8yQFHpNHvXcEtawAs4oNpV6KLoYHllJpS5DWP3eXdLajsInqBCza0ZxG_ZlmeYSR8nMjPhJgX3VQQPoYPfErQCI_VHGrjCn6s1D7ODHbzP2ycZWalcQERlNH_L6wNDLDKqD097iaCpYakP5JgHbwZ35ZDp6AU0djduZOZr1iq7yHodPBOAV678KdK8DlMke8GhReSTNF2Rs9nfLFX4fgwK1ZtyqITvVj3iJ8nt85gWkAuzymnhDQ1_1ra89mwXD8nv1qqIZwzPw8=\",\"function_call\":{\"args\":{\"query\":\"what I got my niece for christmas\"},\"name\":\"load_memory\"}}],\"role\":\"model\"}\n",
            "{\"parts\":[{\"function_response\":{\"name\":\"load_memory\",\"response\":{\"result\":{\"memories\":[{\"content\":{\"parts\":[{\"text\":\"I have a three-year-old niece.\"}],\"role\":\"user\"},\"author\":\"user\",\"timestamp\":\"2025-10-31T10:25:54.382024+00:00\"},{\"content\":{\"parts\":[{\"text\":\"I got my niece a red bike for her third birthday.\"}],\"role\":\"user\"},\"author\":\"user\",\"timestamp\":\"2025-10-31T10:26:25.254356+00:00\"}]}}}}],\"role\":\"user\"}\n",
            "-----------------------------------------------------------\n",
            "Functions:\n",
            "load_memory: {'query': {'type': <Type.STRING: 'STRING'>}} \n",
            "-----------------------------------------------------------\n",
            "\n"
          ]
        },
        {
          "output_type": "stream",
          "name": "stdout",
          "text": [
            "\n",
            "*Tool*:\n",
            "<google.adk.tools.load_memory_tool.LoadMemoryTool object at 0x7acc03681730>\n",
            "\n",
            "*Tool call*:\n",
            "{'query': 'what I got my niece for christmas'}\n",
            "\n",
            "*Tool response*:\n",
            "memories=[MemoryEntry(content=Content(\n",
            "  parts=[\n",
            "    Part(\n",
            "      text='I have a three-year-old niece.'\n",
            "    ),\n",
            "  ],\n",
            "  role='user'\n",
            "), author='user', timestamp='2025-10-31T10:25:54.382024+00:00'), MemoryEntry(content=Content(\n",
            "  parts=[\n",
            "    Part(\n",
            "      text='I got my niece a red bike for her third birthday.'\n",
            "    ),\n",
            "  ],\n",
            "  role='user'\n",
            "), author='user', timestamp='2025-10-31T10:26:25.254356+00:00')]\n",
            "*********\n",
            "\n",
            "\n",
            "*System Instruction*:\n",
            "Answer the user's questions\n",
            "\n",
            "You are an agent. Your internal name is \"Generic_QA_Agent\".\n",
            "\n",
            "\n",
            "You have memory. You can use it to answer questions. If any questions need\n",
            "you to look up the memory, you should call load_memory function with a query.\n",
            "\n",
            "*********\n",
            "\n"
          ]
        },
        {
          "output_type": "stream",
          "name": "stderr",
          "text": [
            "INFO:google_adk.google.adk.models.google_llm:Response received from the model.\n",
            "WARNING:google_genai.types:Warning: there are non-text parts in the response: ['thought_signature'], returning concatenated text result from text parts. Check the full candidates.content.parts accessor to get the full model response.\n",
            "DEBUG:google_adk.google.adk.models.google_llm:\n",
            "LLM Response:\n",
            "-----------------------------------------------------------\n",
            "Text:\n",
            "I couldn't find any information in your memory about what you got your niece for Christmas. I can see that you got her a red bike for her third birthday.\n",
            "-----------------------------------------------------------\n",
            "Function calls:\n",
            "\n",
            "-----------------------------------------------------------\n",
            "Raw response:\n",
            "{\"sdk_http_response\":{\"headers\":{\"Content-Type\":\"application/json; charset=UTF-8\",\"Vary\":\"Origin, X-Origin, Referer\",\"Content-Encoding\":\"gzip\",\"Date\":\"Fri, 31 Oct 2025 10:27:41 GMT\",\"Server\":\"scaffolding on HTTPServer2\",\"X-XSS-Protection\":\"0\",\"X-Frame-Options\":\"SAMEORIGIN\",\"X-Content-Type-Options\":\"nosniff\",\"Transfer-Encoding\":\"chunked\"}},\"candidates\":[{\"content\":{\"parts\":[{\"thought_signature\":\"Cv0EAePx_15cSnItJa3sg8090CSxV34BVotu6FE_GA5wMvXKRw4NDszYXd3OGrc33McE5Ah3Ybjq_sFEiaohTKAKwiXQvtXr40BZWJHgX8Mc_T3deCzFWRdzKtau-6iJ5nhCEn8pcI5ZCpY0ZpSP2O6-a5eL8IOsJ4L27nlVpXcckHAu33Rki7cDiCVg0tX_FBUQlgh8K0hFUK7D0g4UYwCyJhTbVaBS6K9D6fAqbthsVyZJf4n7CyvY0WZcvO4M-zw3b-24fznywZTtjrUHaEd9orUMhT68RhhFm4oxVCPWyZ7luwU8udxWmC87f0mOZ6dhpY9EE0iHbloXaSo11Fw0SNHz5BnDPxcZyJ0_Y_l1IyMsE47VGMU6vRQD-nVawLMCXjIyvfyRhnl5Xmfoajxs54RLwFsEYZZ8Sc1ZD1IMpYFbT42L-q7A3saaVi9kZFM0ch7s0ntPrtTkn-nwd94lcI3Oyi9iMmqYK7K9gkMH-71lsIfUZlGcIcXQopZHWRFklLI8oOKCX_9BJYoG-A4wUolHR6UOIfjHVax88ouQvDnqgoESMqPaITkCwqk-AmbAxO-lB-pQwjDe6X3TCRsCMi-Ai4nd-hizX3TSrwsDceuubEZx8ZJ4pPazRn9l959lsw3U8lgdbAdQAeyHBEk9ZCueo_3v0YNTRc-CAGlDFIrWKwhSxlLmSpo1xeAsdrdPBNFz-hw03tx7e1GEH7dp_1a7eppbp7cuxcY1P24TM5HFOaemqfKVTJzSBwN2oOtI-sNb-7RjDqmCG1S6rDUoPePNhKZGLDWGa_By-vKuK6pkZRH7GG6WmT9e0pnpfhCy1t-xR2Z8Sl4nz6jocQ==\",\"text\":\"I couldn't find any information in your memory about what you got your niece for Christmas. I can see that you got her a red bike for her third birthday.\"}],\"role\":\"model\"},\"finish_reason\":\"STOP\",\"avg_logprobs\":-0.8780086741727942}],\"create_time\":\"2025-10-31T10:27:39.581847Z\",\"model_version\":\"gemini-2.5-flash\",\"response_id\":\"G48EadfBI9m7nvgPq8e12AU\",\"usage_metadata\":{\"candidates_token_count\":34,\"candidates_tokens_details\":[{\"modality\":\"TEXT\",\"token_count\":34}],\"prompt_token_count\":232,\"prompt_tokens_details\":[{\"modality\":\"TEXT\",\"token_count\":314}],\"thoughts_token_count\":144,\"total_token_count\":410,\"traffic_type\":\"ON_DEMAND\"},\"automatic_function_calling_history\":[]}\n",
            "-----------------------------------------------------------\n",
            "\n"
          ]
        },
        {
          "output_type": "stream",
          "name": "stdout",
          "text": [
            "Agent Response:  I couldn't find any information in your memory about what you got your niece for Christmas. I can see that you got her a red bike for her third birthday.\n"
          ]
        }
      ],
      "source": [
        "session = await session_service.create_session(app_name=APP_NAME, user_id=USER_ID)\n",
        "\n",
        "call_agent(\n",
        "    \"Can you remind me what I got my niece for her christmas?\",\n",
        "    session.id,\n",
        "    user_id=USER_ID,\n",
        ")"
      ]
    },
    {
      "cell_type": "markdown",
      "metadata": {
        "id": "9uGnTDQO42tf"
      },
      "source": [
        "If the agent decides that Memory is not helpful for a given query, the Memory tool will not be invoked."
      ]
    },
    {
      "cell_type": "code",
      "execution_count": 79,
      "metadata": {
        "colab": {
          "base_uri": "https://localhost:8080/"
        },
        "id": "Pmm3SJOsd288",
        "outputId": "efa731ac-9897-4ae0-9e26-271b6838e5f8"
      },
      "outputs": [
        {
          "output_type": "stream",
          "name": "stderr",
          "text": [
            "INFO:google_adk.google.adk.models.google_llm:Sending out request, model: gemini-2.5-flash, backend: GoogleLLMVariant.VERTEX_AI, stream: False\n",
            "DEBUG:google_adk.google.adk.models.google_llm:\n",
            "LLM Request:\n",
            "-----------------------------------------------------------\n",
            "System Instruction:\n",
            "Answer the user's questions\n",
            "\n",
            "You are an agent. Your internal name is \"Generic_QA_Agent\".\n",
            "\n",
            "\n",
            "You have memory. You can use it to answer questions. If any questions need\n",
            "you to look up the memory, you should call load_memory function with a query.\n",
            "\n",
            "-----------------------------------------------------------\n",
            "Config:\n",
            "{'tools': [{}], 'labels': {'adk_agent_name': 'Generic_QA_Agent'}}\n",
            "-----------------------------------------------------------\n",
            "Contents:\n",
            "{\"parts\":[{\"text\":\"Hi!\"}],\"role\":\"user\"}\n",
            "-----------------------------------------------------------\n",
            "Functions:\n",
            "load_memory: {'query': {'type': <Type.STRING: 'STRING'>}} \n",
            "-----------------------------------------------------------\n",
            "\n"
          ]
        },
        {
          "output_type": "stream",
          "name": "stdout",
          "text": [
            "\n",
            "*System Instruction*:\n",
            "Answer the user's questions\n",
            "\n",
            "You are an agent. Your internal name is \"Generic_QA_Agent\".\n",
            "\n",
            "\n",
            "You have memory. You can use it to answer questions. If any questions need\n",
            "you to look up the memory, you should call load_memory function with a query.\n",
            "\n",
            "*********\n",
            "\n"
          ]
        },
        {
          "output_type": "stream",
          "name": "stderr",
          "text": [
            "INFO:google_adk.google.adk.models.google_llm:Response received from the model.\n",
            "WARNING:google_genai.types:Warning: there are non-text parts in the response: ['thought_signature'], returning concatenated text result from text parts. Check the full candidates.content.parts accessor to get the full model response.\n",
            "DEBUG:google_adk.google.adk.models.google_llm:\n",
            "LLM Response:\n",
            "-----------------------------------------------------------\n",
            "Text:\n",
            "Hello! How can I help you today?\n",
            "-----------------------------------------------------------\n",
            "Function calls:\n",
            "\n",
            "-----------------------------------------------------------\n",
            "Raw response:\n",
            "{\"sdk_http_response\":{\"headers\":{\"Content-Type\":\"application/json; charset=UTF-8\",\"Vary\":\"Origin, X-Origin, Referer\",\"Content-Encoding\":\"gzip\",\"Date\":\"Fri, 31 Oct 2025 10:27:48 GMT\",\"Server\":\"scaffolding on HTTPServer2\",\"X-XSS-Protection\":\"0\",\"X-Frame-Options\":\"SAMEORIGIN\",\"X-Content-Type-Options\":\"nosniff\",\"Transfer-Encoding\":\"chunked\"}},\"candidates\":[{\"content\":{\"parts\":[{\"thought_signature\":\"CqcBAePx_175P6dok_z14JIoQcEqpd2WNfEvhtnZoMW-UjPxDwoSHzKNZLN8rDi0A_FnPDjEVmO4THLJGMKjY72i6H8qt3ZjZrEl0z7sSxNQA53RbzQ99msnRnzJ15MOaxgP_EmhBuALB9U2a9CYmq84GW72CbVYYK7G6hpda53afN5M9qcSnHoOVPDq5sAZC4ARuP_JHOMQn5uANkoKzll8_htQSCJT2yQ=\",\"text\":\"Hello! How can I help you today?\"}],\"role\":\"model\"},\"finish_reason\":\"STOP\",\"avg_logprobs\":-0.6379765404595269}],\"create_time\":\"2025-10-31T10:27:47.667224Z\",\"model_version\":\"gemini-2.5-flash\",\"response_id\":\"I48EadjcKMmenvgPuMTNgQ4\",\"usage_metadata\":{\"candidates_token_count\":9,\"candidates_tokens_details\":[{\"modality\":\"TEXT\",\"token_count\":9}],\"prompt_token_count\":103,\"prompt_tokens_details\":[{\"modality\":\"TEXT\",\"token_count\":103}],\"thoughts_token_count\":31,\"total_token_count\":143,\"traffic_type\":\"ON_DEMAND\"},\"automatic_function_calling_history\":[]}\n",
            "-----------------------------------------------------------\n",
            "\n"
          ]
        },
        {
          "output_type": "stream",
          "name": "stdout",
          "text": [
            "Agent Response:  Hello! How can I help you today?\n"
          ]
        }
      ],
      "source": [
        "session = await session_service.create_session(app_name=APP_NAME, user_id=USER_ID)\n",
        "\n",
        "call_agent(\"Hi!\", session.id, user_id=USER_ID)"
      ]
    },
    {
      "cell_type": "markdown",
      "metadata": {
        "id": "-M6GeiZzAox6"
      },
      "source": [
        "### Custom callback to retrieve memories\n",
        "\n",
        "If you want more control over how memories are retrieved, you can create your own custom callback.\n",
        "\n",
        "For example, you can use the Agent Engine SDK within the callback to retrieve memories without similarity search. This is lower latency than using similarity search.\n",
        "\n",
        "You can also customize your `scope` rather than using the default \"app_name\" and \"user_id\" scope keys used by ADK's memory service."
      ]
    },
    {
      "cell_type": "code",
      "execution_count": 80,
      "metadata": {
        "id": "TUc_jTzr5QSm"
      },
      "outputs": [],
      "source": [
        "def retrieve_memories_callback(callback_context, llm_request):\n",
        "    user_id = callback_context._invocation_context.user_id\n",
        "\n",
        "    response = client.agent_engines.memories.retrieve(\n",
        "        name=agent_engine.api_resource.name,\n",
        "        # Unlike the ADK Memory Service, this does not use App Name in the scope.\n",
        "        scope={\"user_id\": user_id},\n",
        "    )\n",
        "    memories = [f\"* {memory.memory.fact}\" for memory in list(response)]\n",
        "    if not memories:\n",
        "        # No memories to add to System Instructions.\n",
        "        return\n",
        "    # Append formatted memories to the System Instructions\n",
        "    llm_request.config.system_instruction += (\n",
        "        \"\\nHere is information that you have about the user:\\n\"\n",
        "    )\n",
        "    llm_request.config.system_instruction += \"\\n\".join(memories)\n",
        "\n",
        "\n",
        "def log_tool_call(tool, args, tool_response, **kwargs):\n",
        "    \"\"\"A callback to print the LLM request.\"\"\"\n",
        "    print(f\"\\n*Tool*:\\n{tool}\")\n",
        "    print(f\"\\n*Tool call*:\\n{args}\")\n",
        "    print(f\"\\n*Tool response*:\\n{log_tool_call}\\n*********\\n\")\n",
        "\n",
        "\n",
        "agent = LlmAgent(\n",
        "    model=MODEL,\n",
        "    name=\"Generic_QA_Agent\",\n",
        "    instruction=\"Answer the user's questions\",\n",
        "    before_model_callback=retrieve_memories_callback,\n",
        ")\n",
        "\n",
        "runner = Runner(\n",
        "    agent=agent,\n",
        "    app_name=APP_NAME,\n",
        "    session_service=session_service,\n",
        "    memory_service=memory_bank_service,\n",
        ")"
      ]
    },
    {
      "cell_type": "markdown",
      "metadata": {
        "id": "hPHr71m4_hiJ"
      },
      "source": [
        "Since we're using a different scope than the ADK Memory Service, we don't have access to the prior memories. Memories are isolated by their scope dictionary."
      ]
    },
    {
      "cell_type": "code",
      "execution_count": 81,
      "metadata": {
        "colab": {
          "base_uri": "https://localhost:8080/"
        },
        "id": "0zV-bZtz51E6",
        "outputId": "5962ab12-c724-4731-8151-07cd88db2277"
      },
      "outputs": [
        {
          "output_type": "stream",
          "name": "stderr",
          "text": [
            "INFO:google_adk.google.adk.models.google_llm:Sending out request, model: gemini-2.5-flash, backend: GoogleLLMVariant.VERTEX_AI, stream: False\n",
            "DEBUG:google_adk.google.adk.models.google_llm:\n",
            "LLM Request:\n",
            "-----------------------------------------------------------\n",
            "System Instruction:\n",
            "Answer the user's questions\n",
            "\n",
            "You are an agent. Your internal name is \"Generic_QA_Agent\".\n",
            "-----------------------------------------------------------\n",
            "Config:\n",
            "{'labels': {'adk_agent_name': 'Generic_QA_Agent'}}\n",
            "-----------------------------------------------------------\n",
            "Contents:\n",
            "{\"parts\":[{\"text\":\"Hi!\"}],\"role\":\"user\"}\n",
            "-----------------------------------------------------------\n",
            "Functions:\n",
            "\n",
            "-----------------------------------------------------------\n",
            "\n",
            "INFO:google_adk.google.adk.models.google_llm:Response received from the model.\n",
            "DEBUG:google_adk.google.adk.models.google_llm:\n",
            "LLM Response:\n",
            "-----------------------------------------------------------\n",
            "Text:\n",
            "Hi there! How can I help you today?\n",
            "-----------------------------------------------------------\n",
            "Function calls:\n",
            "\n",
            "-----------------------------------------------------------\n",
            "Raw response:\n",
            "{\"sdk_http_response\":{\"headers\":{\"Content-Type\":\"application/json; charset=UTF-8\",\"Vary\":\"Origin, X-Origin, Referer\",\"Content-Encoding\":\"gzip\",\"Date\":\"Fri, 31 Oct 2025 10:28:12 GMT\",\"Server\":\"scaffolding on HTTPServer2\",\"X-XSS-Protection\":\"0\",\"X-Frame-Options\":\"SAMEORIGIN\",\"X-Content-Type-Options\":\"nosniff\",\"Transfer-Encoding\":\"chunked\"}},\"candidates\":[{\"content\":{\"parts\":[{\"text\":\"Hi there! How can I help you today?\"}],\"role\":\"model\"},\"finish_reason\":\"STOP\",\"avg_logprobs\":-0.3371396780014038}],\"create_time\":\"2025-10-31T10:28:12.248566Z\",\"model_version\":\"gemini-2.5-flash\",\"response_id\":\"PI8EafaVD5__698PweWaiQ4\",\"usage_metadata\":{\"candidates_token_count\":10,\"candidates_tokens_details\":[{\"modality\":\"TEXT\",\"token_count\":10}],\"prompt_token_count\":25,\"prompt_tokens_details\":[{\"modality\":\"TEXT\",\"token_count\":25}],\"thoughts_token_count\":23,\"total_token_count\":58,\"traffic_type\":\"ON_DEMAND\"},\"automatic_function_calling_history\":[]}\n",
            "-----------------------------------------------------------\n",
            "\n"
          ]
        },
        {
          "output_type": "stream",
          "name": "stdout",
          "text": [
            "Agent Response:  Hi there! How can I help you today?\n"
          ]
        }
      ],
      "source": [
        "session = await session_service.create_session(app_name=APP_NAME, user_id=USER_ID)\n",
        "\n",
        "call_agent(\"Hi!\", session.id, user_id=USER_ID)"
      ]
    },
    {
      "cell_type": "markdown",
      "metadata": {
        "id": "F-RoQ0UF_s5v"
      },
      "source": [
        "Let's first generate memories for our new scope."
      ]
    },
    {
      "cell_type": "code",
      "execution_count": 82,
      "metadata": {
        "colab": {
          "base_uri": "https://localhost:8080/"
        },
        "id": "3PjiIK2L_r43",
        "outputId": "319a1ab1-6c0b-4ef6-8e4e-a80dba38b772"
      },
      "outputs": [
        {
          "output_type": "execute_result",
          "data": {
            "text/plain": [
              "AgentEngineGenerateMemoriesOperation(\n",
              "  done=True,\n",
              "  metadata={\n",
              "    '@type': 'type.googleapis.com/google.cloud.aiplatform.v1beta1.GenerateMemoriesOperationMetadata',\n",
              "    'genericMetadata': {\n",
              "      'createTime': '2025-10-31T10:28:17.839578Z',\n",
              "      'updateTime': '2025-10-31T10:28:19.751692Z'\n",
              "    }\n",
              "  },\n",
              "  name='projects/568929544199/locations/us-central1/reasoningEngines/7795577023350439936/operations/3111852875676909568',\n",
              "  response=GenerateMemoriesResponse(\n",
              "    generated_memories=[\n",
              "      GenerateMemoriesResponseGeneratedMemory(\n",
              "        action=<GenerateMemoriesResponseGeneratedMemoryAction.CREATED: 'CREATED'>,\n",
              "        memory=Memory(\n",
              "          name='projects/568929544199/locations/us-central1/reasoningEngines/7795577023350439936/memories/4171436614863552512'\n",
              "        )\n",
              "      ),\n",
              "    ]\n",
              "  )\n",
              ")"
            ]
          },
          "metadata": {},
          "execution_count": 82
        }
      ],
      "source": [
        "client.agent_engines.memories.generate(\n",
        "    scope={\"user_id\": USER_ID},\n",
        "    name=agent_engine.api_resource.name,\n",
        "    direct_contents_source={\n",
        "        \"events\": [\n",
        "            {\"content\": {\"role\": \"user\", \"parts\": [{\"text\": \"I have four nieces!\"}]}}\n",
        "        ]\n",
        "    },\n",
        ")"
      ]
    },
    {
      "cell_type": "code",
      "execution_count": 83,
      "metadata": {
        "colab": {
          "base_uri": "https://localhost:8080/"
        },
        "id": "fTzgPdtU_9Qd",
        "outputId": "741a81a8-aa40-4d9e-dccf-98dc2a7f826d"
      },
      "outputs": [
        {
          "output_type": "stream",
          "name": "stderr",
          "text": [
            "INFO:google_adk.google.adk.models.google_llm:Sending out request, model: gemini-2.5-flash, backend: GoogleLLMVariant.VERTEX_AI, stream: False\n",
            "DEBUG:google_adk.google.adk.models.google_llm:\n",
            "LLM Request:\n",
            "-----------------------------------------------------------\n",
            "System Instruction:\n",
            "Answer the user's questions\n",
            "\n",
            "You are an agent. Your internal name is \"Generic_QA_Agent\".\n",
            "Here is information that you have about the user:\n",
            "* I have four nieces.\n",
            "-----------------------------------------------------------\n",
            "Config:\n",
            "{'labels': {'adk_agent_name': 'Generic_QA_Agent'}}\n",
            "-----------------------------------------------------------\n",
            "Contents:\n",
            "{\"parts\":[{\"text\":\"Hi!\"}],\"role\":\"user\"}\n",
            "{\"parts\":[{\"text\":\"Hi there! How can I help you today?\"}],\"role\":\"model\"}\n",
            "{\"parts\":[{\"text\":\"What information do you know about me?\"}],\"role\":\"user\"}\n",
            "-----------------------------------------------------------\n",
            "Functions:\n",
            "\n",
            "-----------------------------------------------------------\n",
            "\n",
            "INFO:google_adk.google.adk.models.google_llm:Response received from the model.\n",
            "DEBUG:google_adk.google.adk.models.google_llm:\n",
            "LLM Response:\n",
            "-----------------------------------------------------------\n",
            "Text:\n",
            "I know that you have four nieces.\n",
            "-----------------------------------------------------------\n",
            "Function calls:\n",
            "\n",
            "-----------------------------------------------------------\n",
            "Raw response:\n",
            "{\"sdk_http_response\":{\"headers\":{\"Content-Type\":\"application/json; charset=UTF-8\",\"Vary\":\"Origin, X-Origin, Referer\",\"Content-Encoding\":\"gzip\",\"Date\":\"Fri, 31 Oct 2025 10:28:24 GMT\",\"Server\":\"scaffolding on HTTPServer2\",\"X-XSS-Protection\":\"0\",\"X-Frame-Options\":\"SAMEORIGIN\",\"X-Content-Type-Options\":\"nosniff\",\"Transfer-Encoding\":\"chunked\"}},\"candidates\":[{\"content\":{\"parts\":[{\"text\":\"I know that you have four nieces.\"}],\"role\":\"model\"},\"finish_reason\":\"STOP\",\"avg_logprobs\":-1.3323044776916504}],\"create_time\":\"2025-10-31T10:28:24.395651Z\",\"model_version\":\"gemini-2.5-flash\",\"response_id\":\"SI8EaYOTGJmX3NoP56aryA4\",\"usage_metadata\":{\"candidates_token_count\":8,\"candidates_tokens_details\":[{\"modality\":\"TEXT\",\"token_count\":8}],\"prompt_token_count\":61,\"prompt_tokens_details\":[{\"modality\":\"TEXT\",\"token_count\":61}],\"thoughts_token_count\":31,\"total_token_count\":100,\"traffic_type\":\"ON_DEMAND\"},\"automatic_function_calling_history\":[]}\n",
            "-----------------------------------------------------------\n",
            "\n"
          ]
        },
        {
          "output_type": "stream",
          "name": "stdout",
          "text": [
            "Agent Response:  I know that you have four nieces.\n"
          ]
        }
      ],
      "source": [
        "call_agent(\"What information do you know about me?\", session.id, user_id=USER_ID)"
      ]
    },
    {
      "cell_type": "markdown",
      "metadata": {
        "id": "SAw7Dax-biQW"
      },
      "source": [
        "## Customize your Memory Bank's behavior\n",
        "\n",
        "So far, we've used Memory Bank with it's default settings. Now, let's customize some configurations. The configuration is set when creating or updating your Agent Engine."
      ]
    },
    {
      "cell_type": "markdown",
      "metadata": {
        "id": "6nIKVog-sitb"
      },
      "source": [
        "### Customizing Memory Extraction\n",
        "\n",
        "By default, Memory Bank considers memories that fit the following topics to be meaningful:\n",
        "\n",
        "* **Personal information (`USER_PERSONAL_INFO`)**: Significant personal information about the user, like names, relationships, hobbies, and important dates. For example, \"I work at Google\" or \"My wedding anniversary is on December 31\".\n",
        "* **User preferences (`USER_PREFERENCES`)**: Stated or implied likes, dislikes, preferred styles, or patterns. For example, \"I prefer the middle seat.\"\n",
        "* **Key conversation events and task outcomes (`KEY_CONVERSATION_DETAILS`)**: Important milestones or conclusions within the dialogue. For example, \"I booked plane tickets for a round trip between JFK and SFO. I leave on June 1, 2025 and return on June 7, 2025.\"\n",
        "* **Explicit remember / forget instructions (`EXPLICIT_INSTRUCTIONS`)**: Information that the user explicitly asks the agent to remember or forget. For example, if the user says \"Remember that I primarily use Python,\" Memory Bank generates a memory such as \"I primarily use Python.\"\n",
        "\n",
        "These are managed topics where Memory Bank manages their definition. If you want to use a subset of these topics or use custom topics, you can provide a \"CustomizationConfig\" to customize what information Memory Bank should consider meaningful to persist."
      ]
    },
    {
      "cell_type": "markdown",
      "metadata": {
        "id": "G2pwuUddXf59"
      },
      "source": [
        "#### Managed Topics\n",
        "\n",
        "We're going to update our Memory Bank to only extract user preferences.\n",
        "\n",
        "This will take affect for all requests to Memory Bank, regardless of whether you use ADK or Agent Engine SDK."
      ]
    },
    {
      "cell_type": "code",
      "execution_count": 84,
      "metadata": {
        "colab": {
          "base_uri": "https://localhost:8080/"
        },
        "id": "6qc7x-1tXWS_",
        "outputId": "2fc74826-077a-4d80-f863-02f55271d0d5"
      },
      "outputs": [
        {
          "output_type": "stream",
          "name": "stderr",
          "text": [
            "INFO:vertexai_genai.agentengines:View progress and logs at https://console.cloud.google.com/logs/query?project=devfest-2025-day-1.\n",
            "INFO:vertexai_genai.agentengines:Agent Engine updated. To use it in another session:\n",
            "INFO:vertexai_genai.agentengines:agent_engine=client.agent_engines.get(name='projects/568929544199/locations/us-central1/reasoningEngines/7795577023350439936')\n"
          ]
        },
        {
          "output_type": "execute_result",
          "data": {
            "text/plain": [
              "AgentEngine(api_resource.name='projects/568929544199/locations/us-central1/reasoningEngines/7795577023350439936')"
            ]
          },
          "metadata": {},
          "execution_count": 84
        }
      ],
      "source": [
        "user_preferences_config = {\n",
        "    \"scope_keys\": [\"user_id\"],\n",
        "    \"memory_topics\": [\n",
        "        {\"managed_memory_topic\": {\"managed_topic_enum\": \"USER_PREFERENCES\"}}\n",
        "    ],\n",
        "}\n",
        "\n",
        "\n",
        "client.agent_engines.update(\n",
        "    name=agent_engine.api_resource.name,\n",
        "    config={\n",
        "        \"context_spec\": {\n",
        "            \"memory_bank_config\": {\n",
        "                \"customization_configs\": [user_preferences_config],\n",
        "            }\n",
        "        }\n",
        "    },\n",
        ")"
      ]
    },
    {
      "cell_type": "markdown",
      "metadata": {
        "id": "t3RNGsTmYI74"
      },
      "source": [
        "Memories that fit the `USER_PREFERENCES` category will be persisted."
      ]
    },
    {
      "cell_type": "code",
      "execution_count": 85,
      "metadata": {
        "colab": {
          "base_uri": "https://localhost:8080/"
        },
        "id": "g_efAhHIYGEC",
        "outputId": "32db8de7-f701-4a02-bd73-6a8d47b2f320"
      },
      "outputs": [
        {
          "output_type": "execute_result",
          "data": {
            "text/plain": [
              "AgentEngineGenerateMemoriesOperation(\n",
              "  done=True,\n",
              "  metadata={\n",
              "    '@type': 'type.googleapis.com/google.cloud.aiplatform.v1beta1.GenerateMemoriesOperationMetadata',\n",
              "    'genericMetadata': {\n",
              "      'createTime': '2025-10-31T10:28:48.867528Z',\n",
              "      'updateTime': '2025-10-31T10:28:51.708784Z'\n",
              "    }\n",
              "  },\n",
              "  name='projects/568929544199/locations/us-central1/reasoningEngines/7795577023350439936/operations/2085032160636436480',\n",
              "  response=GenerateMemoriesResponse(\n",
              "    generated_memories=[\n",
              "      GenerateMemoriesResponseGeneratedMemory(\n",
              "        action=<GenerateMemoriesResponseGeneratedMemoryAction.CREATED: 'CREATED'>,\n",
              "        memory=Memory(\n",
              "          name='projects/568929544199/locations/us-central1/reasoningEngines/7795577023350439936/memories/7571654333528276992'\n",
              "        )\n",
              "      ),\n",
              "    ]\n",
              "  )\n",
              ")"
            ]
          },
          "metadata": {},
          "execution_count": 85
        }
      ],
      "source": [
        "client.agent_engines.memories.generate(\n",
        "    scope={\"user_id\": USER_ID},\n",
        "    name=agent_engine.api_resource.name,\n",
        "    direct_contents_source={\n",
        "        \"events\": [\n",
        "            {\n",
        "                \"content\": {\n",
        "                    \"role\": \"user\",\n",
        "                    \"parts\": [{\"text\": \"I prefer the aisle seat\"}],\n",
        "                }\n",
        "            }\n",
        "        ]\n",
        "    },\n",
        ")"
      ]
    },
    {
      "cell_type": "markdown",
      "metadata": {
        "id": "0W7oEz7KYOks"
      },
      "source": [
        "Memories that don't fit `USER_PREFERENCES` won't be persisted."
      ]
    },
    {
      "cell_type": "code",
      "execution_count": 86,
      "metadata": {
        "colab": {
          "base_uri": "https://localhost:8080/"
        },
        "id": "V9sQPIGQYTr0",
        "outputId": "81555b06-21d4-45b2-ed91-93046179930a"
      },
      "outputs": [
        {
          "output_type": "execute_result",
          "data": {
            "text/plain": [
              "AgentEngineGenerateMemoriesOperation(\n",
              "  done=True,\n",
              "  metadata={\n",
              "    '@type': 'type.googleapis.com/google.cloud.aiplatform.v1beta1.GenerateMemoriesOperationMetadata',\n",
              "    'genericMetadata': {\n",
              "      'createTime': '2025-10-31T10:28:54.860293Z',\n",
              "      'updateTime': '2025-10-31T10:28:55.932392Z'\n",
              "    }\n",
              "  },\n",
              "  name='projects/568929544199/locations/us-central1/reasoningEngines/7795577023350439936/operations/1341938222120304640'\n",
              ")"
            ]
          },
          "metadata": {},
          "execution_count": 86
        }
      ],
      "source": [
        "client.agent_engines.memories.generate(\n",
        "    scope={\"user_id\": USER_ID},\n",
        "    name=agent_engine.api_resource.name,\n",
        "    direct_contents_source={\n",
        "        \"events\": [\n",
        "            {\n",
        "                \"content\": {\n",
        "                    \"role\": \"user\",\n",
        "                    \"parts\": [{\"text\": \"I'm going to get my niece a red bike\"}],\n",
        "                }\n",
        "            }\n",
        "        ]\n",
        "    },\n",
        ")"
      ]
    },
    {
      "cell_type": "markdown",
      "metadata": {
        "id": "SodYXQQrXMqD"
      },
      "source": [
        "#### Custom Topics\n",
        "Alternatively, you can define your own custom topics where you define your own labels, descriptions, and examples."
      ]
    },
    {
      "cell_type": "code",
      "execution_count": 87,
      "metadata": {
        "colab": {
          "base_uri": "https://localhost:8080/",
          "height": 383
        },
        "id": "o-W0cxdqsjRi",
        "outputId": "04b1f615-635e-4bd6-eeff-8686da4a8d22"
      },
      "outputs": [
        {
          "output_type": "error",
          "ename": "ModuleNotFoundError",
          "evalue": "No module named 'vertexai.types'",
          "traceback": [
            "\u001b[0;31m---------------------------------------------------------------------------\u001b[0m",
            "\u001b[0;31mModuleNotFoundError\u001b[0m                       Traceback (most recent call last)",
            "\u001b[0;32m/tmp/ipython-input-4069965263.py\u001b[0m in \u001b[0;36m<cell line: 0>\u001b[0;34m()\u001b[0m\n\u001b[0;32m----> 1\u001b[0;31m \u001b[0;32mfrom\u001b[0m \u001b[0mvertexai\u001b[0m\u001b[0;34m.\u001b[0m\u001b[0mtypes\u001b[0m \u001b[0;32mimport\u001b[0m \u001b[0mMemoryBankCustomizationConfig\u001b[0m \u001b[0;32mas\u001b[0m \u001b[0mCustomizationConfig\u001b[0m\u001b[0;34m\u001b[0m\u001b[0;34m\u001b[0m\u001b[0m\n\u001b[0m\u001b[1;32m      2\u001b[0m from vertexai.types import (\n\u001b[1;32m      3\u001b[0m     \u001b[0mMemoryBankCustomizationConfigGenerateMemoriesExample\u001b[0m \u001b[0;32mas\u001b[0m \u001b[0mGenerateMemoriesExample\u001b[0m\u001b[0;34m,\u001b[0m\u001b[0;34m\u001b[0m\u001b[0;34m\u001b[0m\u001b[0m\n\u001b[1;32m      4\u001b[0m )\n\u001b[1;32m      5\u001b[0m from vertexai.types import (\n",
            "\u001b[0;31mModuleNotFoundError\u001b[0m: No module named 'vertexai.types'",
            "",
            "\u001b[0;31m---------------------------------------------------------------------------\u001b[0;32m\nNOTE: If your import is failing due to a missing package, you can\nmanually install dependencies using either !pip or !apt.\n\nTo view examples of installing some common dependencies, click the\n\"Open Examples\" button below.\n\u001b[0;31m---------------------------------------------------------------------------\u001b[0m\n"
          ],
          "errorDetails": {
            "actions": [
              {
                "action": "open_url",
                "actionText": "Open Examples",
                "url": "/notebooks/snippets/importing_libraries.ipynb"
              }
            ]
          }
        }
      ],
      "source": [
        "from vertexai.types import MemoryBankCustomizationConfig as CustomizationConfig\n",
        "from vertexai.types import (\n",
        "    MemoryBankCustomizationConfigGenerateMemoriesExample as GenerateMemoriesExample,\n",
        ")\n",
        "from vertexai.types import (\n",
        "    MemoryBankCustomizationConfigGenerateMemoriesExampleConversationSource as ConversationSource,\n",
        ")\n",
        "from vertexai.types import (\n",
        "    MemoryBankCustomizationConfigGenerateMemoriesExampleConversationSourceEvent as ConversationSourceEvent,\n",
        ")\n",
        "from vertexai.types import (\n",
        "    MemoryBankCustomizationConfigGenerateMemoriesExampleGeneratedMemory as ExampleGeneratedMemory,\n",
        ")\n",
        "from vertexai.types import MemoryBankCustomizationConfigMemoryTopic as MemoryTopic\n",
        "from vertexai.types import (\n",
        "    MemoryBankCustomizationConfigMemoryTopicCustomMemoryTopic as CustomMemoryTopic,\n",
        ")\n",
        "\n",
        "memory_topic = MemoryTopic(\n",
        "    custom_memory_topic=CustomMemoryTopic(\n",
        "        label=\"business_feedback\",\n",
        "        description=\"\"\"Specific user feedback about their experience at\n",
        "the coffee shop. This includes opinions on drinks, food, pastries, ambiance,\n",
        "staff friendliness, service speed, cleanliness, and any suggestions for\n",
        "improvement.\"\"\",\n",
        "    )\n",
        ")\n",
        "\n",
        "\n",
        "example = GenerateMemoriesExample(\n",
        "    conversation_source=ConversationSource(\n",
        "        events=[\n",
        "            ConversationSourceEvent(\n",
        "                content=Content(\n",
        "                    role=\"model\",\n",
        "                    parts=[\n",
        "                        Part(\n",
        "                            text=\"Welcome back to The Daily Grind! We'd love to hear your feedback on your visit.\"\n",
        "                        )\n",
        "                    ],\n",
        "                )\n",
        "            ),\n",
        "            ConversationSourceEvent(\n",
        "                content=Content(\n",
        "                    role=\"user\",\n",
        "                    parts=[\n",
        "                        Part(\n",
        "                            text=\"Hey. The drip coffee was a bit lukewarm today, which was a bummer. Also, the music was way too loud, I could barely hear my friend.\"\n",
        "                        )\n",
        "                    ],\n",
        "                )\n",
        "            ),\n",
        "        ]\n",
        "    ),\n",
        "    generated_memories=[\n",
        "        ExampleGeneratedMemory(\n",
        "            fact=\"The user reported that the drip coffee was lukewarm.\"\n",
        "        ),\n",
        "        ExampleGeneratedMemory(\n",
        "            fact=\"The user felt the music in the shop was too loud.\"\n",
        "        ),\n",
        "    ],\n",
        ")\n",
        "\n",
        "noop_example = GenerateMemoriesExample(\n",
        "    conversation_source=ConversationSource(\n",
        "        events=[\n",
        "            ConversationSourceEvent(\n",
        "                content=Content(\n",
        "                    role=\"model\",\n",
        "                    parts=[\n",
        "                        Part(\n",
        "                            text=\"Welcome back to The Daily Grind! We'd love to hear your feedback on your visit.\"\n",
        "                        )\n",
        "                    ],\n",
        "                )\n",
        "            ),\n",
        "            ConversationSourceEvent(\n",
        "                content=Content(\n",
        "                    role=\"user\", parts=[Part(text=\"Thanks for the coffee!\")]\n",
        "                )\n",
        "            ),\n",
        "        ]\n",
        "    ),\n",
        "    generated_memories=[],\n",
        ")\n",
        "\n",
        "client.agent_engines.update(\n",
        "    name=agent_engine.api_resource.name,\n",
        "    config={\n",
        "        \"context_spec\": {\n",
        "            \"memory_bank_config\": {\n",
        "                \"customization_configs\": [\n",
        "                    CustomizationConfig(\n",
        "                        memory_topics=[memory_topic],\n",
        "                        generate_memories_examples=[example, noop_example],\n",
        "                    )\n",
        "                ],\n",
        "            }\n",
        "        }\n",
        "    },\n",
        ")"
      ]
    },
    {
      "cell_type": "code",
      "execution_count": 88,
      "metadata": {
        "colab": {
          "base_uri": "https://localhost:8080/"
        },
        "id": "XE783Z_TDHC_",
        "outputId": "673b2fde-d9ab-4c37-bf2d-3719e2807bf0"
      },
      "outputs": [
        {
          "output_type": "execute_result",
          "data": {
            "text/plain": [
              "AgentEngineGenerateMemoriesOperation(\n",
              "  done=True,\n",
              "  metadata={\n",
              "    '@type': 'type.googleapis.com/google.cloud.aiplatform.v1beta1.GenerateMemoriesOperationMetadata',\n",
              "    'genericMetadata': {\n",
              "      'createTime': '2025-10-31T10:29:08.878497Z',\n",
              "      'updateTime': '2025-10-31T10:29:09.941949Z'\n",
              "    }\n",
              "  },\n",
              "  name='projects/568929544199/locations/us-central1/reasoningEngines/7795577023350439936/operations/2999262884992647168',\n",
              "  response=GenerateMemoriesResponse(\n",
              "    generated_memories=[\n",
              "      GenerateMemoriesResponseGeneratedMemory(\n",
              "        action=<GenerateMemoriesResponseGeneratedMemoryAction.CREATED: 'CREATED'>,\n",
              "        memory=Memory(\n",
              "          name='projects/568929544199/locations/us-central1/reasoningEngines/7795577023350439936/memories/1539645582618918912'\n",
              "        )\n",
              "      ),\n",
              "    ]\n",
              "  )\n",
              ")"
            ]
          },
          "metadata": {},
          "execution_count": 88
        }
      ],
      "source": [
        "client.agent_engines.memories.generate(\n",
        "    scope={\"user_id\": \"123\"},\n",
        "    name=agent_engine.api_resource.name,\n",
        "    direct_contents_source={\n",
        "        \"events\": [\n",
        "            {\n",
        "                \"content\": {\n",
        "                    \"role\": \"user\",\n",
        "                    \"parts\": [{\"text\": \"I prefer the aisle seat\"}],\n",
        "                }\n",
        "            }\n",
        "        ]\n",
        "    },\n",
        ")"
      ]
    },
    {
      "cell_type": "code",
      "execution_count": 89,
      "metadata": {
        "colab": {
          "base_uri": "https://localhost:8080/"
        },
        "id": "u1j8iPHBdg6n",
        "outputId": "608dcb7b-9cef-4a89-875d-44ba3a7ffa32"
      },
      "outputs": [
        {
          "output_type": "execute_result",
          "data": {
            "text/plain": [
              "AgentEngineGenerateMemoriesOperation(\n",
              "  done=True,\n",
              "  metadata={\n",
              "    '@type': 'type.googleapis.com/google.cloud.aiplatform.v1beta1.GenerateMemoriesOperationMetadata',\n",
              "    'genericMetadata': {\n",
              "      'createTime': '2025-10-31T10:29:13.615751Z',\n",
              "      'updateTime': '2025-10-31T10:29:17.293037Z'\n",
              "    }\n",
              "  },\n",
              "  name='projects/568929544199/locations/us-central1/reasoningEngines/7795577023350439936/operations/4152184389599494144',\n",
              "  response=GenerateMemoriesResponse(\n",
              "    generated_memories=[\n",
              "      GenerateMemoriesResponseGeneratedMemory(\n",
              "        action=<GenerateMemoriesResponseGeneratedMemoryAction.CREATED: 'CREATED'>,\n",
              "        memory=Memory(\n",
              "          name='projects/568929544199/locations/us-central1/reasoningEngines/7795577023350439936/memories/1991694395216232448'\n",
              "        )\n",
              "      ),\n",
              "    ]\n",
              "  )\n",
              ")"
            ]
          },
          "metadata": {},
          "execution_count": 89
        }
      ],
      "source": [
        "import vertexai\n",
        "\n",
        "client.agent_engines.memories.generate(\n",
        "    scope={\"user_id\": \"123\"},\n",
        "    name=agent_engine.api_resource.name,\n",
        "    direct_contents_source={\n",
        "        \"events\": [\n",
        "            {\n",
        "                \"content\": {\n",
        "                    \"role\": \"user\",\n",
        "                    \"parts\": [{\"text\": \"You should have almond milk\"}],\n",
        "                }\n",
        "            }\n",
        "        ]\n",
        "    },\n",
        ")"
      ]
    },
    {
      "cell_type": "code",
      "execution_count": 90,
      "metadata": {
        "colab": {
          "base_uri": "https://localhost:8080/"
        },
        "id": "DJ7v62dIePo9",
        "outputId": "a41ad11a-4484-4596-bdaa-7970ef6b76a5"
      },
      "outputs": [
        {
          "output_type": "execute_result",
          "data": {
            "text/plain": [
              "[RetrieveMemoriesResponseRetrievedMemory(\n",
              "   memory=Memory(\n",
              "     create_time=datetime.datetime(2025, 10, 31, 10, 29, 9, 827027, tzinfo=TzInfo(UTC)),\n",
              "     fact='I prefer the aisle seat.',\n",
              "     name='projects/568929544199/locations/us-central1/reasoningEngines/7795577023350439936/memories/1539645582618918912',\n",
              "     scope={\n",
              "       'user_id': '123'\n",
              "     },\n",
              "     update_time=datetime.datetime(2025, 10, 31, 10, 29, 9, 827027, tzinfo=TzInfo(UTC))\n",
              "   )\n",
              " ),\n",
              " RetrieveMemoriesResponseRetrievedMemory(\n",
              "   memory=Memory(\n",
              "     create_time=datetime.datetime(2025, 10, 31, 10, 29, 17, 218651, tzinfo=TzInfo(UTC)),\n",
              "     fact='I think you should have almond milk.',\n",
              "     name='projects/568929544199/locations/us-central1/reasoningEngines/7795577023350439936/memories/1991694395216232448',\n",
              "     scope={\n",
              "       'user_id': '123'\n",
              "     },\n",
              "     topics=[\n",
              "       MemoryTopicId(\n",
              "         managed_memory_topic=<ManagedTopicEnum.USER_PREFERENCES: 'USER_PREFERENCES'>\n",
              "       ),\n",
              "     ],\n",
              "     update_time=datetime.datetime(2025, 10, 31, 10, 29, 17, 218651, tzinfo=TzInfo(UTC))\n",
              "   )\n",
              " )]"
            ]
          },
          "metadata": {},
          "execution_count": 90
        }
      ],
      "source": [
        "list(\n",
        "    client.agent_engines.memories.retrieve(\n",
        "        name=agent_engine.api_resource.name, scope={\"user_id\": \"123\"}\n",
        "    )\n",
        ")"
      ]
    },
    {
      "cell_type": "markdown",
      "metadata": {
        "id": "KVPXrs2GS_ZJ"
      },
      "source": [
        "### Dynamic TTL\n",
        "\n",
        "You can also configure Memory Bank to automatically set the TTL for any generated or manually created (or updated) memories."
      ]
    },
    {
      "cell_type": "markdown",
      "metadata": {
        "id": "Dtf5AcltTV2I"
      },
      "source": [
        "#### Default TTL\n",
        "\n",
        "Default TTL applies to all operations that create or update a Memory."
      ]
    },
    {
      "cell_type": "code",
      "execution_count": 91,
      "metadata": {
        "colab": {
          "base_uri": "https://localhost:8080/"
        },
        "id": "vQZKHD-TS-qD",
        "outputId": "c549fc3c-3094-403b-c046-65acc8e99d0a"
      },
      "outputs": [
        {
          "output_type": "stream",
          "name": "stderr",
          "text": [
            "INFO:vertexai_genai.agentengines:View progress and logs at https://console.cloud.google.com/logs/query?project=devfest-2025-day-1.\n",
            "INFO:vertexai_genai.agentengines:Agent Engine updated. To use it in another session:\n",
            "INFO:vertexai_genai.agentengines:agent_engine=client.agent_engines.get(name='projects/568929544199/locations/us-central1/reasoningEngines/7795577023350439936')\n"
          ]
        },
        {
          "output_type": "execute_result",
          "data": {
            "text/plain": [
              "AgentEngine(api_resource.name='projects/568929544199/locations/us-central1/reasoningEngines/7795577023350439936')"
            ]
          },
          "metadata": {},
          "execution_count": 91
        }
      ],
      "source": [
        "client.agent_engines.update(\n",
        "    name=agent_engine.api_resource.name,\n",
        "    config={\n",
        "        \"context_spec\": {\n",
        "            \"memory_bank_config\": {\n",
        "                \"ttl_config\": {\n",
        "                    # 30 days\n",
        "                    \"default_ttl\": f\"{60 * 60 * 24 * 30}s\"\n",
        "                }\n",
        "            }\n",
        "        }\n",
        "    },\n",
        ")"
      ]
    },
    {
      "cell_type": "code",
      "execution_count": 92,
      "metadata": {
        "colab": {
          "base_uri": "https://localhost:8080/"
        },
        "id": "vICeAqPyCaT0",
        "outputId": "90f1d1ad-0847-4e2c-d4aa-413e34a3f8c1"
      },
      "outputs": [
        {
          "output_type": "execute_result",
          "data": {
            "text/plain": [
              "Memory(\n",
              "  create_time=datetime.datetime(2025, 10, 31, 10, 28, 18, 981837, tzinfo=TzInfo(UTC)),\n",
              "  expire_time=datetime.datetime(2025, 11, 30, 10, 29, 31, 340649, tzinfo=TzInfo(UTC)),\n",
              "  fact='I have four nieces.',\n",
              "  name='projects/568929544199/locations/us-central1/reasoningEngines/7795577023350439936/memories/4171436614863552512',\n",
              "  scope={\n",
              "    'user_id': 'My User'\n",
              "  },\n",
              "  topics=[\n",
              "    MemoryTopicId(\n",
              "      managed_memory_topic=<ManagedTopicEnum.USER_PERSONAL_INFO: 'USER_PERSONAL_INFO'>\n",
              "    ),\n",
              "  ],\n",
              "  update_time=datetime.datetime(2025, 10, 31, 10, 29, 31, 343156, tzinfo=TzInfo(UTC))\n",
              ")"
            ]
          },
          "metadata": {},
          "execution_count": 92
        }
      ],
      "source": [
        "response = client.agent_engines.memories.generate(\n",
        "    scope={\"user_id\": USER_ID},\n",
        "    name=agent_engine.api_resource.name,\n",
        "    direct_contents_source={\n",
        "        \"events\": [\n",
        "            {\"content\": {\"role\": \"user\", \"parts\": [{\"text\": \"I have four nieces!\"}]}}\n",
        "        ]\n",
        "    },\n",
        "    config={\"wait_for_completion\": True},\n",
        ")\n",
        "\n",
        "client.agent_engines.memories.get(\n",
        "    name=response.response.generated_memories[0].memory.name\n",
        ")"
      ]
    },
    {
      "cell_type": "markdown",
      "metadata": {
        "id": "Oa0A4ogWT8BM"
      },
      "source": [
        "#### Granular TTL\n",
        "\n",
        "The TTL is calculated based on which operation created or updated the Memory. If not set for a given operation, then the operation won't update the Memory's expiration time.\n",
        "\n",
        "Parameters include:\n",
        " * `create_ttl`: Applies to Memories created with CreateMemory operations\n",
        " * `generate_created_ttl`: Applies to Memories created with GenerateMemories\n",
        " * `generate_updated_ttl`: Applies to Memories updated with GenerateMemories"
      ]
    },
    {
      "cell_type": "code",
      "execution_count": 93,
      "metadata": {
        "colab": {
          "base_uri": "https://localhost:8080/"
        },
        "id": "3g02gtyrT7fG",
        "outputId": "52eef2b6-44aa-4b25-eafb-e4e3667becd6"
      },
      "outputs": [
        {
          "output_type": "stream",
          "name": "stderr",
          "text": [
            "INFO:vertexai_genai.agentengines:View progress and logs at https://console.cloud.google.com/logs/query?project=devfest-2025-day-1.\n",
            "INFO:vertexai_genai.agentengines:Agent Engine updated. To use it in another session:\n",
            "INFO:vertexai_genai.agentengines:agent_engine=client.agent_engines.get(name='projects/568929544199/locations/us-central1/reasoningEngines/7795577023350439936')\n"
          ]
        },
        {
          "output_type": "execute_result",
          "data": {
            "text/plain": [
              "AgentEngine(api_resource.name='projects/568929544199/locations/us-central1/reasoningEngines/7795577023350439936')"
            ]
          },
          "metadata": {},
          "execution_count": 93
        }
      ],
      "source": [
        "client.agent_engines.update(\n",
        "    name=agent_engine.api_resource.name,\n",
        "    config={\n",
        "        \"context_spec\": {\n",
        "            \"memory_bank_config\": {\n",
        "                \"ttl_config\": {\n",
        "                    \"granular_ttl_config\": {\n",
        "                        # 365 days\n",
        "                        \"generate_created_ttl\": f\"{24 * 60 * 60 * 365}s\",\n",
        "                    }\n",
        "                }\n",
        "            }\n",
        "        }\n",
        "    },\n",
        ")"
      ]
    },
    {
      "cell_type": "code",
      "execution_count": 94,
      "metadata": {
        "colab": {
          "base_uri": "https://localhost:8080/"
        },
        "id": "dT3ffaBksw99",
        "outputId": "f7975c7f-8ef8-4f33-e3d0-fd18beaec4ef"
      },
      "outputs": [
        {
          "output_type": "execute_result",
          "data": {
            "text/plain": [
              "Memory(\n",
              "  create_time=datetime.datetime(2025, 10, 31, 10, 29, 42, 155270, tzinfo=TzInfo(UTC)),\n",
              "  expire_time=datetime.datetime(2026, 10, 31, 10, 29, 42, 142526, tzinfo=TzInfo(UTC)),\n",
              "  fact='I work at Zindua School.',\n",
              "  name='projects/568929544199/locations/us-central1/reasoningEngines/7795577023350439936/memories/3014574460582756352',\n",
              "  scope={\n",
              "    'user_id': 'My User'\n",
              "  },\n",
              "  update_time=datetime.datetime(2025, 10, 31, 10, 29, 42, 155270, tzinfo=TzInfo(UTC))\n",
              ")"
            ]
          },
          "metadata": {},
          "execution_count": 94
        }
      ],
      "source": [
        "response = client.agent_engines.memories.generate(\n",
        "    scope={\"user_id\": USER_ID},\n",
        "    name=agent_engine.api_resource.name,\n",
        "    direct_contents_source={\n",
        "        \"events\": [\n",
        "            {\n",
        "                \"content\": {\n",
        "                    \"role\": \"user\",\n",
        "                    \"parts\": [{\"text\": \"Remember that I work at Zindua School!\"}],\n",
        "                }\n",
        "            }\n",
        "        ]\n",
        "    },\n",
        ")\n",
        "\n",
        "client.agent_engines.memories.get(\n",
        "    name=response.response.generated_memories[0].memory.name\n",
        ")"
      ]
    },
    {
      "cell_type": "code",
      "execution_count": 95,
      "metadata": {
        "colab": {
          "base_uri": "https://localhost:8080/"
        },
        "id": "O6UGzBpCTpHB",
        "outputId": "3eefc543-12a4-4fcf-e1fd-a54acda0290f"
      },
      "outputs": [
        {
          "output_type": "execute_result",
          "data": {
            "text/plain": [
              "Memory(\n",
              "  create_time=datetime.datetime(2025, 10, 31, 10, 29, 54, 10722, tzinfo=TzInfo(UTC)),\n",
              "  expire_time=datetime.datetime(2026, 10, 31, 10, 29, 54, 2456, tzinfo=TzInfo(UTC)),\n",
              "  fact='I work at Google.',\n",
              "  name='projects/568929544199/locations/us-central1/reasoningEngines/7795577023350439936/memories/7283423957376565248',\n",
              "  scope={\n",
              "    'user_id': 'My User'\n",
              "  },\n",
              "  topics=[\n",
              "    MemoryTopicId(\n",
              "      managed_memory_topic=<ManagedTopicEnum.USER_PERSONAL_INFO: 'USER_PERSONAL_INFO'>\n",
              "    ),\n",
              "  ],\n",
              "  update_time=datetime.datetime(2025, 10, 31, 10, 29, 54, 10722, tzinfo=TzInfo(UTC))\n",
              ")"
            ]
          },
          "metadata": {},
          "execution_count": 95
        }
      ],
      "source": [
        "response = client.agent_engines.memories.generate(\n",
        "    scope={\"user_id\": USER_ID},\n",
        "    name=agent_engine.api_resource.name,\n",
        "    direct_contents_source={\n",
        "        \"events\": [\n",
        "            {\"content\": {\"role\": \"user\", \"parts\": [{\"text\": \"I work at Google!\"}]}}\n",
        "        ]\n",
        "    },\n",
        ")\n",
        "\n",
        "client.agent_engines.memories.get(\n",
        "    name=response.response.generated_memories[0].memory.name\n",
        ")"
      ]
    },
    {
      "cell_type": "markdown",
      "metadata": {
        "id": "a678c7a2bf29"
      },
      "source": [
        "## Cleaning up\n",
        "\n",
        "It's always a best practice in cloud development to clean up resources you no longer need to avoid incurring unexpected costs. This final cell deletes the AgentEngine resources we created throughout this tutorial."
      ]
    },
    {
      "cell_type": "code",
      "execution_count": 50,
      "metadata": {
        "id": "10fe83835935",
        "colab": {
          "base_uri": "https://localhost:8080/",
          "height": 211
        },
        "outputId": "2614196f-c87b-4869-e3fc-4f66fab5697d"
      },
      "outputs": [
        {
          "output_type": "error",
          "ename": "NameError",
          "evalue": "name 'false' is not defined",
          "traceback": [
            "\u001b[0;31m---------------------------------------------------------------------------\u001b[0m",
            "\u001b[0;31mNameError\u001b[0m                                 Traceback (most recent call last)",
            "\u001b[0;32m/tmp/ipython-input-4237012397.py\u001b[0m in \u001b[0;36m<cell line: 0>\u001b[0;34m()\u001b[0m\n\u001b[0;32m----> 1\u001b[0;31m \u001b[0mdelete_agent_engines\u001b[0m \u001b[0;34m=\u001b[0m \u001b[0mfalse\u001b[0m\u001b[0;34m\u001b[0m\u001b[0;34m\u001b[0m\u001b[0m\n\u001b[0m\u001b[1;32m      2\u001b[0m \u001b[0;34m\u001b[0m\u001b[0m\n\u001b[1;32m      3\u001b[0m \u001b[0magent_engine_name\u001b[0m \u001b[0;34m=\u001b[0m \u001b[0magent_engine\u001b[0m\u001b[0;34m.\u001b[0m\u001b[0mapi_resource\u001b[0m\u001b[0;34m.\u001b[0m\u001b[0mname\u001b[0m\u001b[0;34m\u001b[0m\u001b[0;34m\u001b[0m\u001b[0m\n\u001b[1;32m      4\u001b[0m \u001b[0;34m\u001b[0m\u001b[0m\n\u001b[1;32m      5\u001b[0m \u001b[0;32mif\u001b[0m \u001b[0mdelete_agent_engines\u001b[0m\u001b[0;34m:\u001b[0m\u001b[0;34m\u001b[0m\u001b[0;34m\u001b[0m\u001b[0m\n",
            "\u001b[0;31mNameError\u001b[0m: name 'false' is not defined"
          ]
        }
      ],
      "source": [
        "delete_agent_engines = True\n",
        "\n",
        "agent_engine_name = agent_engine.api_resource.name\n",
        "\n",
        "if delete_agent_engines:\n",
        "    # Delete agent engine\n",
        "    client.agent_engines.delete(name=agent_engine_name, force=True)"
      ]
    }
  ],
  "metadata": {
    "colab": {
      "provenance": [],
      "include_colab_link": true
    },
    "kernelspec": {
      "display_name": "Python 3",
      "name": "python3"
    }
  },
  "nbformat": 4,
  "nbformat_minor": 0
}